{
 "cells": [
  {
   "cell_type": "code",
   "execution_count": 44,
   "metadata": {},
   "outputs": [],
   "source": [
    "class Person:\n",
    "    def __init__(self,first_name,last_name,dob,height):\n",
    "        self.first_name = first_name\n",
    "        self.last_name = last_name\n",
    "        self.dob = dob\n",
    "        self.height = height\n",
    "        \n",
    "    def __repr__(self):\n",
    "        return f'Person({self.first_name},{self.last_name},{self.dob},{self.height})'"
   ]
  },
  {
   "cell_type": "code",
   "execution_count": 45,
   "metadata": {},
   "outputs": [],
   "source": [
    "from datetime import date"
   ]
  },
  {
   "cell_type": "code",
   "execution_count": 46,
   "metadata": {},
   "outputs": [],
   "source": [
    "p1 = Person('Dean','Winchester',date(1975,5,1),182)"
   ]
  },
  {
   "cell_type": "code",
   "execution_count": 47,
   "metadata": {},
   "outputs": [
    {
     "data": {
      "text/plain": [
       "Person(Dean,Winchester,1975-05-01,182)"
      ]
     },
     "execution_count": 47,
     "metadata": {},
     "output_type": "execute_result"
    }
   ],
   "source": [
    "p1 "
   ]
  },
  {
   "cell_type": "code",
   "execution_count": 48,
   "metadata": {},
   "outputs": [
    {
     "data": {
      "text/plain": [
       "0"
      ]
     },
     "execution_count": 48,
     "metadata": {},
     "output_type": "execute_result"
    }
   ],
   "source": [
    "import os\n",
    "os.system(\"pip install -U marshmallow\")"
   ]
  },
  {
   "cell_type": "code",
   "execution_count": 49,
   "metadata": {},
   "outputs": [],
   "source": [
    "from marshmallow import Schema,fields\n"
   ]
  },
  {
   "cell_type": "code",
   "execution_count": 51,
   "metadata": {},
   "outputs": [],
   "source": [
    "class PersonSchema(Schema):\n",
    "    first_name = fields.Str()\n",
    "    last_name = fields.Str()\n",
    "    dob = fields.Date()\n",
    "    height = fields.Int()\n"
   ]
  },
  {
   "cell_type": "code",
   "execution_count": 52,
   "metadata": {},
   "outputs": [],
   "source": [
    "person_schema = PersonSchema()"
   ]
  },
  {
   "cell_type": "code",
   "execution_count": 62,
   "metadata": {},
   "outputs": [
    {
     "data": {
      "text/plain": [
       "{'last_name': 'Winchester',\n",
       " 'first_name': 'Dean',\n",
       " 'height': 182,\n",
       " 'dob': '1975-05-01'}"
      ]
     },
     "execution_count": 62,
     "metadata": {},
     "output_type": "execute_result"
    }
   ],
   "source": [
    "person_schema.dump(p1)"
   ]
  },
  {
   "cell_type": "code",
   "execution_count": 54,
   "metadata": {},
   "outputs": [
    {
     "name": "stdout",
     "output_type": "stream",
     "text": [
      "<class '__main__.Person'> Person(Dean,Winchester,1975-05-01,182)\n"
     ]
    }
   ],
   "source": [
    "print(type(p1),p1)"
   ]
  },
  {
   "cell_type": "code",
   "execution_count": 57,
   "metadata": {},
   "outputs": [],
   "source": [
    "import json"
   ]
  },
  {
   "cell_type": "code",
   "execution_count": 71,
   "metadata": {},
   "outputs": [],
   "source": [
    "data = person_schema.dump(p1)"
   ]
  },
  {
   "cell_type": "code",
   "execution_count": 72,
   "metadata": {},
   "outputs": [
    {
     "data": {
      "text/plain": [
       "{'last_name': 'Winchester',\n",
       " 'first_name': 'Dean',\n",
       " 'height': 182,\n",
       " 'dob': '1975-05-01'}"
      ]
     },
     "execution_count": 72,
     "metadata": {},
     "output_type": "execute_result"
    }
   ],
   "source": [
    "data"
   ]
  },
  {
   "cell_type": "code",
   "execution_count": 74,
   "metadata": {},
   "outputs": [],
   "source": [
    "datajson = json.dumps(data)"
   ]
  },
  {
   "cell_type": "code",
   "execution_count": 75,
   "metadata": {},
   "outputs": [
    {
     "data": {
      "text/plain": [
       "'{\"last_name\": \"Winchester\", \"first_name\": \"Dean\", \"height\": 182, \"dob\": \"1975-05-01\"}'"
      ]
     },
     "execution_count": 75,
     "metadata": {},
     "output_type": "execute_result"
    }
   ],
   "source": [
    "datajson"
   ]
  },
  {
   "cell_type": "code",
   "execution_count": 76,
   "metadata": {},
   "outputs": [],
   "source": [
    "jso = json.loads(datajson)"
   ]
  },
  {
   "cell_type": "code",
   "execution_count": 77,
   "metadata": {},
   "outputs": [
    {
     "data": {
      "text/plain": [
       "{'last_name': 'Winchester',\n",
       " 'first_name': 'Dean',\n",
       " 'height': 182,\n",
       " 'dob': '1975-05-01'}"
      ]
     },
     "execution_count": 77,
     "metadata": {},
     "output_type": "execute_result"
    }
   ],
   "source": [
    "jso"
   ]
  },
  {
   "cell_type": "code",
   "execution_count": 79,
   "metadata": {
    "scrolled": true
   },
   "outputs": [
    {
     "data": {
      "text/plain": [
       "'Winchester'"
      ]
     },
     "execution_count": 79,
     "metadata": {},
     "output_type": "execute_result"
    }
   ],
   "source": [
    "jso['last_name']"
   ]
  },
  {
   "cell_type": "code",
   "execution_count": 80,
   "metadata": {},
   "outputs": [],
   "source": [
    "from collections import namedtuple"
   ]
  },
  {
   "cell_type": "code",
   "execution_count": 81,
   "metadata": {},
   "outputs": [],
   "source": [
    "PT = namedtuple('PT','first_name,last_name,dob,height')"
   ]
  },
  {
   "cell_type": "code",
   "execution_count": 83,
   "metadata": {
    "scrolled": true
   },
   "outputs": [],
   "source": [
    "p2 = PT('Sam','Winchester',date(1982,11,13),192)"
   ]
  },
  {
   "cell_type": "code",
   "execution_count": 84,
   "metadata": {},
   "outputs": [
    {
     "data": {
      "text/plain": [
       "PT(first_name='Sam', last_name='Winchester', dob=datetime.date(1982, 11, 13), height=192)"
      ]
     },
     "execution_count": 84,
     "metadata": {},
     "output_type": "execute_result"
    }
   ],
   "source": [
    "p2"
   ]
  },
  {
   "cell_type": "code",
   "execution_count": 85,
   "metadata": {},
   "outputs": [
    {
     "data": {
      "text/plain": [
       "'{\"last_name\": \"Winchester\", \"first_name\": \"Sam\", \"height\": 192, \"dob\": \"1982-11-13\"}'"
      ]
     },
     "execution_count": 85,
     "metadata": {},
     "output_type": "execute_result"
    }
   ],
   "source": [
    "person_schema.dumps(p2)"
   ]
  },
  {
   "cell_type": "code",
   "execution_count": 86,
   "metadata": {},
   "outputs": [
    {
     "data": {
      "text/plain": [
       "{'last_name': 'Winchester',\n",
       " 'first_name': 'Dean',\n",
       " 'height': 182,\n",
       " 'dob': '1975-05-01'}"
      ]
     },
     "execution_count": 86,
     "metadata": {},
     "output_type": "execute_result"
    }
   ],
   "source": [
    "data\n"
   ]
  },
  {
   "cell_type": "code",
   "execution_count": 88,
   "metadata": {},
   "outputs": [],
   "source": [
    "PT2 = namedtuple('PT2','first_name,last_name,age')\n",
    "p3 = PT2('Cass','Heaven',2000)"
   ]
  },
  {
   "cell_type": "code",
   "execution_count": 91,
   "metadata": {},
   "outputs": [],
   "source": [
    "data = person_schema.dumps(p3)"
   ]
  },
  {
   "cell_type": "code",
   "execution_count": 92,
   "metadata": {},
   "outputs": [
    {
     "data": {
      "text/plain": [
       "'{\"last_name\": \"Heaven\", \"first_name\": \"Cass\"}'"
      ]
     },
     "execution_count": 92,
     "metadata": {},
     "output_type": "execute_result"
    }
   ],
   "source": [
    "data"
   ]
  },
  {
   "cell_type": "code",
   "execution_count": 95,
   "metadata": {},
   "outputs": [],
   "source": [
    "person_partial = PersonSchema(only=('first_name','last_name'))"
   ]
  },
  {
   "cell_type": "code",
   "execution_count": 96,
   "metadata": {},
   "outputs": [
    {
     "data": {
      "text/plain": [
       "'{\"last_name\": \"Winchester\", \"first_name\": \"Dean\", \"height\": 182, \"dob\": \"1975-05-01\"}'"
      ]
     },
     "execution_count": 96,
     "metadata": {},
     "output_type": "execute_result"
    }
   ],
   "source": [
    "person_schema.dumps(p1)"
   ]
  },
  {
   "cell_type": "code",
   "execution_count": 97,
   "metadata": {},
   "outputs": [
    {
     "data": {
      "text/plain": [
       "'{\"last_name\": \"Winchester\", \"first_name\": \"Dean\"}'"
      ]
     },
     "execution_count": 97,
     "metadata": {},
     "output_type": "execute_result"
    }
   ],
   "source": [
    "person_partial.dumps(p1)"
   ]
  },
  {
   "cell_type": "code",
   "execution_count": 100,
   "metadata": {},
   "outputs": [],
   "source": [
    "person_partial = PersonSchema(exclude=['dob'])"
   ]
  },
  {
   "cell_type": "code",
   "execution_count": 110,
   "metadata": {},
   "outputs": [
    {
     "data": {
      "text/plain": [
       "'{\"last_name\": \"Winchester\", \"first_name\": \"Dean\", \"height\": 182}'"
      ]
     },
     "execution_count": 110,
     "metadata": {},
     "output_type": "execute_result"
    }
   ],
   "source": [
    "person_partial.dumps(p1)"
   ]
  },
  {
   "cell_type": "code",
   "execution_count": 111,
   "metadata": {},
   "outputs": [],
   "source": [
    "class Movie:\n",
    "    def __init__(self,title,year,actors):\n",
    "        self.title = title\n",
    "        self.year = year\n",
    "        self.actors = actors"
   ]
  },
  {
   "cell_type": "code",
   "execution_count": 112,
   "metadata": {},
   "outputs": [],
   "source": [
    "class MovieSchema(Schema):\n",
    "    title = fields.Str()\n",
    "    year = fields.Integer()\n",
    "    actors = fields.Nested(PersonSchema,many = True)\n",
    "    "
   ]
  },
  {
   "cell_type": "code",
   "execution_count": 113,
   "metadata": {},
   "outputs": [
    {
     "data": {
      "text/plain": [
       "(Person(Dean,Winchester,1975-05-01,182),\n",
       " PT(first_name='Sam', last_name='Winchester', dob=datetime.date(1982, 11, 13), height=192))"
      ]
     },
     "execution_count": 113,
     "metadata": {},
     "output_type": "execute_result"
    }
   ],
   "source": [
    "p1,p2"
   ]
  },
  {
   "cell_type": "code",
   "execution_count": 117,
   "metadata": {},
   "outputs": [],
   "source": [
    "supernatural = Movie('Supernatural',2005,[p1,PT('Dean','Winchester',date(1975,5,1),185)])"
   ]
  },
  {
   "cell_type": "code",
   "execution_count": 118,
   "metadata": {},
   "outputs": [
    {
     "data": {
      "text/plain": [
       "<__main__.Movie at 0x111f2c6a0>"
      ]
     },
     "execution_count": 118,
     "metadata": {},
     "output_type": "execute_result"
    }
   ],
   "source": [
    "supernatural"
   ]
  },
  {
   "cell_type": "code",
   "execution_count": 119,
   "metadata": {},
   "outputs": [
    {
     "data": {
      "text/plain": [
       "'{\"title\": \"Supernatural\", \"actors\": [{\"last_name\": \"Winchester\", \"first_name\": \"Dean\", \"height\": 182, \"dob\": \"1975-05-01\"}, {\"last_name\": \"Winchester\", \"first_name\": \"Dean\", \"height\": 185, \"dob\": \"1975-05-01\"}], \"year\": 2005}'"
      ]
     },
     "execution_count": 119,
     "metadata": {},
     "output_type": "execute_result"
    }
   ],
   "source": [
    "MovieSchema().dumps(supernatural)"
   ]
  },
  {
   "cell_type": "code",
   "execution_count": 120,
   "metadata": {},
   "outputs": [],
   "source": [
    "class PersonSchema(Schema):\n",
    "    first_name = fields.Str()\n",
    "    last_name = fields.Str()\n",
    "    dob = fields.Date()\n",
    "    height = fields.Int()"
   ]
  },
  {
   "cell_type": "code",
   "execution_count": 121,
   "metadata": {},
   "outputs": [],
   "source": [
    "person_schema = PersonSchema()"
   ]
  },
  {
   "cell_type": "code",
   "execution_count": 123,
   "metadata": {},
   "outputs": [
    {
     "data": {
      "text/plain": [
       "{'last_name': 'Winchester',\n",
       " 'first_name': 'Dean',\n",
       " 'height': 182,\n",
       " 'dob': datetime.date(1975, 5, 1)}"
      ]
     },
     "execution_count": 123,
     "metadata": {},
     "output_type": "execute_result"
    }
   ],
   "source": [
    "person_schema.load(dict(first_name = 'Dean',\n",
    "                       last_name = 'Winchester',\n",
    "                       dob = '1975-5-1',\n",
    "                       height=182))"
   ]
  },
  {
   "cell_type": "code",
   "execution_count": 124,
   "metadata": {},
   "outputs": [],
   "source": [
    "from marshmallow import post_load\n"
   ]
  },
  {
   "cell_type": "code",
   "execution_count": 125,
   "metadata": {},
   "outputs": [],
   "source": [
    "class PersonSchema(Schema):\n",
    "    first_name = fields.Str()\n",
    "    last_name = fields.Str()\n",
    "    dob = fields.Date()\n",
    "    height = fields.Int()\n",
    "    \n",
    "    @post_load\n",
    "    def make_person(self,data):\n",
    "        return Person(**data)"
   ]
  },
  {
   "cell_type": "code",
   "execution_count": 130,
   "metadata": {},
   "outputs": [],
   "source": [
    "class MovieSchema(Schema):\n",
    "    title = fields.Str()\n",
    "    year = fields.Integer()\n",
    "    actors = fields.Nested(PersonSchema,many = True)\n",
    "    \n",
    "    @post_load\n",
    "    def make_movie(self,data):\n",
    "        return Movie(**data)"
   ]
  },
  {
   "cell_type": "code",
   "execution_count": 134,
   "metadata": {},
   "outputs": [],
   "source": [
    "movie_schema = MovieSchema()\n",
    "person_schema = PersonSchema()"
   ]
  },
  {
   "cell_type": "code",
   "execution_count": 135,
   "metadata": {},
   "outputs": [],
   "source": [
    "json_data='''\n",
    "{\n",
    "    \"actors\":[\n",
    "    {\"first_name\":\"Dean\",\"last_name\":\"Winchester\",\"dob\":\"1975-05-01\",\"height\":182},\n",
    "    {\"first_name\":\"Sam\",\"last_name\":\"Winchester\",\"dob\":\"1982-11-13\",\"height\":192}\n",
    "    ],\n",
    "    \"title\":\"Supernatural\",\n",
    "    \"year\":2005\n",
    "}'''"
   ]
  },
  {
   "cell_type": "code",
   "execution_count": null,
   "metadata": {},
   "outputs": [],
   "source": []
  }
 ],
 "metadata": {
  "kernelspec": {
   "display_name": "Python 3",
   "language": "python",
   "name": "python3"
  },
  "language_info": {
   "codemirror_mode": {
    "name": "ipython",
    "version": 3
   },
   "file_extension": ".py",
   "mimetype": "text/x-python",
   "name": "python",
   "nbconvert_exporter": "python",
   "pygments_lexer": "ipython3",
   "version": "3.6.0"
  }
 },
 "nbformat": 4,
 "nbformat_minor": 4
}
