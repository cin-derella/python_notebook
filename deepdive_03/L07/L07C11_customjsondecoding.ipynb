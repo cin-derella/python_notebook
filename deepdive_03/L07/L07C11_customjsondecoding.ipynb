{
 "cells": [
  {
   "cell_type": "code",
   "execution_count": 1,
   "metadata": {},
   "outputs": [],
   "source": [
    "import json"
   ]
  },
  {
   "cell_type": "code",
   "execution_count": 2,
   "metadata": {},
   "outputs": [],
   "source": [
    "j = '''\n",
    "{\n",
    "    \"name\":\"Python\",\n",
    "    \"age\":27,\n",
    "    \"version\":[\"2,x\",\"3.x\"]\n",
    "}\n",
    "\n",
    "'''"
   ]
  },
  {
   "cell_type": "code",
   "execution_count": 3,
   "metadata": {},
   "outputs": [
    {
     "data": {
      "text/plain": [
       "{'name': 'Python', 'age': 27, 'version': ['2,x', '3.x']}"
      ]
     },
     "execution_count": 3,
     "metadata": {},
     "output_type": "execute_result"
    }
   ],
   "source": [
    "json.loads(j)"
   ]
  },
  {
   "cell_type": "code",
   "execution_count": 4,
   "metadata": {},
   "outputs": [],
   "source": [
    "p='''\n",
    "{\n",
    "    \"time\":\"2020-03-15T22:10:00\",\n",
    "    \"message\":\"created this json string\"\n",
    "\n",
    "}\n",
    "\n",
    "\n",
    "'''"
   ]
  },
  {
   "cell_type": "code",
   "execution_count": 5,
   "metadata": {},
   "outputs": [
    {
     "data": {
      "text/plain": [
       "{'time': '2020-03-15T22:10:00', 'message': 'created this json string'}"
      ]
     },
     "execution_count": 5,
     "metadata": {},
     "output_type": "execute_result"
    }
   ],
   "source": [
    "json.loads(p)"
   ]
  },
  {
   "cell_type": "code",
   "execution_count": 6,
   "metadata": {},
   "outputs": [],
   "source": [
    "p='''\n",
    "{\n",
    "    \"time\":{\n",
    "        \"objecttype\":\"datetime\",\n",
    "        \"value\":\"2020-03-15T22:10:00\"\n",
    "        },\n",
    "    \"message\":\"created this json string\"\n",
    "}\n",
    "\n",
    "'''"
   ]
  },
  {
   "cell_type": "code",
   "execution_count": 7,
   "metadata": {},
   "outputs": [],
   "source": [
    "d = json.loads(p)\n",
    "from pprint import pprint"
   ]
  },
  {
   "cell_type": "code",
   "execution_count": 8,
   "metadata": {},
   "outputs": [
    {
     "name": "stdout",
     "output_type": "stream",
     "text": [
      "{'message': 'created this json string',\n",
      " 'time': {'objecttype': 'datetime', 'value': '2020-03-15T22:10:00'}}\n"
     ]
    }
   ],
   "source": [
    "pprint(d)"
   ]
  },
  {
   "cell_type": "code",
   "execution_count": 9,
   "metadata": {},
   "outputs": [],
   "source": [
    "from datetime import datetime\n",
    "for key,value in d.items():\n",
    "    if (isinstance(value,dict) and\n",
    "       'objecttype' in value and\n",
    "       value['objecttype'] == 'datetime'\n",
    "       ):\n",
    "        d[key] = datetime.strptime(value['value'],'%Y-%m-%dT%H:%M:%S')"
   ]
  },
  {
   "cell_type": "code",
   "execution_count": 10,
   "metadata": {},
   "outputs": [
    {
     "data": {
      "text/plain": [
       "{'time': datetime.datetime(2020, 3, 15, 22, 10),\n",
       " 'message': 'created this json string'}"
      ]
     },
     "execution_count": 10,
     "metadata": {},
     "output_type": "execute_result"
    }
   ],
   "source": [
    "d"
   ]
  },
  {
   "cell_type": "code",
   "execution_count": 11,
   "metadata": {},
   "outputs": [],
   "source": [
    "j='''\n",
    "{\n",
    "    \"cake\":\"yummy chocolate cake\",\n",
    "    \"myShare\":{\n",
    "        \"objecttype\":\"fraction\",\n",
    "        \"numerator\":1,\n",
    "        \"denominator\":8\n",
    "    }\n",
    "\n",
    "}\n",
    "'''"
   ]
  },
  {
   "cell_type": "code",
   "execution_count": 12,
   "metadata": {},
   "outputs": [],
   "source": [
    "d = json.loads(j)"
   ]
  },
  {
   "cell_type": "code",
   "execution_count": 13,
   "metadata": {},
   "outputs": [
    {
     "data": {
      "text/plain": [
       "{'cake': 'yummy chocolate cake',\n",
       " 'myShare': {'objecttype': 'fraction', 'numerator': 1, 'denominator': 8}}"
      ]
     },
     "execution_count": 13,
     "metadata": {},
     "output_type": "execute_result"
    }
   ],
   "source": [
    "d"
   ]
  },
  {
   "cell_type": "code",
   "execution_count": 14,
   "metadata": {},
   "outputs": [],
   "source": [
    "from fractions import Fraction\n",
    "for key,value in d.items():\n",
    "    if (isinstance(value,dict) and\n",
    "       'objecttype' in value and\n",
    "       value['objecttype'] == 'fraction'\n",
    "       ):\n",
    "        numerator = value['numerator']\n",
    "        denominator = value['denominator']\n",
    "        d[key] = Fraction(numerator,denominator)"
   ]
  },
  {
   "cell_type": "code",
   "execution_count": 15,
   "metadata": {},
   "outputs": [],
   "source": [
    "j='''\n",
    "{\n",
    "    \"cake\":\"yummy chocolate cake\",\n",
    "    \"myShare\":{\n",
    "        \"objecttype\":\"fraction\",\n",
    "        \"numerator\":1,\n",
    "        \"denominator\":8\n",
    "    }\n",
    "}\n",
    "'''"
   ]
  },
  {
   "cell_type": "code",
   "execution_count": 16,
   "metadata": {},
   "outputs": [],
   "source": [
    "def custom_decoder(arg):\n",
    "    print('decoding:', arg)\n",
    "    return arg"
   ]
  },
  {
   "cell_type": "code",
   "execution_count": 17,
   "metadata": {},
   "outputs": [],
   "source": [
    "j='''\n",
    "{\n",
    "    \"a\":1,\n",
    "    \"b\":2,\n",
    "    \"c\":{\n",
    "        \"c.1\":1,\n",
    "        \"c.2\":2,\n",
    "        \"c.3\":{\n",
    "            \"c.3.1\":1,\n",
    "            \"c.3.2\":2\n",
    "        }\n",
    "    }\n",
    "}'''"
   ]
  },
  {
   "cell_type": "code",
   "execution_count": 18,
   "metadata": {},
   "outputs": [
    {
     "name": "stdout",
     "output_type": "stream",
     "text": [
      "decoding: {'c.3.1': 1, 'c.3.2': 2}\n",
      "decoding: {'c.1': 1, 'c.2': 2, 'c.3': {'c.3.1': 1, 'c.3.2': 2}}\n",
      "decoding: {'a': 1, 'b': 2, 'c': {'c.1': 1, 'c.2': 2, 'c.3': {'c.3.1': 1, 'c.3.2': 2}}}\n"
     ]
    }
   ],
   "source": [
    "d=json.loads(j,object_hook = custom_decoder)"
   ]
  },
  {
   "cell_type": "code",
   "execution_count": 19,
   "metadata": {},
   "outputs": [],
   "source": [
    "j='''\n",
    "{\n",
    "    \"time\":{\n",
    "        \"objecttype\":\"datetime\",\n",
    "        \"value\":\"2020-03-15T22:10:00\"\n",
    "        },\n",
    "    \"message\":\"created this json string\"\n",
    "}\n",
    "\n",
    "'''"
   ]
  },
  {
   "cell_type": "code",
   "execution_count": 20,
   "metadata": {},
   "outputs": [],
   "source": [
    "def custom_decoder(arg):\n",
    "    #print(arg)\n",
    "    if 'objecttype' in arg and arg['objecttype'] == 'datetime':\n",
    "        return  datetime.strptime(arg['value'],'%Y-%m-%dT%H:%M:%S')\n",
    "    else:\n",
    "        return arg\n",
    "    "
   ]
  },
  {
   "cell_type": "code",
   "execution_count": 21,
   "metadata": {},
   "outputs": [
    {
     "data": {
      "text/plain": [
       "datetime.datetime(2020, 3, 15, 22, 10)"
      ]
     },
     "execution_count": 21,
     "metadata": {},
     "output_type": "execute_result"
    }
   ],
   "source": [
    "custom_decoder(dict(objecttype='datetime',value='2020-03-15T22:10:00'))"
   ]
  },
  {
   "cell_type": "code",
   "execution_count": 22,
   "metadata": {},
   "outputs": [
    {
     "data": {
      "text/plain": [
       "{'a': 1}"
      ]
     },
     "execution_count": 22,
     "metadata": {},
     "output_type": "execute_result"
    }
   ],
   "source": [
    "custom_decoder({'a':1})"
   ]
  },
  {
   "cell_type": "code",
   "execution_count": 23,
   "metadata": {},
   "outputs": [
    {
     "data": {
      "text/plain": [
       "{'time': datetime.datetime(2020, 3, 15, 22, 10),\n",
       " 'message': 'created this json string'}"
      ]
     },
     "execution_count": 23,
     "metadata": {},
     "output_type": "execute_result"
    }
   ],
   "source": [
    "json.loads(j,object_hook = custom_decoder)"
   ]
  },
  {
   "cell_type": "code",
   "execution_count": 24,
   "metadata": {},
   "outputs": [],
   "source": [
    "j='''\n",
    "{\n",
    "    \"time\":{\n",
    "        \"objecttype\":\"datetime\",\n",
    "        \"value\":\"2020-03-15T22:10:00\"\n",
    "        },\n",
    "    \"updated\":{\n",
    "        \"objecttype\":\"datetime\",\n",
    "        \"value\":\"2020-03-15T23:30:05\"\n",
    "        },\n",
    "    \"message\":\"created this json string\"\n",
    "}\n",
    "\n",
    "'''"
   ]
  },
  {
   "cell_type": "code",
   "execution_count": 25,
   "metadata": {},
   "outputs": [
    {
     "data": {
      "text/plain": [
       "{'time': datetime.datetime(2020, 3, 15, 22, 10),\n",
       " 'updated': datetime.datetime(2020, 3, 15, 23, 30, 5),\n",
       " 'message': 'created this json string'}"
      ]
     },
     "execution_count": 25,
     "metadata": {},
     "output_type": "execute_result"
    }
   ],
   "source": [
    "json.loads(j,object_hook = custom_decoder)"
   ]
  },
  {
   "cell_type": "code",
   "execution_count": 26,
   "metadata": {},
   "outputs": [],
   "source": [
    "def custom_decoder(arg):\n",
    "    #ret_value = arg\n",
    "    if 'objecttype'in arg :\n",
    "        if arg['objecttype']=='datetime':\n",
    "            return datetime.strptime(arg['value'],'%Y-%m-%dT%H:%M:%S')\n",
    "        elif arg['objecttype'] == 'fraction':\n",
    "            return Fraction(arg['numerator'],arg['denominator'])\n",
    "        return arg\n",
    "    return arg"
   ]
  },
  {
   "cell_type": "code",
   "execution_count": 27,
   "metadata": {},
   "outputs": [],
   "source": [
    "j='''\n",
    "{\n",
    "    \"cake\":\"yummy chocolate cake\",\n",
    "    \"myShare\":{\n",
    "        \"objecttype\":\"fraction\",\n",
    "        \"numerator\":1,\n",
    "        \"denominator\":8\n",
    "    },\n",
    "    \"eaten\":{\n",
    "        \"at\":{\n",
    "        \"objecttype\":\"datetime\",\n",
    "        \"value\":\"2020-03-15T22:10:00\"\n",
    "        },\n",
    "        \"time_taken\":\"30 seconds\"\n",
    "    }\n",
    "\n",
    "}\n",
    "'''"
   ]
  },
  {
   "cell_type": "code",
   "execution_count": 28,
   "metadata": {},
   "outputs": [
    {
     "data": {
      "text/plain": [
       "{'cake': 'yummy chocolate cake',\n",
       " 'myShare': Fraction(1, 8),\n",
       " 'eaten': {'at': datetime.datetime(2020, 3, 15, 22, 10),\n",
       "  'time_taken': '30 seconds'}}"
      ]
     },
     "execution_count": 28,
     "metadata": {},
     "output_type": "execute_result"
    }
   ],
   "source": [
    "json.loads(j,object_hook = custom_decoder)"
   ]
  },
  {
   "cell_type": "code",
   "execution_count": 29,
   "metadata": {},
   "outputs": [],
   "source": [
    "class Person:\n",
    "    def __init__(self,name,ssn):\n",
    "        self.name = name\n",
    "        self.ssn = ssn\n",
    "        \n",
    "    def __repr__(self):\n",
    "        return f'Person = (name = {self.name}, ssn = {self.ssn})'"
   ]
  },
  {
   "cell_type": "code",
   "execution_count": 30,
   "metadata": {},
   "outputs": [],
   "source": [
    "j='''\n",
    "{\n",
    "    \"accountHolder\":{\n",
    "        \"objecttype\":\"person\",\n",
    "        \"name\":\"Dean Winchester\",\n",
    "        \"ssn\":100 \n",
    "    },\n",
    "    \"created\":{\n",
    "        \"objecttype\":\"datetime\",\n",
    "        \"value\":\"2020-03-15T22:10:00\"\n",
    "    }\n",
    "\n",
    "}\n",
    "'''"
   ]
  },
  {
   "cell_type": "code",
   "execution_count": 31,
   "metadata": {},
   "outputs": [],
   "source": [
    "def custom_decoder(arg):\n",
    "    #ret_value = arg\n",
    "    if 'objecttype'in arg :\n",
    "        if arg['objecttype']=='datetime':\n",
    "            return datetime.strptime(arg['value'],'%Y-%m-%dT%H:%M:%S')\n",
    "        elif arg['objecttype'] == 'fraction':\n",
    "            return Fraction(arg['numerator'],arg['denominator'])\n",
    "        elif arg['objecttype'] == 'person':\n",
    "            return Person(arg['name'],arg['ssn'])\n",
    "        return arg\n",
    "    return arg"
   ]
  },
  {
   "cell_type": "code",
   "execution_count": 32,
   "metadata": {},
   "outputs": [
    {
     "data": {
      "text/plain": [
       "{'accountHolder': Person = (name = Dean Winchester, ssn = 100),\n",
       " 'created': datetime.datetime(2020, 3, 15, 22, 10)}"
      ]
     },
     "execution_count": 32,
     "metadata": {},
     "output_type": "execute_result"
    }
   ],
   "source": [
    "json.loads(j,object_hook = custom_decoder)\n"
   ]
  },
  {
   "cell_type": "code",
   "execution_count": 33,
   "metadata": {},
   "outputs": [],
   "source": [
    " class Person:\n",
    "    def __init__(self,name,ssn):\n",
    "        self.name = name\n",
    "        self.ssn = ssn\n",
    "        \n",
    "    def __repr__(self):\n",
    "        return f'Person = (name = {self.name}, ssn = {self.ssn})'\n",
    "    \n",
    "    def toJSON(self):\n",
    "        return dict(objecttype = 'person', name = self.name,ssn = self.ssn)"
   ]
  },
  {
   "cell_type": "code",
   "execution_count": 34,
   "metadata": {},
   "outputs": [],
   "source": [
    "from decimal import Decimal"
   ]
  },
  {
   "cell_type": "code",
   "execution_count": 35,
   "metadata": {},
   "outputs": [],
   "source": [
    "def make_decimal(arg):\n",
    "    print('Received: ',type(arg),arg)\n",
    "    return Decimal(arg)"
   ]
  },
  {
   "cell_type": "code",
   "execution_count": 36,
   "metadata": {},
   "outputs": [],
   "source": [
    "j='''\n",
    "{\n",
    "    \"a\":100,\n",
    "    \"b\":0.2,\n",
    "    \"c\":0.5\n",
    "}\n",
    "'''"
   ]
  },
  {
   "cell_type": "code",
   "execution_count": 37,
   "metadata": {},
   "outputs": [
    {
     "name": "stdout",
     "output_type": "stream",
     "text": [
      "Received:  <class 'str'> 0.2\n",
      "Received:  <class 'str'> 0.5\n"
     ]
    }
   ],
   "source": [
    "d= json.loads(j,parse_float= make_decimal)"
   ]
  },
  {
   "cell_type": "code",
   "execution_count": 38,
   "metadata": {},
   "outputs": [
    {
     "data": {
      "text/plain": [
       "{'a': 100, 'b': Decimal('0.2'), 'c': Decimal('0.5')}"
      ]
     },
     "execution_count": 38,
     "metadata": {},
     "output_type": "execute_result"
    }
   ],
   "source": [
    "d\n"
   ]
  },
  {
   "cell_type": "code",
   "execution_count": 39,
   "metadata": {},
   "outputs": [],
   "source": [
    "def make_int_binary(arg):\n",
    "    print('Received: ', type(arg),arg)\n",
    "    return bin(int(arg))"
   ]
  },
  {
   "cell_type": "code",
   "execution_count": 40,
   "metadata": {},
   "outputs": [
    {
     "name": "stdout",
     "output_type": "stream",
     "text": [
      "Received:  <class 'str'> 100\n",
      "Received:  <class 'str'> 0.2\n",
      "Received:  <class 'str'> 0.5\n"
     ]
    }
   ],
   "source": [
    "d= json.loads(j,parse_int= make_int_binary,parse_float = make_decimal)"
   ]
  },
  {
   "cell_type": "code",
   "execution_count": 41,
   "metadata": {},
   "outputs": [
    {
     "data": {
      "text/plain": [
       "{'a': '0b1100100', 'b': Decimal('0.2'), 'c': Decimal('0.5')}"
      ]
     },
     "execution_count": 41,
     "metadata": {},
     "output_type": "execute_result"
    }
   ],
   "source": [
    "d"
   ]
  },
  {
   "cell_type": "code",
   "execution_count": 42,
   "metadata": {},
   "outputs": [],
   "source": [
    "def make_const_none(arg):\n",
    "    print('Constant Received: ', type(arg),arg)\n",
    "    return None"
   ]
  },
  {
   "cell_type": "code",
   "execution_count": 43,
   "metadata": {},
   "outputs": [],
   "source": [
    "j='''\n",
    "{\n",
    "    \"a\":Infinity,\n",
    "    \"b\":true,\n",
    "    \"c\":null\n",
    "}\n",
    "'''"
   ]
  },
  {
   "cell_type": "code",
   "execution_count": 44,
   "metadata": {},
   "outputs": [
    {
     "name": "stdout",
     "output_type": "stream",
     "text": [
      "Constant Received:  <class 'str'> Infinity\n"
     ]
    }
   ],
   "source": [
    "d= json.loads(j,parse_float = make_decimal,parse_constant = make_const_none)"
   ]
  },
  {
   "cell_type": "code",
   "execution_count": 45,
   "metadata": {},
   "outputs": [],
   "source": [
    "def custom_decoder(arg):\n",
    "    print('decoding: ',arg,type(arg))\n",
    "    return arg"
   ]
  },
  {
   "cell_type": "code",
   "execution_count": 46,
   "metadata": {},
   "outputs": [],
   "source": [
    "j='''{\n",
    "    \"a\":1,\n",
    "    \"b\":2,\n",
    "    \"c\":{\n",
    "        \"c.1\":1,\n",
    "        \"c.2\":2,\n",
    "        \"c.3\":{\n",
    "            \"c.3.1\":1,\n",
    "            \"c.3.2\":2\n",
    "        }\n",
    "    }\n",
    "}\n",
    "'''"
   ]
  },
  {
   "cell_type": "code",
   "execution_count": 47,
   "metadata": {},
   "outputs": [
    {
     "name": "stdout",
     "output_type": "stream",
     "text": [
      "decoding:  {'c.3.1': 1, 'c.3.2': 2} <class 'dict'>\n",
      "decoding:  {'c.1': 1, 'c.2': 2, 'c.3': {'c.3.1': 1, 'c.3.2': 2}} <class 'dict'>\n",
      "decoding:  {'a': 1, 'b': 2, 'c': {'c.1': 1, 'c.2': 2, 'c.3': {'c.3.1': 1, 'c.3.2': 2}}} <class 'dict'>\n"
     ]
    },
    {
     "data": {
      "text/plain": [
       "{'a': 1, 'b': 2, 'c': {'c.1': 1, 'c.2': 2, 'c.3': {'c.3.1': 1, 'c.3.2': 2}}}"
      ]
     },
     "execution_count": 47,
     "metadata": {},
     "output_type": "execute_result"
    }
   ],
   "source": [
    "json.loads(j,object_hook = custom_decoder)"
   ]
  },
  {
   "cell_type": "code",
   "execution_count": 48,
   "metadata": {},
   "outputs": [],
   "source": [
    "def custom_pairs_decoder(arg):\n",
    "    print('decoding: ',arg,type(arg))\n",
    "    return arg"
   ]
  },
  {
   "cell_type": "code",
   "execution_count": 49,
   "metadata": {},
   "outputs": [
    {
     "name": "stdout",
     "output_type": "stream",
     "text": [
      "decoding:  [('c.3.1', 1), ('c.3.2', 2)] <class 'list'>\n",
      "decoding:  [('c.1', 1), ('c.2', 2), ('c.3', [('c.3.1', 1), ('c.3.2', 2)])] <class 'list'>\n",
      "decoding:  [('a', 1), ('b', 2), ('c', [('c.1', 1), ('c.2', 2), ('c.3', [('c.3.1', 1), ('c.3.2', 2)])])] <class 'list'>\n"
     ]
    },
    {
     "data": {
      "text/plain": [
       "[('a', 1),\n",
       " ('b', 2),\n",
       " ('c', [('c.1', 1), ('c.2', 2), ('c.3', [('c.3.1', 1), ('c.3.2', 2)])])]"
      ]
     },
     "execution_count": 49,
     "metadata": {},
     "output_type": "execute_result"
    }
   ],
   "source": [
    "json.loads(j,object_pairs_hook = custom_pairs_decoder)"
   ]
  },
  {
   "cell_type": "code",
   "execution_count": 50,
   "metadata": {},
   "outputs": [],
   "source": [
    "def custom_pairs_decoder(arg):\n",
    "    print('decoding: ',arg,type(arg))\n",
    "    return {k:v for k,v in arg}"
   ]
  },
  {
   "cell_type": "code",
   "execution_count": 51,
   "metadata": {},
   "outputs": [
    {
     "name": "stdout",
     "output_type": "stream",
     "text": [
      "decoding:  [('c.3.1', 1), ('c.3.2', 2)] <class 'list'>\n",
      "decoding:  [('c.1', 1), ('c.2', 2), ('c.3', {'c.3.1': 1, 'c.3.2': 2})] <class 'list'>\n",
      "decoding:  [('a', 1), ('b', 2), ('c', {'c.1': 1, 'c.2': 2, 'c.3': {'c.3.1': 1, 'c.3.2': 2}})] <class 'list'>\n"
     ]
    },
    {
     "data": {
      "text/plain": [
       "{'a': 1, 'b': 2, 'c': {'c.1': 1, 'c.2': 2, 'c.3': {'c.3.1': 1, 'c.3.2': 2}}}"
      ]
     },
     "execution_count": 51,
     "metadata": {},
     "output_type": "execute_result"
    }
   ],
   "source": [
    "json.loads(j,object_pairs_hook = custom_pairs_decoder)"
   ]
  },
  {
   "cell_type": "code",
   "execution_count": 70,
   "metadata": {},
   "outputs": [],
   "source": [
    "j = '''{\n",
    "    \"a\":[1,2,3,4,5],\n",
    "    \"b\":100,\n",
    "    \"c\":10.5,\n",
    "    \"d\":NaN,\n",
    "    \"e\":null,\n",
    "    \"f\":\"python\"\n",
    "}\n",
    "'''"
   ]
  },
  {
   "cell_type": "code",
   "execution_count": 63,
   "metadata": {},
   "outputs": [],
   "source": [
    "def float_handler(arg):\n",
    "    print('float handler', type(arg),arg)\n",
    "    return float(arg)\n",
    "\n",
    "def int_handler(arg):\n",
    "    print('int handler', type(arg),arg)\n",
    "    return int(arg)\n",
    "\n",
    "def const_handler(arg):\n",
    "    print('const handler', type(arg),arg)\n",
    "    return None\n",
    "\n",
    "def obj_hook(arg):\n",
    "    print('obj hook', arg)\n",
    "    return arg"
   ]
  },
  {
   "cell_type": "code",
   "execution_count": 72,
   "metadata": {},
   "outputs": [
    {
     "data": {
      "text/plain": [
       "{'a': [1, 2, 3, 4, 5], 'b': 100, 'c': 10.5, 'd': nan, 'e': None, 'f': 'python'}"
      ]
     },
     "execution_count": 72,
     "metadata": {},
     "output_type": "execute_result"
    }
   ],
   "source": [
    "json.loads(j)"
   ]
  },
  {
   "cell_type": "code",
   "execution_count": 73,
   "metadata": {},
   "outputs": [
    {
     "name": "stdout",
     "output_type": "stream",
     "text": [
      "int handler <class 'str'> 1\n",
      "int handler <class 'str'> 2\n",
      "int handler <class 'str'> 3\n",
      "int handler <class 'str'> 4\n",
      "int handler <class 'str'> 5\n",
      "int handler <class 'str'> 100\n",
      "float handler <class 'str'> 10.5\n",
      "const handler <class 'str'> NaN\n",
      "obj hook {'a': [1, 2, 3, 4, 5], 'b': 100, 'c': 10.5, 'd': None, 'e': None, 'f': 'python'}\n"
     ]
    },
    {
     "data": {
      "text/plain": [
       "{'a': [1, 2, 3, 4, 5],\n",
       " 'b': 100,\n",
       " 'c': 10.5,\n",
       " 'd': None,\n",
       " 'e': None,\n",
       " 'f': 'python'}"
      ]
     },
     "execution_count": 73,
     "metadata": {},
     "output_type": "execute_result"
    }
   ],
   "source": [
    "json.loads(j,\n",
    "          object_hook = obj_hook,\n",
    "          parse_float = float_handler,\n",
    "          parse_int = int_handler,\n",
    "          parse_constant = const_handler\n",
    "          )"
   ]
  },
  {
   "cell_type": "code",
   "execution_count": null,
   "metadata": {},
   "outputs": [],
   "source": []
  },
  {
   "cell_type": "code",
   "execution_count": null,
   "metadata": {},
   "outputs": [],
   "source": []
  }
 ],
 "metadata": {
  "kernelspec": {
   "display_name": "Python 3",
   "language": "python",
   "name": "python3"
  },
  "language_info": {
   "codemirror_mode": {
    "name": "ipython",
    "version": 3
   },
   "file_extension": ".py",
   "mimetype": "text/x-python",
   "name": "python",
   "nbconvert_exporter": "python",
   "pygments_lexer": "ipython3",
   "version": "3.6.0"
  }
 },
 "nbformat": 4,
 "nbformat_minor": 4
}
