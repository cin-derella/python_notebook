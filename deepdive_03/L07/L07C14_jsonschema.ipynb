{
 "cells": [
  {
   "cell_type": "code",
   "execution_count": 14,
   "metadata": {},
   "outputs": [],
   "source": [
    "person_schema = {\n",
    "    \"type\":\"object\",\n",
    "    \"properties\":{\n",
    "        \"firstName\":{\"type\":\"string\"},\n",
    "        \"middleInitial\":{\"type\":\"string\"},\n",
    "        \"lastName\":{\"type\":\"string\"},\n",
    "        \"age\":{\"type\":\"number\"}\n",
    "    }\n",
    "}"
   ]
  },
  {
   "cell_type": "code",
   "execution_count": 15,
   "metadata": {},
   "outputs": [],
   "source": [
    "p1 = '''\n",
    "{\n",
    "    \"firstName\":\"Sam\",\n",
    "    \"middleInital\":\"M\",\n",
    "    \"lastName\":\"Winchester\",\n",
    "    \"age\":28\n",
    "}'''"
   ]
  },
  {
   "cell_type": "code",
   "execution_count": 21,
   "metadata": {},
   "outputs": [],
   "source": [
    "p2 = '''\n",
    "{\n",
    "    \"firstName\":\"Dean\",\n",
    "    \"middleInital\":\"S\",\n",
    "    \"lastName\":\"Winchester\",\n",
    "    \"age\":\"Unknown\"\n",
    "}'''"
   ]
  },
  {
   "cell_type": "code",
   "execution_count": 17,
   "metadata": {},
   "outputs": [],
   "source": [
    "p3 = '''\n",
    "{\n",
    "    \"firstName\":\"Cass\",\n",
    "    \"age\":\"Unknown\"\n",
    "}'''"
   ]
  },
  {
   "cell_type": "code",
   "execution_count": 18,
   "metadata": {},
   "outputs": [],
   "source": [
    "person_schema = {\n",
    "    \"type\":\"object\",\n",
    "    \"properties\":{\n",
    "        \"firstName\":{\n",
    "            \"type\":\"string\",\n",
    "            \"minLength\":1\n",
    "        },\n",
    "        \"middleInitial\":{\n",
    "            \"type\":\"string\",\n",
    "            \"minLength\":1,\n",
    "            \"maxLength\":1\n",
    "        },\n",
    "        \"lastName\":{\n",
    "            \"type\":\"string\",\n",
    "            \"minLength\":1,\n",
    "        },\n",
    "        \"age\":{\n",
    "            \"type\":\"integer\",\n",
    "            \"minimum\":0\n",
    "        },\n",
    "        \"eyeColor\":{\n",
    "            \"type\":\"string\",\n",
    "            \"enum\":[\"amber\",\"blue\",\"brown\",\"gray\",\"green\",\"hazel\",\"red\",\"violet\"]\n",
    "        },\n",
    "    },\n",
    "    \"required\":[\"firstName\",\"lastName\"]\n",
    "}"
   ]
  },
  {
   "cell_type": "code",
   "execution_count": 19,
   "metadata": {},
   "outputs": [],
   "source": [
    "from jsonschema import validate\n",
    "from jsonschema.exceptions import ValidationError\n",
    "from json import loads,dumps,JSONDecodeError"
   ]
  },
  {
   "cell_type": "code",
   "execution_count": 25,
   "metadata": {},
   "outputs": [
    {
     "name": "stdout",
     "output_type": "stream",
     "text": [
      "\n",
      "{\n",
      "    \"firstName\":\"Cass\",\n",
      "    \"age\":\"Unknown\"\n",
      "}\n",
      "Validation error: 'lastName' is a required property\n",
      "\n",
      "Failed validating 'required' in schema:\n",
      "    {'properties': {'age': {'minimum': 0, 'type': 'integer'},\n",
      "                    'eyeColor': {'enum': ['amber',\n",
      "                                          'blue',\n",
      "                                          'brown',\n",
      "                                          'gray',\n",
      "                                          'green',\n",
      "                                          'hazel',\n",
      "                                          'red',\n",
      "                                          'violet'],\n",
      "                                 'type': 'string'},\n",
      "                    'firstName': {'minLength': 1, 'type': 'string'},\n",
      "                    'lastName': {'minLength': 1, 'type': 'string'},\n",
      "                    'middleInitial': {'maxLength': 1,\n",
      "                                      'minLength': 1,\n",
      "                                      'type': 'string'}},\n",
      "     'required': ['firstName', 'lastName'],\n",
      "     'type': 'object'}\n",
      "\n",
      "On instance:\n",
      "    {'age': 'Unknown', 'firstName': 'Cass'}\n"
     ]
    }
   ],
   "source": [
    "json_doc = p3\n",
    "print(json_doc)\n",
    "try:\n",
    "    validate(loads(p3),person_schema)\n",
    "except JSONDecodeError as ex:\n",
    "    print(f'Invalid JSON:{ex}')\n",
    "except ValidationError as ex:\n",
    "    print(f'Validation error: {ex}')\n",
    "else:\n",
    "    print('JSON is valid and conforms to schema')"
   ]
  },
  {
   "cell_type": "code",
   "execution_count": 28,
   "metadata": {},
   "outputs": [],
   "source": [
    "from jsonschema import Draft4Validator\n",
    "validator = Draft4Validator(person_schema)"
   ]
  },
  {
   "cell_type": "code",
   "execution_count": 33,
   "metadata": {},
   "outputs": [
    {
     "name": "stdout",
     "output_type": "stream",
     "text": [
      "'Unknown' is not of type 'integer'\n",
      "\n",
      "Failed validating 'type' in schema['properties']['age']:\n",
      "    {'minimum': 0, 'type': 'integer'}\n",
      "\n",
      "On instance['age']:\n",
      "    'Unknown'\n",
      "----------\n",
      "'lastName' is a required property\n",
      "\n",
      "Failed validating 'required' in schema:\n",
      "    {'properties': {'age': {'minimum': 0, 'type': 'integer'},\n",
      "                    'eyeColor': {'enum': ['amber',\n",
      "                                          'blue',\n",
      "                                          'brown',\n",
      "                                          'gray',\n",
      "                                          'green',\n",
      "                                          'hazel',\n",
      "                                          'red',\n",
      "                                          'violet'],\n",
      "                                 'type': 'string'},\n",
      "                    'firstName': {'minLength': 1, 'type': 'string'},\n",
      "                    'lastName': {'minLength': 1, 'type': 'string'},\n",
      "                    'middleInitial': {'maxLength': 1,\n",
      "                                      'minLength': 1,\n",
      "                                      'type': 'string'}},\n",
      "     'required': ['firstName', 'lastName'],\n",
      "     'type': 'object'}\n",
      "\n",
      "On instance:\n",
      "    {'age': 'Unknown', 'firstName': 'Cass'}\n",
      "----------\n"
     ]
    }
   ],
   "source": [
    "json_doc = p3\n",
    "for error in validator.iter_errors(loads(json_doc)):\n",
    "    print(error,end = '\\n----------\\n')"
   ]
  },
  {
   "cell_type": "code",
   "execution_count": 36,
   "metadata": {},
   "outputs": [],
   "source": [
    "p4 = '''\n",
    "{\n",
    "    \"firstName\":\"Charlie\",\n",
    "    \"middleInital\":null,\n",
    "    \"lastName\":\"Cleese\",\n",
    "    \"eyeColor\":\"green\"\n",
    "\n",
    "}'''"
   ]
  },
  {
   "cell_type": "code",
   "execution_count": 38,
   "metadata": {},
   "outputs": [],
   "source": [
    "json_doc = p4\n",
    "for error in validator.iter_errors(loads(json_doc)):\n",
    "    print(error,end = '\\n----------\\n')"
   ]
  },
  {
   "cell_type": "code",
   "execution_count": null,
   "metadata": {},
   "outputs": [],
   "source": []
  }
 ],
 "metadata": {
  "kernelspec": {
   "display_name": "Python 3",
   "language": "python",
   "name": "python3"
  },
  "language_info": {
   "codemirror_mode": {
    "name": "ipython",
    "version": 3
   },
   "file_extension": ".py",
   "mimetype": "text/x-python",
   "name": "python",
   "nbconvert_exporter": "python",
   "pygments_lexer": "ipython3",
   "version": "3.6.0"
  }
 },
 "nbformat": 4,
 "nbformat_minor": 4
}
