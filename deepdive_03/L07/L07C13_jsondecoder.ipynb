{
 "cells": [
  {
   "cell_type": "code",
   "execution_count": 1,
   "metadata": {},
   "outputs": [],
   "source": [
    "import json"
   ]
  },
  {
   "cell_type": "code",
   "execution_count": 39,
   "metadata": {},
   "outputs": [],
   "source": [
    "j = '''\n",
    "{\n",
    "    \"a\":100,\n",
    "    \"b\":[1,2,3],\n",
    "    \"c\":\"python\",\n",
    "    \"d\":{\n",
    "        \"e\":4,\n",
    "        \"f\":5.5\n",
    "    }\n",
    "}\n",
    "'''"
   ]
  },
  {
   "cell_type": "code",
   "execution_count": 40,
   "metadata": {},
   "outputs": [],
   "source": [
    "class CustomDecoder(json.JSONDecoder):\n",
    "    def decode(self,arg):\n",
    "        print(\"decode: \", type(arg),arg)\n",
    "        return \"a simple string object\""
   ]
  },
  {
   "cell_type": "code",
   "execution_count": 41,
   "metadata": {},
   "outputs": [
    {
     "name": "stdout",
     "output_type": "stream",
     "text": [
      "decode:  <class 'str'> \n",
      "{\n",
      "    \"a\":100,\n",
      "    \"b\":[1,2,3],\n",
      "    \"c\":\"python\",\n",
      "    \"d\":{\n",
      "        \"e\":4,\n",
      "        \"f\":5.5\n",
      "    }\n",
      "}\n",
      "\n"
     ]
    }
   ],
   "source": [
    "result = json.loads(j,cls=CustomDecoder)"
   ]
  },
  {
   "cell_type": "code",
   "execution_count": 42,
   "metadata": {},
   "outputs": [
    {
     "data": {
      "text/plain": [
       "'a simple string object'"
      ]
     },
     "execution_count": 42,
     "metadata": {},
     "output_type": "execute_result"
    }
   ],
   "source": [
    "result"
   ]
  },
  {
   "cell_type": "code",
   "execution_count": 43,
   "metadata": {},
   "outputs": [],
   "source": [
    "class Point:\n",
    "    def __init__(self,x,y):\n",
    "        self.x = x\n",
    "        self.y = y\n",
    "    \n",
    "    def __repr__(self):\n",
    "        return f'Point(x = {self.x}, y={self.y})'"
   ]
  },
  {
   "cell_type": "code",
   "execution_count": 44,
   "metadata": {},
   "outputs": [],
   "source": [
    "j_points = '''\n",
    "{\n",
    "    \"points\":[\n",
    "        [10,20],\n",
    "        [-1,-2],\n",
    "        [0.5,0.5]\n",
    "    ]\n",
    "}\n",
    "'''\n",
    "\n",
    "\n",
    "j_other = '''\n",
    "{\n",
    "    \"a\":1,\n",
    "    \"b\":2\n",
    "}\n",
    "'''"
   ]
  },
  {
   "cell_type": "code",
   "execution_count": 45,
   "metadata": {},
   "outputs": [],
   "source": [
    "class CustomDecoder(json.JSONDecoder):\n",
    "    def decode(self,arg):\n",
    "        if 'point' in arg:\n",
    "            obj = json.loads(arg)\n",
    "            return \"parsing object for points\"\n",
    "        else:\n",
    "            return super().decode(arg)\n",
    "        \n",
    "        "
   ]
  },
  {
   "cell_type": "code",
   "execution_count": 46,
   "metadata": {},
   "outputs": [
    {
     "data": {
      "text/plain": [
       "'parsing object for points'"
      ]
     },
     "execution_count": 46,
     "metadata": {},
     "output_type": "execute_result"
    }
   ],
   "source": [
    "json.loads(j_points, cls=CustomDecoder)"
   ]
  },
  {
   "cell_type": "code",
   "execution_count": 47,
   "metadata": {},
   "outputs": [
    {
     "data": {
      "text/plain": [
       "{'a': 1, 'b': 2}"
      ]
     },
     "execution_count": 47,
     "metadata": {},
     "output_type": "execute_result"
    }
   ],
   "source": [
    "json.loads(j_other, cls = CustomDecoder)"
   ]
  },
  {
   "cell_type": "code",
   "execution_count": 48,
   "metadata": {},
   "outputs": [],
   "source": [
    "class CustomDecoder(json.JSONDecoder):\n",
    "    def decode(self,arg):\n",
    "        obj = json.loads(arg)\n",
    "        if 'points' in obj:\n",
    "            obj['points']=[Point(x,y)\n",
    "                          for x,y in obj['points']]\n",
    "            return obj\n",
    "        else:\n",
    "            return obj"
   ]
  },
  {
   "cell_type": "code",
   "execution_count": 49,
   "metadata": {},
   "outputs": [
    {
     "data": {
      "text/plain": [
       "{'points': [Point(x = 10, y=20), Point(x = -1, y=-2), Point(x = 0.5, y=0.5)]}"
      ]
     },
     "execution_count": 49,
     "metadata": {},
     "output_type": "execute_result"
    }
   ],
   "source": [
    "json.loads(j_points, cls = CustomDecoder)"
   ]
  },
  {
   "cell_type": "code",
   "execution_count": 50,
   "metadata": {},
   "outputs": [
    {
     "data": {
      "text/plain": [
       "{'a': 1, 'b': 2}"
      ]
     },
     "execution_count": 50,
     "metadata": {},
     "output_type": "execute_result"
    }
   ],
   "source": [
    "json.loads(j_other,cls=CustomDecoder)"
   ]
  },
  {
   "cell_type": "code",
   "execution_count": 51,
   "metadata": {},
   "outputs": [
    {
     "data": {
      "text/plain": [
       "{'a': 100, 'b': [1, 2, 3], 'c': 'python', 'd': {'e': 4, 'f': 5.5}}"
      ]
     },
     "execution_count": 51,
     "metadata": {},
     "output_type": "execute_result"
    }
   ],
   "source": [
    "json.loads(j,cls=CustomDecoder)"
   ]
  },
  {
   "cell_type": "code",
   "execution_count": 52,
   "metadata": {},
   "outputs": [],
   "source": [
    "import re"
   ]
  },
  {
   "cell_type": "code",
   "execution_count": 53,
   "metadata": {},
   "outputs": [],
   "source": [
    "pattern = r'\"_type\"\\s*:\\s*\"point\"'"
   ]
  },
  {
   "cell_type": "code",
   "execution_count": 54,
   "metadata": {},
   "outputs": [
    {
     "name": "stdout",
     "output_type": "stream",
     "text": [
      "word\tword\n"
     ]
    }
   ],
   "source": [
    "print('word\\tword')"
   ]
  },
  {
   "cell_type": "code",
   "execution_count": 55,
   "metadata": {},
   "outputs": [
    {
     "name": "stdout",
     "output_type": "stream",
     "text": [
      "word\\tword\n"
     ]
    }
   ],
   "source": [
    "print(r'word\\tword')"
   ]
  },
  {
   "cell_type": "code",
   "execution_count": 56,
   "metadata": {},
   "outputs": [
    {
     "name": "stdout",
     "output_type": "stream",
     "text": [
      "None\n"
     ]
    }
   ],
   "source": [
    "regexp = re.compile(pattern)\n",
    "print(regexp.search('\"a\":1'))"
   ]
  },
  {
   "cell_type": "code",
   "execution_count": 58,
   "metadata": {},
   "outputs": [
    {
     "name": "stdout",
     "output_type": "stream",
     "text": [
      "None\n"
     ]
    }
   ],
   "source": [
    "print(regexp.search('\"_type\":\\t\"point\"'))"
   ]
  },
  {
   "cell_type": "code",
   "execution_count": 59,
   "metadata": {},
   "outputs": [
    {
     "data": {
      "text/plain": [
       "<_sre.SRE_Match object; span=(0, 21), match='\"_type\"  :    \"point\"'>"
      ]
     },
     "execution_count": 59,
     "metadata": {},
     "output_type": "execute_result"
    }
   ],
   "source": [
    "re.search(r'\"_type\"\\s*:\\s*\"point\"','\"_type\"  :    \"point\"')"
   ]
  },
  {
   "cell_type": "code",
   "execution_count": 62,
   "metadata": {},
   "outputs": [],
   "source": [
    "class CustomDecoder(json.JSONDecoder):\n",
    "    def defcode(self,arg):\n",
    "        obj = json.loads(arg)\n",
    "        pattern = r'\"_type\"\\s*:\\s*\"point\"'\n",
    "        if re.search(pattern,arg):\n",
    "            obj = self.make_pts(obj)\n",
    "        return obj\n",
    "    \n",
    "    def make_pts(self,obj):\n",
    "        if isinstance(obj,dict):\n",
    "            if obj.get('_type',None)=='point':\n",
    "                obj = Point(obj['x'],obj['y'])\n",
    "            else: \n",
    "                for key,value in obj.items():\n",
    "                    obj[keys] = self.make_pts(value)\n",
    "        elif isinstance(obk,list):\n",
    "            for index ,item in enumerate(obj):\n",
    "                obj[index] = self.make_pts(item)\n",
    "        return obj"
   ]
  },
  {
   "cell_type": "code",
   "execution_count": 63,
   "metadata": {},
   "outputs": [],
   "source": [
    "j = '''\n",
    "{\n",
    "    \"a\": 100,\n",
    "    \"b\": 0.5,\n",
    "    \"rectangle\": {\n",
    "        \"corners\": {\n",
    "            \"b_left\": {\"_type\": \"point\", \"x\": -1, \"y\": -1},\n",
    "            \"b_right\": {\"_type\": \"point\", \"x\": 1, \"y\": -1},\n",
    "            \"t_left\": {\"_type\": \"point\", \"x\": -1, \"y\": 1},\n",
    "            \"t_right\": {\"_type\": \"point\", \"x\": 1, \"y\": 1}\n",
    "        },\n",
    "        \"rotate\": {\"_type\" : \"point\", \"x\": 0, \"y\": 0},\n",
    "        \"interior_pts\": [\n",
    "            {\"_type\": \"point\", \"x\": 0, \"y\": 0},\n",
    "            {\"_type\": \"point\", \"x\": 0.5, \"y\": 0.5}\n",
    "        ]\n",
    "    }\n",
    "}\n",
    "'''"
   ]
  },
  {
   "cell_type": "code",
   "execution_count": 64,
   "metadata": {},
   "outputs": [
    {
     "data": {
      "text/plain": [
       "{'a': 100,\n",
       " 'b': 0.5,\n",
       " 'rectangle': {'corners': {'b_left': {'_type': 'point', 'x': -1, 'y': -1},\n",
       "   'b_right': {'_type': 'point', 'x': 1, 'y': -1},\n",
       "   't_left': {'_type': 'point', 'x': -1, 'y': 1},\n",
       "   't_right': {'_type': 'point', 'x': 1, 'y': 1}},\n",
       "  'rotate': {'_type': 'point', 'x': 0, 'y': 0},\n",
       "  'interior_pts': [{'_type': 'point', 'x': 0, 'y': 0},\n",
       "   {'_type': 'point', 'x': 0.5, 'y': 0.5}]}}"
      ]
     },
     "execution_count": 64,
     "metadata": {},
     "output_type": "execute_result"
    }
   ],
   "source": [
    "json.loads(j)"
   ]
  },
  {
   "cell_type": "code",
   "execution_count": 66,
   "metadata": {},
   "outputs": [
    {
     "name": "stdout",
     "output_type": "stream",
     "text": [
      "{'a': 100,\n",
      " 'b': 0.5,\n",
      " 'rectangle': {'corners': {'b_left': {'_type': 'point', 'x': -1, 'y': -1},\n",
      "                           'b_right': {'_type': 'point', 'x': 1, 'y': -1},\n",
      "                           't_left': {'_type': 'point', 'x': -1, 'y': 1},\n",
      "                           't_right': {'_type': 'point', 'x': 1, 'y': 1}},\n",
      "               'interior_pts': [{'_type': 'point', 'x': 0, 'y': 0},\n",
      "                                {'_type': 'point', 'x': 0.5, 'y': 0.5}],\n",
      "               'rotate': {'_type': 'point', 'x': 0, 'y': 0}}}\n"
     ]
    }
   ],
   "source": [
    "from pprint import pprint\n",
    "pprint(json.loads(j,cls = CustomDecoder))"
   ]
  },
  {
   "cell_type": "code",
   "execution_count": 67,
   "metadata": {},
   "outputs": [],
   "source": [
    "from decimal import Decimal\n",
    "CustomDecoder = json.JSONDecoder(parse_float = Decimal)"
   ]
  },
  {
   "cell_type": "code",
   "execution_count": 68,
   "metadata": {},
   "outputs": [],
   "source": [
    "d=CustomDecoder.decode(j)"
   ]
  },
  {
   "cell_type": "code",
   "execution_count": 69,
   "metadata": {},
   "outputs": [
    {
     "name": "stdout",
     "output_type": "stream",
     "text": [
      "{'a': 100,\n",
      " 'b': Decimal('0.5'),\n",
      " 'rectangle': {'corners': {'b_left': {'_type': 'point', 'x': -1, 'y': -1},\n",
      "                           'b_right': {'_type': 'point', 'x': 1, 'y': -1},\n",
      "                           't_left': {'_type': 'point', 'x': -1, 'y': 1},\n",
      "                           't_right': {'_type': 'point', 'x': 1, 'y': 1}},\n",
      "               'interior_pts': [{'_type': 'point', 'x': 0, 'y': 0},\n",
      "                                {'_type': 'point',\n",
      "                                 'x': Decimal('0.5'),\n",
      "                                 'y': Decimal('0.5')}],\n",
      "               'rotate': {'_type': 'point', 'x': 0, 'y': 0}}}\n"
     ]
    }
   ],
   "source": [
    "pprint(d)"
   ]
  },
  {
   "cell_type": "code",
   "execution_count": 84,
   "metadata": {},
   "outputs": [],
   "source": [
    "class CustomDecoder(json.JSONDecoder):\n",
    "    def __init__(self,*args,**kwargs):\n",
    "        super().__init__(parse_float = Decimal)\n",
    "        \n",
    "\n",
    "    def decode(self,arg):\n",
    "        obj = super().decode(arg)\n",
    "        pattern = r'\"_type\"\\s*:\\s*\"point\"'\n",
    "        if re.search(pattern,arg):\n",
    "            obj = self.make_pts(obj)\n",
    "        return obj\n",
    "    \n",
    "    def make_pts(self,obj):\n",
    "        if isinstance(obj,dict):\n",
    "            if obj.get('_type',None)=='point':\n",
    "                obj = Point(obj['x'],obj['y'])\n",
    "            else: \n",
    "                for key,value in obj.items():\n",
    "                    obj[key] = self.make_pts(value)\n",
    "        elif isinstance(obj,list):\n",
    "            for index ,item in enumerate(obj):\n",
    "                obj[index] = self.make_pts(item)\n",
    "        return obj"
   ]
  },
  {
   "cell_type": "code",
   "execution_count": 85,
   "metadata": {},
   "outputs": [
    {
     "data": {
      "text/plain": [
       "{'a': 100,\n",
       " 'b': Decimal('0.5'),\n",
       " 'rectangle': {'corners': {'b_left': Point(x = -1, y=-1),\n",
       "   'b_right': Point(x = 1, y=-1),\n",
       "   't_left': Point(x = -1, y=1),\n",
       "   't_right': Point(x = 1, y=1)},\n",
       "  'rotate': Point(x = 0, y=0),\n",
       "  'interior_pts': [Point(x = 0, y=0), Point(x = 0.5, y=0.5)]}}"
      ]
     },
     "execution_count": 85,
     "metadata": {},
     "output_type": "execute_result"
    }
   ],
   "source": [
    "json.loads(j,cls=CustomDecoder)"
   ]
  },
  {
   "cell_type": "code",
   "execution_count": 86,
   "metadata": {},
   "outputs": [],
   "source": [
    "result = json.loads(j,cls=CustomDecoder)"
   ]
  },
  {
   "cell_type": "code",
   "execution_count": 80,
   "metadata": {},
   "outputs": [],
   "source": [
    "pt = result['rectangle']['interior_pts']"
   ]
  },
  {
   "cell_type": "code",
   "execution_count": 87,
   "metadata": {},
   "outputs": [
    {
     "name": "stdout",
     "output_type": "stream",
     "text": [
      "{'a': 100,\n",
      " 'b': Decimal('0.5'),\n",
      " 'rectangle': {'corners': {'b_left': Point(x = -1, y=-1),\n",
      "                           'b_right': Point(x = 1, y=-1),\n",
      "                           't_left': Point(x = -1, y=1),\n",
      "                           't_right': Point(x = 1, y=1)},\n",
      "               'interior_pts': [Point(x = 0, y=0), Point(x = 0.5, y=0.5)],\n",
      "               'rotate': Point(x = 0, y=0)}}\n"
     ]
    }
   ],
   "source": [
    "pprint(result)"
   ]
  },
  {
   "cell_type": "code",
   "execution_count": 88,
   "metadata": {},
   "outputs": [
    {
     "name": "stdout",
     "output_type": "stream",
     "text": [
      "Point(x = 0.5, y=0.5)\n"
     ]
    }
   ],
   "source": [
    "pt = result['rectangle']['interior_pts'][1]\n",
    "print(pt)"
   ]
  },
  {
   "cell_type": "code",
   "execution_count": null,
   "metadata": {},
   "outputs": [],
   "source": []
  }
 ],
 "metadata": {
  "kernelspec": {
   "display_name": "Python 3",
   "language": "python",
   "name": "python3"
  },
  "language_info": {
   "codemirror_mode": {
    "name": "ipython",
    "version": 3
   },
   "file_extension": ".py",
   "mimetype": "text/x-python",
   "name": "python",
   "nbconvert_exporter": "python",
   "pygments_lexer": "ipython3",
   "version": "3.6.0"
  }
 },
 "nbformat": 4,
 "nbformat_minor": 4
}
