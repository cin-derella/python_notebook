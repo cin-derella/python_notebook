{
 "cells": [
  {
   "cell_type": "code",
   "execution_count": 1,
   "metadata": {},
   "outputs": [],
   "source": [
    "from datetime import datetime\n",
    "current = datetime.utcnow()"
   ]
  },
  {
   "cell_type": "code",
   "execution_count": 2,
   "metadata": {},
   "outputs": [
    {
     "data": {
      "text/plain": [
       "datetime.datetime(2020, 3, 15, 13, 4, 41, 387848)"
      ]
     },
     "execution_count": 2,
     "metadata": {},
     "output_type": "execute_result"
    }
   ],
   "source": [
    "current"
   ]
  },
  {
   "cell_type": "code",
   "execution_count": 3,
   "metadata": {},
   "outputs": [],
   "source": [
    "import json"
   ]
  },
  {
   "cell_type": "code",
   "execution_count": 4,
   "metadata": {},
   "outputs": [
    {
     "ename": "TypeError",
     "evalue": "Object of type 'datetime' is not JSON serializable",
     "output_type": "error",
     "traceback": [
      "\u001b[0;31m---------------------------------------------------------------------------\u001b[0m",
      "\u001b[0;31mTypeError\u001b[0m                                 Traceback (most recent call last)",
      "\u001b[0;32m<ipython-input-4-b203d3dbab0a>\u001b[0m in \u001b[0;36m<module>\u001b[0;34m\u001b[0m\n\u001b[0;32m----> 1\u001b[0;31m \u001b[0mjson\u001b[0m\u001b[0;34m.\u001b[0m\u001b[0mdumps\u001b[0m\u001b[0;34m(\u001b[0m\u001b[0mcurrent\u001b[0m\u001b[0;34m)\u001b[0m\u001b[0;34m\u001b[0m\u001b[0m\n\u001b[0m",
      "\u001b[0;32m/Library/Frameworks/Python.framework/Versions/3.6/lib/python3.6/json/__init__.py\u001b[0m in \u001b[0;36mdumps\u001b[0;34m(obj, skipkeys, ensure_ascii, check_circular, allow_nan, cls, indent, separators, default, sort_keys, **kw)\u001b[0m\n\u001b[1;32m    229\u001b[0m         \u001b[0mcls\u001b[0m \u001b[0;32mis\u001b[0m \u001b[0;32mNone\u001b[0m \u001b[0;32mand\u001b[0m \u001b[0mindent\u001b[0m \u001b[0;32mis\u001b[0m \u001b[0;32mNone\u001b[0m \u001b[0;32mand\u001b[0m \u001b[0mseparators\u001b[0m \u001b[0;32mis\u001b[0m \u001b[0;32mNone\u001b[0m \u001b[0;32mand\u001b[0m\u001b[0;34m\u001b[0m\u001b[0m\n\u001b[1;32m    230\u001b[0m         default is None and not sort_keys and not kw):\n\u001b[0;32m--> 231\u001b[0;31m         \u001b[0;32mreturn\u001b[0m \u001b[0m_default_encoder\u001b[0m\u001b[0;34m.\u001b[0m\u001b[0mencode\u001b[0m\u001b[0;34m(\u001b[0m\u001b[0mobj\u001b[0m\u001b[0;34m)\u001b[0m\u001b[0;34m\u001b[0m\u001b[0m\n\u001b[0m\u001b[1;32m    232\u001b[0m     \u001b[0;32mif\u001b[0m \u001b[0mcls\u001b[0m \u001b[0;32mis\u001b[0m \u001b[0;32mNone\u001b[0m\u001b[0;34m:\u001b[0m\u001b[0;34m\u001b[0m\u001b[0m\n\u001b[1;32m    233\u001b[0m         \u001b[0mcls\u001b[0m \u001b[0;34m=\u001b[0m \u001b[0mJSONEncoder\u001b[0m\u001b[0;34m\u001b[0m\u001b[0m\n",
      "\u001b[0;32m/Library/Frameworks/Python.framework/Versions/3.6/lib/python3.6/json/encoder.py\u001b[0m in \u001b[0;36mencode\u001b[0;34m(self, o)\u001b[0m\n\u001b[1;32m    197\u001b[0m         \u001b[0;31m# exceptions aren't as detailed.  The list call should be roughly\u001b[0m\u001b[0;34m\u001b[0m\u001b[0;34m\u001b[0m\u001b[0m\n\u001b[1;32m    198\u001b[0m         \u001b[0;31m# equivalent to the PySequence_Fast that ''.join() would do.\u001b[0m\u001b[0;34m\u001b[0m\u001b[0;34m\u001b[0m\u001b[0m\n\u001b[0;32m--> 199\u001b[0;31m         \u001b[0mchunks\u001b[0m \u001b[0;34m=\u001b[0m \u001b[0mself\u001b[0m\u001b[0;34m.\u001b[0m\u001b[0miterencode\u001b[0m\u001b[0;34m(\u001b[0m\u001b[0mo\u001b[0m\u001b[0;34m,\u001b[0m \u001b[0m_one_shot\u001b[0m\u001b[0;34m=\u001b[0m\u001b[0;32mTrue\u001b[0m\u001b[0;34m)\u001b[0m\u001b[0;34m\u001b[0m\u001b[0m\n\u001b[0m\u001b[1;32m    200\u001b[0m         \u001b[0;32mif\u001b[0m \u001b[0;32mnot\u001b[0m \u001b[0misinstance\u001b[0m\u001b[0;34m(\u001b[0m\u001b[0mchunks\u001b[0m\u001b[0;34m,\u001b[0m \u001b[0;34m(\u001b[0m\u001b[0mlist\u001b[0m\u001b[0;34m,\u001b[0m \u001b[0mtuple\u001b[0m\u001b[0;34m)\u001b[0m\u001b[0;34m)\u001b[0m\u001b[0;34m:\u001b[0m\u001b[0;34m\u001b[0m\u001b[0m\n\u001b[1;32m    201\u001b[0m             \u001b[0mchunks\u001b[0m \u001b[0;34m=\u001b[0m \u001b[0mlist\u001b[0m\u001b[0;34m(\u001b[0m\u001b[0mchunks\u001b[0m\u001b[0;34m)\u001b[0m\u001b[0;34m\u001b[0m\u001b[0m\n",
      "\u001b[0;32m/Library/Frameworks/Python.framework/Versions/3.6/lib/python3.6/json/encoder.py\u001b[0m in \u001b[0;36miterencode\u001b[0;34m(self, o, _one_shot)\u001b[0m\n\u001b[1;32m    255\u001b[0m                 \u001b[0mself\u001b[0m\u001b[0;34m.\u001b[0m\u001b[0mkey_separator\u001b[0m\u001b[0;34m,\u001b[0m \u001b[0mself\u001b[0m\u001b[0;34m.\u001b[0m\u001b[0mitem_separator\u001b[0m\u001b[0;34m,\u001b[0m \u001b[0mself\u001b[0m\u001b[0;34m.\u001b[0m\u001b[0msort_keys\u001b[0m\u001b[0;34m,\u001b[0m\u001b[0;34m\u001b[0m\u001b[0m\n\u001b[1;32m    256\u001b[0m                 self.skipkeys, _one_shot)\n\u001b[0;32m--> 257\u001b[0;31m         \u001b[0;32mreturn\u001b[0m \u001b[0m_iterencode\u001b[0m\u001b[0;34m(\u001b[0m\u001b[0mo\u001b[0m\u001b[0;34m,\u001b[0m \u001b[0;36m0\u001b[0m\u001b[0;34m)\u001b[0m\u001b[0;34m\u001b[0m\u001b[0m\n\u001b[0m\u001b[1;32m    258\u001b[0m \u001b[0;34m\u001b[0m\u001b[0m\n\u001b[1;32m    259\u001b[0m def _make_iterencode(markers, _default, _encoder, _indent, _floatstr,\n",
      "\u001b[0;32m/Library/Frameworks/Python.framework/Versions/3.6/lib/python3.6/json/encoder.py\u001b[0m in \u001b[0;36mdefault\u001b[0;34m(self, o)\u001b[0m\n\u001b[1;32m    178\u001b[0m         \"\"\"\n\u001b[1;32m    179\u001b[0m         raise TypeError(\"Object of type '%s' is not JSON serializable\" %\n\u001b[0;32m--> 180\u001b[0;31m                         o.__class__.__name__)\n\u001b[0m\u001b[1;32m    181\u001b[0m \u001b[0;34m\u001b[0m\u001b[0m\n\u001b[1;32m    182\u001b[0m     \u001b[0;32mdef\u001b[0m \u001b[0mencode\u001b[0m\u001b[0;34m(\u001b[0m\u001b[0mself\u001b[0m\u001b[0;34m,\u001b[0m \u001b[0mo\u001b[0m\u001b[0;34m)\u001b[0m\u001b[0;34m:\u001b[0m\u001b[0;34m\u001b[0m\u001b[0m\n",
      "\u001b[0;31mTypeError\u001b[0m: Object of type 'datetime' is not JSON serializable"
     ]
    }
   ],
   "source": [
    "json.dumps(current)"
   ]
  },
  {
   "cell_type": "code",
   "execution_count": 5,
   "metadata": {},
   "outputs": [
    {
     "data": {
      "text/plain": [
       "'2020-03-15 13:04:41.387848'"
      ]
     },
     "execution_count": 5,
     "metadata": {},
     "output_type": "execute_result"
    }
   ],
   "source": [
    "str(current)"
   ]
  },
  {
   "cell_type": "code",
   "execution_count": 6,
   "metadata": {},
   "outputs": [],
   "source": [
    "def format_iso(dt):\n",
    "    return dt.strftime('%Y-%m-%dT%H:%M:%S')"
   ]
  },
  {
   "cell_type": "code",
   "execution_count": 7,
   "metadata": {},
   "outputs": [
    {
     "data": {
      "text/plain": [
       "'2020-03-15T13:04:41'"
      ]
     },
     "execution_count": 7,
     "metadata": {},
     "output_type": "execute_result"
    }
   ],
   "source": [
    "format_iso(current)"
   ]
  },
  {
   "cell_type": "code",
   "execution_count": 8,
   "metadata": {},
   "outputs": [
    {
     "data": {
      "text/plain": [
       "'2020-03-15T13:04:41.387848'"
      ]
     },
     "execution_count": 8,
     "metadata": {},
     "output_type": "execute_result"
    }
   ],
   "source": [
    "current.isoformat()"
   ]
  },
  {
   "cell_type": "code",
   "execution_count": 9,
   "metadata": {},
   "outputs": [],
   "source": [
    "log_record = {'time':datetime.utcnow().isoformat(),\n",
    "             'message':'testing'}"
   ]
  },
  {
   "cell_type": "code",
   "execution_count": 10,
   "metadata": {},
   "outputs": [
    {
     "name": "stdout",
     "output_type": "stream",
     "text": [
      "{\n",
      "  \"time\": \"2020-03-15T13:10:57.272283\",\n",
      "  \"message\": \"testing\"\n",
      "}\n"
     ]
    }
   ],
   "source": [
    "print(json.dumps(log_record,indent=2))"
   ]
  },
  {
   "cell_type": "code",
   "execution_count": 11,
   "metadata": {},
   "outputs": [],
   "source": [
    "log_record = {'time':datetime.utcnow(),\n",
    "             'message':'testing'}"
   ]
  },
  {
   "cell_type": "code",
   "execution_count": 13,
   "metadata": {},
   "outputs": [
    {
     "data": {
      "text/plain": [
       "'{\"time\": \"2020-03-15T13:13:06\", \"message\": \"testing\"}'"
      ]
     },
     "execution_count": 13,
     "metadata": {},
     "output_type": "execute_result"
    }
   ],
   "source": [
    "json.dumps(log_record,default = format_iso)"
   ]
  },
  {
   "cell_type": "code",
   "execution_count": 14,
   "metadata": {},
   "outputs": [],
   "source": [
    "def format_general(arg):\n",
    "    return 'Unknown serialization'"
   ]
  },
  {
   "cell_type": "code",
   "execution_count": 15,
   "metadata": {},
   "outputs": [
    {
     "data": {
      "text/plain": [
       "'{\"time\": \"Unknown serialization\", \"message\": \"testing\"}'"
      ]
     },
     "execution_count": 15,
     "metadata": {},
     "output_type": "execute_result"
    }
   ],
   "source": [
    "json.dumps(log_record,default = format_general)"
   ]
  },
  {
   "cell_type": "code",
   "execution_count": 16,
   "metadata": {},
   "outputs": [],
   "source": [
    "log_record = {'time':datetime.utcnow(),\n",
    "             'message':'testing',\n",
    "             'arg':{10,\"test\"}}"
   ]
  },
  {
   "cell_type": "code",
   "execution_count": 18,
   "metadata": {},
   "outputs": [
    {
     "data": {
      "text/plain": [
       "'{\"time\": \"Unknown serialization\", \"message\": \"testing\", \"arg\": \"Unknown serialization\"}'"
      ]
     },
     "execution_count": 18,
     "metadata": {},
     "output_type": "execute_result"
    }
   ],
   "source": [
    "json.dumps(log_record,default= format_general)"
   ]
  },
  {
   "cell_type": "code",
   "execution_count": 19,
   "metadata": {},
   "outputs": [],
   "source": [
    "log_record = {\n",
    "    'time1':datetime.utcnow(),\n",
    "    'time2':datetime.utcnow(),\n",
    "    'message':'Testing'\n",
    "}"
   ]
  },
  {
   "cell_type": "code",
   "execution_count": 20,
   "metadata": {},
   "outputs": [
    {
     "data": {
      "text/plain": [
       "'{\"time1\": \"2020-03-15T13:17:41\", \"time2\": \"2020-03-15T13:17:41\", \"message\": \"Testing\"}'"
      ]
     },
     "execution_count": 20,
     "metadata": {},
     "output_type": "execute_result"
    }
   ],
   "source": [
    "json.dumps(log_record,default = format_iso)"
   ]
  },
  {
   "cell_type": "code",
   "execution_count": 21,
   "metadata": {},
   "outputs": [],
   "source": [
    "def custom_json_formatter(arg):\n",
    "    if isinstance(arg,datetime):\n",
    "        return arg.isoformat()\n",
    "    elif isinstance(arg,set):\n",
    "        return list(arg)"
   ]
  },
  {
   "cell_type": "code",
   "execution_count": 22,
   "metadata": {},
   "outputs": [
    {
     "data": {
      "text/plain": [
       "'{\"time1\": \"2020-03-15T13:17:41.601686\", \"time2\": \"2020-03-15T13:17:41.601688\", \"message\": \"Testing\"}'"
      ]
     },
     "execution_count": 22,
     "metadata": {},
     "output_type": "execute_result"
    }
   ],
   "source": [
    "json.dumps(log_record,default = custom_json_formatter)"
   ]
  },
  {
   "cell_type": "code",
   "execution_count": 28,
   "metadata": {},
   "outputs": [],
   "source": [
    "class Person:\n",
    "    def __init__(self,name,age):\n",
    "        self.name = name\n",
    "        self.age = age\n",
    "        self.create_dt = datetime.utcnow()\n",
    "        \n",
    "    def __repr__(self):\n",
    "        return f'Person(name ={self.name}, age = {self.age})'\n",
    "    \n",
    "    def toJSON(self):\n",
    "        return{\n",
    "            'name':self.name,\n",
    "            'age':self.age,\n",
    "            'create_dt':self.create_dt.isoformat()\n",
    "            \n",
    "        }"
   ]
  },
  {
   "cell_type": "code",
   "execution_count": 29,
   "metadata": {},
   "outputs": [
    {
     "name": "stdout",
     "output_type": "stream",
     "text": [
      "Person(name =Dean, age = 35)\n"
     ]
    }
   ],
   "source": [
    "p = Person('Dean',35)\n",
    "print(p)"
   ]
  },
  {
   "cell_type": "code",
   "execution_count": 30,
   "metadata": {},
   "outputs": [
    {
     "data": {
      "text/plain": [
       "{'name': 'Dean', 'age': 35, 'create_dt': '2020-03-15T13:26:22.892531'}"
      ]
     },
     "execution_count": 30,
     "metadata": {},
     "output_type": "execute_result"
    }
   ],
   "source": [
    "p.toJSON()"
   ]
  },
  {
   "cell_type": "code",
   "execution_count": 31,
   "metadata": {},
   "outputs": [],
   "source": [
    "log_record = dict(time = datetime.utcnow(),\n",
    "                 message = 'Created new person record.',\n",
    "                 peson=p\n",
    "                 )"
   ]
  },
  {
   "cell_type": "code",
   "execution_count": 32,
   "metadata": {},
   "outputs": [
    {
     "data": {
      "text/plain": [
       "{'time': datetime.datetime(2020, 3, 15, 13, 27, 19, 952003),\n",
       " 'message': 'Created new person record.',\n",
       " 'peson': Person(name =Dean, age = 35)}"
      ]
     },
     "execution_count": 32,
     "metadata": {},
     "output_type": "execute_result"
    }
   ],
   "source": [
    "log_record"
   ]
  },
  {
   "cell_type": "code",
   "execution_count": 35,
   "metadata": {},
   "outputs": [
    {
     "data": {
      "text/plain": [
       "'{\"time\": \"2020-03-15T13:27:19.952003\", \"message\": \"Created new person record.\", \"peson\": null}'"
      ]
     },
     "execution_count": 35,
     "metadata": {},
     "output_type": "execute_result"
    }
   ],
   "source": [
    "json.dumps(log_record,default = custom_json_formatter)"
   ]
  },
  {
   "cell_type": "code",
   "execution_count": 38,
   "metadata": {},
   "outputs": [],
   "source": [
    "def custom_json_formatter(arg):\n",
    "    if isinstance(arg,datetime):\n",
    "        return arg.isoformat()\n",
    "    elif isinstance(arg,set):\n",
    "        return list(arg)\n",
    "    elif isinstance(arg,Person):\n",
    "        return arg.toJSON()"
   ]
  },
  {
   "cell_type": "code",
   "execution_count": 39,
   "metadata": {},
   "outputs": [
    {
     "data": {
      "text/plain": [
       "'{\"time\": \"2020-03-15T13:27:19.952003\", \"message\": \"Created new person record.\", \"peson\": {\"name\": \"Dean\", \"age\": 35, \"create_dt\": \"2020-03-15T13:26:22.892531\"}}'"
      ]
     },
     "execution_count": 39,
     "metadata": {},
     "output_type": "execute_result"
    }
   ],
   "source": [
    "json.dumps(log_record,default = custom_json_formatter)"
   ]
  },
  {
   "cell_type": "code",
   "execution_count": 40,
   "metadata": {},
   "outputs": [],
   "source": [
    "class Person:\n",
    "    def __init__(self,name,age):\n",
    "        self.name = name\n",
    "        self.age = age\n",
    "        self.create_dt = datetime.utcnow()\n",
    "        \n",
    "    def __repr__(self):\n",
    "        return f'Person(name ={self.name}, age = {self.age})'\n",
    "    \n",
    "    def toJSON(self):\n",
    "        return{\n",
    "            'name':self.name,\n",
    "            'age':self.age,\n",
    "            'create_dt':self.create_dt\n",
    "            \n",
    "        }"
   ]
  },
  {
   "cell_type": "code",
   "execution_count": 42,
   "metadata": {},
   "outputs": [],
   "source": [
    "p = Person('Python',20)"
   ]
  },
  {
   "cell_type": "code",
   "execution_count": 43,
   "metadata": {},
   "outputs": [],
   "source": [
    "log_record = dict(time = datetime.utcnow(),\n",
    "                 message = 'Created new person record.',\n",
    "                 person=p\n",
    "                 )"
   ]
  },
  {
   "cell_type": "code",
   "execution_count": 44,
   "metadata": {},
   "outputs": [
    {
     "data": {
      "text/plain": [
       "'{\"time\": \"2020-03-15T13:31:00.714457\", \"message\": \"Created new person record.\", \"person\": {\"name\": \"Python\", \"age\": 20, \"create_dt\": \"2020-03-15T13:30:41.797411\"}}'"
      ]
     },
     "execution_count": 44,
     "metadata": {},
     "output_type": "execute_result"
    }
   ],
   "source": [
    "json.dumps(log_record,default = custom_json_formatter)"
   ]
  },
  {
   "cell_type": "code",
   "execution_count": 45,
   "metadata": {},
   "outputs": [],
   "source": [
    "class Point:\n",
    "    def __init__(self,x,y):\n",
    "        self.x = x\n",
    "        self.y = y\n",
    "        \n",
    "    def __repr__(self):\n",
    "        return f'Point(x={self.x}, y={self.y})'"
   ]
  },
  {
   "cell_type": "code",
   "execution_count": 47,
   "metadata": {},
   "outputs": [],
   "source": [
    "def custom_json_formatter(arg):\n",
    "    if isinstance(arg,datetime):\n",
    "        return arg.isoformat()\n",
    "    elif isinstance(arg,set):\n",
    "        return list(arg)\n",
    "    else:\n",
    "        try:\n",
    "            return arg.toJSON()\n",
    "        except AttributeError:\n",
    "            try:\n",
    "                return vars(arg)\n",
    "            except TypeError:\n",
    "                return str(arg)\n",
    "\n",
    "        "
   ]
  },
  {
   "cell_type": "code",
   "execution_count": 49,
   "metadata": {},
   "outputs": [],
   "source": [
    "from decimal import Decimal\n",
    "\n",
    "pt1 = Point(1,2)\n",
    "p =Person('Dean',35)\n",
    "pt2 = Point(Decimal('10.5'),Decimal(100.5))\n",
    "\n",
    "log_record = dict(time = datetime.utcnow(),\n",
    "                 message = 'Created new point',\n",
    "                 point = pt1,\n",
    "                 point_2 = pt2,\n",
    "                 created_by = p\n",
    "                 \n",
    "                 )"
   ]
  },
  {
   "cell_type": "code",
   "execution_count": 51,
   "metadata": {},
   "outputs": [
    {
     "data": {
      "text/plain": [
       "'{\"time\": \"2020-03-15T13:41:18.111419\", \"message\": \"Created new point\", \"point\": {\"x\": 1, \"y\": 2}, \"point_2\": {\"x\": \"10.5\", \"y\": \"100.5\"}, \"created_by\": {\"name\": \"Dean\", \"age\": 35, \"create_dt\": \"2020-03-15T13:41:18.111305\"}}'"
      ]
     },
     "execution_count": 51,
     "metadata": {},
     "output_type": "execute_result"
    }
   ],
   "source": [
    "json.dumps(log_record,default = custom_json_formatter)"
   ]
  },
  {
   "cell_type": "code",
   "execution_count": 52,
   "metadata": {},
   "outputs": [
    {
     "name": "stdout",
     "output_type": "stream",
     "text": [
      "{\"time\": \"2020-03-15T13:41:18.111419\", \"message\": \"Created new point\", \"point\": {\"x\": 1, \"y\": 2}, \"point_2\": {\"x\": \"10.5\", \"y\": \"100.5\"}, \"created_by\": {\"name\": \"Dean\", \"age\": 35, \"create_dt\": \"2020-03-15T13:41:18.111305\"}}\n"
     ]
    }
   ],
   "source": [
    "print(json.dumps(log_record,default = custom_json_formatter))"
   ]
  },
  {
   "cell_type": "code",
   "execution_count": 53,
   "metadata": {},
   "outputs": [],
   "source": [
    "from functools import singledispatch"
   ]
  },
  {
   "cell_type": "code",
   "execution_count": 55,
   "metadata": {},
   "outputs": [],
   "source": [
    "@singledispatch\n",
    "def json_format(arg):\n",
    "    print(arg)\n",
    "    try:\n",
    "        print('\\trying to use to toJSON()...')\n",
    "        return arg.toJSON()\n",
    "    except AttributeError:\n",
    "        print('\\tfailed - trying to use vars...')\n",
    "        try:\n",
    "            return vars(arg)\n",
    "        except TypeError:\n",
    "            print('\\tfailed - using string repr...')\n",
    "            return str(arg)\n"
   ]
  },
  {
   "cell_type": "code",
   "execution_count": 57,
   "metadata": {},
   "outputs": [],
   "source": [
    "@json_format.register(datetime)\n",
    "def _(arg):\n",
    "    return arg.isoformat()\n",
    "\n",
    "@json_format.register(set)\n",
    "def _(arg):\n",
    "    return list(arg)"
   ]
  },
  {
   "cell_type": "code",
   "execution_count": 58,
   "metadata": {},
   "outputs": [],
   "source": [
    "log_record = dict(time = datetime.utcnow(),\n",
    "                 message = 'Created new point',\n",
    "                 point = pt1,\n",
    "                 created_by = p\n",
    "                 \n",
    "                 )"
   ]
  },
  {
   "cell_type": "code",
   "execution_count": 59,
   "metadata": {},
   "outputs": [
    {
     "name": "stdout",
     "output_type": "stream",
     "text": [
      "Point(x=1, y=2)\n",
      "\trying to use to toJSON()...\n",
      "\tfailed - trying to use vars...\n",
      "Person(name =Dean, age = 35)\n",
      "\trying to use to toJSON()...\n",
      "{\n",
      "  \"time\": \"2020-03-15T13:49:04.322540\",\n",
      "  \"message\": \"Created new point\",\n",
      "  \"point\": {\n",
      "    \"x\": 1,\n",
      "    \"y\": 2\n",
      "  },\n",
      "  \"created_by\": {\n",
      "    \"name\": \"Dean\",\n",
      "    \"age\": 35,\n",
      "    \"create_dt\": \"2020-03-15T13:41:18.111305\"\n",
      "  }\n",
      "}\n"
     ]
    }
   ],
   "source": [
    "print(json.dumps(log_record,indent=2,default = json_format))"
   ]
  },
  {
   "cell_type": "code",
   "execution_count": 60,
   "metadata": {},
   "outputs": [],
   "source": [
    "from decimal import Decimal\n",
    "from fractions import Fraction"
   ]
  },
  {
   "cell_type": "code",
   "execution_count": 63,
   "metadata": {},
   "outputs": [],
   "source": [
    "d = dict(a= 1+1j,\n",
    "        b = Decimal('0.5'),\n",
    "        c = Fraction(1,3),\n",
    "        p = Person('Python',20),\n",
    "        pt=Point(0,0),\n",
    "        time = datetime.utcnow()\n",
    "        )"
   ]
  },
  {
   "cell_type": "code",
   "execution_count": 64,
   "metadata": {},
   "outputs": [
    {
     "data": {
      "text/plain": [
       "{'a': (1+1j),\n",
       " 'b': Decimal('0.5'),\n",
       " 'c': Fraction(1, 3),\n",
       " 'p': Person(name =Python, age = 20),\n",
       " 'pt': Point(x=0, y=0),\n",
       " 'time': datetime.datetime(2020, 3, 15, 13, 52, 5, 911201)}"
      ]
     },
     "execution_count": 64,
     "metadata": {},
     "output_type": "execute_result"
    }
   ],
   "source": [
    "d"
   ]
  },
  {
   "cell_type": "code",
   "execution_count": 67,
   "metadata": {},
   "outputs": [
    {
     "name": "stdout",
     "output_type": "stream",
     "text": [
      "(1+1j)\n",
      "\trying to use to toJSON()...\n",
      "\tfailed - trying to use vars...\n",
      "\tfailed - using string repr...\n",
      "0.5\n",
      "\trying to use to toJSON()...\n",
      "\tfailed - trying to use vars...\n",
      "\tfailed - using string repr...\n",
      "1/3\n",
      "\trying to use to toJSON()...\n",
      "\tfailed - trying to use vars...\n",
      "\tfailed - using string repr...\n",
      "Person(name =Python, age = 20)\n",
      "\trying to use to toJSON()...\n",
      "Point(x=0, y=0)\n",
      "\trying to use to toJSON()...\n",
      "\tfailed - trying to use vars...\n"
     ]
    },
    {
     "data": {
      "text/plain": [
       "'{\"a\": \"(1+1j)\", \"b\": \"0.5\", \"c\": \"1/3\", \"p\": {\"name\": \"Python\", \"age\": 20, \"create_dt\": \"2020-03-15T13:52:05.911197\"}, \"pt\": {\"x\": 0, \"y\": 0}, \"time\": \"2020-03-15T13:52:05.911201\"}'"
      ]
     },
     "execution_count": 67,
     "metadata": {},
     "output_type": "execute_result"
    }
   ],
   "source": [
    "json.dumps(d,default = json_format)"
   ]
  },
  {
   "cell_type": "code",
   "execution_count": 68,
   "metadata": {},
   "outputs": [
    {
     "name": "stdout",
     "output_type": "stream",
     "text": [
      "(1+1j)\n",
      "\trying to use to toJSON()...\n",
      "\tfailed - trying to use vars...\n",
      "\tfailed - using string repr...\n",
      "0.5\n",
      "\trying to use to toJSON()...\n",
      "\tfailed - trying to use vars...\n",
      "\tfailed - using string repr...\n",
      "1/3\n",
      "\trying to use to toJSON()...\n",
      "\tfailed - trying to use vars...\n",
      "\tfailed - using string repr...\n",
      "Person(name =Python, age = 20)\n",
      "\trying to use to toJSON()...\n",
      "Point(x=0, y=0)\n",
      "\trying to use to toJSON()...\n",
      "\tfailed - trying to use vars...\n",
      "{\n",
      "  \"a\": \"(1+1j)\",\n",
      "  \"b\": \"0.5\",\n",
      "  \"c\": \"1/3\",\n",
      "  \"p\": {\n",
      "    \"name\": \"Python\",\n",
      "    \"age\": 20,\n",
      "    \"create_dt\": \"2020-03-15T13:52:05.911197\"\n",
      "  },\n",
      "  \"pt\": {\n",
      "    \"x\": 0,\n",
      "    \"y\": 0\n",
      "  },\n",
      "  \"time\": \"2020-03-15T13:52:05.911201\"\n",
      "}\n"
     ]
    }
   ],
   "source": [
    "print(json.dumps(d,default = json_format,indent=2))"
   ]
  },
  {
   "cell_type": "code",
   "execution_count": 69,
   "metadata": {},
   "outputs": [],
   "source": [
    "@json_format.register(Decimal)\n",
    "def _(arg):\n",
    "    return f'Decimal({str(arg)})'"
   ]
  },
  {
   "cell_type": "code",
   "execution_count": 70,
   "metadata": {},
   "outputs": [
    {
     "name": "stdout",
     "output_type": "stream",
     "text": [
      "(1+1j)\n",
      "\trying to use to toJSON()...\n",
      "\tfailed - trying to use vars...\n",
      "\tfailed - using string repr...\n",
      "1/3\n",
      "\trying to use to toJSON()...\n",
      "\tfailed - trying to use vars...\n",
      "\tfailed - using string repr...\n",
      "Person(name =Python, age = 20)\n",
      "\trying to use to toJSON()...\n",
      "Point(x=0, y=0)\n",
      "\trying to use to toJSON()...\n",
      "\tfailed - trying to use vars...\n"
     ]
    },
    {
     "data": {
      "text/plain": [
       "'{\"a\": \"(1+1j)\", \"b\": \"Decimal(0.5)\", \"c\": \"1/3\", \"p\": {\"name\": \"Python\", \"age\": 20, \"create_dt\": \"2020-03-15T13:52:05.911197\"}, \"pt\": {\"x\": 0, \"y\": 0}, \"time\": \"2020-03-15T13:52:05.911201\"}'"
      ]
     },
     "execution_count": 70,
     "metadata": {},
     "output_type": "execute_result"
    }
   ],
   "source": [
    "json.dumps(d,default = json_format)"
   ]
  },
  {
   "cell_type": "code",
   "execution_count": null,
   "metadata": {},
   "outputs": [],
   "source": []
  }
 ],
 "metadata": {
  "kernelspec": {
   "display_name": "Python 3",
   "language": "python",
   "name": "python3"
  },
  "language_info": {
   "codemirror_mode": {
    "name": "ipython",
    "version": 3
   },
   "file_extension": ".py",
   "mimetype": "text/x-python",
   "name": "python",
   "nbconvert_exporter": "python",
   "pygments_lexer": "ipython3",
   "version": "3.6.0"
  }
 },
 "nbformat": 4,
 "nbformat_minor": 4
}
