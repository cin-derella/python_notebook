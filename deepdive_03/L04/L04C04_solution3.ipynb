{
 "cells": [
  {
   "cell_type": "code",
   "execution_count": 2,
   "metadata": {},
   "outputs": [],
   "source": [
    "d1 = {'python':10,'java':3,'c#':8,'javascript':15}\n",
    "d2 ={'java':10,'c++':10,'c#':4,'go':9,'python':6}\n",
    "d3 = {'erlang':5,'haskell':2,'python':1,'pascal':1}"
   ]
  },
  {
   "cell_type": "code",
   "execution_count": 4,
   "metadata": {},
   "outputs": [],
   "source": [
    "def merge(*dicts):\n",
    "    unsorted ={}\n",
    "    for d in dicts:\n",
    "        for k,v in d.items():\n",
    "            unsorted[k] = unsorted.get(k,0)+v\n",
    "    return unsorted"
   ]
  },
  {
   "cell_type": "code",
   "execution_count": 5,
   "metadata": {},
   "outputs": [
    {
     "data": {
      "text/plain": [
       "{'python': 16, 'java': 13, 'c#': 12, 'javascript': 15, 'c++': 10, 'go': 9}"
      ]
     },
     "execution_count": 5,
     "metadata": {},
     "output_type": "execute_result"
    }
   ],
   "source": [
    "merge(d1,d2)"
   ]
  },
  {
   "cell_type": "code",
   "execution_count": 6,
   "metadata": {},
   "outputs": [
    {
     "data": {
      "text/plain": [
       "{'python': 17,\n",
       " 'java': 13,\n",
       " 'c#': 12,\n",
       " 'javascript': 15,\n",
       " 'c++': 10,\n",
       " 'go': 9,\n",
       " 'erlang': 5,\n",
       " 'haskell': 2,\n",
       " 'pascal': 1}"
      ]
     },
     "execution_count": 6,
     "metadata": {},
     "output_type": "execute_result"
    }
   ],
   "source": [
    "merge(d1,d2,d3)"
   ]
  },
  {
   "cell_type": "code",
   "execution_count": 13,
   "metadata": {},
   "outputs": [],
   "source": [
    "def merge(*dicts):\n",
    "    unsorted ={}\n",
    "    for d in dicts:\n",
    "        for k,v in d.items():\n",
    "            unsorted[k] = unsorted.get(k,0)+v\n",
    "    return sorted(unsorted.items(),key=lambda el:el[1],reverse = True)"
   ]
  },
  {
   "cell_type": "code",
   "execution_count": 14,
   "metadata": {},
   "outputs": [
    {
     "data": {
      "text/plain": [
       "[('python', 16),\n",
       " ('javascript', 15),\n",
       " ('java', 13),\n",
       " ('c#', 12),\n",
       " ('c++', 10),\n",
       " ('go', 9)]"
      ]
     },
     "execution_count": 14,
     "metadata": {},
     "output_type": "execute_result"
    }
   ],
   "source": [
    "merge(d1,d2)"
   ]
  },
  {
   "cell_type": "code",
   "execution_count": null,
   "metadata": {},
   "outputs": [],
   "source": []
  }
 ],
 "metadata": {
  "kernelspec": {
   "display_name": "Python 3",
   "language": "python",
   "name": "python3"
  },
  "language_info": {
   "codemirror_mode": {
    "name": "ipython",
    "version": 3
   },
   "file_extension": ".py",
   "mimetype": "text/x-python",
   "name": "python",
   "nbconvert_exporter": "python",
   "pygments_lexer": "ipython3",
   "version": "3.6.0"
  }
 },
 "nbformat": 4,
 "nbformat_minor": 4
}
