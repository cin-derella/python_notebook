{
 "cells": [
  {
   "cell_type": "code",
   "execution_count": 1,
   "metadata": {},
   "outputs": [],
   "source": [
    "n1={'employees':100,'employee':5000,'users':10,'user':100}\n",
    "n2 = {'employees':250,'users':22,'user':230}\n",
    "n3={'employees':150,'users':4,'login':1000}"
   ]
  },
  {
   "cell_type": "code",
   "execution_count": 3,
   "metadata": {},
   "outputs": [],
   "source": [
    "union=n1.keys()|n2.keys()|n3.keys()\n",
    "intersection = n1.keys()& n2.keys()&n3.keys()"
   ]
  },
  {
   "cell_type": "code",
   "execution_count": 4,
   "metadata": {},
   "outputs": [
    {
     "data": {
      "text/plain": [
       "({'employee', 'employees', 'login', 'user', 'users'},\n",
       " {'employees', 'users'},\n",
       " {'employee', 'login', 'user'})"
      ]
     },
     "execution_count": 4,
     "metadata": {},
     "output_type": "execute_result"
    }
   ],
   "source": [
    "union,intersection,union-intersection"
   ]
  },
  {
   "cell_type": "code",
   "execution_count": 13,
   "metadata": {},
   "outputs": [],
   "source": [
    "def identify(node1,node2,node3):\n",
    "    union = node1.keys()|node2.keys()|node3.keys()\n",
    "    intersection =  node1.keys()&node2.keys()&node3.keys()\n",
    "    \n",
    "    relevant = union-intersection\n",
    "    \n",
    "    results = {\n",
    "        key:(node1.get(key,0),node2.get(key,0),node3.get(key,0))\n",
    "        for key in relevant\n",
    "    }\n",
    "    return results"
   ]
  },
  {
   "cell_type": "code",
   "execution_count": 14,
   "metadata": {},
   "outputs": [
    {
     "data": {
      "text/plain": [
       "{'login': (0, 0, 1000), 'user': (100, 230, 0), 'employee': (5000, 0, 0)}"
      ]
     },
     "execution_count": 14,
     "metadata": {},
     "output_type": "execute_result"
    }
   ],
   "source": [
    "identify(n1,n2,n3)"
   ]
  },
  {
   "cell_type": "code",
   "execution_count": null,
   "metadata": {},
   "outputs": [],
   "source": []
  }
 ],
 "metadata": {
  "kernelspec": {
   "display_name": "Python 3",
   "language": "python",
   "name": "python3"
  },
  "language_info": {
   "codemirror_mode": {
    "name": "ipython",
    "version": 3
   },
   "file_extension": ".py",
   "mimetype": "text/x-python",
   "name": "python",
   "nbconvert_exporter": "python",
   "pygments_lexer": "ipython3",
   "version": "3.6.0"
  }
 },
 "nbformat": 4,
 "nbformat_minor": 4
}
