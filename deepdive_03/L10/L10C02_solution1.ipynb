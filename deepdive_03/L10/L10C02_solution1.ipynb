{
 "cells": [
  {
   "cell_type": "code",
   "execution_count": 1,
   "metadata": {},
   "outputs": [],
   "source": [
    "d1= {'python':10,'java':3,'c#':8,'javascript':15}\n",
    "d2= {'java':10,'c++':10,'go':9,'python':6}\n",
    "d3= {'erlang':5,'haskell':2,'python':1,'pascal':1}"
   ]
  },
  {
   "cell_type": "code",
   "execution_count": 2,
   "metadata": {},
   "outputs": [],
   "source": [
    "def merge(*dict):\n",
    "    unsorted={}\n",
    "    for d in dicts:\n",
    "        for k,v in d.items():\n",
    "            unsorted[k] = unsorted.get(k,0)+v\n",
    "            \n",
    "    return dict(sorted(unsorted.items(),key = lambda e: e[1],reverse = True))"
   ]
  },
  {
   "cell_type": "code",
   "execution_count": 3,
   "metadata": {},
   "outputs": [],
   "source": [
    "from collections import defaultdict"
   ]
  },
  {
   "cell_type": "code",
   "execution_count": 4,
   "metadata": {},
   "outputs": [],
   "source": [
    "def merge(*dicts):\n",
    "    unsorted=defaultdict(int)\n",
    "    for d in dicts:\n",
    "        for k,v in d.items():\n",
    "            unsorted[k] += v\n",
    "            \n",
    "    return dict(sorted(unsorted.items(),key = lambda e: e[1],reverse = True))   "
   ]
  },
  {
   "cell_type": "code",
   "execution_count": 5,
   "metadata": {},
   "outputs": [
    {
     "data": {
      "text/plain": [
       "{'python': 17,\n",
       " 'javascript': 15,\n",
       " 'java': 13,\n",
       " 'c++': 10,\n",
       " 'go': 9,\n",
       " 'c#': 8,\n",
       " 'erlang': 5,\n",
       " 'haskell': 2,\n",
       " 'pascal': 1}"
      ]
     },
     "execution_count": 5,
     "metadata": {},
     "output_type": "execute_result"
    }
   ],
   "source": [
    "merge(d1,d2,d3)"
   ]
  },
  {
   "cell_type": "code",
   "execution_count": 6,
   "metadata": {},
   "outputs": [],
   "source": [
    "from collections import Counter"
   ]
  },
  {
   "cell_type": "code",
   "execution_count": 13,
   "metadata": {},
   "outputs": [],
   "source": [
    "d1= {'python':10,'java':3,'c#':8,'javascript':15}\n",
    "d2= {'java':10,'c++':10,'go':9,'python':6}\n",
    "d3= {'erlang':5,'haskell':2,'python':1,'pascal':1}\n",
    "\n",
    "def merge(*dicts):\n",
    "    unsorted=Counter()\n",
    "    for d in dicts:\n",
    "        unsorted.update(d)\n",
    "            \n",
    "    return  dict(sorted(unsorted.items(),key = lambda e: e[1],reverse = True))"
   ]
  },
  {
   "cell_type": "code",
   "execution_count": 14,
   "metadata": {},
   "outputs": [
    {
     "data": {
      "text/plain": [
       "{'python': 17,\n",
       " 'javascript': 15,\n",
       " 'java': 13,\n",
       " 'c++': 10,\n",
       " 'go': 9,\n",
       " 'c#': 8,\n",
       " 'erlang': 5,\n",
       " 'haskell': 2,\n",
       " 'pascal': 1}"
      ]
     },
     "execution_count": 14,
     "metadata": {},
     "output_type": "execute_result"
    }
   ],
   "source": [
    "merge(d1,d2,d3)\n"
   ]
  },
  {
   "cell_type": "code",
   "execution_count": 15,
   "metadata": {},
   "outputs": [
    {
     "data": {
      "text/plain": [
       "{'modula-2': 100,\n",
       " 'python': 17,\n",
       " 'javascript': 15,\n",
       " 'java': 13,\n",
       " 'c++': 10,\n",
       " 'go': 9,\n",
       " 'c#': 8,\n",
       " 'erlang': 5,\n",
       " 'haskell': 2,\n",
       " 'pascal': 1}"
      ]
     },
     "execution_count": 15,
     "metadata": {},
     "output_type": "execute_result"
    }
   ],
   "source": [
    "d4 = {'modula-2':100}\n",
    "merge(d1,d2,d3,d4)"
   ]
  },
  {
   "cell_type": "code",
   "execution_count": 16,
   "metadata": {},
   "outputs": [],
   "source": [
    "result = merge(d1,d2,d3,d4)"
   ]
  },
  {
   "cell_type": "code",
   "execution_count": 17,
   "metadata": {},
   "outputs": [
    {
     "data": {
      "text/plain": [
       "{'modula-2': 100,\n",
       " 'python': 17,\n",
       " 'javascript': 15,\n",
       " 'java': 13,\n",
       " 'c++': 10,\n",
       " 'go': 9,\n",
       " 'c#': 8,\n",
       " 'erlang': 5,\n",
       " 'haskell': 2,\n",
       " 'pascal': 1}"
      ]
     },
     "execution_count": 17,
     "metadata": {},
     "output_type": "execute_result"
    }
   ],
   "source": [
    "result"
   ]
  },
  {
   "cell_type": "code",
   "execution_count": 18,
   "metadata": {},
   "outputs": [
    {
     "ename": "AttributeError",
     "evalue": "'dict' object has no attribute 'most_common'",
     "output_type": "error",
     "traceback": [
      "\u001b[0;31m---------------------------------------------------------------------------\u001b[0m",
      "\u001b[0;31mAttributeError\u001b[0m                            Traceback (most recent call last)",
      "\u001b[0;32m<ipython-input-18-41a59b742656>\u001b[0m in \u001b[0;36m<module>\u001b[0;34m\u001b[0m\n\u001b[0;32m----> 1\u001b[0;31m \u001b[0mmerge\u001b[0m\u001b[0;34m(\u001b[0m\u001b[0md1\u001b[0m\u001b[0;34m,\u001b[0m\u001b[0md2\u001b[0m\u001b[0;34m,\u001b[0m\u001b[0md3\u001b[0m\u001b[0;34m,\u001b[0m\u001b[0md4\u001b[0m\u001b[0;34m)\u001b[0m\u001b[0;34m.\u001b[0m\u001b[0mmost_common\u001b[0m\u001b[0;34m(\u001b[0m\u001b[0;36m4\u001b[0m\u001b[0;34m)\u001b[0m\u001b[0;34m\u001b[0m\u001b[0m\n\u001b[0m",
      "\u001b[0;31mAttributeError\u001b[0m: 'dict' object has no attribute 'most_common'"
     ]
    }
   ],
   "source": [
    "merge(d1,d2,d3,d4).most_common(4)"
   ]
  },
  {
   "cell_type": "code",
   "execution_count": 19,
   "metadata": {},
   "outputs": [],
   "source": [
    "def merge(*dicts):\n",
    "    unsorted=Counter()\n",
    "    for d in dicts:\n",
    "        unsorted.update(d)\n",
    "            \n",
    "    return  unsorted"
   ]
  },
  {
   "cell_type": "code",
   "execution_count": 20,
   "metadata": {},
   "outputs": [],
   "source": [
    "result = merge(d1,d2,d3,d4)"
   ]
  },
  {
   "cell_type": "code",
   "execution_count": 26,
   "metadata": {},
   "outputs": [
    {
     "data": {
      "text/plain": [
       "Counter({'python': 17,\n",
       "         'java': 13,\n",
       "         'c#': 8,\n",
       "         'javascript': 15,\n",
       "         'c++': 10,\n",
       "         'go': 9,\n",
       "         'erlang': 5,\n",
       "         'haskell': 2,\n",
       "         'pascal': 1,\n",
       "         'modula-2': 100})"
      ]
     },
     "execution_count": 26,
     "metadata": {},
     "output_type": "execute_result"
    }
   ],
   "source": [
    "result\n"
   ]
  },
  {
   "cell_type": "code",
   "execution_count": 24,
   "metadata": {},
   "outputs": [
    {
     "data": {
      "text/plain": [
       "[('modula-2', 100),\n",
       " ('python', 17),\n",
       " ('javascript', 15),\n",
       " ('java', 13),\n",
       " ('c++', 10),\n",
       " ('go', 9),\n",
       " ('c#', 8),\n",
       " ('erlang', 5),\n",
       " ('haskell', 2),\n",
       " ('pascal', 1)]"
      ]
     },
     "execution_count": 24,
     "metadata": {},
     "output_type": "execute_result"
    }
   ],
   "source": [
    "result.most_common()"
   ]
  },
  {
   "cell_type": "code",
   "execution_count": 27,
   "metadata": {},
   "outputs": [
    {
     "data": {
      "text/plain": [
       "{'modula-2': 100,\n",
       " 'python': 17,\n",
       " 'javascript': 15,\n",
       " 'java': 13,\n",
       " 'c++': 10,\n",
       " 'go': 9,\n",
       " 'c#': 8,\n",
       " 'erlang': 5,\n",
       " 'haskell': 2,\n",
       " 'pascal': 1}"
      ]
     },
     "execution_count": 27,
     "metadata": {},
     "output_type": "execute_result"
    }
   ],
   "source": [
    "dict(result.most_common())"
   ]
  },
  {
   "cell_type": "code",
   "execution_count": 28,
   "metadata": {},
   "outputs": [],
   "source": [
    "def merge(*dicts):\n",
    "    unsorted=Counter()\n",
    "    for d in dicts:\n",
    "        unsorted.update(d)\n",
    "            \n",
    "    return  dict(unsorted.most_common())"
   ]
  },
  {
   "cell_type": "code",
   "execution_count": 29,
   "metadata": {},
   "outputs": [
    {
     "data": {
      "text/plain": [
       "{'modula-2': 100,\n",
       " 'python': 17,\n",
       " 'javascript': 15,\n",
       " 'java': 13,\n",
       " 'c++': 10,\n",
       " 'go': 9,\n",
       " 'c#': 8,\n",
       " 'erlang': 5,\n",
       " 'haskell': 2,\n",
       " 'pascal': 1}"
      ]
     },
     "execution_count": 29,
     "metadata": {},
     "output_type": "execute_result"
    }
   ],
   "source": [
    "merge(d1,d2,d3,d4)"
   ]
  },
  {
   "cell_type": "code",
   "execution_count": null,
   "metadata": {},
   "outputs": [],
   "source": []
  }
 ],
 "metadata": {
  "kernelspec": {
   "display_name": "Python 3",
   "language": "python",
   "name": "python3"
  },
  "language_info": {
   "codemirror_mode": {
    "name": "ipython",
    "version": 3
   },
   "file_extension": ".py",
   "mimetype": "text/x-python",
   "name": "python",
   "nbconvert_exporter": "python",
   "pygments_lexer": "ipython3",
   "version": "3.6.0"
  }
 },
 "nbformat": 4,
 "nbformat_minor": 4
}
