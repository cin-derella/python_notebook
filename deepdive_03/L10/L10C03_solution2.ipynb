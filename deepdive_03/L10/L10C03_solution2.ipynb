{
 "cells": [
  {
   "cell_type": "code",
   "execution_count": 8,
   "metadata": {},
   "outputs": [],
   "source": [
    "eye_colors = (\"amber\",\"blue\",\"brown\",\"gray\",\"green\",\"hazel\",\"red\",\"violet\")"
   ]
  },
  {
   "cell_type": "code",
   "execution_count": 9,
   "metadata": {},
   "outputs": [],
   "source": [
    "class Person:\n",
    "    def __init__(self,eye_color):\n",
    "        self.eye_color = eye_color\n",
    "        "
   ]
  },
  {
   "cell_type": "code",
   "execution_count": 10,
   "metadata": {},
   "outputs": [],
   "source": [
    "from random import seed,choices\n",
    "seed(0)\n",
    "persons = [Person(color) for color in choices(eye_colors[2:],k=50)]\n"
   ]
  },
  {
   "cell_type": "code",
   "execution_count": 11,
   "metadata": {},
   "outputs": [],
   "source": [
    "from collections import Counter\n"
   ]
  },
  {
   "cell_type": "code",
   "execution_count": 12,
   "metadata": {},
   "outputs": [],
   "source": [
    "counts = Counter(p.eye_color for p in persons)"
   ]
  },
  {
   "cell_type": "code",
   "execution_count": 13,
   "metadata": {},
   "outputs": [
    {
     "data": {
      "text/plain": [
       "Counter({'violet': 12,\n",
       "         'red': 10,\n",
       "         'green': 8,\n",
       "         'gray': 10,\n",
       "         'hazel': 7,\n",
       "         'brown': 3})"
      ]
     },
     "execution_count": 13,
     "metadata": {},
     "output_type": "execute_result"
    }
   ],
   "source": [
    "counts"
   ]
  },
  {
   "cell_type": "code",
   "execution_count": 14,
   "metadata": {},
   "outputs": [],
   "source": [
    "result = {color:counts.get(color,0) for color in eye_colors}"
   ]
  },
  {
   "cell_type": "code",
   "execution_count": 15,
   "metadata": {},
   "outputs": [
    {
     "data": {
      "text/plain": [
       "{'amber': 0,\n",
       " 'blue': 0,\n",
       " 'brown': 3,\n",
       " 'gray': 10,\n",
       " 'green': 8,\n",
       " 'hazel': 7,\n",
       " 'red': 10,\n",
       " 'violet': 12}"
      ]
     },
     "execution_count": 15,
     "metadata": {},
     "output_type": "execute_result"
    }
   ],
   "source": [
    "result"
   ]
  },
  {
   "cell_type": "code",
   "execution_count": 16,
   "metadata": {},
   "outputs": [],
   "source": [
    "counts = Counter({color:0 for color in eye_colors})"
   ]
  },
  {
   "cell_type": "code",
   "execution_count": 17,
   "metadata": {},
   "outputs": [
    {
     "data": {
      "text/plain": [
       "Counter({'amber': 0,\n",
       "         'blue': 0,\n",
       "         'brown': 0,\n",
       "         'gray': 0,\n",
       "         'green': 0,\n",
       "         'hazel': 0,\n",
       "         'red': 0,\n",
       "         'violet': 0})"
      ]
     },
     "execution_count": 17,
     "metadata": {},
     "output_type": "execute_result"
    }
   ],
   "source": [
    "counts"
   ]
  },
  {
   "cell_type": "code",
   "execution_count": 18,
   "metadata": {},
   "outputs": [],
   "source": [
    "counts.update(p.eye_color for p in persons)"
   ]
  },
  {
   "cell_type": "code",
   "execution_count": 19,
   "metadata": {},
   "outputs": [
    {
     "data": {
      "text/plain": [
       "Counter({'amber': 0,\n",
       "         'blue': 0,\n",
       "         'brown': 3,\n",
       "         'gray': 10,\n",
       "         'green': 8,\n",
       "         'hazel': 7,\n",
       "         'red': 10,\n",
       "         'violet': 12})"
      ]
     },
     "execution_count": 19,
     "metadata": {},
     "output_type": "execute_result"
    }
   ],
   "source": [
    "counts"
   ]
  },
  {
   "cell_type": "code",
   "execution_count": 24,
   "metadata": {},
   "outputs": [],
   "source": [
    "def count_eye_color(persons,possible_eye_colors):\n",
    "    counts = Counter({color:0 for color in possible_eye_colors})\n",
    "    counts.update(p.eye_color for p in persons)\n",
    "    return counts.most_common()"
   ]
  },
  {
   "cell_type": "code",
   "execution_count": 25,
   "metadata": {},
   "outputs": [
    {
     "data": {
      "text/plain": [
       "[('violet', 12),\n",
       " ('gray', 10),\n",
       " ('red', 10),\n",
       " ('green', 8),\n",
       " ('hazel', 7),\n",
       " ('brown', 3),\n",
       " ('amber', 0),\n",
       " ('blue', 0)]"
      ]
     },
     "execution_count": 25,
     "metadata": {},
     "output_type": "execute_result"
    }
   ],
   "source": [
    "count_eye_color(persons,eye_colors)"
   ]
  },
  {
   "cell_type": "code",
   "execution_count": null,
   "metadata": {},
   "outputs": [],
   "source": []
  }
 ],
 "metadata": {
  "kernelspec": {
   "display_name": "Python 3",
   "language": "python",
   "name": "python3"
  },
  "language_info": {
   "codemirror_mode": {
    "name": "ipython",
    "version": 3
   },
   "file_extension": ".py",
   "mimetype": "text/x-python",
   "name": "python",
   "nbconvert_exporter": "python",
   "pygments_lexer": "ipython3",
   "version": "3.6.0"
  }
 },
 "nbformat": 4,
 "nbformat_minor": 4
}
