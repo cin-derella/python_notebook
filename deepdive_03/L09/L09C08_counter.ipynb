{
 "cells": [
  {
   "cell_type": "code",
   "execution_count": 1,
   "metadata": {},
   "outputs": [],
   "source": [
    "from collections import defaultdict,Counter"
   ]
  },
  {
   "cell_type": "code",
   "execution_count": 2,
   "metadata": {},
   "outputs": [],
   "source": [
    "sentence = 'the quick brown fox junmps over the lazy dog'\n",
    "counter = defaultdict(int)"
   ]
  },
  {
   "cell_type": "code",
   "execution_count": 3,
   "metadata": {},
   "outputs": [],
   "source": [
    "for c in sentence:\n",
    "    counter[c]+=1"
   ]
  },
  {
   "cell_type": "code",
   "execution_count": 4,
   "metadata": {},
   "outputs": [
    {
     "data": {
      "text/plain": [
       "defaultdict(int,\n",
       "            {'t': 2,\n",
       "             'h': 2,\n",
       "             'e': 3,\n",
       "             ' ': 8,\n",
       "             'q': 1,\n",
       "             'u': 2,\n",
       "             'i': 1,\n",
       "             'c': 1,\n",
       "             'k': 1,\n",
       "             'b': 1,\n",
       "             'r': 2,\n",
       "             'o': 4,\n",
       "             'w': 1,\n",
       "             'n': 2,\n",
       "             'f': 1,\n",
       "             'x': 1,\n",
       "             'j': 1,\n",
       "             'm': 1,\n",
       "             'p': 1,\n",
       "             's': 1,\n",
       "             'v': 1,\n",
       "             'l': 1,\n",
       "             'a': 1,\n",
       "             'z': 1,\n",
       "             'y': 1,\n",
       "             'd': 1,\n",
       "             'g': 1})"
      ]
     },
     "execution_count": 4,
     "metadata": {},
     "output_type": "execute_result"
    }
   ],
   "source": [
    "counter"
   ]
  },
  {
   "cell_type": "code",
   "execution_count": 5,
   "metadata": {},
   "outputs": [],
   "source": [
    "counter = Counter()\n",
    "for c in sentence:\n",
    "    counter[c]+=1"
   ]
  },
  {
   "cell_type": "code",
   "execution_count": 6,
   "metadata": {},
   "outputs": [
    {
     "data": {
      "text/plain": [
       "Counter({'t': 2,\n",
       "         'h': 2,\n",
       "         'e': 3,\n",
       "         ' ': 8,\n",
       "         'q': 1,\n",
       "         'u': 2,\n",
       "         'i': 1,\n",
       "         'c': 1,\n",
       "         'k': 1,\n",
       "         'b': 1,\n",
       "         'r': 2,\n",
       "         'o': 4,\n",
       "         'w': 1,\n",
       "         'n': 2,\n",
       "         'f': 1,\n",
       "         'x': 1,\n",
       "         'j': 1,\n",
       "         'm': 1,\n",
       "         'p': 1,\n",
       "         's': 1,\n",
       "         'v': 1,\n",
       "         'l': 1,\n",
       "         'a': 1,\n",
       "         'z': 1,\n",
       "         'y': 1,\n",
       "         'd': 1,\n",
       "         'g': 1})"
      ]
     },
     "execution_count": 6,
     "metadata": {},
     "output_type": "execute_result"
    }
   ],
   "source": [
    "counter"
   ]
  },
  {
   "cell_type": "code",
   "execution_count": 7,
   "metadata": {},
   "outputs": [],
   "source": [
    "c1 = Counter('able was I ere i saw elba')"
   ]
  },
  {
   "cell_type": "code",
   "execution_count": 8,
   "metadata": {},
   "outputs": [
    {
     "data": {
      "text/plain": [
       "Counter({'a': 4,\n",
       "         'b': 2,\n",
       "         'l': 2,\n",
       "         'e': 4,\n",
       "         ' ': 6,\n",
       "         'w': 2,\n",
       "         's': 2,\n",
       "         'I': 1,\n",
       "         'r': 1,\n",
       "         'i': 1})"
      ]
     },
     "execution_count": 8,
     "metadata": {},
     "output_type": "execute_result"
    }
   ],
   "source": [
    "c1"
   ]
  },
  {
   "cell_type": "code",
   "execution_count": 10,
   "metadata": {},
   "outputs": [],
   "source": [
    "c1 = Counter([1,23,4,4,5,4,5])"
   ]
  },
  {
   "cell_type": "code",
   "execution_count": 11,
   "metadata": {},
   "outputs": [
    {
     "data": {
      "text/plain": [
       "Counter({1: 1, 23: 1, 4: 3, 5: 2})"
      ]
     },
     "execution_count": 11,
     "metadata": {},
     "output_type": "execute_result"
    }
   ],
   "source": [
    "c1"
   ]
  },
  {
   "cell_type": "code",
   "execution_count": 12,
   "metadata": {},
   "outputs": [],
   "source": [
    "import random\n",
    "random.seed(0)"
   ]
  },
  {
   "cell_type": "code",
   "execution_count": 19,
   "metadata": {},
   "outputs": [],
   "source": [
    "my_list = [random.randint(0,10) for _ in range(1_000)]\n",
    "c2 = Counter(my_list)"
   ]
  },
  {
   "cell_type": "code",
   "execution_count": 14,
   "metadata": {},
   "outputs": [
    {
     "data": {
      "text/plain": [
       "Counter({6: 95,\n",
       "         0: 97,\n",
       "         4: 91,\n",
       "         8: 76,\n",
       "         7: 94,\n",
       "         5: 89,\n",
       "         9: 85,\n",
       "         3: 80,\n",
       "         2: 88,\n",
       "         1: 107,\n",
       "         10: 98})"
      ]
     },
     "execution_count": 14,
     "metadata": {},
     "output_type": "execute_result"
    }
   ],
   "source": [
    "c2"
   ]
  },
  {
   "cell_type": "code",
   "execution_count": 15,
   "metadata": {},
   "outputs": [],
   "source": [
    "c2 = Counter(a=1,b=2)"
   ]
  },
  {
   "cell_type": "code",
   "execution_count": 16,
   "metadata": {},
   "outputs": [
    {
     "data": {
      "text/plain": [
       "Counter({'a': 1, 'b': 2})"
      ]
     },
     "execution_count": 16,
     "metadata": {},
     "output_type": "execute_result"
    }
   ],
   "source": [
    "c2"
   ]
  },
  {
   "cell_type": "code",
   "execution_count": 18,
   "metadata": {},
   "outputs": [],
   "source": [
    "import re"
   ]
  },
  {
   "cell_type": "code",
   "execution_count": 20,
   "metadata": {},
   "outputs": [],
   "source": [
    "sentence = '''\n",
    "Python is an interpreted, high-level, general-purpose programming language. Created by Guido van Rossum and first released in 1991, Python's design philosophy emphasizes code readability with its notable use of significant whitespace. Its language constructs and object-oriented approach aim to help programmers write clear, logical code for small and large-scale projects.[28]\n",
    "\n",
    "Python is dynamically typed and garbage-collected. It supports multiple programming paradigms, including procedural, object-oriented, and functional programming. Python is often described as a \"batteries included\" language due to its comprehensive standard library.[29] \n",
    "'''"
   ]
  },
  {
   "cell_type": "code",
   "execution_count": 21,
   "metadata": {},
   "outputs": [],
   "source": [
    "words = re.split('\\W',sentence)"
   ]
  },
  {
   "cell_type": "code",
   "execution_count": 22,
   "metadata": {},
   "outputs": [
    {
     "data": {
      "text/plain": [
       "list"
      ]
     },
     "execution_count": 22,
     "metadata": {},
     "output_type": "execute_result"
    }
   ],
   "source": [
    "type(words)"
   ]
  },
  {
   "cell_type": "code",
   "execution_count": 23,
   "metadata": {},
   "outputs": [
    {
     "data": {
      "text/plain": [
       "['',\n",
       " 'Python',\n",
       " 'is',\n",
       " 'an',\n",
       " 'interpreted',\n",
       " '',\n",
       " 'high',\n",
       " 'level',\n",
       " '',\n",
       " 'general',\n",
       " 'purpose',\n",
       " 'programming',\n",
       " 'language',\n",
       " '',\n",
       " 'Created',\n",
       " 'by',\n",
       " 'Guido',\n",
       " 'van',\n",
       " 'Rossum',\n",
       " 'and',\n",
       " 'first',\n",
       " 'released',\n",
       " 'in',\n",
       " '1991',\n",
       " '',\n",
       " 'Python',\n",
       " 's',\n",
       " 'design',\n",
       " 'philosophy',\n",
       " 'emphasizes',\n",
       " 'code',\n",
       " 'readability',\n",
       " 'with',\n",
       " 'its',\n",
       " 'notable',\n",
       " 'use',\n",
       " 'of',\n",
       " 'significant',\n",
       " 'whitespace',\n",
       " '',\n",
       " 'Its',\n",
       " 'language',\n",
       " 'constructs',\n",
       " 'and',\n",
       " 'object',\n",
       " 'oriented',\n",
       " 'approach',\n",
       " 'aim',\n",
       " 'to',\n",
       " 'help',\n",
       " 'programmers',\n",
       " 'write',\n",
       " 'clear',\n",
       " '',\n",
       " 'logical',\n",
       " 'code',\n",
       " 'for',\n",
       " 'small',\n",
       " 'and',\n",
       " 'large',\n",
       " 'scale',\n",
       " 'projects',\n",
       " '',\n",
       " '28',\n",
       " '',\n",
       " '',\n",
       " 'Python',\n",
       " 'is',\n",
       " 'dynamically',\n",
       " 'typed',\n",
       " 'and',\n",
       " 'garbage',\n",
       " 'collected',\n",
       " '',\n",
       " 'It',\n",
       " 'supports',\n",
       " 'multiple',\n",
       " 'programming',\n",
       " 'paradigms',\n",
       " '',\n",
       " 'including',\n",
       " 'procedural',\n",
       " '',\n",
       " 'object',\n",
       " 'oriented',\n",
       " '',\n",
       " 'and',\n",
       " 'functional',\n",
       " 'programming',\n",
       " '',\n",
       " 'Python',\n",
       " 'is',\n",
       " 'often',\n",
       " 'described',\n",
       " 'as',\n",
       " 'a',\n",
       " '',\n",
       " 'batteries',\n",
       " 'included',\n",
       " '',\n",
       " 'language',\n",
       " 'due',\n",
       " 'to',\n",
       " 'its',\n",
       " 'comprehensive',\n",
       " 'standard',\n",
       " 'library',\n",
       " '',\n",
       " '29',\n",
       " '',\n",
       " '',\n",
       " '']"
      ]
     },
     "execution_count": 23,
     "metadata": {},
     "output_type": "execute_result"
    }
   ],
   "source": [
    "words"
   ]
  },
  {
   "cell_type": "code",
   "execution_count": 24,
   "metadata": {},
   "outputs": [],
   "source": [
    "word_count = Counter(words)"
   ]
  },
  {
   "cell_type": "code",
   "execution_count": 25,
   "metadata": {},
   "outputs": [
    {
     "data": {
      "text/plain": [
       "Counter({'': 21,\n",
       "         'Python': 4,\n",
       "         'is': 3,\n",
       "         'an': 1,\n",
       "         'interpreted': 1,\n",
       "         'high': 1,\n",
       "         'level': 1,\n",
       "         'general': 1,\n",
       "         'purpose': 1,\n",
       "         'programming': 3,\n",
       "         'language': 3,\n",
       "         'Created': 1,\n",
       "         'by': 1,\n",
       "         'Guido': 1,\n",
       "         'van': 1,\n",
       "         'Rossum': 1,\n",
       "         'and': 5,\n",
       "         'first': 1,\n",
       "         'released': 1,\n",
       "         'in': 1,\n",
       "         '1991': 1,\n",
       "         's': 1,\n",
       "         'design': 1,\n",
       "         'philosophy': 1,\n",
       "         'emphasizes': 1,\n",
       "         'code': 2,\n",
       "         'readability': 1,\n",
       "         'with': 1,\n",
       "         'its': 2,\n",
       "         'notable': 1,\n",
       "         'use': 1,\n",
       "         'of': 1,\n",
       "         'significant': 1,\n",
       "         'whitespace': 1,\n",
       "         'Its': 1,\n",
       "         'constructs': 1,\n",
       "         'object': 2,\n",
       "         'oriented': 2,\n",
       "         'approach': 1,\n",
       "         'aim': 1,\n",
       "         'to': 2,\n",
       "         'help': 1,\n",
       "         'programmers': 1,\n",
       "         'write': 1,\n",
       "         'clear': 1,\n",
       "         'logical': 1,\n",
       "         'for': 1,\n",
       "         'small': 1,\n",
       "         'large': 1,\n",
       "         'scale': 1,\n",
       "         'projects': 1,\n",
       "         '28': 1,\n",
       "         'dynamically': 1,\n",
       "         'typed': 1,\n",
       "         'garbage': 1,\n",
       "         'collected': 1,\n",
       "         'It': 1,\n",
       "         'supports': 1,\n",
       "         'multiple': 1,\n",
       "         'paradigms': 1,\n",
       "         'including': 1,\n",
       "         'procedural': 1,\n",
       "         'functional': 1,\n",
       "         'often': 1,\n",
       "         'described': 1,\n",
       "         'as': 1,\n",
       "         'a': 1,\n",
       "         'batteries': 1,\n",
       "         'included': 1,\n",
       "         'due': 1,\n",
       "         'comprehensive': 1,\n",
       "         'standard': 1,\n",
       "         'library': 1,\n",
       "         '29': 1})"
      ]
     },
     "execution_count": 25,
     "metadata": {},
     "output_type": "execute_result"
    }
   ],
   "source": [
    "word_count"
   ]
  },
  {
   "cell_type": "code",
   "execution_count": 26,
   "metadata": {},
   "outputs": [
    {
     "data": {
      "text/plain": [
       "[('', 21), ('and', 5), ('Python', 4), ('is', 3), ('programming', 3)]"
      ]
     },
     "execution_count": 26,
     "metadata": {},
     "output_type": "execute_result"
    }
   ],
   "source": [
    "word_count.most_common(5)"
   ]
  },
  {
   "cell_type": "code",
   "execution_count": 27,
   "metadata": {},
   "outputs": [
    {
     "data": {
      "text/plain": [
       "Counter({'a': 2, 'b': 2})"
      ]
     },
     "execution_count": 27,
     "metadata": {},
     "output_type": "execute_result"
    }
   ],
   "source": [
    "c1 = Counter('abba')\n",
    "c1"
   ]
  },
  {
   "cell_type": "code",
   "execution_count": 28,
   "metadata": {},
   "outputs": [
    {
     "name": "stdout",
     "output_type": "stream",
     "text": [
      "a\n",
      "b\n"
     ]
    }
   ],
   "source": [
    "for c in c1:\n",
    "    print(c)"
   ]
  },
  {
   "cell_type": "code",
   "execution_count": 29,
   "metadata": {},
   "outputs": [
    {
     "name": "stdout",
     "output_type": "stream",
     "text": [
      "a\n",
      "a\n",
      "b\n",
      "b\n"
     ]
    }
   ],
   "source": [
    "for c in c1.elements():\n",
    "    print(c)"
   ]
  },
  {
   "cell_type": "code",
   "execution_count": 31,
   "metadata": {},
   "outputs": [
    {
     "name": "stdout",
     "output_type": "stream",
     "text": [
      "[1, 2, 2, 3, 3, 3, 4, 4, 4, 4, 5, 5, 5, 5, 5, 6, 6, 6, 6, 6, 6, 7, 7, 7, 7, 7, 7, 7, 8, 8, 8, 8, 8, 8, 8, 8, 9, 9, 9, 9, 9, 9, 9, 9, 9, 10, 10, 10, 10, 10, 10, 10, 10, 10, 10]\n"
     ]
    }
   ],
   "source": [
    "l = []\n",
    "for i in range(1,11):\n",
    "    for _ in range(i):\n",
    "        l.append(i)\n",
    "print(l)"
   ]
  },
  {
   "cell_type": "code",
   "execution_count": 32,
   "metadata": {},
   "outputs": [],
   "source": [
    "c1 = Counter()\n",
    "for i in range(1,11):\n",
    "    c1[i]=i"
   ]
  },
  {
   "cell_type": "code",
   "execution_count": 33,
   "metadata": {},
   "outputs": [
    {
     "data": {
      "text/plain": [
       "Counter({1: 1, 2: 2, 3: 3, 4: 4, 5: 5, 6: 6, 7: 7, 8: 8, 9: 9, 10: 10})"
      ]
     },
     "execution_count": 33,
     "metadata": {},
     "output_type": "execute_result"
    }
   ],
   "source": [
    "c1"
   ]
  },
  {
   "cell_type": "code",
   "execution_count": 35,
   "metadata": {},
   "outputs": [
    {
     "name": "stdout",
     "output_type": "stream",
     "text": [
      "[1, 2, 2, 3, 3, 3, 4, 4, 4, 4, 5, 5, 5, 5, 5, 6, 6, 6, 6, 6, 6, 7, 7, 7, 7, 7, 7, 7, 8, 8, 8, 8, 8, 8, 8, 8, 9, 9, 9, 9, 9, 9, 9, 9, 9, 10, 10, 10, 10, 10, 10, 10, 10, 10, 10]\n"
     ]
    }
   ],
   "source": [
    "print(list(c1.elements()))"
   ]
  },
  {
   "cell_type": "code",
   "execution_count": 37,
   "metadata": {},
   "outputs": [
    {
     "data": {
      "text/plain": [
       "<itertools.chain at 0x111e89cf8>"
      ]
     },
     "execution_count": 37,
     "metadata": {},
     "output_type": "execute_result"
    }
   ],
   "source": [
    "c1.elements()"
   ]
  },
  {
   "cell_type": "code",
   "execution_count": 40,
   "metadata": {},
   "outputs": [],
   "source": [
    "class RepeatIterable:\n",
    "    def __init__(self,**kwargs):\n",
    "        self.d = kwargs\n",
    "        \n",
    "    def __setitem__(self,key,value):\n",
    "        self.d[key] = value\n",
    "        \n",
    "    def __getitem__(self,key):\n",
    "        self.d[key]=self.d.get(key,0)\n",
    "        return self.d[key]"
   ]
  },
  {
   "cell_type": "code",
   "execution_count": 41,
   "metadata": {},
   "outputs": [],
   "source": [
    "r = RepeatIterable(x=10,y=20)"
   ]
  },
  {
   "cell_type": "code",
   "execution_count": 42,
   "metadata": {},
   "outputs": [
    {
     "data": {
      "text/plain": [
       "{'x': 10, 'y': 20}"
      ]
     },
     "execution_count": 42,
     "metadata": {},
     "output_type": "execute_result"
    }
   ],
   "source": [
    "r.d"
   ]
  },
  {
   "cell_type": "code",
   "execution_count": 43,
   "metadata": {},
   "outputs": [
    {
     "data": {
      "text/plain": [
       "10"
      ]
     },
     "execution_count": 43,
     "metadata": {},
     "output_type": "execute_result"
    }
   ],
   "source": [
    "r['x']"
   ]
  },
  {
   "cell_type": "code",
   "execution_count": 44,
   "metadata": {},
   "outputs": [
    {
     "data": {
      "text/plain": [
       "{'x': 10, 'y': 100}"
      ]
     },
     "execution_count": 44,
     "metadata": {},
     "output_type": "execute_result"
    }
   ],
   "source": [
    "r['y']=100\n",
    "r.d"
   ]
  },
  {
   "cell_type": "code",
   "execution_count": 45,
   "metadata": {},
   "outputs": [],
   "source": [
    "class RepeatIterable:\n",
    "    def __init__(self,**kwargs):\n",
    "        self.d = kwargs\n",
    "        \n",
    "    def __setitem__(self,key,value):\n",
    "        self.d[key] = value\n",
    "        \n",
    "    def __getitem__(self,key):\n",
    "        self.d[key]=self.d.get(key,0)\n",
    "        return self.d[key]\n",
    "    \n",
    "    def elements(self):\n",
    "        for k,frequency in self.d.items():\n",
    "            for _ in range(frequency):\n",
    "                yield k"
   ]
  },
  {
   "cell_type": "code",
   "execution_count": 47,
   "metadata": {},
   "outputs": [],
   "source": [
    "r= RepeatIterable(a=2,b=3,c=1)\n"
   ]
  },
  {
   "cell_type": "code",
   "execution_count": 48,
   "metadata": {},
   "outputs": [
    {
     "name": "stdout",
     "output_type": "stream",
     "text": [
      "a\n",
      "a\n",
      "b\n",
      "b\n",
      "b\n",
      "c\n"
     ]
    }
   ],
   "source": [
    "for e in r.elements():\n",
    "    print(e)"
   ]
  },
  {
   "cell_type": "code",
   "execution_count": 49,
   "metadata": {},
   "outputs": [],
   "source": [
    "c1= Counter(a=1,b=2,c=3)\n",
    "c2 = Counter(b=1,c=2,d=3)"
   ]
  },
  {
   "cell_type": "code",
   "execution_count": 50,
   "metadata": {},
   "outputs": [
    {
     "name": "stdout",
     "output_type": "stream",
     "text": [
      "Counter({'c': 5, 'b': 3, 'd': 3, 'a': 1})\n"
     ]
    }
   ],
   "source": [
    "c1.update(c2)\n",
    "print(c1)"
   ]
  },
  {
   "cell_type": "code",
   "execution_count": 51,
   "metadata": {},
   "outputs": [],
   "source": [
    "c1 = Counter(a=1,b=2,c=3)\n",
    "c2 = Counter(a=1,b=2,c=3)"
   ]
  },
  {
   "cell_type": "code",
   "execution_count": 52,
   "metadata": {},
   "outputs": [
    {
     "name": "stdout",
     "output_type": "stream",
     "text": [
      "Counter({'a': 0, 'b': 0, 'c': 0})\n"
     ]
    }
   ],
   "source": [
    "c1.subtract(c2)\n",
    "print(c1)"
   ]
  },
  {
   "cell_type": "code",
   "execution_count": 55,
   "metadata": {},
   "outputs": [],
   "source": [
    "c1.subtract(c2)"
   ]
  },
  {
   "cell_type": "code",
   "execution_count": 56,
   "metadata": {},
   "outputs": [
    {
     "name": "stdout",
     "output_type": "stream",
     "text": [
      "Counter({'a': -1, 'b': -2, 'c': -3})\n"
     ]
    }
   ],
   "source": [
    "print(c1)"
   ]
  },
  {
   "cell_type": "code",
   "execution_count": 57,
   "metadata": {},
   "outputs": [
    {
     "name": "stdout",
     "output_type": "stream",
     "text": [
      "Counter({'a': 4, 'b': 3, 'f': 3, 'd': 2})\n",
      "Counter({'a': 5, 'b': 4, 'f': 4, 'd': 3, 'g': 1})\n"
     ]
    }
   ],
   "source": [
    "c1 = Counter('aabbbfafaddf')\n",
    "print(c1)\n",
    "c1.update('abdfg')\n",
    "print(c1)"
   ]
  },
  {
   "cell_type": "code",
   "execution_count": 58,
   "metadata": {},
   "outputs": [
    {
     "data": {
      "text/plain": [
       "Counter({'a': 3, 'b': 3, 'c': 3})"
      ]
     },
     "execution_count": 58,
     "metadata": {},
     "output_type": "execute_result"
    }
   ],
   "source": [
    "c1 = Counter('aabbcc')\n",
    "c2 = Counter('abc')\n",
    "c1+c2"
   ]
  },
  {
   "cell_type": "code",
   "execution_count": 59,
   "metadata": {},
   "outputs": [
    {
     "data": {
      "text/plain": [
       "Counter({'a': 1, 'b': 1, 'c': 1})"
      ]
     },
     "execution_count": 59,
     "metadata": {},
     "output_type": "execute_result"
    }
   ],
   "source": [
    "c1-c2"
   ]
  },
  {
   "cell_type": "code",
   "execution_count": 60,
   "metadata": {},
   "outputs": [],
   "source": [
    "c1 = Counter(a=5,b=1)\n",
    "c2 = Counter(a=1,b=10)\n"
   ]
  },
  {
   "cell_type": "code",
   "execution_count": 61,
   "metadata": {},
   "outputs": [
    {
     "data": {
      "text/plain": [
       "Counter({'a': 1, 'b': 1})"
      ]
     },
     "execution_count": 61,
     "metadata": {},
     "output_type": "execute_result"
    }
   ],
   "source": [
    "c1&c2"
   ]
  },
  {
   "cell_type": "code",
   "execution_count": 62,
   "metadata": {},
   "outputs": [
    {
     "data": {
      "text/plain": [
       "Counter({'a': 5, 'b': 10})"
      ]
     },
     "execution_count": 62,
     "metadata": {},
     "output_type": "execute_result"
    }
   ],
   "source": [
    "c1 | c2"
   ]
  },
  {
   "cell_type": "code",
   "execution_count": 64,
   "metadata": {},
   "outputs": [
    {
     "name": "stdout",
     "output_type": "stream",
     "text": [
      "Counter({'a': 10, 'c': 0, 'b': -10})\n"
     ]
    }
   ],
   "source": [
    "c1 = Counter(a=10,b=-10,c=0)\n",
    "print(c1)\n"
   ]
  },
  {
   "cell_type": "code",
   "execution_count": 65,
   "metadata": {},
   "outputs": [
    {
     "data": {
      "text/plain": [
       "Counter({'a': 10})"
      ]
     },
     "execution_count": 65,
     "metadata": {},
     "output_type": "execute_result"
    }
   ],
   "source": [
    "+c1"
   ]
  },
  {
   "cell_type": "code",
   "execution_count": 66,
   "metadata": {},
   "outputs": [
    {
     "data": {
      "text/plain": [
       "Counter({'a': 10, 'b': -10, 'c': 0})"
      ]
     },
     "execution_count": 66,
     "metadata": {},
     "output_type": "execute_result"
    }
   ],
   "source": [
    "c1"
   ]
  },
  {
   "cell_type": "code",
   "execution_count": 67,
   "metadata": {},
   "outputs": [
    {
     "data": {
      "text/plain": [
       "Counter({'b': 10})"
      ]
     },
     "execution_count": 67,
     "metadata": {},
     "output_type": "execute_result"
    }
   ],
   "source": [
    "-c1"
   ]
  },
  {
   "cell_type": "code",
   "execution_count": 69,
   "metadata": {},
   "outputs": [],
   "source": [
    "import random\n",
    "random.seed(0)\n",
    "\n",
    "widgets = ['battery','charger','cable','case','keyboard','mouse']\n",
    "orders = [(random.choice(widgets),random.randint(1,5))for _ in range(100)]\n",
    "refunds = [(random.choice(widgets),random.randint(1,5))for _ in range(20)]\n"
   ]
  },
  {
   "cell_type": "code",
   "execution_count": 71,
   "metadata": {},
   "outputs": [
    {
     "data": {
      "text/plain": [
       "[('battery', 2),\n",
       " ('charger', 3),\n",
       " ('keyboard', 3),\n",
       " ('battery', 5),\n",
       " ('case', 2),\n",
       " ('battery', 4),\n",
       " ('mouse', 4),\n",
       " ('keyboard', 5),\n",
       " ('cable', 3),\n",
       " ('case', 3),\n",
       " ('charger', 5),\n",
       " ('mouse', 1),\n",
       " ('case', 1),\n",
       " ('cable', 1),\n",
       " ('keyboard', 3),\n",
       " ('charger', 2),\n",
       " ('case', 3),\n",
       " ('keyboard', 3),\n",
       " ('mouse', 3),\n",
       " ('keyboard', 5)]"
      ]
     },
     "execution_count": 71,
     "metadata": {},
     "output_type": "execute_result"
    }
   ],
   "source": [
    "refunds"
   ]
  },
  {
   "cell_type": "code",
   "execution_count": 72,
   "metadata": {},
   "outputs": [],
   "source": [
    "sold_counter = Counter()\n",
    "refund_counter = Counter()\n",
    "\n",
    "for order in orders:\n",
    "    sold_counter[order[0]]+=order[1]\n",
    "\n",
    "for refund in refunds:\n",
    "    refund_counter[refunds[0]]+=order[1]"
   ]
  },
  {
   "cell_type": "code",
   "execution_count": 73,
   "metadata": {},
   "outputs": [
    {
     "data": {
      "text/plain": [
       "Counter({'case': 41,\n",
       "         'battery': 61,\n",
       "         'keyboard': 65,\n",
       "         'cable': 39,\n",
       "         'mouse': 46,\n",
       "         'charger': 35})"
      ]
     },
     "execution_count": 73,
     "metadata": {},
     "output_type": "execute_result"
    }
   ],
   "source": [
    "sold_counter"
   ]
  },
  {
   "cell_type": "code",
   "execution_count": 74,
   "metadata": {},
   "outputs": [
    {
     "data": {
      "text/plain": [
       "Counter({('battery', 2): 40})"
      ]
     },
     "execution_count": 74,
     "metadata": {},
     "output_type": "execute_result"
    }
   ],
   "source": [
    "refund_counter"
   ]
  },
  {
   "cell_type": "code",
   "execution_count": 75,
   "metadata": {},
   "outputs": [],
   "source": [
    "net_counter = sold_counter - refund_counter"
   ]
  },
  {
   "cell_type": "code",
   "execution_count": 76,
   "metadata": {},
   "outputs": [
    {
     "data": {
      "text/plain": [
       "Counter({'case': 41,\n",
       "         'battery': 61,\n",
       "         'keyboard': 65,\n",
       "         'cable': 39,\n",
       "         'mouse': 46,\n",
       "         'charger': 35})"
      ]
     },
     "execution_count": 76,
     "metadata": {},
     "output_type": "execute_result"
    }
   ],
   "source": [
    "net_counter"
   ]
  },
  {
   "cell_type": "code",
   "execution_count": 78,
   "metadata": {},
   "outputs": [
    {
     "data": {
      "text/plain": [
       "('case', 4)"
      ]
     },
     "execution_count": 78,
     "metadata": {},
     "output_type": "execute_result"
    }
   ],
   "source": [
    "orders[0]"
   ]
  },
  {
   "cell_type": "markdown",
   "metadata": {},
   "source": [
    "Counter(['case','case','case','case','battery','battery','battery'.....])\n"
   ]
  },
  {
   "cell_type": "code",
   "execution_count": 83,
   "metadata": {},
   "outputs": [
    {
     "data": {
      "text/plain": [
       "['battery', 'battery', 'battery']"
      ]
     },
     "execution_count": 83,
     "metadata": {},
     "output_type": "execute_result"
    }
   ],
   "source": [
    "from itertools import repeat,chain\n",
    "list(repeat('battery',3))"
   ]
  },
  {
   "cell_type": "code",
   "execution_count": 84,
   "metadata": {},
   "outputs": [
    {
     "data": {
      "text/plain": [
       "['keyboard', 'keyboard']"
      ]
     },
     "execution_count": 84,
     "metadata": {},
     "output_type": "execute_result"
    }
   ],
   "source": [
    "list(repeat(*orders[5]))"
   ]
  },
  {
   "cell_type": "code",
   "execution_count": 86,
   "metadata": {},
   "outputs": [
    {
     "data": {
      "text/plain": [
       "['case',\n",
       " 'case',\n",
       " 'case',\n",
       " 'case',\n",
       " 'battery',\n",
       " 'battery',\n",
       " 'battery',\n",
       " 'keyboard',\n",
       " 'keyboard',\n",
       " 'keyboard',\n",
       " 'keyboard',\n",
       " 'case',\n",
       " 'case',\n",
       " 'case',\n",
       " 'case',\n",
       " 'case',\n",
       " 'case',\n",
       " 'keyboard',\n",
       " 'keyboard',\n",
       " 'keyboard',\n",
       " 'keyboard',\n",
       " 'cable',\n",
       " 'cable',\n",
       " 'battery',\n",
       " 'battery',\n",
       " 'battery',\n",
       " 'battery',\n",
       " 'battery',\n",
       " 'cable',\n",
       " 'cable',\n",
       " 'cable',\n",
       " 'cable',\n",
       " 'cable',\n",
       " 'mouse',\n",
       " 'mouse',\n",
       " 'mouse',\n",
       " 'mouse',\n",
       " 'mouse',\n",
       " 'charger',\n",
       " 'charger',\n",
       " 'charger',\n",
       " 'battery',\n",
       " 'mouse',\n",
       " 'mouse',\n",
       " 'mouse',\n",
       " 'case',\n",
       " 'case',\n",
       " 'case',\n",
       " 'case',\n",
       " 'case',\n",
       " 'battery',\n",
       " 'battery',\n",
       " 'battery',\n",
       " 'case',\n",
       " 'case',\n",
       " 'case',\n",
       " 'keyboard',\n",
       " 'keyboard',\n",
       " 'keyboard',\n",
       " 'keyboard',\n",
       " 'keyboard',\n",
       " 'keyboard',\n",
       " 'case',\n",
       " 'case',\n",
       " 'case',\n",
       " 'case',\n",
       " 'case',\n",
       " 'cable',\n",
       " 'keyboard',\n",
       " 'battery',\n",
       " 'battery',\n",
       " 'battery',\n",
       " 'battery',\n",
       " 'mouse',\n",
       " 'keyboard',\n",
       " 'keyboard',\n",
       " 'keyboard',\n",
       " 'keyboard',\n",
       " 'cable',\n",
       " 'cable',\n",
       " 'mouse',\n",
       " 'mouse',\n",
       " 'mouse',\n",
       " 'mouse',\n",
       " 'charger',\n",
       " 'charger',\n",
       " 'charger',\n",
       " 'charger',\n",
       " 'charger',\n",
       " 'charger',\n",
       " 'charger',\n",
       " 'charger',\n",
       " 'charger',\n",
       " 'charger',\n",
       " 'charger',\n",
       " 'charger',\n",
       " 'case',\n",
       " 'battery',\n",
       " 'battery',\n",
       " 'battery',\n",
       " 'keyboard',\n",
       " 'keyboard',\n",
       " 'keyboard',\n",
       " 'keyboard',\n",
       " 'battery',\n",
       " 'battery',\n",
       " 'battery',\n",
       " 'keyboard',\n",
       " 'keyboard',\n",
       " 'keyboard',\n",
       " 'mouse',\n",
       " 'keyboard',\n",
       " 'keyboard',\n",
       " 'keyboard',\n",
       " 'keyboard',\n",
       " 'keyboard',\n",
       " 'keyboard',\n",
       " 'keyboard',\n",
       " 'keyboard',\n",
       " 'keyboard',\n",
       " 'keyboard',\n",
       " 'keyboard',\n",
       " 'keyboard',\n",
       " 'keyboard',\n",
       " 'case',\n",
       " 'keyboard',\n",
       " 'keyboard',\n",
       " 'keyboard',\n",
       " 'keyboard',\n",
       " 'cable',\n",
       " 'cable',\n",
       " 'cable',\n",
       " 'cable',\n",
       " 'cable',\n",
       " 'charger',\n",
       " 'charger',\n",
       " 'charger',\n",
       " 'charger',\n",
       " 'charger',\n",
       " 'charger',\n",
       " 'keyboard',\n",
       " 'keyboard',\n",
       " 'keyboard',\n",
       " 'case',\n",
       " 'battery',\n",
       " 'battery',\n",
       " 'charger',\n",
       " 'battery',\n",
       " 'battery',\n",
       " 'battery',\n",
       " 'battery',\n",
       " 'battery',\n",
       " 'mouse',\n",
       " 'mouse',\n",
       " 'mouse',\n",
       " 'mouse',\n",
       " 'mouse',\n",
       " 'mouse',\n",
       " 'mouse',\n",
       " 'mouse',\n",
       " 'mouse',\n",
       " 'cable',\n",
       " 'cable',\n",
       " 'cable',\n",
       " 'cable',\n",
       " 'cable',\n",
       " 'charger',\n",
       " 'charger',\n",
       " 'mouse',\n",
       " 'mouse',\n",
       " 'mouse',\n",
       " 'mouse',\n",
       " 'mouse',\n",
       " 'case',\n",
       " 'case',\n",
       " 'case',\n",
       " 'case',\n",
       " 'case',\n",
       " 'cable',\n",
       " 'cable',\n",
       " 'cable',\n",
       " 'cable',\n",
       " 'case',\n",
       " 'case',\n",
       " 'case',\n",
       " 'battery',\n",
       " 'battery',\n",
       " 'battery',\n",
       " 'keyboard',\n",
       " 'case',\n",
       " 'case',\n",
       " 'case',\n",
       " 'case',\n",
       " 'case',\n",
       " 'mouse',\n",
       " 'mouse',\n",
       " 'mouse',\n",
       " 'charger',\n",
       " 'charger',\n",
       " 'battery',\n",
       " 'battery',\n",
       " 'battery',\n",
       " 'battery',\n",
       " 'battery',\n",
       " 'cable',\n",
       " 'cable',\n",
       " 'cable',\n",
       " 'cable',\n",
       " 'cable',\n",
       " 'cable',\n",
       " 'battery',\n",
       " 'charger',\n",
       " 'charger',\n",
       " 'battery',\n",
       " 'battery',\n",
       " 'battery',\n",
       " 'battery',\n",
       " 'battery',\n",
       " 'mouse',\n",
       " 'mouse',\n",
       " 'mouse',\n",
       " 'mouse',\n",
       " 'mouse',\n",
       " 'keyboard',\n",
       " 'battery',\n",
       " 'mouse',\n",
       " 'mouse',\n",
       " 'keyboard',\n",
       " 'keyboard',\n",
       " 'keyboard',\n",
       " 'keyboard',\n",
       " 'keyboard',\n",
       " 'battery',\n",
       " 'battery',\n",
       " 'battery',\n",
       " 'battery',\n",
       " 'battery',\n",
       " 'battery',\n",
       " 'battery',\n",
       " 'battery',\n",
       " 'keyboard',\n",
       " 'charger',\n",
       " 'charger',\n",
       " 'mouse',\n",
       " 'case',\n",
       " 'case',\n",
       " 'mouse',\n",
       " 'mouse',\n",
       " 'keyboard',\n",
       " 'keyboard',\n",
       " 'keyboard',\n",
       " 'keyboard',\n",
       " 'keyboard',\n",
       " 'cable',\n",
       " 'charger',\n",
       " 'mouse',\n",
       " 'mouse',\n",
       " 'mouse',\n",
       " 'cable',\n",
       " 'cable',\n",
       " 'cable',\n",
       " 'cable',\n",
       " 'charger',\n",
       " 'keyboard',\n",
       " 'keyboard',\n",
       " 'keyboard',\n",
       " 'keyboard',\n",
       " 'battery',\n",
       " 'battery',\n",
       " 'battery',\n",
       " 'battery',\n",
       " 'battery',\n",
       " 'battery',\n",
       " 'battery',\n",
       " 'battery',\n",
       " 'battery',\n",
       " 'charger',\n",
       " 'charger',\n",
       " 'charger',\n",
       " 'cable',\n",
       " 'cable',\n",
       " 'cable',\n",
       " 'cable',\n",
       " 'keyboard',\n",
       " 'keyboard',\n",
       " 'mouse',\n",
       " 'mouse']"
      ]
     },
     "execution_count": 86,
     "metadata": {},
     "output_type": "execute_result"
    }
   ],
   "source": [
    "list(chain.from_iterable(repeat(*order) for order in orders))"
   ]
  },
  {
   "cell_type": "code",
   "execution_count": 88,
   "metadata": {},
   "outputs": [
    {
     "name": "stdout",
     "output_type": "stream",
     "text": [
      "[('battery', 50), ('keyboard', 46), ('mouse', 38)]\n"
     ]
    }
   ],
   "source": [
    "sold_counter = Counter(chain.from_iterable(repeat(*order) for order in orders))\n",
    "refund_counter = Counter(chain.from_iterable(repeat(*refund) for refund in refunds))\n",
    "net_counter =sold_counter - refund_counter\n",
    "print(net_counter.most_common(3))"
   ]
  },
  {
   "cell_type": "code",
   "execution_count": 90,
   "metadata": {},
   "outputs": [
    {
     "name": "stdout",
     "output_type": "stream",
     "text": [
      "[('keyboard', 65), ('battery', 61), ('mouse', 46)]\n"
     ]
    }
   ],
   "source": [
    "sold_counter = Counter()\n",
    "refund_counter = Counter()\n",
    "\n",
    "for order in orders:\n",
    "    sold_counter[order[0]]+=order[1]\n",
    "\n",
    "for refund in refunds:\n",
    "    refund_counter[refunds[0]]+=refund[1]\n",
    "    \n",
    "net_counter =sold_counter - refund_counter\n",
    "print(net_counter.most_common(3))"
   ]
  },
  {
   "cell_type": "code",
   "execution_count": 94,
   "metadata": {},
   "outputs": [
    {
     "data": {
      "text/plain": [
       "Counter({'b': 5})"
      ]
     },
     "execution_count": 94,
     "metadata": {},
     "output_type": "execute_result"
    }
   ],
   "source": [
    "c1 = Counter(a=2,b=10)\n",
    "c2 = Counter(a=10,b=5)\n",
    "c1-c2"
   ]
  },
  {
   "cell_type": "code",
   "execution_count": 97,
   "metadata": {},
   "outputs": [],
   "source": [
    "net_sales = {}\n",
    "for order in orders:\n",
    "    key = order[0]\n",
    "    cnt = order[1]\n",
    "    net_sales[key] = net_sales.get(key,0) +cnt\n",
    "    \n",
    "for refund in refunds:\n",
    "    key = refund[0]\n",
    "    cnt = refund[1]\n",
    "    net_sales[key] = net_sales.get(key,0)-cnt\n",
    "    \n",
    "net_sales = {k:v for k,v in net_sales.items() if v>0}\n",
    "\n",
    "sorted_net_sales = sorted(net_sales.items(),key = lambda t :t[1],reverse = True)"
   ]
  },
  {
   "cell_type": "code",
   "execution_count": 98,
   "metadata": {},
   "outputs": [
    {
     "data": {
      "text/plain": [
       "list"
      ]
     },
     "execution_count": 98,
     "metadata": {},
     "output_type": "execute_result"
    }
   ],
   "source": [
    "type(sorted_net_sales)"
   ]
  },
  {
   "cell_type": "code",
   "execution_count": 99,
   "metadata": {},
   "outputs": [
    {
     "data": {
      "text/plain": [
       "[('battery', 50), ('keyboard', 46), ('mouse', 38)]"
      ]
     },
     "execution_count": 99,
     "metadata": {},
     "output_type": "execute_result"
    }
   ],
   "source": [
    "sorted_net_sales[:3]"
   ]
  },
  {
   "cell_type": "code",
   "execution_count": 100,
   "metadata": {},
   "outputs": [
    {
     "data": {
      "text/plain": [
       "True"
      ]
     },
     "execution_count": 100,
     "metadata": {},
     "output_type": "execute_result"
    }
   ],
   "source": [
    "isinstance(c1,dict)"
   ]
  },
  {
   "cell_type": "code",
   "execution_count": null,
   "metadata": {},
   "outputs": [],
   "source": []
  }
 ],
 "metadata": {
  "kernelspec": {
   "display_name": "Python 3",
   "language": "python",
   "name": "python3"
  },
  "language_info": {
   "codemirror_mode": {
    "name": "ipython",
    "version": 3
   },
   "file_extension": ".py",
   "mimetype": "text/x-python",
   "name": "python",
   "nbconvert_exporter": "python",
   "pygments_lexer": "ipython3",
   "version": "3.6.0"
  }
 },
 "nbformat": 4,
 "nbformat_minor": 4
}
