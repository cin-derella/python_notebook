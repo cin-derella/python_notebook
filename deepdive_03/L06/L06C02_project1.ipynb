{
 "cells": [
  {
   "cell_type": "code",
   "execution_count": 14,
   "metadata": {},
   "outputs": [],
   "source": [
    "template = {\n",
    "    'user_id': int,\n",
    "    'name':{\n",
    "        'first':str,\n",
    "        'last':str\n",
    "    },\n",
    "    'bio':{\n",
    "        'dob':{\n",
    "            'year':int,\n",
    "            'month':int,\n",
    "            'day':int\n",
    "        },\n",
    "        'birthplace':{\n",
    "            'country':str,\n",
    "            'city':str\n",
    "        }\n",
    "    }\n",
    "}"
   ]
  },
  {
   "cell_type": "code",
   "execution_count": 15,
   "metadata": {},
   "outputs": [],
   "source": [
    "dean = {\n",
    "    'user_id': 100,\n",
    "    'name':{\n",
    "        'first':'Dean',\n",
    "        'last':'Winchester'\n",
    "    },\n",
    "    'bio':{\n",
    "        'dob':{\n",
    "            'year':1978,\n",
    "            'month':11,\n",
    "            'day':5\n",
    "        },\n",
    "        'birthplace':{\n",
    "            'country':'USA',\n",
    "        \n",
    "        }\n",
    "    }\n",
    "}"
   ]
  },
  {
   "cell_type": "code",
   "execution_count": 16,
   "metadata": {},
   "outputs": [],
   "source": [
    "sam = {\n",
    "    'user_id': 102,\n",
    "    'name':{\n",
    "        'first':'Sam',\n",
    "        'last':'Winchester'\n",
    "    },\n",
    "    'bio':{\n",
    "        'dob':{\n",
    "            'year':1982,\n",
    "            'month':'May',\n",
    "            'day':5\n",
    "        },\n",
    "        'birthplace':{\n",
    "            'country':'USA',\n",
    "            'city': 'San Antonio'\n",
    "        \n",
    "        }\n",
    "    }\n",
    "}"
   ]
  },
  {
   "cell_type": "code",
   "execution_count": 17,
   "metadata": {},
   "outputs": [],
   "source": [
    "cass = {\n",
    "    'user_id': 105,\n",
    "    'name':{\n",
    "        'first':'Cass',\n",
    "        'last':'Heaven'\n",
    "    },\n",
    "    'bio':{\n",
    "        'dob':{\n",
    "            'year':1000,\n",
    "            'month':1,\n",
    "            'day':5\n",
    "        },\n",
    "        'birthplace':{\n",
    "            'country':'Earth',\n",
    "            'city': 'Heaven'\n",
    "        \n",
    "        }\n",
    "    }\n",
    "}"
   ]
  },
  {
   "cell_type": "code",
   "execution_count": 18,
   "metadata": {},
   "outputs": [],
   "source": [
    "def match_keys(data, valid, path):\n",
    "    data_keys = data.keys()\n",
    "    valid_keys = valid.keys()\n",
    "    \n",
    "    extra_keys = data_keys - valid_keys\n",
    "    missing_keys = valid_keys - data_keys\n",
    "    \n",
    "    if missing_keys or extra_keys:\n",
    "        missing_msg = ('missing keys: '+\n",
    "                       ', '.join({path + '.'+str(key) \n",
    "                                  for key in missing_keys})\n",
    "                      ) if missing_keys else ''\n",
    "        extra_msg =  ('extra keys: '+\n",
    "                      ', '.join({path + '.'+str(key) \n",
    "                                 for key in extra_keys})\n",
    "                     ) if extra_keys else ''\n",
    "        return False,' '.join((missing_msg,extra_msg))\n",
    "    else:\n",
    "        return True,None"
   ]
  },
  {
   "cell_type": "code",
   "execution_count": 19,
   "metadata": {},
   "outputs": [
    {
     "name": "stdout",
     "output_type": "stream",
     "text": [
      "True None\n"
     ]
    }
   ],
   "source": [
    "t = {'a':int,'b':int,'c':int,'d':{}}\n",
    "d= {'a': 'wrong type','b':100,'c':200,'d':{'wrong','type'}}\n",
    "is_ok,err_msg = match_keys(d,t,'some.path')\n",
    "print(is_ok,err_msg)"
   ]
  },
  {
   "cell_type": "code",
   "execution_count": 20,
   "metadata": {},
   "outputs": [
    {
     "name": "stdout",
     "output_type": "stream",
     "text": [
      "False missing keys: some.path.d \n"
     ]
    }
   ],
   "source": [
    "t = {'a':int,'b':int,'c':int,'d':{}}\n",
    "d = {'a':None,'b':None,'c':None}\n",
    "is_ok,err_msg = match_keys(d,t,'some.path')\n",
    "print(is_ok,err_msg)"
   ]
  },
  {
   "cell_type": "code",
   "execution_count": 21,
   "metadata": {},
   "outputs": [
    {
     "name": "stdout",
     "output_type": "stream",
     "text": [
      "False missing keys: some.path.d extra keys: some.path.e\n"
     ]
    }
   ],
   "source": [
    "t = {'a':int,'b':int,'c':int,'d':{}}\n",
    "d = {'a':None,'b':None,'c':None,'e':None}\n",
    "is_ok,err_msg = match_keys(d,t,'some.path')\n",
    "print(is_ok,err_msg)"
   ]
  },
  {
   "cell_type": "code",
   "execution_count": 22,
   "metadata": {},
   "outputs": [
    {
     "name": "stdout",
     "output_type": "stream",
     "text": [
      "False missing keys: some.path.c, some.path.d extra keys: some.path.f, some.path.e\n"
     ]
    }
   ],
   "source": [
    "t = {'a':int,'b':int,'c':int,'d':{}}\n",
    "d = {'a':None,'b':None,'e':None,'f':None}\n",
    "is_ok,err_msg = match_keys(d,t,'some.path')\n",
    "print(is_ok,err_msg)"
   ]
  },
  {
   "cell_type": "code",
   "execution_count": 23,
   "metadata": {},
   "outputs": [],
   "source": [
    "def match_types(data,template,path):\n",
    "    for key,value in template.items():\n",
    "        if isinstance (value,dict):\n",
    "            template_type = dict\n",
    "        else:\n",
    "            template_type = value\n",
    "        \n",
    "        \n",
    "        data_value = data.get(key,object())\n",
    "        if not isinstance(data_value,template_type):\n",
    "            err_msg = ('incorrect type: '+path+'.'+key+\n",
    "                       '->expected' + template_type.__name__+\n",
    "                       ',found '+type(data_value).__name__)\n",
    "            return False, err_msg\n",
    "    return True,None"
   ]
  },
  {
   "cell_type": "code",
   "execution_count": 24,
   "metadata": {},
   "outputs": [
    {
     "data": {
      "text/plain": [
       "(True, None)"
      ]
     },
     "execution_count": 24,
     "metadata": {},
     "output_type": "execute_result"
    }
   ],
   "source": [
    "t = {'a':int,'b':str,'c':{'d':int}}\n",
    "d = {'a':100,'b':'test','c':{'some':'value'}}\n",
    "match_types(d,t,'some.path')"
   ]
  },
  {
   "cell_type": "code",
   "execution_count": 25,
   "metadata": {},
   "outputs": [
    {
     "data": {
      "text/plain": [
       "(False, 'incorrect type: some.path.c->expecteddict,found str')"
      ]
     },
     "execution_count": 25,
     "metadata": {},
     "output_type": "execute_result"
    }
   ],
   "source": [
    "t = {'a':int,'b':str,'c':{'d':int}}\n",
    "d = {'a':100,'b':'test','c':'unexpected'}\n",
    "match_types(d,t,'some.path')"
   ]
  },
  {
   "cell_type": "code",
   "execution_count": 26,
   "metadata": {},
   "outputs": [
    {
     "data": {
      "text/plain": [
       "(False, 'incorrect type: some.path.b->expectedstr,found int')"
      ]
     },
     "execution_count": 26,
     "metadata": {},
     "output_type": "execute_result"
    }
   ],
   "source": [
    "t = {'a':int,'b':str,'c':{'d':int}}\n",
    "d = {'a':100,'b':200,'c':{}}\n",
    "match_types(d,t,'some.path')"
   ]
  },
  {
   "cell_type": "code",
   "execution_count": 27,
   "metadata": {},
   "outputs": [],
   "source": [
    "def recurse_validate(data,template,path):\n",
    "    is_ok,err_msg = match_keys(data,template,path)\n",
    "    if not is_ok:\n",
    "        return False,err_msg\n",
    "    \n",
    "    is_ok,err_msg = match_types(data,template,path)\n",
    "    if not is_ok:\n",
    "        return False,err_msg\n",
    "    \n",
    "    dictionary_type_keys = {key for key,value in template.items()\n",
    "                           if isinstance(value,dict)}\n",
    "    \n",
    "    for key in dictionary_type_keys:\n",
    "        sub_path = path +'.'+str(key)\n",
    "        sub_template = template[key]\n",
    "        sub_data = data[key]\n",
    "        is_ok,err_msg = recurse_validate(sub_data,sub_template,sub_path)\n",
    "        \n",
    "        if not is_ok:\n",
    "            return False, err_msg\n",
    "        \n",
    "    return True,None"
   ]
  },
  {
   "cell_type": "code",
   "execution_count": 28,
   "metadata": {},
   "outputs": [
    {
     "name": "stdout",
     "output_type": "stream",
     "text": [
      "False missing keys: root.bio.birthplace.city \n"
     ]
    }
   ],
   "source": [
    "is_ok, err_msg = recurse_validate(dean,template,'root')\n",
    "print(is_ok, err_msg)\n"
   ]
  },
  {
   "cell_type": "code",
   "execution_count": 29,
   "metadata": {},
   "outputs": [
    {
     "name": "stdout",
     "output_type": "stream",
     "text": [
      "False incorrect type: root.bio.dob.month->expectedint,found str\n"
     ]
    }
   ],
   "source": [
    "is_ok, err_msg = recurse_validate(sam,template,'root')\n",
    "print(is_ok, err_msg)\n"
   ]
  },
  {
   "cell_type": "code",
   "execution_count": 30,
   "metadata": {},
   "outputs": [],
   "source": [
    "def validate(data,template):\n",
    "    return recurse_validate(data,template,'')"
   ]
  },
  {
   "cell_type": "code",
   "execution_count": 31,
   "metadata": {},
   "outputs": [],
   "source": [
    "persons = ((dean,'Dean'),(sam,'Sam'),(cass,'Cass'))"
   ]
  },
  {
   "cell_type": "code",
   "execution_count": 32,
   "metadata": {},
   "outputs": [
    {
     "name": "stdout",
     "output_type": "stream",
     "text": [
      "Dean:valide = False:missing keys: .bio.birthplace.city \n",
      "Sam:valide = False:incorrect type: .bio.dob.month->expectedint,found str\n",
      "Cass:valide = True:None\n"
     ]
    }
   ],
   "source": [
    "for person,name in persons:\n",
    "    is_ok,err_msg = validate(person,template)\n",
    "    print(f'{name}:valide = {is_ok}:{err_msg}')"
   ]
  },
  {
   "cell_type": "code",
   "execution_count": 33,
   "metadata": {},
   "outputs": [],
   "source": [
    "class SchemaError(Exception):\n",
    "    pass"
   ]
  },
  {
   "cell_type": "code",
   "execution_count": 34,
   "metadata": {},
   "outputs": [],
   "source": [
    "def validate(data,template):\n",
    "    is_ok,err_msg = recurse_validate(data,template, '')\n",
    "    if not is_ok:\n",
    "        raise SchemaError(err_msg)"
   ]
  },
  {
   "cell_type": "code",
   "execution_count": 35,
   "metadata": {},
   "outputs": [
    {
     "name": "stdout",
     "output_type": "stream",
     "text": [
      "Validation failed missing keys: .bio.birthplace.city \n"
     ]
    }
   ],
   "source": [
    "try:\n",
    "    for person,name in persons:\n",
    "        validate(person,template)\n",
    "except SchemaError as ex:\n",
    "    print('Validation failed',str(ex))"
   ]
  },
  {
   "cell_type": "code",
   "execution_count": 36,
   "metadata": {},
   "outputs": [
    {
     "ename": "SchemaError",
     "evalue": "missing keys: .bio.birthplace.city ",
     "output_type": "error",
     "traceback": [
      "\u001b[0;31m---------------------------------------------------------------------------\u001b[0m",
      "\u001b[0;31mSchemaError\u001b[0m                               Traceback (most recent call last)",
      "\u001b[0;32m<ipython-input-36-9b0830f7acf4>\u001b[0m in \u001b[0;36m<module>\u001b[0;34m\u001b[0m\n\u001b[0;32m----> 1\u001b[0;31m \u001b[0mvalidate\u001b[0m\u001b[0;34m(\u001b[0m\u001b[0mdean\u001b[0m\u001b[0;34m,\u001b[0m\u001b[0mtemplate\u001b[0m\u001b[0;34m)\u001b[0m\u001b[0;34m\u001b[0m\u001b[0m\n\u001b[0m",
      "\u001b[0;32m<ipython-input-34-d96b92440980>\u001b[0m in \u001b[0;36mvalidate\u001b[0;34m(data, template)\u001b[0m\n\u001b[1;32m      2\u001b[0m     \u001b[0mis_ok\u001b[0m\u001b[0;34m,\u001b[0m\u001b[0merr_msg\u001b[0m \u001b[0;34m=\u001b[0m \u001b[0mrecurse_validate\u001b[0m\u001b[0;34m(\u001b[0m\u001b[0mdata\u001b[0m\u001b[0;34m,\u001b[0m\u001b[0mtemplate\u001b[0m\u001b[0;34m,\u001b[0m \u001b[0;34m''\u001b[0m\u001b[0;34m)\u001b[0m\u001b[0;34m\u001b[0m\u001b[0m\n\u001b[1;32m      3\u001b[0m     \u001b[0;32mif\u001b[0m \u001b[0;32mnot\u001b[0m \u001b[0mis_ok\u001b[0m\u001b[0;34m:\u001b[0m\u001b[0;34m\u001b[0m\u001b[0m\n\u001b[0;32m----> 4\u001b[0;31m         \u001b[0;32mraise\u001b[0m \u001b[0mSchemaError\u001b[0m\u001b[0;34m(\u001b[0m\u001b[0merr_msg\u001b[0m\u001b[0;34m)\u001b[0m\u001b[0;34m\u001b[0m\u001b[0m\n\u001b[0m",
      "\u001b[0;31mSchemaError\u001b[0m: missing keys: .bio.birthplace.city "
     ]
    }
   ],
   "source": [
    "validate(dean,template)"
   ]
  },
  {
   "cell_type": "code",
   "execution_count": 37,
   "metadata": {},
   "outputs": [],
   "source": [
    "class SchemaKeyMismatch(SchemaError):\n",
    "    pass\n",
    "\n",
    "class SchemaTypeMismatch(SchemaError, TypeError):\n",
    "    pass"
   ]
  },
  {
   "cell_type": "code",
   "execution_count": 44,
   "metadata": {},
   "outputs": [],
   "source": [
    "def match_keys(data, valid, path):\n",
    "    data_keys = data.keys()\n",
    "    valid_keys = valid.keys()\n",
    "    \n",
    "    extra_keys = data_keys - valid_keys\n",
    "    missing_keys = valid_keys - data_keys\n",
    "    \n",
    "    if missing_keys or extra_keys:\n",
    "        missing_msg = ('missing keys: '+\n",
    "                       ', '.join({path + '.'+str(key) \n",
    "                                  for key in missing_keys})\n",
    "                      ) if missing_keys else ''\n",
    "        extra_msg =  ('extra keys: '+\n",
    "                      ', '.join({path + '.'+str(key) \n",
    "                                 for key in extra_keys})\n",
    "                     ) if extra_keys else ''\n",
    "        raise SchemaTypeMismatch(' '.join((missing_msg,extra_msg)))\n"
   ]
  },
  {
   "cell_type": "code",
   "execution_count": 39,
   "metadata": {},
   "outputs": [],
   "source": [
    "def match_types(data,template,path):\n",
    "    for key,value in template.items():\n",
    "        if isinstance (value,dict):\n",
    "            template_type = dict\n",
    "        else:\n",
    "            template_type = value\n",
    "        \n",
    "        \n",
    "        data_value = data.get(key,object())\n",
    "        if not isinstance(data_value,template_type):\n",
    "            err_msg = ('incorrect type: '+path+'.'+key+\n",
    "                       '->expected' + template_type.__name__+\n",
    "                       ',found '+type(data_value).__name__)\n",
    "            raise SchemaTypeMismatch(err_msg)\n"
   ]
  },
  {
   "cell_type": "code",
   "execution_count": 40,
   "metadata": {},
   "outputs": [],
   "source": [
    "def recurse_validate(data,template,path):\n",
    "    match_keys(data,template,path)\n",
    "    match_types(data,template,path)\n",
    "\n",
    "    dictionary_type_keys = {key for key,value in template.items()\n",
    "                           if isinstance(value,dict)}\n",
    "    \n",
    "    for key in dictionary_type_keys:\n",
    "        sub_path = path +'.'+str(key)\n",
    "        sub_template = template[key]\n",
    "        sub_data = data[key]\n",
    "        recurse_validate(sub_data,sub_template,sub_path)\n",
    "        \n"
   ]
  },
  {
   "cell_type": "code",
   "execution_count": 41,
   "metadata": {},
   "outputs": [],
   "source": [
    "def validate(data,template):\n",
    "    recurse_validate(data,template, '')\n"
   ]
  },
  {
   "cell_type": "code",
   "execution_count": 42,
   "metadata": {},
   "outputs": [],
   "source": [
    "validate(cass,template)"
   ]
  },
  {
   "cell_type": "code",
   "execution_count": 45,
   "metadata": {},
   "outputs": [
    {
     "ename": "SchemaTypeMismatch",
     "evalue": "missing keys: .bio.birthplace.city ",
     "output_type": "error",
     "traceback": [
      "\u001b[0;31m---------------------------------------------------------------------------\u001b[0m",
      "\u001b[0;31mSchemaTypeMismatch\u001b[0m                        Traceback (most recent call last)",
      "\u001b[0;32m<ipython-input-45-9b0830f7acf4>\u001b[0m in \u001b[0;36m<module>\u001b[0;34m\u001b[0m\n\u001b[0;32m----> 1\u001b[0;31m \u001b[0mvalidate\u001b[0m\u001b[0;34m(\u001b[0m\u001b[0mdean\u001b[0m\u001b[0;34m,\u001b[0m\u001b[0mtemplate\u001b[0m\u001b[0;34m)\u001b[0m\u001b[0;34m\u001b[0m\u001b[0m\n\u001b[0m",
      "\u001b[0;32m<ipython-input-41-7e1a07c2a2bd>\u001b[0m in \u001b[0;36mvalidate\u001b[0;34m(data, template)\u001b[0m\n\u001b[1;32m      1\u001b[0m \u001b[0;32mdef\u001b[0m \u001b[0mvalidate\u001b[0m\u001b[0;34m(\u001b[0m\u001b[0mdata\u001b[0m\u001b[0;34m,\u001b[0m\u001b[0mtemplate\u001b[0m\u001b[0;34m)\u001b[0m\u001b[0;34m:\u001b[0m\u001b[0;34m\u001b[0m\u001b[0m\n\u001b[0;32m----> 2\u001b[0;31m     \u001b[0mrecurse_validate\u001b[0m\u001b[0;34m(\u001b[0m\u001b[0mdata\u001b[0m\u001b[0;34m,\u001b[0m\u001b[0mtemplate\u001b[0m\u001b[0;34m,\u001b[0m \u001b[0;34m''\u001b[0m\u001b[0;34m)\u001b[0m\u001b[0;34m\u001b[0m\u001b[0m\n\u001b[0m",
      "\u001b[0;32m<ipython-input-40-ecece40dd6a3>\u001b[0m in \u001b[0;36mrecurse_validate\u001b[0;34m(data, template, path)\u001b[0m\n\u001b[1;32m     10\u001b[0m         \u001b[0msub_template\u001b[0m \u001b[0;34m=\u001b[0m \u001b[0mtemplate\u001b[0m\u001b[0;34m[\u001b[0m\u001b[0mkey\u001b[0m\u001b[0;34m]\u001b[0m\u001b[0;34m\u001b[0m\u001b[0m\n\u001b[1;32m     11\u001b[0m         \u001b[0msub_data\u001b[0m \u001b[0;34m=\u001b[0m \u001b[0mdata\u001b[0m\u001b[0;34m[\u001b[0m\u001b[0mkey\u001b[0m\u001b[0;34m]\u001b[0m\u001b[0;34m\u001b[0m\u001b[0m\n\u001b[0;32m---> 12\u001b[0;31m         \u001b[0mrecurse_validate\u001b[0m\u001b[0;34m(\u001b[0m\u001b[0msub_data\u001b[0m\u001b[0;34m,\u001b[0m\u001b[0msub_template\u001b[0m\u001b[0;34m,\u001b[0m\u001b[0msub_path\u001b[0m\u001b[0;34m)\u001b[0m\u001b[0;34m\u001b[0m\u001b[0m\n\u001b[0m\u001b[1;32m     13\u001b[0m \u001b[0;34m\u001b[0m\u001b[0m\n",
      "\u001b[0;32m<ipython-input-40-ecece40dd6a3>\u001b[0m in \u001b[0;36mrecurse_validate\u001b[0;34m(data, template, path)\u001b[0m\n\u001b[1;32m     10\u001b[0m         \u001b[0msub_template\u001b[0m \u001b[0;34m=\u001b[0m \u001b[0mtemplate\u001b[0m\u001b[0;34m[\u001b[0m\u001b[0mkey\u001b[0m\u001b[0;34m]\u001b[0m\u001b[0;34m\u001b[0m\u001b[0m\n\u001b[1;32m     11\u001b[0m         \u001b[0msub_data\u001b[0m \u001b[0;34m=\u001b[0m \u001b[0mdata\u001b[0m\u001b[0;34m[\u001b[0m\u001b[0mkey\u001b[0m\u001b[0;34m]\u001b[0m\u001b[0;34m\u001b[0m\u001b[0m\n\u001b[0;32m---> 12\u001b[0;31m         \u001b[0mrecurse_validate\u001b[0m\u001b[0;34m(\u001b[0m\u001b[0msub_data\u001b[0m\u001b[0;34m,\u001b[0m\u001b[0msub_template\u001b[0m\u001b[0;34m,\u001b[0m\u001b[0msub_path\u001b[0m\u001b[0;34m)\u001b[0m\u001b[0;34m\u001b[0m\u001b[0m\n\u001b[0m\u001b[1;32m     13\u001b[0m \u001b[0;34m\u001b[0m\u001b[0m\n",
      "\u001b[0;32m<ipython-input-40-ecece40dd6a3>\u001b[0m in \u001b[0;36mrecurse_validate\u001b[0;34m(data, template, path)\u001b[0m\n\u001b[1;32m      1\u001b[0m \u001b[0;32mdef\u001b[0m \u001b[0mrecurse_validate\u001b[0m\u001b[0;34m(\u001b[0m\u001b[0mdata\u001b[0m\u001b[0;34m,\u001b[0m\u001b[0mtemplate\u001b[0m\u001b[0;34m,\u001b[0m\u001b[0mpath\u001b[0m\u001b[0;34m)\u001b[0m\u001b[0;34m:\u001b[0m\u001b[0;34m\u001b[0m\u001b[0m\n\u001b[0;32m----> 2\u001b[0;31m     \u001b[0mmatch_keys\u001b[0m\u001b[0;34m(\u001b[0m\u001b[0mdata\u001b[0m\u001b[0;34m,\u001b[0m\u001b[0mtemplate\u001b[0m\u001b[0;34m,\u001b[0m\u001b[0mpath\u001b[0m\u001b[0;34m)\u001b[0m\u001b[0;34m\u001b[0m\u001b[0m\n\u001b[0m\u001b[1;32m      3\u001b[0m     \u001b[0mmatch_types\u001b[0m\u001b[0;34m(\u001b[0m\u001b[0mdata\u001b[0m\u001b[0;34m,\u001b[0m\u001b[0mtemplate\u001b[0m\u001b[0;34m,\u001b[0m\u001b[0mpath\u001b[0m\u001b[0;34m)\u001b[0m\u001b[0;34m\u001b[0m\u001b[0m\n\u001b[1;32m      4\u001b[0m \u001b[0;34m\u001b[0m\u001b[0m\n\u001b[1;32m      5\u001b[0m     dictionary_type_keys = {key for key,value in template.items()\n",
      "\u001b[0;32m<ipython-input-44-71becbe2b04c>\u001b[0m in \u001b[0;36mmatch_keys\u001b[0;34m(data, valid, path)\u001b[0m\n\u001b[1;32m     15\u001b[0m                                  for key in extra_keys})\n\u001b[1;32m     16\u001b[0m                      ) if extra_keys else ''\n\u001b[0;32m---> 17\u001b[0;31m         \u001b[0;32mraise\u001b[0m \u001b[0mSchemaTypeMismatch\u001b[0m\u001b[0;34m(\u001b[0m\u001b[0;34m' '\u001b[0m\u001b[0;34m.\u001b[0m\u001b[0mjoin\u001b[0m\u001b[0;34m(\u001b[0m\u001b[0;34m(\u001b[0m\u001b[0mmissing_msg\u001b[0m\u001b[0;34m,\u001b[0m\u001b[0mextra_msg\u001b[0m\u001b[0;34m)\u001b[0m\u001b[0;34m)\u001b[0m\u001b[0;34m)\u001b[0m\u001b[0;34m\u001b[0m\u001b[0m\n\u001b[0m",
      "\u001b[0;31mSchemaTypeMismatch\u001b[0m: missing keys: .bio.birthplace.city "
     ]
    }
   ],
   "source": [
    "validate(dean,template)"
   ]
  },
  {
   "cell_type": "code",
   "execution_count": 46,
   "metadata": {},
   "outputs": [
    {
     "ename": "SchemaTypeMismatch",
     "evalue": "incorrect type: .bio.dob.month->expectedint,found str",
     "output_type": "error",
     "traceback": [
      "\u001b[0;31m---------------------------------------------------------------------------\u001b[0m",
      "\u001b[0;31mSchemaTypeMismatch\u001b[0m                        Traceback (most recent call last)",
      "\u001b[0;32m<ipython-input-46-10d5ae811c20>\u001b[0m in \u001b[0;36m<module>\u001b[0;34m\u001b[0m\n\u001b[0;32m----> 1\u001b[0;31m \u001b[0mvalidate\u001b[0m\u001b[0;34m(\u001b[0m\u001b[0msam\u001b[0m\u001b[0;34m,\u001b[0m\u001b[0mtemplate\u001b[0m\u001b[0;34m)\u001b[0m\u001b[0;34m\u001b[0m\u001b[0m\n\u001b[0m",
      "\u001b[0;32m<ipython-input-41-7e1a07c2a2bd>\u001b[0m in \u001b[0;36mvalidate\u001b[0;34m(data, template)\u001b[0m\n\u001b[1;32m      1\u001b[0m \u001b[0;32mdef\u001b[0m \u001b[0mvalidate\u001b[0m\u001b[0;34m(\u001b[0m\u001b[0mdata\u001b[0m\u001b[0;34m,\u001b[0m\u001b[0mtemplate\u001b[0m\u001b[0;34m)\u001b[0m\u001b[0;34m:\u001b[0m\u001b[0;34m\u001b[0m\u001b[0m\n\u001b[0;32m----> 2\u001b[0;31m     \u001b[0mrecurse_validate\u001b[0m\u001b[0;34m(\u001b[0m\u001b[0mdata\u001b[0m\u001b[0;34m,\u001b[0m\u001b[0mtemplate\u001b[0m\u001b[0;34m,\u001b[0m \u001b[0;34m''\u001b[0m\u001b[0;34m)\u001b[0m\u001b[0;34m\u001b[0m\u001b[0m\n\u001b[0m",
      "\u001b[0;32m<ipython-input-40-ecece40dd6a3>\u001b[0m in \u001b[0;36mrecurse_validate\u001b[0;34m(data, template, path)\u001b[0m\n\u001b[1;32m     10\u001b[0m         \u001b[0msub_template\u001b[0m \u001b[0;34m=\u001b[0m \u001b[0mtemplate\u001b[0m\u001b[0;34m[\u001b[0m\u001b[0mkey\u001b[0m\u001b[0;34m]\u001b[0m\u001b[0;34m\u001b[0m\u001b[0m\n\u001b[1;32m     11\u001b[0m         \u001b[0msub_data\u001b[0m \u001b[0;34m=\u001b[0m \u001b[0mdata\u001b[0m\u001b[0;34m[\u001b[0m\u001b[0mkey\u001b[0m\u001b[0;34m]\u001b[0m\u001b[0;34m\u001b[0m\u001b[0m\n\u001b[0;32m---> 12\u001b[0;31m         \u001b[0mrecurse_validate\u001b[0m\u001b[0;34m(\u001b[0m\u001b[0msub_data\u001b[0m\u001b[0;34m,\u001b[0m\u001b[0msub_template\u001b[0m\u001b[0;34m,\u001b[0m\u001b[0msub_path\u001b[0m\u001b[0;34m)\u001b[0m\u001b[0;34m\u001b[0m\u001b[0m\n\u001b[0m\u001b[1;32m     13\u001b[0m \u001b[0;34m\u001b[0m\u001b[0m\n",
      "\u001b[0;32m<ipython-input-40-ecece40dd6a3>\u001b[0m in \u001b[0;36mrecurse_validate\u001b[0;34m(data, template, path)\u001b[0m\n\u001b[1;32m     10\u001b[0m         \u001b[0msub_template\u001b[0m \u001b[0;34m=\u001b[0m \u001b[0mtemplate\u001b[0m\u001b[0;34m[\u001b[0m\u001b[0mkey\u001b[0m\u001b[0;34m]\u001b[0m\u001b[0;34m\u001b[0m\u001b[0m\n\u001b[1;32m     11\u001b[0m         \u001b[0msub_data\u001b[0m \u001b[0;34m=\u001b[0m \u001b[0mdata\u001b[0m\u001b[0;34m[\u001b[0m\u001b[0mkey\u001b[0m\u001b[0;34m]\u001b[0m\u001b[0;34m\u001b[0m\u001b[0m\n\u001b[0;32m---> 12\u001b[0;31m         \u001b[0mrecurse_validate\u001b[0m\u001b[0;34m(\u001b[0m\u001b[0msub_data\u001b[0m\u001b[0;34m,\u001b[0m\u001b[0msub_template\u001b[0m\u001b[0;34m,\u001b[0m\u001b[0msub_path\u001b[0m\u001b[0;34m)\u001b[0m\u001b[0;34m\u001b[0m\u001b[0m\n\u001b[0m\u001b[1;32m     13\u001b[0m \u001b[0;34m\u001b[0m\u001b[0m\n",
      "\u001b[0;32m<ipython-input-40-ecece40dd6a3>\u001b[0m in \u001b[0;36mrecurse_validate\u001b[0;34m(data, template, path)\u001b[0m\n\u001b[1;32m      1\u001b[0m \u001b[0;32mdef\u001b[0m \u001b[0mrecurse_validate\u001b[0m\u001b[0;34m(\u001b[0m\u001b[0mdata\u001b[0m\u001b[0;34m,\u001b[0m\u001b[0mtemplate\u001b[0m\u001b[0;34m,\u001b[0m\u001b[0mpath\u001b[0m\u001b[0;34m)\u001b[0m\u001b[0;34m:\u001b[0m\u001b[0;34m\u001b[0m\u001b[0m\n\u001b[1;32m      2\u001b[0m     \u001b[0mmatch_keys\u001b[0m\u001b[0;34m(\u001b[0m\u001b[0mdata\u001b[0m\u001b[0;34m,\u001b[0m\u001b[0mtemplate\u001b[0m\u001b[0;34m,\u001b[0m\u001b[0mpath\u001b[0m\u001b[0;34m)\u001b[0m\u001b[0;34m\u001b[0m\u001b[0m\n\u001b[0;32m----> 3\u001b[0;31m     \u001b[0mmatch_types\u001b[0m\u001b[0;34m(\u001b[0m\u001b[0mdata\u001b[0m\u001b[0;34m,\u001b[0m\u001b[0mtemplate\u001b[0m\u001b[0;34m,\u001b[0m\u001b[0mpath\u001b[0m\u001b[0;34m)\u001b[0m\u001b[0;34m\u001b[0m\u001b[0m\n\u001b[0m\u001b[1;32m      4\u001b[0m \u001b[0;34m\u001b[0m\u001b[0m\n\u001b[1;32m      5\u001b[0m     dictionary_type_keys = {key for key,value in template.items()\n",
      "\u001b[0;32m<ipython-input-39-c0c92bca6bcf>\u001b[0m in \u001b[0;36mmatch_types\u001b[0;34m(data, template, path)\u001b[0m\n\u001b[1;32m     12\u001b[0m                        \u001b[0;34m'->expected'\u001b[0m \u001b[0;34m+\u001b[0m \u001b[0mtemplate_type\u001b[0m\u001b[0;34m.\u001b[0m\u001b[0m__name__\u001b[0m\u001b[0;34m+\u001b[0m\u001b[0;34m\u001b[0m\u001b[0m\n\u001b[1;32m     13\u001b[0m                        ',found '+type(data_value).__name__)\n\u001b[0;32m---> 14\u001b[0;31m             \u001b[0;32mraise\u001b[0m \u001b[0mSchemaTypeMismatch\u001b[0m\u001b[0;34m(\u001b[0m\u001b[0merr_msg\u001b[0m\u001b[0;34m)\u001b[0m\u001b[0;34m\u001b[0m\u001b[0m\n\u001b[0m",
      "\u001b[0;31mSchemaTypeMismatch\u001b[0m: incorrect type: .bio.dob.month->expectedint,found str"
     ]
    }
   ],
   "source": [
    "validate(sam,template)"
   ]
  },
  {
   "cell_type": "code",
   "execution_count": 47,
   "metadata": {},
   "outputs": [
    {
     "name": "stdout",
     "output_type": "stream",
     "text": [
      "incorrect type: .bio.dob.month->expectedint,found str\n"
     ]
    }
   ],
   "source": [
    "try:\n",
    "    validate(sam,template)\n",
    "except SchemaError as ex:\n",
    "    print(ex)"
   ]
  },
  {
   "cell_type": "code",
   "execution_count": 48,
   "metadata": {},
   "outputs": [
    {
     "name": "stdout",
     "output_type": "stream",
     "text": [
      "missing keys: .bio.birthplace.city \n"
     ]
    }
   ],
   "source": [
    "try:\n",
    "    validate(dean,template)\n",
    "except SchemaError as ex:\n",
    "    print(ex)"
   ]
  },
  {
   "cell_type": "code",
   "execution_count": 49,
   "metadata": {},
   "outputs": [],
   "source": [
    "try:\n",
    "    validate(cass,template)\n",
    "except SchemaError as ex:\n",
    "    print(ex)"
   ]
  },
  {
   "cell_type": "code",
   "execution_count": 53,
   "metadata": {},
   "outputs": [
    {
     "name": "stdout",
     "output_type": "stream",
     "text": [
      "type mismatch\n"
     ]
    }
   ],
   "source": [
    "try:\n",
    "    validate(dean,template)\n",
    "except SchemaKeyMismatch as ex:\n",
    "    print('key mismatch')\n",
    "except SchemaTypeMismatch as ex:\n",
    "    print('type mismatch')\n",
    "except SchemaError as ex:\n",
    "    print('schema exception')\n",
    "except TypeError as ex:\n",
    "    print('type exception')"
   ]
  },
  {
   "cell_type": "code",
   "execution_count": null,
   "metadata": {},
   "outputs": [],
   "source": []
  }
 ],
 "metadata": {
  "kernelspec": {
   "display_name": "Python 3",
   "language": "python",
   "name": "python3"
  },
  "language_info": {
   "codemirror_mode": {
    "name": "ipython",
    "version": 3
   },
   "file_extension": ".py",
   "mimetype": "text/x-python",
   "name": "python",
   "nbconvert_exporter": "python",
   "pygments_lexer": "ipython3",
   "version": "3.6.0"
  }
 },
 "nbformat": 4,
 "nbformat_minor": 4
}
