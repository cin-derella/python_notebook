{
 "cells": [
  {
   "cell_type": "code",
   "execution_count": 1,
   "metadata": {},
   "outputs": [],
   "source": [
    "s1 ={1,2,3}\n",
    "s2 ={2,3,4}\n"
   ]
  },
  {
   "cell_type": "code",
   "execution_count": 3,
   "metadata": {},
   "outputs": [
    {
     "name": "stdout",
     "output_type": "stream",
     "text": [
      "{1, 2, 3} 4578676808\n",
      "{2, 3, 4} 4578677256\n"
     ]
    }
   ],
   "source": [
    "print(s1,id(s1))\n",
    "print(s2,id(s2))"
   ]
  },
  {
   "cell_type": "code",
   "execution_count": 4,
   "metadata": {},
   "outputs": [],
   "source": [
    "s1 = s1&s2"
   ]
  },
  {
   "cell_type": "code",
   "execution_count": 5,
   "metadata": {},
   "outputs": [
    {
     "name": "stdout",
     "output_type": "stream",
     "text": [
      "{2, 3} 4578677032\n",
      "{2, 3, 4} 4578677256\n"
     ]
    }
   ],
   "source": [
    "print(s1,id(s1))\n",
    "print(s2,id(s2))"
   ]
  },
  {
   "cell_type": "code",
   "execution_count": 6,
   "metadata": {},
   "outputs": [
    {
     "data": {
      "text/plain": [
       "4578677032"
      ]
     },
     "execution_count": 6,
     "metadata": {},
     "output_type": "execute_result"
    }
   ],
   "source": [
    "id(globals()['s1'])"
   ]
  },
  {
   "cell_type": "code",
   "execution_count": 9,
   "metadata": {},
   "outputs": [
    {
     "name": "stdout",
     "output_type": "stream",
     "text": [
      "4578678376\n",
      "{1, 2, 3, 4} 4578678376\n"
     ]
    }
   ],
   "source": [
    "s1 = {1,2,3}\n",
    "s2 = {2,3,4}\n",
    "print(id(s1))\n",
    "s1|=s2\n",
    "print(s1,id(s1))\n",
    "print(s1,id(s1))\n",
    "print(s2,id(s2))"
   ]
  },
  {
   "cell_type": "code",
   "execution_count": 10,
   "metadata": {},
   "outputs": [
    {
     "name": "stdout",
     "output_type": "stream",
     "text": [
      "4578678376\n",
      "{1, 2, 3, 4} 4578678376\n",
      "{1, 2, 3, 4} 4578678376\n",
      "{2, 3, 4} 4578676808\n"
     ]
    }
   ],
   "source": [
    "print(id(s1))\n",
    "s1|=s2\n",
    "print(s1,id(s1))\n",
    "print(s1,id(s1))\n",
    "print(s2,id(s2))\n",
    "\n",
    "s1.update(s2)"
   ]
  },
  {
   "cell_type": "code",
   "execution_count": 11,
   "metadata": {},
   "outputs": [
    {
     "name": "stdout",
     "output_type": "stream",
     "text": [
      "4578677256\n",
      "4578677256 {2, 3}\n"
     ]
    }
   ],
   "source": [
    "s1={1,2,3}\n",
    "s2 = {2,3,4}\n",
    "print(id(s1))\n",
    "s1&=s2\n",
    "print(id(s1),s1)"
   ]
  },
  {
   "cell_type": "code",
   "execution_count": 12,
   "metadata": {},
   "outputs": [
    {
     "name": "stdout",
     "output_type": "stream",
     "text": [
      "4578678376\n",
      "4578678376 {2, 3}\n"
     ]
    }
   ],
   "source": [
    "s1={1,2,3}\n",
    "s2 = {2,3,4}\n",
    "print(id(s1))\n",
    "s1.intersection_update(s2)\n",
    "s1&=s2\n",
    "print(id(s1),s1)"
   ]
  },
  {
   "cell_type": "code",
   "execution_count": 14,
   "metadata": {},
   "outputs": [
    {
     "name": "stdout",
     "output_type": "stream",
     "text": [
      "4578678376\n",
      "4578678376 {1, 4}\n"
     ]
    }
   ],
   "source": [
    "s1 ={1,2,3,4}\n",
    "s2 = {2,3}\n",
    "print(id(s1))\n",
    "s1-=s2\n",
    "print(id(s1),s1)"
   ]
  },
  {
   "cell_type": "code",
   "execution_count": 15,
   "metadata": {},
   "outputs": [
    {
     "name": "stdout",
     "output_type": "stream",
     "text": [
      "4578677032\n",
      "4578677032 {1, 4}\n"
     ]
    }
   ],
   "source": [
    "s1 ={1,2,3,4}\n",
    "s2 = {2,3}\n",
    "print(id(s1))\n",
    "s1.difference_update(s2)\n",
    "print(id(s1),s1)"
   ]
  },
  {
   "cell_type": "code",
   "execution_count": 17,
   "metadata": {},
   "outputs": [
    {
     "name": "stdout",
     "output_type": "stream",
     "text": [
      "{1}\n",
      "{1, 3, 4}\n"
     ]
    }
   ],
   "source": [
    "s1 = {1,2,3,4}\n",
    "s2 = {2,3}\n",
    "s3 = {3,4}\n",
    "\n",
    "result=(s1-s2)-s3\n",
    "print(result)\n",
    "\n",
    "s1-=s2-s3\n",
    "print(s1)"
   ]
  },
  {
   "cell_type": "code",
   "execution_count": 19,
   "metadata": {},
   "outputs": [
    {
     "name": "stdout",
     "output_type": "stream",
     "text": [
      "{1, 3, 4}\n",
      "{1, 3, 4}\n"
     ]
    }
   ],
   "source": [
    "s1 = {1,2,3,4}\n",
    "s2 = {2,3}\n",
    "s3 = {3,4}\n",
    "\n",
    "result=s1-(s2-s3)\n",
    "print(result)\n",
    "\n",
    "s1-=s2-s3  #from right to left\n",
    "print(s1)"
   ]
  },
  {
   "cell_type": "code",
   "execution_count": 21,
   "metadata": {},
   "outputs": [
    {
     "name": "stdout",
     "output_type": "stream",
     "text": [
      "{1, 3, 4}\n",
      "{1, 3, 4}\n",
      "{1}\n"
     ]
    }
   ],
   "source": [
    "s1 = {1,2,3,4}\n",
    "s2 = {2,3}\n",
    "s3 = {3,4}\n",
    "\n",
    "result=s1-(s2-s3)\n",
    "print(result)\n",
    "\n",
    "s1-=s2-s3  #from right to left\n",
    "print(s1)\n",
    "\n",
    "\n",
    "s1 = {1,2,3,4}\n",
    "s2 = {2,3}\n",
    "s3 = {3,4}\n",
    "\n",
    "\n",
    "s1.difference_update(s2,s3)\n",
    "print(s1)"
   ]
  },
  {
   "cell_type": "code",
   "execution_count": 22,
   "metadata": {},
   "outputs": [
    {
     "data": {
      "text/plain": [
       "{1, 2, 3, 6, 7}"
      ]
     },
     "execution_count": 22,
     "metadata": {},
     "output_type": "execute_result"
    }
   ],
   "source": [
    "s1 = {1,2,3,4,5}\n",
    "s2 = {4,5,6,7}\n",
    "s1^s2"
   ]
  },
  {
   "cell_type": "code",
   "execution_count": 23,
   "metadata": {},
   "outputs": [
    {
     "name": "stdout",
     "output_type": "stream",
     "text": [
      "4578678824\n",
      "4578678824 {1, 2, 3, 6, 7}\n"
     ]
    }
   ],
   "source": [
    "print(id(s1))\n",
    "s1^=s2\n",
    "print(id(s1),s1)"
   ]
  },
  {
   "cell_type": "code",
   "execution_count": 24,
   "metadata": {},
   "outputs": [
    {
     "name": "stdout",
     "output_type": "stream",
     "text": [
      "4578677032\n",
      "4578677032 {1, 2, 3, 4, 5, 6, 7}\n"
     ]
    }
   ],
   "source": [
    "s1 = {1,2,3}\n",
    "s2 = {3,4,5}\n",
    "s3 = {5,6,7}\n",
    "\n",
    "print(id(s1))\n",
    "s1|=s2|s3\n",
    "print(id(s1),s1)"
   ]
  },
  {
   "cell_type": "code",
   "execution_count": null,
   "metadata": {},
   "outputs": [],
   "source": [
    "s1={1,2,3}\n",
    "s1.update([3,4,5])"
   ]
  },
  {
   "cell_type": "code",
   "execution_count": 25,
   "metadata": {},
   "outputs": [
    {
     "data": {
      "text/plain": [
       "{1, 2, 3, 4, 5, 6, 7}"
      ]
     },
     "execution_count": 25,
     "metadata": {},
     "output_type": "execute_result"
    }
   ],
   "source": [
    "s1"
   ]
  },
  {
   "cell_type": "code",
   "execution_count": 26,
   "metadata": {},
   "outputs": [],
   "source": [
    "s1 = {1,2,3}\n",
    "s1 |= set([3,4,5]) | set((6,7,8))|set('abc')"
   ]
  },
  {
   "cell_type": "code",
   "execution_count": 27,
   "metadata": {},
   "outputs": [
    {
     "data": {
      "text/plain": [
       "{1, 2, 3, 4, 5, 6, 7, 8, 'a', 'b', 'c'}"
      ]
     },
     "execution_count": 27,
     "metadata": {},
     "output_type": "execute_result"
    }
   ],
   "source": [
    "s1"
   ]
  },
  {
   "cell_type": "code",
   "execution_count": 28,
   "metadata": {},
   "outputs": [],
   "source": [
    "def combine(string,target):\n",
    "    target.update(string.split(' '))"
   ]
  },
  {
   "cell_type": "code",
   "execution_count": 30,
   "metadata": {},
   "outputs": [],
   "source": [
    "def cleanup(combined):\n",
    "    words = {'the','and','a','or','is','of'}\n",
    "    combined -=words"
   ]
  },
  {
   "cell_type": "code",
   "execution_count": 32,
   "metadata": {},
   "outputs": [
    {
     "name": "stdout",
     "output_type": "stream",
     "text": [
      "{'sleeps', 'silly', 'parrot', 'lumberjacks', 'ministry', 'late', 'night', 'all', 'walks', 'this'}\n"
     ]
    }
   ],
   "source": [
    "result = set()\n",
    "combine('lumberjacks sleeps all night',result)\n",
    "combine('the ministry of silly walks',result)\n",
    "combine('this parrot is a late parrot',result)\n",
    "cleanup(result)\n",
    "print(result)"
   ]
  },
  {
   "cell_type": "code",
   "execution_count": 33,
   "metadata": {},
   "outputs": [],
   "source": [
    "def gen_read_data():\n",
    "    yield ['Paris','Beijing','New York','London','Madrid','Mumbai']\n",
    "    yield ['Hyderabad','New York','Milan','Phoenix','Berlin','Cairo']\n",
    "    yield ['Stockholm','Cairo','Paris','Barcelona','San Francisico']"
   ]
  },
  {
   "cell_type": "code",
   "execution_count": 34,
   "metadata": {},
   "outputs": [],
   "source": [
    "data = gen_read_data()"
   ]
  },
  {
   "cell_type": "code",
   "execution_count": 35,
   "metadata": {},
   "outputs": [
    {
     "data": {
      "text/plain": [
       "['Paris', 'Beijing', 'New York', 'London', 'Madrid', 'Mumbai']"
      ]
     },
     "execution_count": 35,
     "metadata": {},
     "output_type": "execute_result"
    }
   ],
   "source": [
    "next(data)"
   ]
  },
  {
   "cell_type": "code",
   "execution_count": 36,
   "metadata": {},
   "outputs": [
    {
     "data": {
      "text/plain": [
       "['Hyderabad', 'New York', 'Milan', 'Phoenix', 'Berlin', 'Cairo']"
      ]
     },
     "execution_count": 36,
     "metadata": {},
     "output_type": "execute_result"
    }
   ],
   "source": [
    "next(data)"
   ]
  },
  {
   "cell_type": "code",
   "execution_count": 38,
   "metadata": {},
   "outputs": [
    {
     "data": {
      "text/plain": [
       "['Stockholm', 'Cairo', 'Paris', 'Barcelona', 'San Francisico']"
      ]
     },
     "execution_count": 38,
     "metadata": {},
     "output_type": "execute_result"
    }
   ],
   "source": [
    "next(data)"
   ]
  },
  {
   "cell_type": "code",
   "execution_count": 40,
   "metadata": {},
   "outputs": [
    {
     "ename": "StopIteration",
     "evalue": "",
     "output_type": "error",
     "traceback": [
      "\u001b[0;31m---------------------------------------------------------------------------\u001b[0m",
      "\u001b[0;31mStopIteration\u001b[0m                             Traceback (most recent call last)",
      "\u001b[0;32m<ipython-input-40-8ad47eec7ca3>\u001b[0m in \u001b[0;36m<module>\u001b[0;34m\u001b[0m\n\u001b[0;32m----> 1\u001b[0;31m \u001b[0mnext\u001b[0m\u001b[0;34m(\u001b[0m\u001b[0mdata\u001b[0m\u001b[0;34m)\u001b[0m\u001b[0;34m\u001b[0m\u001b[0m\n\u001b[0m",
      "\u001b[0;31mStopIteration\u001b[0m: "
     ]
    }
   ],
   "source": [
    "next(data)"
   ]
  },
  {
   "cell_type": "code",
   "execution_count": 41,
   "metadata": {},
   "outputs": [],
   "source": [
    "def filter_incoming(*cities,data_set):\n",
    "    data_set.difference_update(cities)\n",
    "    "
   ]
  },
  {
   "cell_type": "code",
   "execution_count": 47,
   "metadata": {},
   "outputs": [
    {
     "name": "stdout",
     "output_type": "stream",
     "text": [
      "{'Stockholm', 'Phoenix', 'Hyderabad', 'San Francisico', 'Mumbai', 'Milan', 'New York', 'Madrid', 'Barcelona', 'Berlin', 'Cairo', 'Beijing'}\n"
     ]
    }
   ],
   "source": [
    "result = set()\n",
    "data = gen_read_data()\n",
    "for page in data:\n",
    "    result.update(page)\n",
    "    filter_incoming('Paris','London',data_set =result)\n",
    "print (result)\n",
    "    "
   ]
  },
  {
   "cell_type": "code",
   "execution_count": null,
   "metadata": {},
   "outputs": [],
   "source": []
  }
 ],
 "metadata": {
  "kernelspec": {
   "display_name": "Python 3",
   "language": "python",
   "name": "python3"
  },
  "language_info": {
   "codemirror_mode": {
    "name": "ipython",
    "version": 3
   },
   "file_extension": ".py",
   "mimetype": "text/x-python",
   "name": "python",
   "nbconvert_exporter": "python",
   "pygments_lexer": "ipython3",
   "version": "3.6.0"
  }
 },
 "nbformat": 4,
 "nbformat_minor": 4
}
