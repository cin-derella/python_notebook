{
 "cells": [
  {
   "cell_type": "markdown",
   "metadata": {},
   "source": [
    "PEP 3103"
   ]
  },
  {
   "cell_type": "code",
   "execution_count": 1,
   "metadata": {},
   "outputs": [],
   "source": [
    "def dow_switch_fn(dow):\n",
    "    if dow ==1:\n",
    "        fn = lambda:print('Monday')\n",
    "    elif dow ==2:\n",
    "        fn = lambda:print('Tuesday')\n",
    "    elif dow ==3:\n",
    "        fn = lambda:print('Wednesday')\n",
    "    elif dow ==4:\n",
    "        fn = lambda:print('Thursday')\n",
    "    elif dow ==5:\n",
    "        fn = lambda:print('Friday')\n",
    "    elif dow ==6:\n",
    "        fn = lambda:print('Saturday')\n",
    "    elif dow ==7:\n",
    "        fn = lambda:print('Sun')\n",
    "    else:\n",
    "        fn = lambda:print('invalid day of week')\n",
    "    \n",
    "    return fn()\n",
    "    \n",
    "    "
   ]
  },
  {
   "cell_type": "code",
   "execution_count": 3,
   "metadata": {},
   "outputs": [
    {
     "name": "stdout",
     "output_type": "stream",
     "text": [
      "Monday\n"
     ]
    }
   ],
   "source": [
    "dow_switch_fn(1)"
   ]
  },
  {
   "cell_type": "code",
   "execution_count": 5,
   "metadata": {},
   "outputs": [
    {
     "name": "stdout",
     "output_type": "stream",
     "text": [
      "invalid day of week\n"
     ]
    }
   ],
   "source": [
    "dow_switch_fn(9)"
   ]
  },
  {
   "cell_type": "code",
   "execution_count": 10,
   "metadata": {},
   "outputs": [],
   "source": [
    "def dow_switch_dict(dow):\n",
    "    dow_dict = {\n",
    "        1: lambda:print('Monday'),\n",
    "        2: lambda:print('Tuesday'),\n",
    "        3: lambda:print('Wednesday'),\n",
    "        4: lambda:print('Thursday'),\n",
    "        5: lambda:print('Friday'),\n",
    "        6: lambda:print('Saturday'),\n",
    "        7: lambda:print('Sunday'),\n",
    "        'default':lambda:print('invalid day of week')\n",
    "    }\n",
    "    \n",
    "    return dow_dict.get(dow,dow_dict['default'])()\n"
   ]
  },
  {
   "cell_type": "code",
   "execution_count": 12,
   "metadata": {},
   "outputs": [
    {
     "name": "stdout",
     "output_type": "stream",
     "text": [
      "Monday\n"
     ]
    }
   ],
   "source": [
    "dow_switch_dict(1)"
   ]
  },
  {
   "cell_type": "code",
   "execution_count": 23,
   "metadata": {},
   "outputs": [],
   "source": [
    "def switcher(fn):\n",
    "    registry = dict()\n",
    "    registry['default'] = fn\n",
    "    \n",
    "    def register(case):\n",
    "        def inner(fn):\n",
    "            registry[case]=fn\n",
    "            return fn\n",
    "        return inner\n",
    "    \n",
    "    def decorator(case):\n",
    "        fn = registry.get(case,registry['default'])\n",
    "        return fn()\n",
    "    \n",
    "    decorator.register = register\n",
    "    return decorator"
   ]
  },
  {
   "cell_type": "code",
   "execution_count": 24,
   "metadata": {},
   "outputs": [
    {
     "data": {
      "text/plain": [
       "<function __main__.<lambda>()>"
      ]
     },
     "execution_count": 24,
     "metadata": {},
     "output_type": "execute_result"
    }
   ],
   "source": [
    "@switcher\n",
    "def dow():\n",
    "    print('Invalid day of week')\n",
    "    \n",
    "@dow.register(1)\n",
    "def dow_1():\n",
    "    return 'Monday'\n",
    "\n",
    "dow.register(2)(lambda:'Tuesday')\n",
    "dow.register(3)(lambda:'Wednesday')\n",
    "dow.register(4)(lambda:'Thurday')"
   ]
  },
  {
   "cell_type": "code",
   "execution_count": 25,
   "metadata": {},
   "outputs": [
    {
     "data": {
      "text/plain": [
       "'Monday'"
      ]
     },
     "execution_count": 25,
     "metadata": {},
     "output_type": "execute_result"
    }
   ],
   "source": [
    "dow(1)"
   ]
  }
 ],
 "metadata": {
  "kernelspec": {
   "display_name": "Python 3",
   "language": "python",
   "name": "python3"
  },
  "language_info": {
   "codemirror_mode": {
    "name": "ipython",
    "version": 3
   },
   "file_extension": ".py",
   "mimetype": "text/x-python",
   "name": "python",
   "nbconvert_exporter": "python",
   "pygments_lexer": "ipython3",
   "version": "3.6.0"
  }
 },
 "nbformat": 4,
 "nbformat_minor": 4
}
