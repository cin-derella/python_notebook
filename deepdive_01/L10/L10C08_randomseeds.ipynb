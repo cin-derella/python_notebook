{
 "cells": [
  {
   "cell_type": "code",
   "execution_count": 1,
   "metadata": {},
   "outputs": [],
   "source": [
    "import random"
   ]
  },
  {
   "cell_type": "code",
   "execution_count": 3,
   "metadata": {
    "scrolled": true
   },
   "outputs": [
    {
     "name": "stdout",
     "output_type": "stream",
     "text": [
      "17 0.8116691516743839\n",
      "10 0.11504730284913356\n",
      "19 0.16481060830965344\n",
      "18 0.882101188649921\n",
      "18 0.956323081127714\n",
      "14 0.673447369500297\n",
      "14 0.8553969719235313\n",
      "10 0.03861923291415248\n",
      "12 0.27673090351308105\n",
      "19 0.9591973800908955\n"
     ]
    }
   ],
   "source": [
    "for _ in range(10):\n",
    "    print(random.randint(10,20),random.random())"
   ]
  },
  {
   "cell_type": "code",
   "execution_count": 5,
   "metadata": {},
   "outputs": [
    {
     "name": "stdout",
     "output_type": "stream",
     "text": [
      "10 0.1306364848140722\n",
      "14 0.6353002762501996\n",
      "17 0.8994097200904971\n",
      "19 0.4027997776324155\n",
      "18 0.7904558664323704\n",
      "14 0.21622998926064263\n",
      "11 0.7777612739464755\n",
      "20 0.2692236885889492\n",
      "12 0.031236351832228393\n",
      "14 0.5606363751895206\n"
     ]
    }
   ],
   "source": [
    "for _ in range(10):\n",
    "    print(random.randint(10,20),random.random())"
   ]
  },
  {
   "cell_type": "code",
   "execution_count": 7,
   "metadata": {},
   "outputs": [],
   "source": [
    "random.seed(0)"
   ]
  },
  {
   "cell_type": "code",
   "execution_count": 9,
   "metadata": {
    "scrolled": true
   },
   "outputs": [
    {
     "name": "stdout",
     "output_type": "stream",
     "text": [
      "19 0.9021659504395827\n",
      "14 0.09876334465914771\n",
      "11 0.8988382879679935\n",
      "20 0.33019721859799855\n",
      "18 0.1007012080683658\n",
      "16 0.31619669952159346\n",
      "20 0.9130110532378982\n",
      "18 0.47700977655271704\n",
      "18 0.2604923103919594\n",
      "18 0.9159944803568847\n"
     ]
    }
   ],
   "source": [
    "for _ in range(10):\n",
    "    print(random.randint(10,20),random.random())"
   ]
  },
  {
   "cell_type": "code",
   "execution_count": 11,
   "metadata": {},
   "outputs": [
    {
     "name": "stdout",
     "output_type": "stream",
     "text": [
      "15 0.8750872873361456\n",
      "17 0.10905784593110368\n",
      "18 0.2910906725120649\n",
      "11 0.5474409113284238\n",
      "18 0.20320185246943334\n",
      "19 0.5472301064999182\n",
      "14 0.4449890262755162\n",
      "19 0.7979350193210031\n",
      "15 0.5756510141648885\n",
      "14 0.18386872253858533\n"
     ]
    }
   ],
   "source": [
    "for _ in range(10):\n",
    "    print(random.randint(10,20),random.random())"
   ]
  },
  {
   "cell_type": "code",
   "execution_count": 15,
   "metadata": {},
   "outputs": [
    {
     "name": "stdout",
     "output_type": "stream",
     "text": [
      "16 0.7579544029403025\n",
      "16 0.04048437818077755\n",
      "18 0.48592769656281265\n",
      "14 0.9677999949201714\n",
      "15 0.5833820394550312\n",
      "13 0.5046868558173903\n",
      "14 0.1397457849666789\n",
      "11 0.6183689966753316\n",
      "14 0.9872592010330129\n",
      "18 0.9827854760376531\n"
     ]
    }
   ],
   "source": [
    "random.seed(0)\n",
    "for _ in range(10):\n",
    "    print(random.randint(10,20),random.random())"
   ]
  },
  {
   "cell_type": "code",
   "execution_count": 22,
   "metadata": {},
   "outputs": [],
   "source": [
    "def generate_random_stuff(seed = None):\n",
    "    random.seed(seed)\n",
    "    results = []\n",
    "    \n",
    "    for _ in range(5):\n",
    "        results.append(random.randint(0,5))\n",
    "    \n",
    "    characters = list('abc')\n",
    "    random.shuffle(characters)\n",
    "    results.append(characters)\n",
    "    \n",
    "    for _ in range(5):\n",
    "        results.append(random.gauss(0,1))\n",
    "    \n",
    "    return results"
   ]
  },
  {
   "cell_type": "code",
   "execution_count": 27,
   "metadata": {},
   "outputs": [
    {
     "data": {
      "text/plain": [
       "[3,\n",
       " 3,\n",
       " 0,\n",
       " 2,\n",
       " 4,\n",
       " ['a', 'c', 'b'],\n",
       " 1.6391095109274887,\n",
       " -0.9249345372119703,\n",
       " 0.9223306019157185,\n",
       " -0.1891931090669293,\n",
       " 0.5456115709634167]"
      ]
     },
     "execution_count": 27,
     "metadata": {},
     "output_type": "execute_result"
    }
   ],
   "source": [
    "generate_random_stuff(0)"
   ]
  },
  {
   "cell_type": "code",
   "execution_count": 30,
   "metadata": {},
   "outputs": [
    {
     "data": {
      "text/plain": [
       "[1,\n",
       " 3,\n",
       " 3,\n",
       " 1,\n",
       " 5,\n",
       " ['a', 'c', 'b'],\n",
       " -1.639893943131093,\n",
       " 0.7278930291928232,\n",
       " -0.4000719319137612,\n",
       " -0.08390378703116254,\n",
       " -0.3013546798244102]"
      ]
     },
     "execution_count": 30,
     "metadata": {},
     "output_type": "execute_result"
    }
   ],
   "source": [
    "generate_random_stuff(100)"
   ]
  },
  {
   "cell_type": "code",
   "execution_count": 32,
   "metadata": {},
   "outputs": [
    {
     "data": {
      "text/plain": [
       "[1,\n",
       " 3,\n",
       " 3,\n",
       " 1,\n",
       " 5,\n",
       " ['a', 'c', 'b'],\n",
       " -1.639893943131093,\n",
       " 0.7278930291928232,\n",
       " -0.4000719319137612,\n",
       " -0.08390378703116254,\n",
       " -0.3013546798244102]"
      ]
     },
     "execution_count": 32,
     "metadata": {},
     "output_type": "execute_result"
    }
   ],
   "source": [
    "generate_random_stuff(100)"
   ]
  },
  {
   "cell_type": "code",
   "execution_count": 39,
   "metadata": {},
   "outputs": [],
   "source": [
    "def freq_analysis(lst):\n",
    "    return {k:lst.count(k) for k in set(lst)}"
   ]
  },
  {
   "cell_type": "code",
   "execution_count": 44,
   "metadata": {},
   "outputs": [
    {
     "name": "stdout",
     "output_type": "stream",
     "text": [
      "[6, 10, 2, 9, 10, 10, 7, 8, 0, 7, 2, 0, 7, 0, 3, 3, 2, 1, 0, 2, 3, 10, 1, 1, 4, 1, 6, 0, 8, 6, 7, 7, 5, 7, 8, 3, 9, 9, 4, 6, 2, 3, 6, 1, 9, 4, 6, 4, 1, 3, 3, 0, 6, 4, 0, 4, 4, 0, 0, 8, 4, 3, 6, 0, 10, 1, 3, 4, 10, 10, 10, 0, 1, 9, 5, 5, 10, 7, 0, 2, 1, 0, 9, 5, 8, 2, 2, 0, 10, 0, 5, 8, 6, 2, 6, 6, 7, 3, 3, 2]\n"
     ]
    }
   ],
   "source": [
    "lst = [random.randint(0,10) for _ in range(100)]\n",
    "print(lst)"
   ]
  },
  {
   "cell_type": "code",
   "execution_count": 46,
   "metadata": {},
   "outputs": [
    {
     "data": {
      "text/plain": [
       "{0, 1, 2, 3, 4, 5, 6, 7, 8, 9, 10}"
      ]
     },
     "execution_count": 46,
     "metadata": {},
     "output_type": "execute_result"
    }
   ],
   "source": [
    "set(lst)"
   ]
  },
  {
   "cell_type": "code",
   "execution_count": 48,
   "metadata": {},
   "outputs": [
    {
     "data": {
      "text/plain": [
       "9"
      ]
     },
     "execution_count": 48,
     "metadata": {},
     "output_type": "execute_result"
    }
   ],
   "source": [
    "lst.count(1)"
   ]
  },
  {
   "cell_type": "code",
   "execution_count": 50,
   "metadata": {},
   "outputs": [
    {
     "data": {
      "text/plain": [
       "10"
      ]
     },
     "execution_count": 50,
     "metadata": {},
     "output_type": "execute_result"
    }
   ],
   "source": [
    "lst.count(10)"
   ]
  },
  {
   "cell_type": "code",
   "execution_count": 52,
   "metadata": {},
   "outputs": [
    {
     "data": {
      "text/plain": [
       "{0: 15, 1: 9, 2: 10, 3: 11, 4: 9, 5: 5, 6: 11, 7: 8, 8: 6, 9: 6, 10: 10}"
      ]
     },
     "execution_count": 52,
     "metadata": {},
     "output_type": "execute_result"
    }
   ],
   "source": [
    "freq_analysis(lst)"
   ]
  },
  {
   "cell_type": "code",
   "execution_count": 57,
   "metadata": {},
   "outputs": [],
   "source": [
    "d=freq_analysis([random.randint(0,10) for _ in range(1_000_000)])"
   ]
  },
  {
   "cell_type": "code",
   "execution_count": 59,
   "metadata": {},
   "outputs": [
    {
     "name": "stdout",
     "output_type": "stream",
     "text": [
      "{0: 90374, 1: 91401, 2: 90576, 3: 91238, 4: 90702, 5: 90689, 6: 91430, 7: 91048, 8: 90839, 9: 90631, 10: 91072}\n"
     ]
    }
   ],
   "source": [
    "print(d)"
   ]
  },
  {
   "cell_type": "code",
   "execution_count": 61,
   "metadata": {},
   "outputs": [],
   "source": [
    "total = sum(d.values())"
   ]
  },
  {
   "cell_type": "code",
   "execution_count": 64,
   "metadata": {},
   "outputs": [
    {
     "data": {
      "text/plain": [
       "1000000"
      ]
     },
     "execution_count": 64,
     "metadata": {},
     "output_type": "execute_result"
    }
   ],
   "source": [
    "total"
   ]
  },
  {
   "cell_type": "code",
   "execution_count": 66,
   "metadata": {},
   "outputs": [
    {
     "data": {
      "text/plain": [
       "{0: 9.0374,\n",
       " 1: 9.1401,\n",
       " 2: 9.0576,\n",
       " 3: 9.1238,\n",
       " 4: 9.0702,\n",
       " 5: 9.068900000000001,\n",
       " 6: 9.142999999999999,\n",
       " 7: 9.104800000000001,\n",
       " 8: 9.0839,\n",
       " 9: 9.0631,\n",
       " 10: 9.1072}"
      ]
     },
     "execution_count": 66,
     "metadata": {},
     "output_type": "execute_result"
    }
   ],
   "source": [
    "{k:v / total *100 for k,v in d.items()}"
   ]
  },
  {
   "cell_type": "code",
   "execution_count": 68,
   "metadata": {},
   "outputs": [],
   "source": [
    "from collections import Counter"
   ]
  },
  {
   "cell_type": "code",
   "execution_count": 69,
   "metadata": {},
   "outputs": [
    {
     "data": {
      "text/plain": [
       "Counter({20: 9180,\n",
       "         14: 9002,\n",
       "         15: 9021,\n",
       "         11: 9185,\n",
       "         19: 9107,\n",
       "         10: 9134,\n",
       "         17: 9052,\n",
       "         13: 9163,\n",
       "         12: 9011,\n",
       "         16: 9013,\n",
       "         18: 9132})"
      ]
     },
     "execution_count": 69,
     "metadata": {},
     "output_type": "execute_result"
    }
   ],
   "source": [
    "Counter(random.randint(10,20) for _ in range(100_000))"
   ]
  }
 ],
 "metadata": {
  "kernelspec": {
   "display_name": "Python 3",
   "language": "python",
   "name": "python3"
  },
  "language_info": {
   "codemirror_mode": {
    "name": "ipython",
    "version": 3
   },
   "file_extension": ".py",
   "mimetype": "text/x-python",
   "name": "python",
   "nbconvert_exporter": "python",
   "pygments_lexer": "ipython3",
   "version": "3.6.0"
  }
 },
 "nbformat": 4,
 "nbformat_minor": 4
}
