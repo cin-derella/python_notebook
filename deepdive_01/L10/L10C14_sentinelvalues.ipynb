{
 "cells": [
  {
   "cell_type": "code",
   "execution_count": 1,
   "metadata": {},
   "outputs": [],
   "source": [
    "def validate(a=None):\n",
    "    if a is not None:\n",
    "        print('argument was provided')\n",
    "    else:\n",
    "        print('argument was NOT provided')"
   ]
  },
  {
   "cell_type": "code",
   "execution_count": 2,
   "metadata": {},
   "outputs": [
    {
     "name": "stdout",
     "output_type": "stream",
     "text": [
      "argument was NOT provided\n"
     ]
    }
   ],
   "source": [
    "validate()"
   ]
  },
  {
   "cell_type": "code",
   "execution_count": 4,
   "metadata": {},
   "outputs": [
    {
     "name": "stdout",
     "output_type": "stream",
     "text": [
      "argument was provided\n"
     ]
    }
   ],
   "source": [
    "validate(10)"
   ]
  },
  {
   "cell_type": "code",
   "execution_count": 6,
   "metadata": {},
   "outputs": [
    {
     "name": "stdout",
     "output_type": "stream",
     "text": [
      "argument was NOT provided\n"
     ]
    }
   ],
   "source": [
    "validate(None)"
   ]
  },
  {
   "cell_type": "code",
   "execution_count": 7,
   "metadata": {},
   "outputs": [],
   "source": [
    "sentinel = \"empty default value\""
   ]
  },
  {
   "cell_type": "code",
   "execution_count": 9,
   "metadata": {},
   "outputs": [
    {
     "data": {
      "text/plain": [
       "4354293392"
      ]
     },
     "execution_count": 9,
     "metadata": {},
     "output_type": "execute_result"
    }
   ],
   "source": [
    "a = object()\n",
    "id(a)"
   ]
  },
  {
   "cell_type": "code",
   "execution_count": 12,
   "metadata": {},
   "outputs": [
    {
     "data": {
      "text/plain": [
       "4354293408"
      ]
     },
     "execution_count": 12,
     "metadata": {},
     "output_type": "execute_result"
    }
   ],
   "source": [
    "b= object()\n",
    "id(b)"
   ]
  },
  {
   "cell_type": "code",
   "execution_count": 14,
   "metadata": {},
   "outputs": [],
   "source": [
    "_sentinel = object()\n",
    "\n",
    "def validate(a=sentinel):\n",
    "    if a is not _sentinel:\n",
    "        print('argument was provided')\n",
    "    else:\n",
    "        print('argument was NOT provided')\n",
    "        "
   ]
  },
  {
   "cell_type": "code",
   "execution_count": 16,
   "metadata": {},
   "outputs": [
    {
     "name": "stdout",
     "output_type": "stream",
     "text": [
      "argument was provided\n"
     ]
    }
   ],
   "source": [
    "validate()"
   ]
  },
  {
   "cell_type": "code",
   "execution_count": 18,
   "metadata": {},
   "outputs": [
    {
     "name": "stdout",
     "output_type": "stream",
     "text": [
      "argument was provided\n"
     ]
    }
   ],
   "source": [
    "validate(10)"
   ]
  },
  {
   "cell_type": "code",
   "execution_count": 20,
   "metadata": {},
   "outputs": [
    {
     "name": "stdout",
     "output_type": "stream",
     "text": [
      "argument was provided\n"
     ]
    }
   ],
   "source": [
    "validate(None)"
   ]
  },
  {
   "cell_type": "code",
   "execution_count": 22,
   "metadata": {},
   "outputs": [],
   "source": [
    "\n",
    "\n",
    "def validate(a=object()):\n",
    "    if a is not object():\n",
    "        print('argument was provided')\n",
    "    else:\n",
    "        print('argument was NOT provided')"
   ]
  },
  {
   "cell_type": "code",
   "execution_count": 24,
   "metadata": {},
   "outputs": [
    {
     "name": "stdout",
     "output_type": "stream",
     "text": [
      "argument was provided\n"
     ]
    }
   ],
   "source": [
    "validate(10)"
   ]
  },
  {
   "cell_type": "code",
   "execution_count": 27,
   "metadata": {},
   "outputs": [
    {
     "name": "stdout",
     "output_type": "stream",
     "text": [
      "argument was provided\n"
     ]
    }
   ],
   "source": [
    "validate(None)"
   ]
  },
  {
   "cell_type": "code",
   "execution_count": 29,
   "metadata": {},
   "outputs": [
    {
     "name": "stdout",
     "output_type": "stream",
     "text": [
      "argument was provided\n"
     ]
    }
   ],
   "source": [
    "validate()"
   ]
  },
  {
   "cell_type": "code",
   "execution_count": 33,
   "metadata": {},
   "outputs": [],
   "source": [
    "\n",
    "\n",
    "def validate(a=object()):\n",
    "    default_a = validate.__defaults__[0]\n",
    "    if a is not object():\n",
    "        print('argument was provided')\n",
    "    else:\n",
    "        print('argument was NOT provided')"
   ]
  },
  {
   "cell_type": "code",
   "execution_count": 35,
   "metadata": {},
   "outputs": [
    {
     "name": "stdout",
     "output_type": "stream",
     "text": [
      "argument was provided\n"
     ]
    }
   ],
   "source": [
    "validate(10)"
   ]
  },
  {
   "cell_type": "code",
   "execution_count": 37,
   "metadata": {},
   "outputs": [
    {
     "name": "stdout",
     "output_type": "stream",
     "text": [
      "argument was provided\n"
     ]
    }
   ],
   "source": [
    "validate(None)"
   ]
  },
  {
   "cell_type": "code",
   "execution_count": 5,
   "metadata": {},
   "outputs": [],
   "source": [
    "def validate(a = object(),b = object(),*,kw= object()):\n",
    "    default_a = validate.__defaults__[0]\n",
    "    default_b = validate.__defaults__[1]\n",
    "    default_kw = validate.__kwdefaults__['kw']\n",
    "    \n",
    "    print(default_a is default_b)\n",
    "    print(default_b is default_kw)\n",
    "    \n",
    "    if a is not default_a:\n",
    "        print('argument a was provided')\n",
    "    else:\n",
    "        print('argument a was NOT provided')\n",
    "    \n",
    "    if b is not default_b:\n",
    "        print('argument b was provided')\n",
    "    else:\n",
    "        print('argument b was NOT provided')\n",
    "        \n",
    "\n",
    "    if kw is not default_kw:\n",
    "        print('argument kw was provided')\n",
    "    else:\n",
    "        print('argument kw was NOT provided')\n",
    "    \n",
    "    \n",
    "            "
   ]
  },
  {
   "cell_type": "code",
   "execution_count": 6,
   "metadata": {},
   "outputs": [
    {
     "name": "stdout",
     "output_type": "stream",
     "text": [
      "False\n",
      "False\n",
      "argument a was provided\n",
      "argument b was provided\n",
      "argument kw was provided\n"
     ]
    }
   ],
   "source": [
    "validate(100,200,kw=None)"
   ]
  }
 ],
 "metadata": {
  "kernelspec": {
   "display_name": "Python 3",
   "language": "python",
   "name": "python3"
  },
  "language_info": {
   "codemirror_mode": {
    "name": "ipython",
    "version": 3
   },
   "file_extension": ".py",
   "mimetype": "text/x-python",
   "name": "python",
   "nbconvert_exporter": "python",
   "pygments_lexer": "ipython3",
   "version": "3.6.0"
  }
 },
 "nbformat": 4,
 "nbformat_minor": 4
}
