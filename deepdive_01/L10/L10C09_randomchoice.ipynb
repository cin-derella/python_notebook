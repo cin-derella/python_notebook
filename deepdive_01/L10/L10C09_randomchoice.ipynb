{
 "cells": [
  {
   "cell_type": "code",
   "execution_count": 1,
   "metadata": {},
   "outputs": [],
   "source": [
    "import random"
   ]
  },
  {
   "cell_type": "code",
   "execution_count": 2,
   "metadata": {},
   "outputs": [],
   "source": [
    "l = [10,20,30,40,50]"
   ]
  },
  {
   "cell_type": "code",
   "execution_count": 7,
   "metadata": {},
   "outputs": [
    {
     "data": {
      "text/plain": [
       "40"
      ]
     },
     "execution_count": 7,
     "metadata": {},
     "output_type": "execute_result"
    }
   ],
   "source": [
    "random_index = random.randrange(len(l))\n",
    "l[random_index]"
   ]
  },
  {
   "cell_type": "code",
   "execution_count": 12,
   "metadata": {},
   "outputs": [],
   "source": [
    "l = list(range(1000))"
   ]
  },
  {
   "cell_type": "code",
   "execution_count": 14,
   "metadata": {},
   "outputs": [
    {
     "name": "stdout",
     "output_type": "stream",
     "text": [
      "[167, 642, 167, 153, 816]\n"
     ]
    }
   ],
   "source": [
    "randoms = []\n",
    "for _ in range(5):\n",
    "    randoms.append(l[random.randrange(len(l))])\n",
    "print(randoms)"
   ]
  },
  {
   "cell_type": "code",
   "execution_count": 16,
   "metadata": {},
   "outputs": [
    {
     "data": {
      "text/plain": [
       "113"
      ]
     },
     "execution_count": 16,
     "metadata": {},
     "output_type": "execute_result"
    }
   ],
   "source": [
    "random.choice(l)"
   ]
  },
  {
   "cell_type": "code",
   "execution_count": 23,
   "metadata": {},
   "outputs": [
    {
     "name": "stdout",
     "output_type": "stream",
     "text": [
      "[547, 693, 775, 326, 639]\n"
     ]
    }
   ],
   "source": [
    "randoms = []\n",
    "for _ in range(5):\n",
    "    randoms.append(l[random.choice(l)])\n",
    "print(randoms)"
   ]
  },
  {
   "cell_type": "code",
   "execution_count": 29,
   "metadata": {},
   "outputs": [
    {
     "name": "stdout",
     "output_type": "stream",
     "text": [
      "[835, 139, 201, 881, 799]\n"
     ]
    }
   ],
   "source": [
    "randoms = [random.choice(l) for _ in range(5)]\n",
    "print(randoms)"
   ]
  },
  {
   "cell_type": "code",
   "execution_count": 36,
   "metadata": {},
   "outputs": [
    {
     "name": "stdout",
     "output_type": "stream",
     "text": [
      "[687, 150, 956, 916, 174]\n"
     ]
    }
   ],
   "source": [
    "randoms = random.choices(l,k=5)\n",
    "print(randoms)"
   ]
  },
  {
   "cell_type": "code",
   "execution_count": 43,
   "metadata": {},
   "outputs": [
    {
     "name": "stdout",
     "output_type": "stream",
     "text": [
      "[4, 2, 2, 1, 1, 2, 4, 3, 1, 3]\n"
     ]
    }
   ],
   "source": [
    "l=[1,2,3,4]\n",
    "ramdoms = [random.choice(l) for _ in range(10)]\n",
    "print(randoms)"
   ]
  },
  {
   "cell_type": "code",
   "execution_count": 45,
   "metadata": {},
   "outputs": [
    {
     "name": "stdout",
     "output_type": "stream",
     "text": [
      "[3, 1, 4, 3, 3, 4, 1, 2, 3, 3]\n"
     ]
    }
   ],
   "source": [
    "randoms = random.choices(l,k=10)\n",
    "print(randoms)"
   ]
  },
  {
   "cell_type": "code",
   "execution_count": 49,
   "metadata": {},
   "outputs": [
    {
     "name": "stdout",
     "output_type": "stream",
     "text": [
      "['c', 'b', 'b', 'a', 'c']\n",
      "['a', 'a', 'b', 'a', 'a']\n",
      "['c', 'c', 'c', 'c', 'c']\n",
      "['b', 'b', 'b', 'c', 'b']\n",
      "['c', 'b', 'b', 'c', 'c']\n",
      "['b', 'a', 'a', 'b', 'a']\n",
      "['c', 'c', 'a', 'a', 'b']\n",
      "['a', 'b', 'b', 'b', 'b']\n",
      "['a', 'c', 'a', 'b', 'a']\n",
      "['a', 'a', 'c', 'a', 'a']\n"
     ]
    }
   ],
   "source": [
    "l = ['a','b','c']\n",
    "for _ in range(10):\n",
    "    print(random.choices(l,k=5))"
   ]
  },
  {
   "cell_type": "code",
   "execution_count": 54,
   "metadata": {},
   "outputs": [],
   "source": [
    "weights = [10,1,1]"
   ]
  },
  {
   "cell_type": "code",
   "execution_count": 56,
   "metadata": {},
   "outputs": [
    {
     "name": "stdout",
     "output_type": "stream",
     "text": [
      "['a', 'a', 'c', 'b', 'a']\n",
      "['a', 'a', 'a', 'c', 'a']\n",
      "['a', 'a', 'a', 'a', 'b']\n",
      "['a', 'a', 'a', 'c', 'a']\n",
      "['a', 'a', 'a', 'c', 'a']\n",
      "['a', 'c', 'a', 'a', 'c']\n",
      "['c', 'a', 'c', 'a', 'a']\n",
      "['a', 'c', 'a', 'a', 'a']\n",
      "['a', 'a', 'a', 'a', 'a']\n",
      "['a', 'a', 'b', 'a', 'a']\n"
     ]
    }
   ],
   "source": [
    "l = ['a','b','c']\n",
    "for _ in range(10):\n",
    "    print(random.choices(l,k=5,weights = weights))"
   ]
  },
  {
   "cell_type": "code",
   "execution_count": 63,
   "metadata": {},
   "outputs": [],
   "source": [
    "from collections import namedtuple"
   ]
  },
  {
   "cell_type": "code",
   "execution_count": 64,
   "metadata": {},
   "outputs": [],
   "source": [
    "Freq = namedtuple('Fred','count freq')\n",
    "def freq_counts(lst):\n",
    "    total = len(lst)\n",
    "    return {k: Freq(lst.count(k),100*lst.count(k) /total)for k in set(lst)}"
   ]
  },
  {
   "cell_type": "code",
   "execution_count": 67,
   "metadata": {},
   "outputs": [
    {
     "data": {
      "text/plain": [
       "{'a': Fred(count=3455, freq=34.55),\n",
       " 'c': Fred(count=3301, freq=33.01),\n",
       " 'b': Fred(count=3244, freq=32.44)}"
      ]
     },
     "execution_count": 67,
     "metadata": {},
     "output_type": "execute_result"
    }
   ],
   "source": [
    "freq_counts(random.choices(l,k=10_000))"
   ]
  },
  {
   "cell_type": "code",
   "execution_count": 70,
   "metadata": {},
   "outputs": [
    {
     "data": {
      "text/plain": [
       "{'a': Fred(count=6986, freq=69.86),\n",
       " 'c': Fred(count=2038, freq=20.38),\n",
       " 'b': Fred(count=976, freq=9.76)}"
      ]
     },
     "execution_count": 70,
     "metadata": {},
     "output_type": "execute_result"
    }
   ],
   "source": [
    "weights = [7,1,2]\n",
    "freq_counts(random.choices(l,k=10_000,weights = weights))"
   ]
  },
  {
   "cell_type": "code",
   "execution_count": 72,
   "metadata": {},
   "outputs": [],
   "source": [
    "cum_weights = [7,8,10]"
   ]
  },
  {
   "cell_type": "code",
   "execution_count": 74,
   "metadata": {},
   "outputs": [
    {
     "data": {
      "text/plain": [
       "{'a': Fred(count=7021, freq=70.21),\n",
       " 'c': Fred(count=2022, freq=20.22),\n",
       " 'b': Fred(count=957, freq=9.57)}"
      ]
     },
     "execution_count": 74,
     "metadata": {},
     "output_type": "execute_result"
    }
   ],
   "source": [
    "freq_counts(random.choices(l,k=10_000,cum_weights = cum_weights))"
   ]
  },
  {
   "cell_type": "code",
   "execution_count": 76,
   "metadata": {},
   "outputs": [],
   "source": [
    "from time import perf_counter\n"
   ]
  },
  {
   "cell_type": "code",
   "execution_count": 81,
   "metadata": {},
   "outputs": [],
   "source": [
    "random.seed(0)"
   ]
  },
  {
   "cell_type": "code",
   "execution_count": 86,
   "metadata": {
    "scrolled": true
   },
   "outputs": [
    {
     "name": "stdout",
     "output_type": "stream",
     "text": [
      "Avg elapsed time : 0.000000088145172\n"
     ]
    }
   ],
   "source": [
    "denoms  = random.choices([0,1],k=10_000_000)\n",
    "start = perf_counter()\n",
    "for d in denoms:\n",
    "    if d ==0:\n",
    "        continue\n",
    "    else:\n",
    "        10 / d\n",
    "end = perf_counter()\n",
    "print(f'Avg elapsed time : {(end-start)/len(denoms):0.15f}')"
   ]
  },
  {
   "cell_type": "code",
   "execution_count": 88,
   "metadata": {},
   "outputs": [
    {
     "name": "stdout",
     "output_type": "stream",
     "text": [
      "Avg elapsed time : 0.000000309332853\n"
     ]
    }
   ],
   "source": [
    "denoms  = random.choices([0,1],k=10_000_000)\n",
    "start = perf_counter()\n",
    "for d in denoms:\n",
    "    try:\n",
    "        10 / d\n",
    "    except ZeroDivisionError:\n",
    "        pass\n",
    "end = perf_counter()\n",
    "print(f'Avg elapsed time : {(end-start)/len(denoms):0.15f}')"
   ]
  },
  {
   "cell_type": "code",
   "execution_count": 91,
   "metadata": {},
   "outputs": [],
   "source": [
    "random.seed(0)\n",
    "denoms = random.choices([0,1],k=10_000_000,weights = [1,9])"
   ]
  },
  {
   "cell_type": "code",
   "execution_count": 93,
   "metadata": {},
   "outputs": [
    {
     "name": "stdout",
     "output_type": "stream",
     "text": [
      "Avg elapsed time : 0.000000088955607\n"
     ]
    }
   ],
   "source": [
    "denoms  = random.choices([0,1],k=10_000_000)\n",
    "start = perf_counter()\n",
    "for d in denoms:\n",
    "    if d ==0:\n",
    "        continue\n",
    "    else:\n",
    "        10 / d\n",
    "end = perf_counter()\n",
    "print(f'Avg elapsed time : {(end-start)/len(denoms):0.15f}')"
   ]
  },
  {
   "cell_type": "code",
   "execution_count": 97,
   "metadata": {},
   "outputs": [
    {
     "name": "stdout",
     "output_type": "stream",
     "text": [
      "Avg elapsed time : 3.007908813015092e-07\n"
     ]
    }
   ],
   "source": [
    "denoms  = random.choices([0,1],k=10_000_000)\n",
    "start = perf_counter()\n",
    "for d in denoms:\n",
    "    try:\n",
    "        10 / d\n",
    "    except ZeroDivisionError:\n",
    "        pass\n",
    "end = perf_counter()\n",
    "print(f'Avg elapsed time : {(end-start)/len(denoms):0.15f}')"
   ]
  },
  {
   "cell_type": "code",
   "execution_count": 96,
   "metadata": {},
   "outputs": [],
   "source": [
    "random.seed(0)\n",
    "denoms = random.choices([0,1],k=10_000_000,weights = [1,9])"
   ]
  },
  {
   "cell_type": "code",
   "execution_count": 100,
   "metadata": {},
   "outputs": [
    {
     "name": "stdout",
     "output_type": "stream",
     "text": [
      "Avg elapsed time : 8.831604220322334e-08\n"
     ]
    }
   ],
   "source": [
    "denoms  = random.choices([0,1],k=10_000_000)\n",
    "start = perf_counter()\n",
    "for d in denoms:\n",
    "    if d ==0:\n",
    "        continue\n",
    "    else:\n",
    "        10 / d\n",
    "end = perf_counter()\n",
    "print(f'Avg elapsed time : {(end-start)/len(denoms)}')"
   ]
  },
  {
   "cell_type": "code",
   "execution_count": 101,
   "metadata": {},
   "outputs": [
    {
     "name": "stdout",
     "output_type": "stream",
     "text": [
      "Avg elapsed time : 3.031444753985852e-07\n"
     ]
    }
   ],
   "source": [
    "denoms  = random.choices([0,1],k=10_000_000)\n",
    "start = perf_counter()\n",
    "for d in denoms:\n",
    "    try:\n",
    "        10 / d\n",
    "    except ZeroDivisionError:\n",
    "        pass\n",
    "end = perf_counter()\n",
    "print(f'Avg elapsed time : {(end-start)/len(denoms)}')"
   ]
  }
 ],
 "metadata": {
  "kernelspec": {
   "display_name": "Python 3",
   "language": "python",
   "name": "python3"
  },
  "language_info": {
   "codemirror_mode": {
    "name": "ipython",
    "version": 3
   },
   "file_extension": ".py",
   "mimetype": "text/x-python",
   "name": "python",
   "nbconvert_exporter": "python",
   "pygments_lexer": "ipython3",
   "version": "3.6.0"
  }
 },
 "nbformat": 4,
 "nbformat_minor": 4
}
