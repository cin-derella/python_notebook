{
 "cells": [
  {
   "cell_type": "code",
   "execution_count": 1,
   "metadata": {},
   "outputs": [],
   "source": [
    "from functools import total_ordering"
   ]
  },
  {
   "cell_type": "code",
   "execution_count": 35,
   "metadata": {},
   "outputs": [],
   "source": [
    "@total_ordering\n",
    "class Mod:\n",
    "    def __init__(self,value,modulus):\n",
    "        if not isinstance(modulus,int):\n",
    "            raise TypeError('Unsupported type for modulus')\n",
    "        if not isinstance(value,int):\n",
    "            raise TypeError('Unsupported type for value')\n",
    "        if modulus <=0:\n",
    "            raise TypeErro('Modulus must be positive')\n",
    "            \n",
    "        self._modulus = modulus\n",
    "        self._value = value % modulus\n",
    "        \n",
    "    @property\n",
    "    def modulus(self):\n",
    "        return self._modulus\n",
    "    \n",
    "    @property\n",
    "    def value(self):\n",
    "        return self._value\n",
    "    \n",
    "    def __repr__(self):\n",
    "        return f'Mod({self.value},{self.modulus})'\n",
    "    \n",
    "    def __int__(self):\n",
    "        return self.value\n",
    "    \n",
    "    def __eq__(self,other):\n",
    "        if isinstance(other,Mod):\n",
    "            if self.modulus != other.modulus:\n",
    "                return NotImplemented\n",
    "            else:\n",
    "                return self.value == other.value\n",
    "            \n",
    "        elif isinstance(other,int):\n",
    "            return other % self.modulus ==self.value\n",
    "        else:\n",
    "            return NotImplemented\n",
    "    \n",
    "    def __hash__(self):\n",
    "        return hash((self.value,self.modulus))\n",
    "    \n",
    "    def __neg__(self):\n",
    "        return Mod(-self.value,self.modulus)\n",
    "    \n",
    "    def __add__(self,other):\n",
    "        if isinstance(other,Mod) and self.modulus == other.modulus:\n",
    "            return Mod(self.value+ other.value, self.modulus)\n",
    "        if isinstance(other,int):\n",
    "            return Mod(self.value + other, self.modulus)\n",
    "        return NotImplemented\n",
    "    \n",
    "    def _sub__(self,other):\n",
    "        if isinstance(other,Mod) and self.modulus == other.mudulus:\n",
    "            return Mod(self.value - other.value, self.modulus)\n",
    "        if isinstance(other,int):\n",
    "            return Mod(self.value - other, self.modulus)\n",
    "        return NotImplemented\n",
    "    \n",
    "    def __mul__(self,other):\n",
    "        if isinstance(other,Mod) and self.modulus == other.mudulus:\n",
    "            return Mod(self.value * other.value, self.modulus)\n",
    "        if isinstance(other,int):\n",
    "            return Mod(self.value * (other % self.modulus), self,modulus)\n",
    "        return NotImplemented    \n",
    "    \n",
    "    def __pow__(self,other):\n",
    "        if isinstance(other,Mod) and self.modulus == other.modulus:\n",
    "            return Mod(self.value ** other.value, self.modulus)\n",
    "        if isinstance(other,int):\n",
    "            return Mod(self.value ** (other % self.modulus), self,modulus)\n",
    "        return NotImplemented\n",
    "    \n",
    "    def __iadd__(self,other):\n",
    "        if isinstance(other,Mod) and self.modulus == other.modulus:\n",
    "            self.value = (self.value + other.value)%self.modulus\n",
    "            return self\n",
    "        if isinstance(other,int):\n",
    "            self.value =  (self.value + other)% self.modulus\n",
    "            return self\n",
    "        return NotImplemented\n",
    "    \n",
    "    def __iasub__(self,other):\n",
    "        if isinstance(other,Mod) and self.modulus == other.modulus:\n",
    "            self.value = (self.value - other.value)%self.modulus\n",
    "            return self\n",
    "        if isinstance(other,int):\n",
    "            self.value =  (self.value - other)% self,modulus\n",
    "            return self\n",
    "        return NotImplemented\n",
    "\n",
    "    def __imul__(self,other):\n",
    "        if isinstance(other,Mod) and self.modulus == other.modulus:\n",
    "            self.value = (self.value * other.value)%self.modulus\n",
    "            return self\n",
    "        if isinstance(other,int):\n",
    "            self.value =  (self.value * other)% self.modulus\n",
    "            return self\n",
    "        return NotImplemented\n",
    "    \n",
    "    def __ipow__(self,other):\n",
    "        if isinstance(other,Mod) and self.modulus == other.modulus:\n",
    "            self.value = (self.value ** other.value)%self.modulus\n",
    "            return self\n",
    "        if isinstance(other,int):\n",
    "            self.value =  (self.value **(other % self.modulus))% self.modulus\n",
    "            return self\n",
    "        return NotImplemented\n",
    "    \n",
    "    \n",
    "    def __lt__(self,other):\n",
    "        if isinstance(other,Mod) and self.modulus == other.modulus:\n",
    "            return self.value <= other.value\n",
    "        if isinstance(other,int):\n",
    "            return self.value < other% self.modulus\n",
    "        return NotImplemented"
   ]
  },
  {
   "cell_type": "code",
   "execution_count": 36,
   "metadata": {},
   "outputs": [
    {
     "data": {
      "text/plain": [
       "True"
      ]
     },
     "execution_count": 36,
     "metadata": {},
     "output_type": "execute_result"
    }
   ],
   "source": [
    "Mod(3,12) == Mod(15,12)"
   ]
  },
  {
   "cell_type": "code",
   "execution_count": 37,
   "metadata": {},
   "outputs": [
    {
     "data": {
      "text/plain": [
       "Mod(3,12)"
      ]
     },
     "execution_count": 37,
     "metadata": {},
     "output_type": "execute_result"
    }
   ],
   "source": [
    "Mod(3,12) +12\n"
   ]
  },
  {
   "cell_type": "code",
   "execution_count": 38,
   "metadata": {},
   "outputs": [
    {
     "data": {
      "text/plain": [
       "Mod(4,12)"
      ]
     },
     "execution_count": 38,
     "metadata": {},
     "output_type": "execute_result"
    }
   ],
   "source": [
    "Mod(3,12)+25"
   ]
  },
  {
   "cell_type": "code",
   "execution_count": 39,
   "metadata": {},
   "outputs": [
    {
     "data": {
      "text/plain": [
       "Mod(4,12)"
      ]
     },
     "execution_count": 39,
     "metadata": {},
     "output_type": "execute_result"
    }
   ],
   "source": [
    "Mod(3,12) + Mod(25,12)"
   ]
  },
  {
   "cell_type": "code",
   "execution_count": 40,
   "metadata": {},
   "outputs": [],
   "source": [
    "def _is_compatible(self,other):\n",
    "    return isinstance(other,int) or (isinstance(other,Mod) and self.modulus == other.modulus)"
   ]
  },
  {
   "cell_type": "code",
   "execution_count": 41,
   "metadata": {},
   "outputs": [],
   "source": [
    "def _get_value(self,other):\n",
    "    if isinstance(other,int):\n",
    "        return other % self.modulus\n",
    "    if isinstance(other,Mod) and self.modulus == other.modulus:\n",
    "        return other.value\n",
    "    raise TypeError('Incompatible types')"
   ]
  },
  {
   "cell_type": "code",
   "execution_count": 44,
   "metadata": {},
   "outputs": [],
   "source": [
    "@total_ordering\n",
    "class Mod:\n",
    "    def __init__(self,value,modulus):\n",
    "        if not isinstance(modulus,int):\n",
    "            raise TypeError('Unsupported type for modulus')\n",
    "        if not isinstance(value,int):\n",
    "            raise TypeError('Unsupported type for value')\n",
    "        if modulus <=0:\n",
    "            raise TypeErro('Modulus must be positive')\n",
    "            \n",
    "        self._modulus = modulus\n",
    "        self._value = value % modulus\n",
    "        \n",
    "    @property\n",
    "    def modulus(self):\n",
    "        return self._modulus\n",
    "    \n",
    "    @property\n",
    "    def value(self):\n",
    "        return self._value\n",
    "    \n",
    "    def __repr__(self):\n",
    "        return f'Mod({self.value},{self.modulus})'\n",
    "    \n",
    "    def __int__(self):\n",
    "        return self.value\n",
    "    \n",
    "    \n",
    "    \n",
    "    def _get_value(self,other):\n",
    "        if isinstance(other,int):\n",
    "            return other % self.modulus\n",
    "        if isinstance(other,Mod) and self.modulus == other.modulus:\n",
    "            return other.value\n",
    "        raise TypeError('Incompatible types')\n",
    "   \n",
    "\n",
    "    def __eq__(self,other):\n",
    "        other_value = self._get_value(other)\n",
    "        return other_value == self.value\n",
    "    \n",
    "    def __hash__(self):\n",
    "        return hash((self.value,self.modulus))\n",
    "    \n",
    "    def __neg__(self):\n",
    "        return Mod(-self.value,self.modulus)\n",
    "    \n",
    "    def __add__(self,other):\n",
    "        other_value = self._get_value(other)\n",
    "        return Mod(self.value + other_value,self.modulus)\n",
    "\n",
    "    \n",
    "    def _sub__(self,other):\n",
    "        other_value = self._get_value(other)\n",
    "        return Mod(self.value - other_value,self.modulus)\n",
    "\n",
    "    \n",
    "    \n",
    "    def __mul__(self,other):\n",
    "        other_value = self._get_value(other)\n",
    "        return Mod(self.value * other_value,self.modulus)\n",
    "\n",
    "    \n",
    "    def __pow__(self,other):\n",
    "        other_value = self._get_value(other)\n",
    "        return Mod(self.value ** oother_value,self.modulus)\n",
    "\n",
    "    \n",
    "    def __iadd__(self,other):\n",
    "        other_value = self._get_value(other)\n",
    "        self.value = (self.value + other_value)%self.modulus\n",
    "        return self\n",
    "    \n",
    "    def __iasub__(self,other):\n",
    "        other_value = self._get_value(other)\n",
    "        self.value = (self.value - other_value)%self.modulus\n",
    "        return self\n",
    "\n",
    "    def __imul__(self,other):\n",
    "        other_value = self._get_value(other)\n",
    "        self.value = (self.value * other_value)%self.modulus\n",
    "        return self\n",
    "    \n",
    "    def __ipow__(self,other):\n",
    "        other_value = self._get_value(other)\n",
    "        self.value = (self.value ** other_value)%self.modulus\n",
    "        return self\n",
    "    \n",
    "    \n",
    "    def __lt__(self,other):\n",
    "        other_value = self._get_value(other)\n",
    "        return self.value < other_value"
   ]
  },
  {
   "cell_type": "code",
   "execution_count": 45,
   "metadata": {},
   "outputs": [
    {
     "data": {
      "text/plain": [
       "Mod(0,3)"
      ]
     },
     "execution_count": 45,
     "metadata": {},
     "output_type": "execute_result"
    }
   ],
   "source": [
    "Mod(2,3)*18"
   ]
  },
  {
   "cell_type": "code",
   "execution_count": 46,
   "metadata": {},
   "outputs": [
    {
     "data": {
      "text/plain": [
       "False"
      ]
     },
     "execution_count": 46,
     "metadata": {},
     "output_type": "execute_result"
    }
   ],
   "source": [
    "Mod(2,3) < Mod(4,3)"
   ]
  },
  {
   "cell_type": "code",
   "execution_count": 49,
   "metadata": {},
   "outputs": [],
   "source": [
    "import operator"
   ]
  },
  {
   "cell_type": "code",
   "execution_count": 50,
   "metadata": {},
   "outputs": [
    {
     "data": {
      "text/plain": [
       "30"
      ]
     },
     "execution_count": 50,
     "metadata": {},
     "output_type": "execute_result"
    }
   ],
   "source": [
    "operator.add(10,20)"
   ]
  },
  {
   "cell_type": "code",
   "execution_count": 51,
   "metadata": {},
   "outputs": [
    {
     "data": {
      "text/plain": [
       "256"
      ]
     },
     "execution_count": 51,
     "metadata": {},
     "output_type": "execute_result"
    }
   ],
   "source": [
    "operator.pow(2,8)"
   ]
  },
  {
   "cell_type": "code",
   "execution_count": 52,
   "metadata": {},
   "outputs": [],
   "source": [
    "def _perform_operation(self,other,op,*,in_place=False):\n",
    "    other_value= self._get_value(other)\n",
    "    new_value = op(self.value,other_value)\n",
    "    if in_place:\n",
    "        self.value = new_value % self.modulus\n",
    "        return self\n",
    "    else:\n",
    "        return Mod(new_value,self.modulus)"
   ]
  },
  {
   "cell_type": "code",
   "execution_count": 57,
   "metadata": {},
   "outputs": [],
   "source": [
    "@total_ordering\n",
    "class Mod:\n",
    "    def __init__(self,value,modulus):\n",
    "        if not isinstance(modulus,int):\n",
    "            raise TypeError('Unsupported type for modulus')\n",
    "        if not isinstance(value,int):\n",
    "            raise TypeError('Unsupported type for value')\n",
    "        if modulus <=0:\n",
    "            raise TypeErro('Modulus must be positive')\n",
    "            \n",
    "        self._modulus = modulus\n",
    "        self._value = value % modulus\n",
    "        \n",
    "    @property\n",
    "    def modulus(self):\n",
    "        return self._modulus\n",
    "    \n",
    "    @property\n",
    "    def value(self):\n",
    "        return self._value\n",
    "    \n",
    "    def __repr__(self):\n",
    "        return f'Mod({self.value},{self.modulus})'\n",
    "    \n",
    "    def __int__(self):\n",
    "        return self.value\n",
    "    \n",
    "    \n",
    "    \n",
    "    def _get_value(self,other):\n",
    "        if isinstance(other,int):\n",
    "            return other % self.modulus\n",
    "        if isinstance(other,Mod) and self.modulus == other.modulus:\n",
    "            return other.value\n",
    "        raise TypeError('Incompatible types')\n",
    "   \n",
    "    def _perform_operation(self,other,op,*,in_place=False):\n",
    "        other_value= self._get_value(other)\n",
    "        new_value = op(self.value,other_value)\n",
    "        if in_place:\n",
    "            self.value = new_value % self.modulus\n",
    "            return self\n",
    "        else:\n",
    "            return Mod(new_value,self.modulus)\n",
    "\n",
    "\n",
    "    def __eq__(self,other):\n",
    "        other_value = self._get_value(other)\n",
    "        return other_value == self.value\n",
    "    \n",
    "    def __hash__(self):\n",
    "        return hash((self.value,self.modulus))\n",
    "    \n",
    "    def __neg__(self):\n",
    "        return Mod(-self.value,self.modulus)\n",
    "    \n",
    "    def __add__(self,other):\n",
    "        return self._perform_operation(other,operator.add)\n",
    "    \n",
    "\n",
    "    \n",
    "    def _sub__(self,other):\n",
    "        return self._perform_operation(other,operator.sub)\n",
    "\n",
    "    \n",
    "    \n",
    "    def __mul__(self,other):\n",
    "        return self._perform_operation(other,operator.mul)\n",
    "\n",
    "    \n",
    "    def __pow__(self,other):\n",
    "        return self._perform_operation(other,operator.pow)\n",
    "\n",
    "    \n",
    "    def __iadd__(self,other):\n",
    "        return self._perform_operation(other,operator.add,in_place = True)\n",
    "\n",
    "    \n",
    "    def __iasub__(self,other):\n",
    "        return self._perform_operation(other,operator.sub,in_place = True)\n",
    "    \n",
    "    def __imul__(self,other):\n",
    "        return self._perform_operation(other,operator.mul,in_place = True)\n",
    "    \n",
    "    def __ipow__(self,other):\n",
    "        return self._perform_operation(other,operator.pow,in_place = True)\n",
    "    \n",
    "    \n",
    "    def __lt__(self,other):\n",
    "        other_value = self._get_value(other)\n",
    "        return self.value < other_value"
   ]
  },
  {
   "cell_type": "code",
   "execution_count": 58,
   "metadata": {},
   "outputs": [
    {
     "data": {
      "text/plain": [
       "Mod(5,12)"
      ]
     },
     "execution_count": 58,
     "metadata": {},
     "output_type": "execute_result"
    }
   ],
   "source": [
    "Mod(3,12) +14"
   ]
  },
  {
   "cell_type": "code",
   "execution_count": null,
   "metadata": {},
   "outputs": [],
   "source": []
  }
 ],
 "metadata": {
  "kernelspec": {
   "display_name": "Python 3",
   "language": "python",
   "name": "python3"
  },
  "language_info": {
   "codemirror_mode": {
    "name": "ipython",
    "version": 3
   },
   "file_extension": ".py",
   "mimetype": "text/x-python",
   "name": "python",
   "nbconvert_exporter": "python",
   "pygments_lexer": "ipython3",
   "version": "3.6.0"
  }
 },
 "nbformat": 4,
 "nbformat_minor": 4
}
