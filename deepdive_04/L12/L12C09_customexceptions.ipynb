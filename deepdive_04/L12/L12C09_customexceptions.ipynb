{
 "cells": [
  {
   "cell_type": "code",
   "execution_count": 1,
   "metadata": {},
   "outputs": [],
   "source": [
    "class TimeoutError(Exception):\n",
    "    pass"
   ]
  },
  {
   "cell_type": "code",
   "execution_count": 2,
   "metadata": {},
   "outputs": [
    {
     "name": "stdout",
     "output_type": "stream",
     "text": [
      "TimeoutError('timeout occurred',)\n"
     ]
    }
   ],
   "source": [
    "try:\n",
    "    raise TimeoutError('timeout occurred')\n",
    "except TimeoutError as ex:\n",
    "    print(repr(ex))"
   ]
  },
  {
   "cell_type": "code",
   "execution_count": 5,
   "metadata": {},
   "outputs": [
    {
     "name": "stdout",
     "output_type": "stream",
     "text": [
      "('timeout occurred',) <traceback object at 0x110d0db08>\n"
     ]
    }
   ],
   "source": [
    "import sys\n",
    "\n",
    "try:\n",
    "    raise TimeoutError('timeout occurred')\n",
    "except Exception as ex:\n",
    "    print(ex.args,ex.__traceback__)"
   ]
  },
  {
   "cell_type": "code",
   "execution_count": 7,
   "metadata": {},
   "outputs": [
    {
     "name": "stdout",
     "output_type": "stream",
     "text": [
      "ReadOnlyError('Account number is read-ony', 'BA10001')\n"
     ]
    }
   ],
   "source": [
    "class ReadOnlyError(AttributeError):\n",
    "    pass\n",
    "\n",
    "try:\n",
    "    raise ReadOnlyError('Account number is read-ony','BA10001')\n",
    "except ReadOnlyError as ex:\n",
    "    print(repr(ex))"
   ]
  },
  {
   "cell_type": "code",
   "execution_count": 8,
   "metadata": {},
   "outputs": [
    {
     "name": "stdout",
     "output_type": "stream",
     "text": [
      "ReadOnlyError('Account number is read-ony', 'BA10001')\n"
     ]
    }
   ],
   "source": [
    "class ReadOnlyError(AttributeError):\n",
    "    pass\n",
    "\n",
    "try:\n",
    "    raise ReadOnlyError('Account number is read-ony','BA10001')\n",
    "except AttributeError as ex:\n",
    "    print(repr(ex))"
   ]
  },
  {
   "cell_type": "code",
   "execution_count": 9,
   "metadata": {},
   "outputs": [
    {
     "name": "stdout",
     "output_type": "stream",
     "text": [
      "ReadOnlyError('Account number is read-ony', 'BA10001')\n"
     ]
    }
   ],
   "source": [
    "class ReadOnlyError(AttributeError):\n",
    "    pass\n",
    "\n",
    "try:\n",
    "    raise ReadOnlyError('Account number is read-ony','BA10001')\n",
    "except BaseException as ex:\n",
    "    print(repr(ex))"
   ]
  },
  {
   "cell_type": "code",
   "execution_count": 12,
   "metadata": {},
   "outputs": [],
   "source": [
    "class WebScraperException(Exception):\n",
    "    pass\n",
    "\n",
    "class HTTPException(WebScraperException):\n",
    "    pass\n",
    "\n",
    "class InvalidUrlException(HTTPException):\n",
    "    pass\n",
    "\n",
    "class TimeoutException(HTTPException):\n",
    "    pass\n",
    "\n",
    "class PingTimeoutException(TimeoutException):\n",
    "    pass\n",
    "\n",
    "class LoadTimeoutException(TimeoutException):\n",
    "    pass\n",
    "\n",
    "class ParseException(WebScraperException):\n",
    "    pass"
   ]
  },
  {
   "cell_type": "code",
   "execution_count": 15,
   "metadata": {},
   "outputs": [
    {
     "name": "stdout",
     "output_type": "stream",
     "text": [
      "PingTimeoutException('Ping to www... time out',)\n"
     ]
    }
   ],
   "source": [
    "try:\n",
    "    raise PingTimeoutException('Ping to www... time out')\n",
    "except WebScraperException as ex:\n",
    "    print(repr(ex))"
   ]
  },
  {
   "cell_type": "code",
   "execution_count": 27,
   "metadata": {},
   "outputs": [],
   "source": [
    "class APIException(Exception):\n",
    "    pass\n",
    "\n",
    "class ApplicationException(APIException):\n",
    "    pass\n",
    "\n",
    "class DBException(ApplicationException):\n",
    "    pass\n",
    "\n",
    "class DBConnectionError(DBException):\n",
    "    pass\n",
    "\n",
    "class ClientException(APIException):\n",
    "    pass\n",
    "\n",
    "class NotFoundError(ClientException):\n",
    "    pass\n",
    "\n",
    "class NotAuthorizedError(ClientException):\n",
    "    pass"
   ]
  },
  {
   "cell_type": "code",
   "execution_count": 28,
   "metadata": {},
   "outputs": [],
   "source": [
    "class Account:\n",
    "    def __init__(self,account_id,account_type):\n",
    "        self.account_id = account_id\n",
    "        self.account_type = account_type"
   ]
  },
  {
   "cell_type": "code",
   "execution_count": 29,
   "metadata": {},
   "outputs": [],
   "source": [
    "def lookup_account_by_id(account_id):\n",
    "    if not isinstance(account_id, int) or account_id <=0:\n",
    "        raise ClientException(f'Account number {account_id} is invalid')\n",
    "\n",
    "    if account_id<100:\n",
    "        raise DBConnectionError('Permanent failure connecting to database')\n",
    "    elif account_id<200:\n",
    "        raise NotAuthorizedError('User does not have permission to read the account')\n",
    "    elif account_id<300:\n",
    "        raise NotFoundError('Account not found')\n",
    "    else:        return Account('account_id','Saving')"
   ]
  },
  {
   "cell_type": "code",
   "execution_count": 30,
   "metadata": {},
   "outputs": [],
   "source": [
    "from http import HTTPStatus"
   ]
  },
  {
   "cell_type": "code",
   "execution_count": 35,
   "metadata": {},
   "outputs": [],
   "source": [
    "def get_account(account_id):\n",
    "    try:\n",
    "        account = lookup_account_by_id(account_id)\n",
    "    except ApplicationException as ex:\n",
    "        return HTTPStatus.INTERNAL_SERVER_ERROR, str(ex)\n",
    "    except NotFoundError as ex:\n",
    "        return HTTPStatus.NOT.FOUND,'The account {} does not exist'.format(account_id)\n",
    "    except NotAuthorizedError as ex:\n",
    "        return HTTPStatus.UNAUTHORIZED,'You do not have the proper authorization'\n",
    "    except ClientException as ex:\n",
    "        return HTTPStatus.BAD_REQUEST,str(ex)\n",
    "    else:\n",
    "        return HTTPStatus.OK,{'id':account.account_id,'type':account.account_type}"
   ]
  },
  {
   "cell_type": "code",
   "execution_count": 36,
   "metadata": {},
   "outputs": [
    {
     "data": {
      "text/plain": [
       "(<HTTPStatus.BAD_REQUEST: 400>, 'Account number abc is invalid')"
      ]
     },
     "execution_count": 36,
     "metadata": {},
     "output_type": "execute_result"
    }
   ],
   "source": [
    "get_account('abc')"
   ]
  },
  {
   "cell_type": "code",
   "execution_count": 37,
   "metadata": {},
   "outputs": [
    {
     "data": {
      "text/plain": [
       "(<HTTPStatus.OK: 200>, {'id': 'account_id', 'type': 'Saving'})"
      ]
     },
     "execution_count": 37,
     "metadata": {},
     "output_type": "execute_result"
    }
   ],
   "source": [
    "get_account(350)"
   ]
  },
  {
   "cell_type": "code",
   "execution_count": 39,
   "metadata": {},
   "outputs": [],
   "source": [
    "class APIException(Exception):\n",
    "    http_status = HTTPStatus.INTERNAL_SERVER_ERROR\n",
    "    internal_err_msg = 'API exception occurred'\n",
    "    user_err_msg = 'We are sorry.An unexpected error occurred on our end'\n",
    "    \n",
    "    def __init__(self,*args,user_err_msg = None):\n",
    "        if args:\n",
    "            self.internal_err_msg = args[0]\n",
    "            super().__init__(*args)\n",
    "        else:\n",
    "            super().__init__(self.internal_err_msg)\n",
    "            \n",
    "        if user_err_msg is not None:\n",
    "            self.user_err_msg = user_err_msg"
   ]
  },
  {
   "cell_type": "code",
   "execution_count": 40,
   "metadata": {},
   "outputs": [
    {
     "name": "stdout",
     "output_type": "stream",
     "text": [
      "APIException('custom message...', 10, 20)\n",
      "We are sorry.An unexpected error occurred on our end\n"
     ]
    }
   ],
   "source": [
    "try:\n",
    "    raise APIException('custom message...',10,20)\n",
    "except APIException as ex:\n",
    "    print(repr(ex))\n",
    "    print(ex.user_err_msg)"
   ]
  },
  {
   "cell_type": "code",
   "execution_count": 41,
   "metadata": {},
   "outputs": [],
   "source": [
    "import json\n",
    "\n",
    "class APIException(Exception):\n",
    "    http_status = HTTPStatus.INTERNAL_SERVER_ERROR\n",
    "    internal_err_msg = 'API exception occurred'\n",
    "    user_err_msg = 'We are sorry.An unexpected error occurred on our end'\n",
    "    \n",
    "    def __init__(self,*args,user_err_msg = None):\n",
    "        if args:\n",
    "            self.internal_err_msg = args[0]\n",
    "            super().__init__(*args)\n",
    "        else:\n",
    "            super().__init__(self.internal_err_msg)\n",
    "            \n",
    "        if user_err_msg is not None:\n",
    "            self.user_err_msg = user_err_msg\n",
    "            \n",
    "    def to_json(self):\n",
    "        err_object = {'status': self.http_status,'message':self.user_err_msg}\n",
    "        return json.dumps(err_object)"
   ]
  },
  {
   "cell_type": "code",
   "execution_count": 42,
   "metadata": {},
   "outputs": [
    {
     "name": "stdout",
     "output_type": "stream",
     "text": [
      "APIException('API exception occurred',)\n",
      "{\"status\": 500, \"message\": \"We are sorry.An unexpected error occurred on our end\"}\n"
     ]
    }
   ],
   "source": [
    "try:\n",
    "    raise APIException()\n",
    "except APIException as ex:\n",
    "    print(repr(ex))\n",
    "    print(ex.to_json())"
   ]
  },
  {
   "cell_type": "code",
   "execution_count": 50,
   "metadata": {},
   "outputs": [],
   "source": [
    "from datetime import datetime\n",
    "\n",
    "class APIException(Exception):\n",
    "    http_status = HTTPStatus.INTERNAL_SERVER_ERROR\n",
    "    internal_err_msg = 'API exception occurred'\n",
    "    user_err_msg = 'We are sorry.An unexpected error occurred on our end'\n",
    "    \n",
    "    def __init__(self,*args,user_err_msg = None):\n",
    "        if args:\n",
    "            self.internal_err_msg = args[0]\n",
    "            super().__init__(*args)\n",
    "        else:\n",
    "            super().__init__(self.internal_err_msg)\n",
    "            \n",
    "        if user_err_msg is not None:\n",
    "            self.user_err_msg = user_err_msg\n",
    "            \n",
    "    def to_json(self):\n",
    "        err_object = {'status': self.http_status,'message':self.user_err_msg}\n",
    "        return json.dumps(err_object)\n",
    "    \n",
    "    def log_exception(self):\n",
    "        exception = {\n",
    "            \"type\":type(self).__name__,\n",
    "            \"http_status\":self.http_status,\n",
    "            \"message\":self.args[0] if self.args else self.internal_err_msg,\n",
    "            \"args\":self.args[1:]\n",
    "        }\n",
    "        print(f'EXCEPTION: {datetime.utcnow().isoformat()}:{exception}')"
   ]
  },
  {
   "cell_type": "code",
   "execution_count": 51,
   "metadata": {},
   "outputs": [
    {
     "name": "stdout",
     "output_type": "stream",
     "text": [
      "APIException('API exception occurred',)\n",
      "{\"status\": 500, \"message\": \"We are sorry.An unexpected error occurred on our end\"}\n"
     ]
    }
   ],
   "source": [
    "try:\n",
    "    raise APIException()\n",
    "except APIException as ex:\n",
    "    print(repr(ex))\n",
    "    print(ex.to_json())"
   ]
  },
  {
   "cell_type": "code",
   "execution_count": 52,
   "metadata": {},
   "outputs": [],
   "source": [
    "class ApplicationException(APIException):\n",
    "    http_status = HTTPStatus.INTERNAL_SERVER_ERROR\n",
    "    internal_err_msg = \"Generic server side exception.\"\n",
    "    user_err_msg = \"We are sorry. An unexpected error occurred on our end.\"\n",
    "    \n",
    "class DBException(ApplicationException):\n",
    "    http_status = HTTPStatus.INTERNAL_SERVER_ERROR\n",
    "    internal_err_msg = \"Database exception.\"\n",
    "    user_err_msg = \"We are sorry. An unexpected error occurred on our end.\"\n",
    "    \n",
    "class DBConnectionError(DBException):\n",
    "    http_status = HTTPStatus.INTERNAL_SERVER_ERROR\n",
    "    internal_err_msg = \"DB connection error.\"\n",
    "    user_err_msg = \"We are sorry. An unexpected error occurred on our end.\"\n",
    "    \n",
    "class ClientException(APIException):\n",
    "    http_status = HTTPStatus.BAD_REQUEST\n",
    "    internal_err_msg = \"Client submitted bad request.\"\n",
    "    user_err_msg = \"A bad request was received.\"\n",
    "    \n",
    "class NotFoundError(ClientException):\n",
    "    http_status = HTTPStatus.NOT_FOUND\n",
    "    internal_err_msg = \"Resource was not found.\"\n",
    "    user_err_msg = \"Requested resource was not found.\"\n",
    "\n",
    "class NotAuthorizedError(ClientException):\n",
    "    http_status = HTTPStatus.UNAUTHORIZED\n",
    "    internal_err_msg = \"Client not authorized to perform operation.\"\n",
    "    user_err_msg = \"You are not authorized to perform this request.\""
   ]
  },
  {
   "cell_type": "code",
   "execution_count": 53,
   "metadata": {},
   "outputs": [],
   "source": [
    "def lookup_account_by_id(account_id):\n",
    "    if not isinstance(account_id, int) or account_id <=0:\n",
    "        raise ClientException(f'Account number {account_id} is invalid',\n",
    "                             f'account_id = {account_id}',\n",
    "                             'type error - accout number not an integer')\n",
    "\n",
    "    if account_id<100:\n",
    "        raise DBConnectionError('Permanent failure connecting to database','db = db01')\n",
    "    elif account_id<200:\n",
    "        raise NotAuthorizedError('User does not have permission to read the account',f'account_id={account_id}')\n",
    "    elif account_id<300:\n",
    "        raise NotFoundError('Account not found',f'account_id={account_id}')\n",
    "    else:\n",
    "        return Account('account_id','Saving')"
   ]
  },
  {
   "cell_type": "code",
   "execution_count": 54,
   "metadata": {},
   "outputs": [],
   "source": [
    "def get_account(account_id):\n",
    "    try:\n",
    "        account = lookup_account_by_id(account_id)\n",
    "    except APIException as ex:\n",
    "        ex.log_exception()\n",
    "        return ex.to_json\n",
    "    else:\n",
    "        return HTTPStatus.OK,{'id':account.account_id,'type':account.account_type}"
   ]
  },
  {
   "cell_type": "code",
   "execution_count": 55,
   "metadata": {},
   "outputs": [
    {
     "name": "stdout",
     "output_type": "stream",
     "text": [
      "EXCEPTION: 2020-03-28T08:50:34.539345:{'type': 'ClientException', 'http_status': <HTTPStatus.BAD_REQUEST: 400>, 'message': 'Account number ABC is invalid', 'args': ('account_id = ABC', 'type error - accout number not an integer')}\n"
     ]
    },
    {
     "data": {
      "text/plain": [
       "<bound method APIException.to_json of ClientException('Account number ABC is invalid', 'account_id = ABC', 'type error - accout number not an integer')>"
      ]
     },
     "execution_count": 55,
     "metadata": {},
     "output_type": "execute_result"
    }
   ],
   "source": [
    "get_account('ABC')"
   ]
  },
  {
   "cell_type": "code",
   "execution_count": 56,
   "metadata": {},
   "outputs": [
    {
     "name": "stdout",
     "output_type": "stream",
     "text": [
      "EXCEPTION: 2020-03-28T08:51:18.434996:{'type': 'DBConnectionError', 'http_status': <HTTPStatus.INTERNAL_SERVER_ERROR: 500>, 'message': 'Permanent failure connecting to database', 'args': ('db = db01',)}\n"
     ]
    },
    {
     "data": {
      "text/plain": [
       "<bound method APIException.to_json of DBConnectionError('Permanent failure connecting to database', 'db = db01')>"
      ]
     },
     "execution_count": 56,
     "metadata": {},
     "output_type": "execute_result"
    }
   ],
   "source": [
    "get_account(50)"
   ]
  },
  {
   "cell_type": "code",
   "execution_count": 57,
   "metadata": {},
   "outputs": [
    {
     "name": "stdout",
     "output_type": "stream",
     "text": [
      "EXCEPTION: 2020-03-28T08:51:25.827584:{'type': 'NotFoundError', 'http_status': <HTTPStatus.NOT_FOUND: 404>, 'message': 'Account not found', 'args': ('account_id=250',)}\n"
     ]
    },
    {
     "data": {
      "text/plain": [
       "<bound method APIException.to_json of NotFoundError('Account not found', 'account_id=250')>"
      ]
     },
     "execution_count": 57,
     "metadata": {},
     "output_type": "execute_result"
    }
   ],
   "source": [
    "get_account(250)"
   ]
  },
  {
   "cell_type": "code",
   "execution_count": 58,
   "metadata": {},
   "outputs": [],
   "source": [
    "class AppException(Exception):\n",
    "    pass\n",
    "\n",
    "class NegativeIntegerError(AppException):\n",
    "    pass"
   ]
  },
  {
   "cell_type": "code",
   "execution_count": 59,
   "metadata": {},
   "outputs": [],
   "source": [
    "def set_age(age):\n",
    "    if age<0:\n",
    "        raise NegativeIntegerError('age can not be negative')"
   ]
  },
  {
   "cell_type": "code",
   "execution_count": 61,
   "metadata": {},
   "outputs": [
    {
     "name": "stdout",
     "output_type": "stream",
     "text": [
      "NegativeIntegerError('age can not be negtive',)\n"
     ]
    }
   ],
   "source": [
    "try:\n",
    "    set_age(-10)\n",
    "except NegativeIntegerError as ex:\n",
    "    print(repr(ex))"
   ]
  },
  {
   "cell_type": "code",
   "execution_count": 62,
   "metadata": {},
   "outputs": [],
   "source": [
    "ex = NegativeIntegerError()"
   ]
  },
  {
   "cell_type": "code",
   "execution_count": 63,
   "metadata": {},
   "outputs": [
    {
     "data": {
      "text/plain": [
       "True"
      ]
     },
     "execution_count": 63,
     "metadata": {},
     "output_type": "execute_result"
    }
   ],
   "source": [
    "isinstance(ex,AppException)"
   ]
  },
  {
   "cell_type": "code",
   "execution_count": 64,
   "metadata": {},
   "outputs": [
    {
     "data": {
      "text/plain": [
       "False"
      ]
     },
     "execution_count": 64,
     "metadata": {},
     "output_type": "execute_result"
    }
   ],
   "source": [
    "isinstance(ex,ValueError)"
   ]
  },
  {
   "cell_type": "code",
   "execution_count": 65,
   "metadata": {},
   "outputs": [],
   "source": [
    "def set_age(age):\n",
    "    if age < 0:\n",
    "        raise NegativeIntegerError('age can not be negative')\n"
   ]
  },
  {
   "cell_type": "code",
   "execution_count": 66,
   "metadata": {},
   "outputs": [
    {
     "name": "stdout",
     "output_type": "stream",
     "text": [
      "NegativeIntegerError('age can not be negative',)\n"
     ]
    }
   ],
   "source": [
    "try:\n",
    "    set_age(-10)\n",
    "except NegativeIntegerError as ex:\n",
    "    print(repr(ex))"
   ]
  },
  {
   "cell_type": "code",
   "execution_count": null,
   "metadata": {},
   "outputs": [],
   "source": []
  }
 ],
 "metadata": {
  "kernelspec": {
   "display_name": "Python 3",
   "language": "python",
   "name": "python3"
  },
  "language_info": {
   "codemirror_mode": {
    "name": "ipython",
    "version": 3
   },
   "file_extension": ".py",
   "mimetype": "text/x-python",
   "name": "python",
   "nbconvert_exporter": "python",
   "pygments_lexer": "ipython3",
   "version": "3.6.0"
  }
 },
 "nbformat": 4,
 "nbformat_minor": 4
}
