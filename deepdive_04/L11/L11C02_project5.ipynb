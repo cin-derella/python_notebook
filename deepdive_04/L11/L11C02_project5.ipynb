{
 "cells": [
  {
   "cell_type": "code",
   "execution_count": 1,
   "metadata": {},
   "outputs": [],
   "source": [
    "class GenericException(Exception):\n",
    "    pass\n",
    "\n",
    "class Timeout(Exception):\n",
    "    pass"
   ]
  },
  {
   "cell_type": "code",
   "execution_count": 2,
   "metadata": {},
   "outputs": [],
   "source": [
    "from enum import Enum,unique"
   ]
  },
  {
   "cell_type": "code",
   "execution_count": 5,
   "metadata": {},
   "outputs": [],
   "source": [
    "@unique\n",
    "class AppException(Enum):\n",
    "    Generic = 100,GenericException,'Application exception'\n",
    "    Timeout = 101,Timeout,'Timeout connecting to resource'\n",
    "    NotAnInteger = 200,ValueError,'Value must be an integer'\n",
    "    NotAList = 201,ValueError,'Value must be a list'\n",
    "    \n",
    "    def __new__(cls,ex_code,ex_class,ex_message):\n",
    "        member = object.__new__(cls)\n",
    "        \n",
    "        \n",
    "        member._value_=ex_code\n",
    "        member.exception = ex_class\n",
    "        member.message = ex_message\n",
    "        return member"
   ]
  },
  {
   "cell_type": "code",
   "execution_count": 8,
   "metadata": {},
   "outputs": [
    {
     "data": {
      "text/plain": [
       "(101, 'Timeout connecting to resource', __main__.Timeout)"
      ]
     },
     "execution_count": 8,
     "metadata": {},
     "output_type": "execute_result"
    }
   ],
   "source": [
    "AppException.Timeout.value, AppException.Timeout.message, AppException.Timeout.exception"
   ]
  },
  {
   "cell_type": "code",
   "execution_count": 10,
   "metadata": {},
   "outputs": [
    {
     "name": "stdout",
     "output_type": "stream",
     "text": [
      "101 - Timeout connecting to resource\n"
     ]
    }
   ],
   "source": [
    "try:\n",
    "    raise AppException.Timeout.exception(f'{AppException.Timeout.value} - {AppException.Timeout.message}')\n",
    "except Timeout as ex:\n",
    "    print(ex)"
   ]
  },
  {
   "cell_type": "code",
   "execution_count": 11,
   "metadata": {},
   "outputs": [
    {
     "data": {
      "text/plain": [
       "<AppException.Timeout: 101>"
      ]
     },
     "execution_count": 11,
     "metadata": {},
     "output_type": "execute_result"
    }
   ],
   "source": [
    "AppException(101)"
   ]
  },
  {
   "cell_type": "code",
   "execution_count": 12,
   "metadata": {},
   "outputs": [],
   "source": [
    "@unique\n",
    "class AppException(Enum):\n",
    "    Generic = 100,GenericException,'Application exception'\n",
    "    Timeout = 101,Timeout,'Timeout connecting to resource'\n",
    "    NotAnInteger = 200,ValueError,'Value must be an integer'\n",
    "    NotAList = 201,ValueError,'Value must be a list'\n",
    "    \n",
    "    def __new__(cls,ex_code,ex_class,ex_message):\n",
    "        member = object.__new__(cls)\n",
    "        \n",
    "        \n",
    "        member._value_=ex_code\n",
    "        member.exception = ex_class\n",
    "        member.message = ex_message\n",
    "        return member\n",
    "    \n",
    "    @property\n",
    "    def code(self):\n",
    "        return self.value\n",
    "    \n",
    "    def throw(self):\n",
    "        raise self.exception(f'{self.code}- {self.message}')"
   ]
  },
  {
   "cell_type": "code",
   "execution_count": 13,
   "metadata": {},
   "outputs": [
    {
     "name": "stdout",
     "output_type": "stream",
     "text": [
      "200- Value must be an integer\n"
     ]
    }
   ],
   "source": [
    "try:\n",
    "    AppException.NotAnInteger.throw()\n",
    "except Exception as ex:\n",
    "    print(ex)"
   ]
  },
  {
   "cell_type": "code",
   "execution_count": 14,
   "metadata": {},
   "outputs": [],
   "source": [
    "@unique\n",
    "class AppException(Enum):\n",
    "    Generic = 100,GenericException,'Application exception'\n",
    "    Timeout = 101,Timeout,'Timeout connecting to resource'\n",
    "    NotAnInteger = 200,ValueError,'Value must be an integer'\n",
    "    NotAList = 201,ValueError,'Value must be a list'\n",
    "    \n",
    "    def __new__(cls,ex_code,ex_class,ex_message):\n",
    "        member = object.__new__(cls)\n",
    "        \n",
    "        \n",
    "        member._value_=ex_code\n",
    "        member.exception = ex_class\n",
    "        member.message = ex_message\n",
    "        return member\n",
    "    \n",
    "    @property\n",
    "    def code(self):\n",
    "        return self.value\n",
    "    \n",
    "    def throw(self,message = None):\n",
    "        message = message or self.message\n",
    "        raise self.exception(f'{self.code}- {message}')\n",
    "        "
   ]
  },
  {
   "cell_type": "code",
   "execution_count": 17,
   "metadata": {},
   "outputs": [
    {
     "name": "stdout",
     "output_type": "stream",
     "text": [
      "200- blah blah\n"
     ]
    }
   ],
   "source": [
    "try:\n",
    "    AppException.NotAnInteger.throw('blah blah')\n",
    "except Exception as ex:\n",
    "    print(ex)"
   ]
  },
  {
   "cell_type": "code",
   "execution_count": 18,
   "metadata": {},
   "outputs": [
    {
     "data": {
      "text/plain": [
       "[<AppException.Generic: 100>,\n",
       " <AppException.Timeout: 101>,\n",
       " <AppException.NotAnInteger: 200>,\n",
       " <AppException.NotAList: 201>]"
      ]
     },
     "execution_count": 18,
     "metadata": {},
     "output_type": "execute_result"
    }
   ],
   "source": [
    "list(AppException)"
   ]
  },
  {
   "cell_type": "code",
   "execution_count": 19,
   "metadata": {},
   "outputs": [
    {
     "data": {
      "text/plain": [
       "[('Generic', 100, 'Application exception'),\n",
       " ('Timeout', 101, 'Timeout connecting to resource'),\n",
       " ('NotAnInteger', 200, 'Value must be an integer'),\n",
       " ('NotAList', 201, 'Value must be a list')]"
      ]
     },
     "execution_count": 19,
     "metadata": {},
     "output_type": "execute_result"
    }
   ],
   "source": [
    "[(ex.name,ex.code,ex.message) for ex in AppException]"
   ]
  },
  {
   "cell_type": "code",
   "execution_count": null,
   "metadata": {},
   "outputs": [],
   "source": []
  }
 ],
 "metadata": {
  "kernelspec": {
   "display_name": "Python 3",
   "language": "python",
   "name": "python3"
  },
  "language_info": {
   "codemirror_mode": {
    "name": "ipython",
    "version": 3
   },
   "file_extension": ".py",
   "mimetype": "text/x-python",
   "name": "python",
   "nbconvert_exporter": "python",
   "pygments_lexer": "ipython3",
   "version": "3.6.0"
  }
 },
 "nbformat": 4,
 "nbformat_minor": 4
}
