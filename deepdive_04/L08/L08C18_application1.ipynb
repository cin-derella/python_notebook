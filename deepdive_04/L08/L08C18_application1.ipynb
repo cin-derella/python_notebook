{
 "cells": [
  {
   "cell_type": "code",
   "execution_count": 1,
   "metadata": {},
   "outputs": [],
   "source": [
    "class Int:\n",
    "    def __set_name__(self,owner_class,prop_name):\n",
    "        self.prop_name = prop_name\n",
    "    \n",
    "    def __set__(self,instance,value):\n",
    "        if not isinstance(value,int):\n",
    "            raise ValueError(f'{self.prop_name} must be an integer.')\n",
    "        instance.__dict__[prop_name] = value\n",
    "        \n",
    "    def __get__(self,instance,owner_class):\n",
    "        if instance is None:\n",
    "            return self\n",
    "        else:\n",
    "            return instance.__dict__.get(self.prop_name,None)"
   ]
  },
  {
   "cell_type": "code",
   "execution_count": 2,
   "metadata": {},
   "outputs": [],
   "source": [
    "class Float:\n",
    "    def __set_name__(self,owner_class,prop_name):\n",
    "        self.prop_name = prop_name\n",
    "    \n",
    "    def __set__(self,instance,value):\n",
    "        if not isinstance(value,float):\n",
    "            raise ValueError(f'{self.prop_name} must be an float.')\n",
    "        instance.__dict__[prop_name] = value\n",
    "        \n",
    "    def __get__(self,instance,owner_class):\n",
    "        if instance is None:\n",
    "            return self\n",
    "        else:\n",
    "            return instance.__dict__.get(self.prop_name,None)"
   ]
  },
  {
   "cell_type": "code",
   "execution_count": 3,
   "metadata": {},
   "outputs": [],
   "source": [
    "class List:\n",
    "    def __set_name__(self,owner_class,prop_name):\n",
    "        self.prop_name = prop_name\n",
    "    \n",
    "    def __set__(self,instance,value):\n",
    "        if not isinstance(value,list):\n",
    "            raise ValueError(f'{self.prop_name} must be an list.')\n",
    "        instance.__dict__[prop_name] = value\n",
    "        \n",
    "    def __get__(self,instance,owner_class):\n",
    "        if instance is None:\n",
    "            return self\n",
    "        else:\n",
    "            return instance.__dict__.get(self.prop_name,None)"
   ]
  },
  {
   "cell_type": "code",
   "execution_count": 4,
   "metadata": {},
   "outputs": [],
   "source": [
    "class Person:\n",
    "    age =Int()\n",
    "    height = Float()\n",
    "    tags= List()\n",
    "    favorite_foods = List()"
   ]
  },
  {
   "cell_type": "code",
   "execution_count": 5,
   "metadata": {},
   "outputs": [],
   "source": [
    "p = Person()"
   ]
  },
  {
   "cell_type": "code",
   "execution_count": 6,
   "metadata": {},
   "outputs": [
    {
     "name": "stdout",
     "output_type": "stream",
     "text": [
      "tags must be an list.\n"
     ]
    }
   ],
   "source": [
    "try:\n",
    "    p.tags = 'abc'\n",
    "except ValueError as ex:\n",
    "    print(ex)"
   ]
  },
  {
   "cell_type": "code",
   "execution_count": 12,
   "metadata": {},
   "outputs": [],
   "source": [
    "class ValidType:\n",
    "    def __init__(self,type_):\n",
    "        self._type = type_\n",
    "        \n",
    "    def __set_name__(self,owner_class,prop_name):\n",
    "        self.prop_name = prop_name\n",
    "    \n",
    "    def __set__(self,instance,value):\n",
    "        if not isinstance(value,self._type):\n",
    "            raise ValueError(f'{self.prop_name} must be of type {self._type.__name__}.')\n",
    "        instance.__dict__[self.prop_name] = value\n",
    "        \n",
    "    def __get__(self,instance,owner_class):\n",
    "        if instance is None:\n",
    "            return self\n",
    "        else:\n",
    "            return instance.__dict__.get(self.prop_name,None)"
   ]
  },
  {
   "cell_type": "code",
   "execution_count": 13,
   "metadata": {},
   "outputs": [],
   "source": [
    "class Person:\n",
    "    age = ValidType(int)\n",
    "    height = ValidType(float)\n",
    "    tags = ValidType(list)\n",
    "    favorite_foods = ValidType(tuple)"
   ]
  },
  {
   "cell_type": "code",
   "execution_count": 14,
   "metadata": {},
   "outputs": [],
   "source": [
    "p = Person()\n",
    "try:\n",
    "    p.height = 10.1\n",
    "except ValueError as ex:\n",
    "    print(ex)"
   ]
  },
  {
   "cell_type": "code",
   "execution_count": 15,
   "metadata": {},
   "outputs": [
    {
     "data": {
      "text/plain": [
       "True"
      ]
     },
     "execution_count": 15,
     "metadata": {},
     "output_type": "execute_result"
    }
   ],
   "source": [
    "import numbers\n",
    "\n",
    "isinstance(10,numbers.Real)"
   ]
  },
  {
   "cell_type": "code",
   "execution_count": 16,
   "metadata": {},
   "outputs": [],
   "source": [
    "class Person:\n",
    "    age = ValidType(int)\n",
    "    height = ValidType(numbers.Real)\n",
    "    tags = ValidType(list)\n",
    "    favorite_foods = ValidType(tuple)"
   ]
  },
  {
   "cell_type": "code",
   "execution_count": 21,
   "metadata": {},
   "outputs": [],
   "source": [
    "p = Person()\n",
    "p.height =10.1\n",
    "p.height = 10"
   ]
  },
  {
   "cell_type": "code",
   "execution_count": null,
   "metadata": {},
   "outputs": [],
   "source": []
  }
 ],
 "metadata": {
  "kernelspec": {
   "display_name": "Python 3",
   "language": "python",
   "name": "python3"
  },
  "language_info": {
   "codemirror_mode": {
    "name": "ipython",
    "version": 3
   },
   "file_extension": ".py",
   "mimetype": "text/x-python",
   "name": "python",
   "nbconvert_exporter": "python",
   "pygments_lexer": "ipython3",
   "version": "3.6.0"
  }
 },
 "nbformat": 4,
 "nbformat_minor": 4
}
