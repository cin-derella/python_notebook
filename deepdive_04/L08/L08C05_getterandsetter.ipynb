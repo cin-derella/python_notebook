{
 "cells": [
  {
   "cell_type": "code",
   "execution_count": 1,
   "metadata": {},
   "outputs": [],
   "source": [
    "from datetime import datetime "
   ]
  },
  {
   "cell_type": "code",
   "execution_count": 3,
   "metadata": {},
   "outputs": [],
   "source": [
    "class TimeUTC:\n",
    "    def __get__(self,instance,owner_class):\n",
    "        print(f'__get__ called,self = {self},instance = {instance},owner_class ={owner_class}')\n",
    "        return datetime.utcnow().isoformat()\n",
    "              "
   ]
  },
  {
   "cell_type": "code",
   "execution_count": 4,
   "metadata": {},
   "outputs": [],
   "source": [
    "class Logger1:\n",
    "    current_time = TimeUTC()\n",
    "\n",
    "class Logger2:\n",
    "    current_time = TimeUTC()"
   ]
  },
  {
   "cell_type": "code",
   "execution_count": 5,
   "metadata": {},
   "outputs": [
    {
     "name": "stdout",
     "output_type": "stream",
     "text": [
      "__get__ called,self = <__main__.TimeUTC object at 0x1105823c8>,instance = None,owner_class =<class '__main__.Logger1'>\n"
     ]
    },
    {
     "data": {
      "text/plain": [
       "'2020-03-24T02:30:29.537970'"
      ]
     },
     "execution_count": 5,
     "metadata": {},
     "output_type": "execute_result"
    }
   ],
   "source": [
    "getattr(Logger1,'current_time')"
   ]
  },
  {
   "cell_type": "code",
   "execution_count": 6,
   "metadata": {},
   "outputs": [
    {
     "name": "stdout",
     "output_type": "stream",
     "text": [
      "__get__ called,self = <__main__.TimeUTC object at 0x1105823c8>,instance = None,owner_class =<class '__main__.Logger1'>\n"
     ]
    },
    {
     "data": {
      "text/plain": [
       "'2020-03-24T02:30:41.985996'"
      ]
     },
     "execution_count": 6,
     "metadata": {},
     "output_type": "execute_result"
    }
   ],
   "source": [
    "Logger1.current_time"
   ]
  },
  {
   "cell_type": "code",
   "execution_count": 7,
   "metadata": {},
   "outputs": [
    {
     "name": "stdout",
     "output_type": "stream",
     "text": [
      "__get__ called,self = <__main__.TimeUTC object at 0x110582390>,instance = None,owner_class =<class '__main__.Logger2'>\n"
     ]
    },
    {
     "data": {
      "text/plain": [
       "'2020-03-24T02:31:33.571183'"
      ]
     },
     "execution_count": 7,
     "metadata": {},
     "output_type": "execute_result"
    }
   ],
   "source": [
    "Logger2.current_time"
   ]
  },
  {
   "cell_type": "code",
   "execution_count": 8,
   "metadata": {},
   "outputs": [],
   "source": [
    "l1= Logger1()"
   ]
  },
  {
   "cell_type": "code",
   "execution_count": 9,
   "metadata": {},
   "outputs": [
    {
     "name": "stdout",
     "output_type": "stream",
     "text": [
      "0x110582978\n"
     ]
    }
   ],
   "source": [
    "print(hex(id(l1)))"
   ]
  },
  {
   "cell_type": "code",
   "execution_count": 10,
   "metadata": {},
   "outputs": [
    {
     "name": "stdout",
     "output_type": "stream",
     "text": [
      "__get__ called,self = <__main__.TimeUTC object at 0x1105823c8>,instance = <__main__.Logger1 object at 0x110582978>,owner_class =<class '__main__.Logger1'>\n"
     ]
    },
    {
     "data": {
      "text/plain": [
       "'2020-03-24T02:32:25.843045'"
      ]
     },
     "execution_count": 10,
     "metadata": {},
     "output_type": "execute_result"
    }
   ],
   "source": [
    "l1.current_time"
   ]
  },
  {
   "cell_type": "code",
   "execution_count": 11,
   "metadata": {},
   "outputs": [
    {
     "name": "stdout",
     "output_type": "stream",
     "text": [
      "__get__ called,self = <__main__.TimeUTC object at 0x1105823c8>,instance = <__main__.Logger1 object at 0x110582a58>,owner_class =<class '__main__.Logger1'>\n"
     ]
    },
    {
     "data": {
      "text/plain": [
       "'2020-03-24T02:33:21.523208'"
      ]
     },
     "execution_count": 11,
     "metadata": {},
     "output_type": "execute_result"
    }
   ],
   "source": [
    "l2 = Logger1()\n",
    "l2.current_time"
   ]
  },
  {
   "cell_type": "code",
   "execution_count": 12,
   "metadata": {},
   "outputs": [
    {
     "data": {
      "text/plain": [
       "'0x110582a58'"
      ]
     },
     "execution_count": 12,
     "metadata": {},
     "output_type": "execute_result"
    }
   ],
   "source": [
    "hex(id(l2))"
   ]
  },
  {
   "cell_type": "code",
   "execution_count": 14,
   "metadata": {},
   "outputs": [
    {
     "name": "stdout",
     "output_type": "stream",
     "text": [
      "0x110582cf8\n"
     ]
    }
   ],
   "source": [
    "l2 = Logger2()\n",
    "print(hex(id(l2)))"
   ]
  },
  {
   "cell_type": "code",
   "execution_count": 15,
   "metadata": {},
   "outputs": [
    {
     "name": "stdout",
     "output_type": "stream",
     "text": [
      "__get__ called,self = <__main__.TimeUTC object at 0x110582390>,instance = <__main__.Logger2 object at 0x110582cf8>,owner_class =<class '__main__.Logger2'>\n"
     ]
    },
    {
     "data": {
      "text/plain": [
       "'2020-03-24T02:34:55.442232'"
      ]
     },
     "execution_count": 15,
     "metadata": {},
     "output_type": "execute_result"
    }
   ],
   "source": [
    "l2.current_time"
   ]
  },
  {
   "cell_type": "code",
   "execution_count": 18,
   "metadata": {},
   "outputs": [],
   "source": [
    "class TimeUTC:\n",
    "    def __get__(self,instance,owner_class):\n",
    "        if instance is None:\n",
    "            return self\n",
    "        else:\n",
    "            return datetime.utcnow().isoformat()\n",
    "        \n",
    "class Logger:\n",
    "    current_time = TimeUTC()"
   ]
  },
  {
   "cell_type": "code",
   "execution_count": 19,
   "metadata": {},
   "outputs": [
    {
     "data": {
      "text/plain": [
       "<__main__.TimeUTC at 0x1105a5160>"
      ]
     },
     "execution_count": 19,
     "metadata": {},
     "output_type": "execute_result"
    }
   ],
   "source": [
    "Logger.current_time"
   ]
  },
  {
   "cell_type": "code",
   "execution_count": 20,
   "metadata": {},
   "outputs": [],
   "source": [
    "l = Logger()"
   ]
  },
  {
   "cell_type": "code",
   "execution_count": 21,
   "metadata": {},
   "outputs": [
    {
     "data": {
      "text/plain": [
       "'2020-03-24T02:37:36.049011'"
      ]
     },
     "execution_count": 21,
     "metadata": {},
     "output_type": "execute_result"
    }
   ],
   "source": [
    "l.current_time"
   ]
  },
  {
   "cell_type": "code",
   "execution_count": 22,
   "metadata": {},
   "outputs": [],
   "source": [
    "class Logger:\n",
    "    @property\n",
    "    def current_time(self):\n",
    "        return datetime.utcnow().isoformat()"
   ]
  },
  {
   "cell_type": "code",
   "execution_count": 23,
   "metadata": {},
   "outputs": [
    {
     "data": {
      "text/plain": [
       "<property at 0x1105a0ef8>"
      ]
     },
     "execution_count": 23,
     "metadata": {},
     "output_type": "execute_result"
    }
   ],
   "source": [
    "Logger.current_time"
   ]
  },
  {
   "cell_type": "code",
   "execution_count": 24,
   "metadata": {},
   "outputs": [],
   "source": [
    "l = Logger()"
   ]
  },
  {
   "cell_type": "code",
   "execution_count": 25,
   "metadata": {},
   "outputs": [
    {
     "data": {
      "text/plain": [
       "'2020-03-24T02:38:25.972699'"
      ]
     },
     "execution_count": 25,
     "metadata": {},
     "output_type": "execute_result"
    }
   ],
   "source": [
    "l.current_time"
   ]
  },
  {
   "cell_type": "code",
   "execution_count": 26,
   "metadata": {},
   "outputs": [],
   "source": [
    "class TimeUTC:\n",
    "    def __get__(self,instance,owner_class):\n",
    "        if instance is None:\n",
    "            return self\n",
    "        else:\n",
    "            print(f'__get__ called in {self}')\n",
    "            return datetime.utcnow().isoformat()\n",
    "        \n",
    "class Logger:\n",
    "    current_time = TimeUTC()"
   ]
  },
  {
   "cell_type": "code",
   "execution_count": 27,
   "metadata": {},
   "outputs": [],
   "source": [
    "l1 = Logger()\n",
    "l2 = Logger()"
   ]
  },
  {
   "cell_type": "code",
   "execution_count": 28,
   "metadata": {},
   "outputs": [
    {
     "name": "stdout",
     "output_type": "stream",
     "text": [
      "__get__ called in <__main__.TimeUTC object at 0x1105a56a0>\n",
      "__get__ called in <__main__.TimeUTC object at 0x1105a56a0>\n"
     ]
    },
    {
     "data": {
      "text/plain": [
       "('2020-03-24T02:40:37.751129', '2020-03-24T02:40:37.751192')"
      ]
     },
     "execution_count": 28,
     "metadata": {},
     "output_type": "execute_result"
    }
   ],
   "source": [
    "l1.current_time, l2.current_time"
   ]
  },
  {
   "cell_type": "code",
   "execution_count": 62,
   "metadata": {},
   "outputs": [],
   "source": [
    "class Countdown:\n",
    "    def __init__(self,start):\n",
    "        print('init countdown')\n",
    "        self.start = start +1\n",
    "        \n",
    "    def __get__(self,instance,owner):\n",
    "        print(f'do __get__ for self={self}, instance={instance}, owner={owner}')\n",
    "        if instance is None:\n",
    "            return self\n",
    "        self.start-=1\n",
    "        return self.start"
   ]
  },
  {
   "cell_type": "code",
   "execution_count": 63,
   "metadata": {},
   "outputs": [
    {
     "name": "stdout",
     "output_type": "stream",
     "text": [
      "init countdown\n"
     ]
    }
   ],
   "source": [
    "class Rocket:\n",
    "    countdown = Countdown(10)\n",
    "    "
   ]
  },
  {
   "cell_type": "code",
   "execution_count": 64,
   "metadata": {},
   "outputs": [],
   "source": [
    "rocket1 = Rocket()\n",
    "rocket2 = Rocket()"
   ]
  },
  {
   "cell_type": "code",
   "execution_count": 65,
   "metadata": {},
   "outputs": [
    {
     "name": "stdout",
     "output_type": "stream",
     "text": [
      "do __get__ for self=<__main__.Countdown object at 0x110685c18>, instance=<__main__.Rocket object at 0x11068d0f0>, owner=<class '__main__.Rocket'>\n"
     ]
    },
    {
     "data": {
      "text/plain": [
       "10"
      ]
     },
     "execution_count": 65,
     "metadata": {},
     "output_type": "execute_result"
    }
   ],
   "source": [
    "rocket1.countdown"
   ]
  },
  {
   "cell_type": "code",
   "execution_count": 66,
   "metadata": {},
   "outputs": [
    {
     "name": "stdout",
     "output_type": "stream",
     "text": [
      "do __get__ for self=<__main__.Countdown object at 0x110685c18>, instance=<__main__.Rocket object at 0x11068d128>, owner=<class '__main__.Rocket'>\n"
     ]
    },
    {
     "data": {
      "text/plain": [
       "9"
      ]
     },
     "execution_count": 66,
     "metadata": {},
     "output_type": "execute_result"
    }
   ],
   "source": [
    "rocket2.countdown"
   ]
  },
  {
   "cell_type": "code",
   "execution_count": 40,
   "metadata": {},
   "outputs": [],
   "source": [
    "class IntegerValue:\n",
    "    def __set__(self,instance,value):\n",
    "        print(f'__set__ called, instance ={instance},value={value}')\n",
    "        \n",
    "    def __get__(self,instance,owner_class):\n",
    "        if instance is None:\n",
    "            print(f'__get__ called, instance = {instance}, owner_class = {owner_class}')"
   ]
  },
  {
   "cell_type": "code",
   "execution_count": 41,
   "metadata": {},
   "outputs": [],
   "source": [
    "class Point2D:\n",
    "    x = IntegerValue()\n",
    "    y = IntegerValue()\n",
    "    "
   ]
  },
  {
   "cell_type": "code",
   "execution_count": 42,
   "metadata": {},
   "outputs": [
    {
     "name": "stdout",
     "output_type": "stream",
     "text": [
      "__get__ called, instance = None, owner_class = <class '__main__.Point2D'>\n"
     ]
    }
   ],
   "source": [
    "Point2D.x"
   ]
  },
  {
   "cell_type": "code",
   "execution_count": 44,
   "metadata": {},
   "outputs": [
    {
     "name": "stdout",
     "output_type": "stream",
     "text": [
      "__set__ called, instance =<__main__.Point2D object at 0x1106855c0>,value=100\n"
     ]
    }
   ],
   "source": [
    "p = Point2D()\n",
    "p.x\n",
    "p.x = 100"
   ]
  },
  {
   "cell_type": "code",
   "execution_count": 45,
   "metadata": {},
   "outputs": [],
   "source": [
    "class IntegerValue:\n",
    "    def __set__(self,instance,value):\n",
    "        self._value = value\n",
    "        \n",
    "    def __get__(self,instance,owner_class):\n",
    "        if instance is None:\n",
    "            return self\n",
    "        else:\n",
    "            return self._value"
   ]
  },
  {
   "cell_type": "code",
   "execution_count": 46,
   "metadata": {},
   "outputs": [],
   "source": [
    "class Point2D:\n",
    "    x = IntegerValue()\n",
    "    y = IntegerValue()"
   ]
  },
  {
   "cell_type": "code",
   "execution_count": 47,
   "metadata": {},
   "outputs": [],
   "source": [
    "p1 = Point2D()"
   ]
  },
  {
   "cell_type": "code",
   "execution_count": 48,
   "metadata": {},
   "outputs": [
    {
     "data": {
      "text/plain": [
       "(1.1, 2.2)"
      ]
     },
     "execution_count": 48,
     "metadata": {},
     "output_type": "execute_result"
    }
   ],
   "source": [
    "p1.x = 1.1\n",
    "p1.y = 2.2\n",
    "p1.x,p1.y"
   ]
  },
  {
   "cell_type": "code",
   "execution_count": 49,
   "metadata": {},
   "outputs": [],
   "source": [
    "p2 = Point2D()\n",
    "p2.x = 10.0"
   ]
  },
  {
   "cell_type": "code",
   "execution_count": null,
   "metadata": {},
   "outputs": [],
   "source": []
  }
 ],
 "metadata": {
  "kernelspec": {
   "display_name": "Python 3",
   "language": "python",
   "name": "python3"
  },
  "language_info": {
   "codemirror_mode": {
    "name": "ipython",
    "version": 3
   },
   "file_extension": ".py",
   "mimetype": "text/x-python",
   "name": "python",
   "nbconvert_exporter": "python",
   "pygments_lexer": "ipython3",
   "version": "3.6.0"
  }
 },
 "nbformat": 4,
 "nbformat_minor": 4
}
