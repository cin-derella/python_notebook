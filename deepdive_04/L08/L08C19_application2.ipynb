{
 "cells": [
  {
   "cell_type": "code",
   "execution_count": 1,
   "metadata": {},
   "outputs": [],
   "source": [
    "class Int:\n",
    "    def __init__(self,min_value = None,max_value = None):\n",
    "        self.min_value = min_value\n",
    "        self.max_value = max_value\n",
    "        \n",
    "    def __set_name__(self,owner_class,name):\n",
    "        self.name = name\n",
    "        \n",
    "    def __set__(self,instance,value):\n",
    "        if not isinstance(value,int):\n",
    "            raise ValueError(f'{self.name} must be an int.')\n",
    "        if self.min_value is not None and value< self.min_value:\n",
    "            raise ValueError(f'{self.name} must be at least {self.min_value}')    \n",
    "        if self.max_value is not None and value> self.max_value:\n",
    "            raise ValueError(f'{self.name} cannot be greater than {self.max_value}')\n",
    "        instance.__dict__[self.name] = value\n",
    "        \n",
    "    def __get__(self,instance,owner_class):\n",
    "        if instance is None:\n",
    "            return self\n",
    "        else:\n",
    "            return instance.__dict__.get(self.name,None)"
   ]
  },
  {
   "cell_type": "code",
   "execution_count": 5,
   "metadata": {},
   "outputs": [],
   "source": [
    "class Point2D:\n",
    "    x  = Int(min_value = 0,max_value = 800)\n",
    "    y =  Int(min_value = 0,max_value = 600)\n",
    "    \n",
    "    def __init__(self,x,y):\n",
    "        self.x = x\n",
    "        self.y = y\n",
    "        \n",
    "    def __repr__(self):\n",
    "        return f'Point2D(x = {self.x},y={self.y})'\n",
    "    \n",
    "    def __str__(self):\n",
    "        return f'({self.x},{self.y})'"
   ]
  },
  {
   "cell_type": "code",
   "execution_count": 6,
   "metadata": {},
   "outputs": [],
   "source": [
    "p = Point2D(0,10)"
   ]
  },
  {
   "cell_type": "code",
   "execution_count": 7,
   "metadata": {},
   "outputs": [
    {
     "data": {
      "text/plain": [
       "'(0,10)'"
      ]
     },
     "execution_count": 7,
     "metadata": {},
     "output_type": "execute_result"
    }
   ],
   "source": [
    "str(p)"
   ]
  },
  {
   "cell_type": "code",
   "execution_count": 8,
   "metadata": {},
   "outputs": [
    {
     "data": {
      "text/plain": [
       "'Point2D(x = 0,y=10)'"
      ]
     },
     "execution_count": 8,
     "metadata": {},
     "output_type": "execute_result"
    }
   ],
   "source": [
    "repr(p)"
   ]
  },
  {
   "cell_type": "code",
   "execution_count": 10,
   "metadata": {},
   "outputs": [
    {
     "name": "stdout",
     "output_type": "stream",
     "text": [
      "y cannot be greater than 600\n"
     ]
    }
   ],
   "source": [
    "try:\n",
    "    p = Point2D(0,800)\n",
    "except ValueError as ex:\n",
    "    print(ex)"
   ]
  },
  {
   "cell_type": "code",
   "execution_count": 11,
   "metadata": {},
   "outputs": [],
   "source": [
    "import collections"
   ]
  },
  {
   "cell_type": "code",
   "execution_count": 12,
   "metadata": {},
   "outputs": [
    {
     "data": {
      "text/plain": [
       "True"
      ]
     },
     "execution_count": 12,
     "metadata": {},
     "output_type": "execute_result"
    }
   ],
   "source": [
    "isinstance([1,2,3],collections.abc.Sequence)"
   ]
  },
  {
   "cell_type": "code",
   "execution_count": 13,
   "metadata": {},
   "outputs": [
    {
     "data": {
      "text/plain": [
       "True"
      ]
     },
     "execution_count": 13,
     "metadata": {},
     "output_type": "execute_result"
    }
   ],
   "source": [
    "isinstance((1,2,3),collections.abc.Sequence)"
   ]
  },
  {
   "cell_type": "code",
   "execution_count": 14,
   "metadata": {},
   "outputs": [
    {
     "data": {
      "text/plain": [
       "False"
      ]
     },
     "execution_count": 14,
     "metadata": {},
     "output_type": "execute_result"
    }
   ],
   "source": [
    "isinstance({1,2,3},collections.abc.Sequence)"
   ]
  },
  {
   "cell_type": "code",
   "execution_count": 15,
   "metadata": {},
   "outputs": [
    {
     "data": {
      "text/plain": [
       "True"
      ]
     },
     "execution_count": 15,
     "metadata": {},
     "output_type": "execute_result"
    }
   ],
   "source": [
    "isinstance([1,2,3],collections.abc.MutableSequence)"
   ]
  },
  {
   "cell_type": "code",
   "execution_count": 16,
   "metadata": {},
   "outputs": [
    {
     "data": {
      "text/plain": [
       "False"
      ]
     },
     "execution_count": 16,
     "metadata": {},
     "output_type": "execute_result"
    }
   ],
   "source": [
    "isinstance((1,2,3),collections.abc.MutableSequence)"
   ]
  },
  {
   "cell_type": "code",
   "execution_count": 23,
   "metadata": {},
   "outputs": [],
   "source": [
    "class Point2DSequence:\n",
    "    def __init__(self,min_length= None, max_length = None):\n",
    "        self.min_length = min_length\n",
    "        self.max_length = max_length\n",
    "        \n",
    "    def __set_name__(self,cls,name):\n",
    "        self.name = name\n",
    "        \n",
    "    def __set__(self,instance,value):\n",
    "        if not isinstance(value,collections.abc.Sequence):\n",
    "            raise ValueError(f'{self.name} must be a sequence type.')\n",
    "        if self.min_length is not None and len(value)< self.min_length:\n",
    "            raise ValueError(f'{self.name} must contain at least {self.min_length} elements ')    \n",
    "        if self.max_length is not None and len(value)> self.max_length:\n",
    "            raise ValueError(f'{self.name} cannot contain more than {self.max_length} elements')\n",
    "    \n",
    "        for index,item in enumerate(value):\n",
    "            if not isinstance(item,Point2D):\n",
    "                raise ValueError(f'Item at index {index} is not a Point2D instance.')\n",
    "            \n",
    "        instance.__dict__[self.name] = list(value)\n",
    "        \n",
    "    \n",
    "    def __get__(self,instance,owner_class):\n",
    "        if instance is None:\n",
    "            return self\n",
    "        else:\n",
    "            if self.name not in instance.__dict__:\n",
    "                instance.__dict__[self.name] = []\n",
    "            return instance.__dict__.get(self.name)\n",
    "        \n",
    "        "
   ]
  },
  {
   "cell_type": "code",
   "execution_count": 24,
   "metadata": {},
   "outputs": [],
   "source": [
    "class Polygon:\n",
    "    vertices = Point2DSequence(min_length = 3)\n",
    "    \n",
    "    def __init__(self,*vertices):\n",
    "        self.vertices = vertices"
   ]
  },
  {
   "cell_type": "code",
   "execution_count": 25,
   "metadata": {},
   "outputs": [
    {
     "name": "stdout",
     "output_type": "stream",
     "text": [
      "vertices must contain at least 3 elements \n"
     ]
    }
   ],
   "source": [
    "try:\n",
    "    p = Polygon()\n",
    "except ValueError as ex:\n",
    "    print(ex)"
   ]
  },
  {
   "cell_type": "code",
   "execution_count": 26,
   "metadata": {},
   "outputs": [
    {
     "name": "stdout",
     "output_type": "stream",
     "text": [
      "x must be at least 0\n"
     ]
    }
   ],
   "source": [
    "try:\n",
    "    p = Polygon(Point2D(-100,0),Point2D(0,1),Point2D(1,0))\n",
    "except ValueError as ex:\n",
    "    print(ex)"
   ]
  },
  {
   "cell_type": "code",
   "execution_count": 27,
   "metadata": {},
   "outputs": [],
   "source": [
    "    p = Polygon(Point2D(0,0),Point2D(0,1),Point2D(1,0))\n"
   ]
  },
  {
   "cell_type": "code",
   "execution_count": 28,
   "metadata": {},
   "outputs": [
    {
     "data": {
      "text/plain": [
       "[Point2D(x = 0,y=0), Point2D(x = 0,y=1), Point2D(x = 1,y=0)]"
      ]
     },
     "execution_count": 28,
     "metadata": {},
     "output_type": "execute_result"
    }
   ],
   "source": [
    "p.vertices"
   ]
  },
  {
   "cell_type": "code",
   "execution_count": 30,
   "metadata": {},
   "outputs": [],
   "source": [
    "class Triangle:\n",
    "    vertices = Point2DSequence(min_length = 3,max_length =3)\n",
    "    \n",
    "    def __init__(self,*vertices):\n",
    "        self.vertices = vertices\n",
    "        \n",
    "    def append(self,pt):\n",
    "        if not isinstance(pt,Point2D):\n",
    "            raise ValueError('Can only append Point2D instance...')\n",
    "        Polygon.vertices\n",
    "        max_length = type(self).vertices.max_length\n",
    "        if max_length is not None and len(self.vertices) >= max_length:\n",
    "            raise ValueError(f'Vertices length is at max ({max_length}).')\n",
    "        self.vertices.append(pt)"
   ]
  },
  {
   "cell_type": "code",
   "execution_count": 31,
   "metadata": {},
   "outputs": [],
   "source": [
    "p = Polygon(Point2D(0,0),Point2D(0,1),Point2D(1,0))"
   ]
  },
  {
   "cell_type": "code",
   "execution_count": 32,
   "metadata": {},
   "outputs": [
    {
     "ename": "ValueError",
     "evalue": "Vertices length is at max (3).",
     "output_type": "error",
     "traceback": [
      "\u001b[0;31m---------------------------------------------------------------------------\u001b[0m",
      "\u001b[0;31mValueError\u001b[0m                                Traceback (most recent call last)",
      "\u001b[0;32m<ipython-input-32-6227e31edb3f>\u001b[0m in \u001b[0;36m<module>\u001b[0;34m\u001b[0m\n\u001b[0;32m----> 1\u001b[0;31m \u001b[0mp\u001b[0m\u001b[0;34m.\u001b[0m\u001b[0mappend\u001b[0m\u001b[0;34m(\u001b[0m\u001b[0mPoint2D\u001b[0m\u001b[0;34m(\u001b[0m\u001b[0;36m10\u001b[0m\u001b[0;34m,\u001b[0m\u001b[0;36m10\u001b[0m\u001b[0;34m)\u001b[0m\u001b[0;34m)\u001b[0m\u001b[0;34m\u001b[0m\u001b[0m\n\u001b[0m",
      "\u001b[0;32m<ipython-input-30-c01e13dc35f7>\u001b[0m in \u001b[0;36mappend\u001b[0;34m(self, pt)\u001b[0m\n\u001b[1;32m     11\u001b[0m         \u001b[0mmax_length\u001b[0m \u001b[0;34m=\u001b[0m \u001b[0mtype\u001b[0m\u001b[0;34m(\u001b[0m\u001b[0mself\u001b[0m\u001b[0;34m)\u001b[0m\u001b[0;34m.\u001b[0m\u001b[0mvertices\u001b[0m\u001b[0;34m.\u001b[0m\u001b[0mmax_length\u001b[0m\u001b[0;34m\u001b[0m\u001b[0m\n\u001b[1;32m     12\u001b[0m         \u001b[0;32mif\u001b[0m \u001b[0mmax_length\u001b[0m \u001b[0;32mis\u001b[0m \u001b[0;32mnot\u001b[0m \u001b[0;32mNone\u001b[0m \u001b[0;32mand\u001b[0m \u001b[0mlen\u001b[0m\u001b[0;34m(\u001b[0m\u001b[0mself\u001b[0m\u001b[0;34m.\u001b[0m\u001b[0mvertices\u001b[0m\u001b[0;34m)\u001b[0m \u001b[0;34m>=\u001b[0m \u001b[0mmax_length\u001b[0m\u001b[0;34m:\u001b[0m\u001b[0;34m\u001b[0m\u001b[0m\n\u001b[0;32m---> 13\u001b[0;31m             \u001b[0;32mraise\u001b[0m \u001b[0mValueError\u001b[0m\u001b[0;34m(\u001b[0m\u001b[0;34mf'Vertices length is at max ({max_length}).'\u001b[0m\u001b[0;34m)\u001b[0m\u001b[0;34m\u001b[0m\u001b[0m\n\u001b[0m\u001b[1;32m     14\u001b[0m         \u001b[0mself\u001b[0m\u001b[0;34m.\u001b[0m\u001b[0mvertices\u001b[0m\u001b[0;34m.\u001b[0m\u001b[0mappend\u001b[0m\u001b[0;34m(\u001b[0m\u001b[0mpt\u001b[0m\u001b[0;34m)\u001b[0m\u001b[0;34m\u001b[0m\u001b[0m\n",
      "\u001b[0;31mValueError\u001b[0m: Vertices length is at max (3)."
     ]
    }
   ],
   "source": [
    "p.append(Point2D(10,10))"
   ]
  },
  {
   "cell_type": "code",
   "execution_count": 33,
   "metadata": {},
   "outputs": [],
   "source": [
    "class Square:\n",
    "    vertices = Point2DSequence(min_length = 4,max_length =4)\n",
    "    \n",
    "    def __init__(self,*vertices):\n",
    "        self.vertices = vertices\n",
    "        \n",
    "    def append(self,pt):\n",
    "        if not isinstance(pt,Point2D):\n",
    "            raise ValueError('Can only append Point2D instance...')\n",
    "        Polygon.vertices\n",
    "        max_length = type(self).vertices.max_length\n",
    "        if max_length is not None and len(self.vertices) >= max_length:\n",
    "            raise ValueError(f'Vertices length is at max ({max_length}).')\n",
    "        self.vertices.append(pt)"
   ]
  },
  {
   "cell_type": "code",
   "execution_count": 34,
   "metadata": {},
   "outputs": [],
   "source": [
    "class Polygon:\n",
    "    vertices = Point2DSequence(min_length = 3)\n",
    "    \n",
    "    def __init__(self,*vertices):\n",
    "        self.vertices = vertices\n",
    "        \n",
    "    def append(self,pt):\n",
    "        if not isinstance(pt,Point2D):\n",
    "            raise ValueError('Can only append Point2D instance...')\n",
    "        Polygon.vertices\n",
    "        max_length = type(self).vertices.max_length\n",
    "        if max_length is not None and len(self.vertices) >= max_length:\n",
    "            raise ValueError(f'Vertices length is at max ({max_length}).')\n",
    "        self.vertices.append(pt)"
   ]
  },
  {
   "cell_type": "code",
   "execution_count": 35,
   "metadata": {},
   "outputs": [],
   "source": [
    "class Triangle(Polygon):\n",
    "    vertices = Point2DSequence(min_length = 3,max_length = 3)"
   ]
  },
  {
   "cell_type": "code",
   "execution_count": 36,
   "metadata": {},
   "outputs": [],
   "source": [
    "class Rectangle(Polygon):\n",
    "    vertices = Point2DSequence(min_length = 4, max_length =4)\n",
    "    "
   ]
  },
  {
   "cell_type": "code",
   "execution_count": 37,
   "metadata": {},
   "outputs": [
    {
     "ename": "ValueError",
     "evalue": "vertices cannot contain more than 3 elements",
     "output_type": "error",
     "traceback": [
      "\u001b[0;31m---------------------------------------------------------------------------\u001b[0m",
      "\u001b[0;31mValueError\u001b[0m                                Traceback (most recent call last)",
      "\u001b[0;32m<ipython-input-37-80bf753a4d7d>\u001b[0m in \u001b[0;36m<module>\u001b[0;34m\u001b[0m\n\u001b[0;32m----> 1\u001b[0;31m \u001b[0mt\u001b[0m \u001b[0;34m=\u001b[0m \u001b[0mTriangle\u001b[0m\u001b[0;34m(\u001b[0m\u001b[0mPoint2D\u001b[0m\u001b[0;34m(\u001b[0m\u001b[0;36m0\u001b[0m\u001b[0;34m,\u001b[0m\u001b[0;36m0\u001b[0m\u001b[0;34m)\u001b[0m\u001b[0;34m,\u001b[0m\u001b[0mPoint2D\u001b[0m\u001b[0;34m(\u001b[0m\u001b[0;36m1\u001b[0m\u001b[0;34m,\u001b[0m\u001b[0;36m1\u001b[0m\u001b[0;34m)\u001b[0m\u001b[0;34m,\u001b[0m\u001b[0mPoint2D\u001b[0m\u001b[0;34m(\u001b[0m\u001b[0;36m3\u001b[0m\u001b[0;34m,\u001b[0m\u001b[0;36m3\u001b[0m\u001b[0;34m)\u001b[0m\u001b[0;34m,\u001b[0m\u001b[0mPoint2D\u001b[0m\u001b[0;34m(\u001b[0m\u001b[0;36m10\u001b[0m\u001b[0;34m,\u001b[0m\u001b[0;36m10\u001b[0m\u001b[0;34m)\u001b[0m\u001b[0;34m)\u001b[0m\u001b[0;34m\u001b[0m\u001b[0m\n\u001b[0m",
      "\u001b[0;32m<ipython-input-34-e67ec563868e>\u001b[0m in \u001b[0;36m__init__\u001b[0;34m(self, *vertices)\u001b[0m\n\u001b[1;32m      3\u001b[0m \u001b[0;34m\u001b[0m\u001b[0m\n\u001b[1;32m      4\u001b[0m     \u001b[0;32mdef\u001b[0m \u001b[0m__init__\u001b[0m\u001b[0;34m(\u001b[0m\u001b[0mself\u001b[0m\u001b[0;34m,\u001b[0m\u001b[0;34m*\u001b[0m\u001b[0mvertices\u001b[0m\u001b[0;34m)\u001b[0m\u001b[0;34m:\u001b[0m\u001b[0;34m\u001b[0m\u001b[0m\n\u001b[0;32m----> 5\u001b[0;31m         \u001b[0mself\u001b[0m\u001b[0;34m.\u001b[0m\u001b[0mvertices\u001b[0m \u001b[0;34m=\u001b[0m \u001b[0mvertices\u001b[0m\u001b[0;34m\u001b[0m\u001b[0m\n\u001b[0m\u001b[1;32m      6\u001b[0m \u001b[0;34m\u001b[0m\u001b[0m\n\u001b[1;32m      7\u001b[0m     \u001b[0;32mdef\u001b[0m \u001b[0mappend\u001b[0m\u001b[0;34m(\u001b[0m\u001b[0mself\u001b[0m\u001b[0;34m,\u001b[0m\u001b[0mpt\u001b[0m\u001b[0;34m)\u001b[0m\u001b[0;34m:\u001b[0m\u001b[0;34m\u001b[0m\u001b[0m\n",
      "\u001b[0;32m<ipython-input-23-2d4b7d89c2f9>\u001b[0m in \u001b[0;36m__set__\u001b[0;34m(self, instance, value)\u001b[0m\n\u001b[1;32m     13\u001b[0m             \u001b[0;32mraise\u001b[0m \u001b[0mValueError\u001b[0m\u001b[0;34m(\u001b[0m\u001b[0;34mf'{self.name} must contain at least {self.min_length} elements '\u001b[0m\u001b[0;34m)\u001b[0m\u001b[0;34m\u001b[0m\u001b[0m\n\u001b[1;32m     14\u001b[0m         \u001b[0;32mif\u001b[0m \u001b[0mself\u001b[0m\u001b[0;34m.\u001b[0m\u001b[0mmax_length\u001b[0m \u001b[0;32mis\u001b[0m \u001b[0;32mnot\u001b[0m \u001b[0;32mNone\u001b[0m \u001b[0;32mand\u001b[0m \u001b[0mlen\u001b[0m\u001b[0;34m(\u001b[0m\u001b[0mvalue\u001b[0m\u001b[0;34m)\u001b[0m\u001b[0;34m>\u001b[0m \u001b[0mself\u001b[0m\u001b[0;34m.\u001b[0m\u001b[0mmax_length\u001b[0m\u001b[0;34m:\u001b[0m\u001b[0;34m\u001b[0m\u001b[0m\n\u001b[0;32m---> 15\u001b[0;31m             \u001b[0;32mraise\u001b[0m \u001b[0mValueError\u001b[0m\u001b[0;34m(\u001b[0m\u001b[0;34mf'{self.name} cannot contain more than {self.max_length} elements'\u001b[0m\u001b[0;34m)\u001b[0m\u001b[0;34m\u001b[0m\u001b[0m\n\u001b[0m\u001b[1;32m     16\u001b[0m \u001b[0;34m\u001b[0m\u001b[0m\n\u001b[1;32m     17\u001b[0m         \u001b[0;32mfor\u001b[0m \u001b[0mindex\u001b[0m\u001b[0;34m,\u001b[0m\u001b[0mitem\u001b[0m \u001b[0;32min\u001b[0m \u001b[0menumerate\u001b[0m\u001b[0;34m(\u001b[0m\u001b[0mvalue\u001b[0m\u001b[0;34m)\u001b[0m\u001b[0;34m:\u001b[0m\u001b[0;34m\u001b[0m\u001b[0m\n",
      "\u001b[0;31mValueError\u001b[0m: vertices cannot contain more than 3 elements"
     ]
    }
   ],
   "source": [
    "t = Triangle(Point2D(0,0),Point2D(1,1),Point2D(3,3),Point2D(10,10))"
   ]
  },
  {
   "cell_type": "code",
   "execution_count": 43,
   "metadata": {},
   "outputs": [],
   "source": [
    "class Polygon:\n",
    "    vertices = Point2DSequence(min_length = 3)\n",
    "    \n",
    "    def __init__(self,*vertices):\n",
    "        self.vertices = vertices\n",
    "        \n",
    "    def append(self,pt):\n",
    "        if not isinstance(pt,Point2D):\n",
    "            raise ValueError('Can only append Point2D instance...')\n",
    "        Polygon.vertices\n",
    "        max_length = type(self).vertices.max_length\n",
    "        if max_length is not None and len(self.vertices) >= max_length:\n",
    "            raise ValueError(f'Vertices length is at max ({max_length}).')\n",
    "        self.vertices.append(pt)\n",
    "        \n",
    "    def __len__(self):\n",
    "        return len(self.vertices)\n",
    "    \n",
    "    def __getitem__(self,idx):\n",
    "        return self.vertices[idx]"
   ]
  },
  {
   "cell_type": "code",
   "execution_count": 44,
   "metadata": {},
   "outputs": [],
   "source": [
    "p = Polygon(Point2D(0,0),Point2D(1,0),Point2D(1,1))"
   ]
  },
  {
   "cell_type": "code",
   "execution_count": 45,
   "metadata": {},
   "outputs": [
    {
     "data": {
      "text/plain": [
       "3"
      ]
     },
     "execution_count": 45,
     "metadata": {},
     "output_type": "execute_result"
    }
   ],
   "source": [
    "len(p)"
   ]
  },
  {
   "cell_type": "code",
   "execution_count": 46,
   "metadata": {},
   "outputs": [
    {
     "data": {
      "text/plain": [
       "[Point2D(x = 0,y=0), Point2D(x = 1,y=0), Point2D(x = 1,y=1)]"
      ]
     },
     "execution_count": 46,
     "metadata": {},
     "output_type": "execute_result"
    }
   ],
   "source": [
    "p.vertices"
   ]
  },
  {
   "cell_type": "code",
   "execution_count": 47,
   "metadata": {},
   "outputs": [
    {
     "data": {
      "text/plain": [
       "Point2D(x = 1,y=0)"
      ]
     },
     "execution_count": 47,
     "metadata": {},
     "output_type": "execute_result"
    }
   ],
   "source": [
    "p[1]"
   ]
  },
  {
   "cell_type": "code",
   "execution_count": 48,
   "metadata": {},
   "outputs": [
    {
     "data": {
      "text/plain": [
       "[Point2D(x = 1,y=0), Point2D(x = 1,y=1)]"
      ]
     },
     "execution_count": 48,
     "metadata": {},
     "output_type": "execute_result"
    }
   ],
   "source": [
    "p[1:3]"
   ]
  },
  {
   "cell_type": "code",
   "execution_count": 49,
   "metadata": {},
   "outputs": [],
   "source": [
    "class Polygon:\n",
    "    vertices = Point2DSequence(min_length = 3)\n",
    "    \n",
    "    def __init__(self,*vertices):\n",
    "        self.vertices = vertices\n",
    "        \n",
    "    def append(self,pt):\n",
    "        if not isinstance(pt,Point2D):\n",
    "            raise ValueError('Can only append Point2D instance...')\n",
    "        Polygon.vertices\n",
    "        max_length = type(self).vertices.max_length\n",
    "        if max_length is not None and len(self.vertices) >= max_length:\n",
    "            raise ValueError(f'Vertices length is at max ({max_length}).')\n",
    "        self.vertices.append(pt)\n",
    "        \n",
    "    def __len__(self):\n",
    "        return len(self.vertices)\n",
    "    \n",
    "    def __getitem__(self,idx):\n",
    "        return self.vertices[idx]\n",
    "    \n",
    "    def __iadd__(self,pt):\n",
    "        self.append(pt)\n",
    "        return self\n",
    "    \n",
    "    def __contains__(self,pt):\n",
    "        return pt in self.vertices"
   ]
  },
  {
   "cell_type": "code",
   "execution_count": 50,
   "metadata": {},
   "outputs": [],
   "source": [
    "p = Polygon(Point2D(0,0),Point2D(1,0),Point2D(1,1))"
   ]
  },
  {
   "cell_type": "code",
   "execution_count": 52,
   "metadata": {},
   "outputs": [
    {
     "data": {
      "text/plain": [
       "[Point2D(x = 0,y=0), Point2D(x = 1,y=0), Point2D(x = 1,y=1)]"
      ]
     },
     "execution_count": 52,
     "metadata": {},
     "output_type": "execute_result"
    }
   ],
   "source": [
    "list(p)"
   ]
  },
  {
   "cell_type": "code",
   "execution_count": 53,
   "metadata": {},
   "outputs": [],
   "source": [
    "p+=Point2D(10,10)"
   ]
  },
  {
   "cell_type": "code",
   "execution_count": 55,
   "metadata": {},
   "outputs": [
    {
     "data": {
      "text/plain": [
       "[Point2D(x = 0,y=0),\n",
       " Point2D(x = 1,y=0),\n",
       " Point2D(x = 1,y=1),\n",
       " Point2D(x = 10,y=10)]"
      ]
     },
     "execution_count": 55,
     "metadata": {},
     "output_type": "execute_result"
    }
   ],
   "source": [
    "list(p)"
   ]
  },
  {
   "cell_type": "code",
   "execution_count": 56,
   "metadata": {},
   "outputs": [
    {
     "data": {
      "text/plain": [
       "False"
      ]
     },
     "execution_count": 56,
     "metadata": {},
     "output_type": "execute_result"
    }
   ],
   "source": [
    "Point2D(0,0) in p"
   ]
  },
  {
   "cell_type": "code",
   "execution_count": 57,
   "metadata": {},
   "outputs": [
    {
     "data": {
      "text/plain": [
       "True"
      ]
     },
     "execution_count": 57,
     "metadata": {},
     "output_type": "execute_result"
    }
   ],
   "source": [
    "p[0] in p"
   ]
  },
  {
   "cell_type": "code",
   "execution_count": 59,
   "metadata": {},
   "outputs": [],
   "source": [
    "class Point2D:\n",
    "    x  = Int(min_value = 0,max_value = 800)\n",
    "    y =  Int(min_value = 0,max_value = 600)\n",
    "    \n",
    "    def __init__(self,x,y):\n",
    "        self.x = x\n",
    "        self.y = y\n",
    "        \n",
    "    def __repr__(self):\n",
    "        return f'Point2D(x = {self.x},y={self.y})'\n",
    "    \n",
    "    def __str__(self):\n",
    "        return f'({self.x},{self.y})'\n",
    "    \n",
    "    def __eq__(self,other):\n",
    "        return isinstance(other,Point2D) and self.x ==other.x and self.y ==other.y\n",
    "    \n",
    "    def __hash__(self):\n",
    "        return hash((self.x,self.y))\n",
    "    \n",
    "class Polygon:\n",
    "    vertices = Point2DSequence(min_length = 3)\n",
    "    \n",
    "    def __init__(self,*vertices):\n",
    "        self.vertices = vertices\n",
    "        \n",
    "    def append(self,pt):\n",
    "        if not isinstance(pt,Point2D):\n",
    "            raise ValueError('Can only append Point2D instance...')\n",
    "        Polygon.vertices\n",
    "        max_length = type(self).vertices.max_length\n",
    "        if max_length is not None and len(self.vertices) >= max_length:\n",
    "            raise ValueError(f'Vertices length is at max ({max_length}).')\n",
    "        self.vertices.append(pt)\n",
    "        \n",
    "    def __len__(self):\n",
    "        return len(self.vertices)\n",
    "    \n",
    "    def __getitem__(self,idx):\n",
    "        return self.vertices[idx]\n",
    "    \n",
    "    def __iadd__(self,pt):\n",
    "        self.append(pt)\n",
    "        return self\n",
    "    \n",
    "    def __contains__(self,pt):\n",
    "        return pt in self.vertices"
   ]
  },
  {
   "cell_type": "code",
   "execution_count": 60,
   "metadata": {},
   "outputs": [],
   "source": [
    "p = Polygon(Point2D(0,0),Point2D(1,0),Point2D(1,1))"
   ]
  },
  {
   "cell_type": "code",
   "execution_count": 61,
   "metadata": {},
   "outputs": [
    {
     "data": {
      "text/plain": [
       "True"
      ]
     },
     "execution_count": 61,
     "metadata": {},
     "output_type": "execute_result"
    }
   ],
   "source": [
    "Point2D(0,0) in p"
   ]
  },
  {
   "cell_type": "code",
   "execution_count": null,
   "metadata": {},
   "outputs": [],
   "source": []
  }
 ],
 "metadata": {
  "kernelspec": {
   "display_name": "Python 3",
   "language": "python",
   "name": "python3"
  },
  "language_info": {
   "codemirror_mode": {
    "name": "ipython",
    "version": 3
   },
   "file_extension": ".py",
   "mimetype": "text/x-python",
   "name": "python",
   "nbconvert_exporter": "python",
   "pygments_lexer": "ipython3",
   "version": "3.6.0"
  }
 },
 "nbformat": 4,
 "nbformat_minor": 4
}
