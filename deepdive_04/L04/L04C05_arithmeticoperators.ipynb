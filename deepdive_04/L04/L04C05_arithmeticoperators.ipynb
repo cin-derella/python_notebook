{
 "cells": [
  {
   "cell_type": "code",
   "execution_count": 1,
   "metadata": {},
   "outputs": [],
   "source": [
    "from numbers import Real"
   ]
  },
  {
   "cell_type": "code",
   "execution_count": 22,
   "metadata": {},
   "outputs": [],
   "source": [
    "class Vector:\n",
    "    def __init__(self,*components):\n",
    "        if len(components)<1:\n",
    "            raise ValueError('cant create an empty vector')\n",
    "        for component in components:\n",
    "            if not isinstance(component,Real):\n",
    "                raise ValueError(f'vector components must all be real number.{component} is invalid')\n",
    "            self._components = tuple(components)\n",
    "    \n",
    "    def __len__(self):\n",
    "        return len(self._components)\n",
    "\n",
    "    @property\n",
    "    def components(self):\n",
    "        return self._components\n",
    "    \n",
    "    def __repr__(self):\n",
    "        return f'Vector({self.components})'\n",
    "        \n",
    "    "
   ]
  },
  {
   "cell_type": "code",
   "execution_count": 23,
   "metadata": {},
   "outputs": [],
   "source": [
    "v1= Vector(1,2)\n",
    "v2 = Vector(10,20,30,40)"
   ]
  },
  {
   "cell_type": "code",
   "execution_count": 24,
   "metadata": {},
   "outputs": [
    {
     "data": {
      "text/plain": [
       "(2, 4)"
      ]
     },
     "execution_count": 24,
     "metadata": {},
     "output_type": "execute_result"
    }
   ],
   "source": [
    "len(v1),len(v2)"
   ]
  },
  {
   "cell_type": "code",
   "execution_count": 25,
   "metadata": {},
   "outputs": [
    {
     "data": {
      "text/plain": [
       "Vector((1, 2))"
      ]
     },
     "execution_count": 25,
     "metadata": {},
     "output_type": "execute_result"
    }
   ],
   "source": [
    "v1"
   ]
  },
  {
   "cell_type": "code",
   "execution_count": 26,
   "metadata": {},
   "outputs": [
    {
     "data": {
      "text/plain": [
       "Vector((10, 20, 30, 40))"
      ]
     },
     "execution_count": 26,
     "metadata": {},
     "output_type": "execute_result"
    }
   ],
   "source": [
    "v2"
   ]
  },
  {
   "cell_type": "code",
   "execution_count": 27,
   "metadata": {},
   "outputs": [
    {
     "data": {
      "text/plain": [
       "'Vector((1, 2))'"
      ]
     },
     "execution_count": 27,
     "metadata": {},
     "output_type": "execute_result"
    }
   ],
   "source": [
    "str(v1)"
   ]
  },
  {
   "cell_type": "code",
   "execution_count": 62,
   "metadata": {},
   "outputs": [],
   "source": [
    "class VectorDimensionMismatch(TypeError):\n",
    "    pass\n",
    "        \n",
    "class Vector:\n",
    "    def __init__(self,*components):\n",
    "        if len(components)<1:\n",
    "            raise ValueError('cant create an empty vector')\n",
    "        for component in components:\n",
    "            if not isinstance(component,Real):\n",
    "                raise ValueError(f'vector components must all be real number.{component} is invalid')\n",
    "            self._components = tuple(components)\n",
    "    \n",
    "    def __len__(self):\n",
    "        return len(self._components)\n",
    "\n",
    "    @property\n",
    "    def components(self):\n",
    "        return self._components\n",
    "    \n",
    "    def __repr__(self):\n",
    "        return f'Vector({self.components})'\n",
    "    \n",
    "    def validate_type_and_dimension(self,v):\n",
    "        return isinstance(v,Vector)and len(v) == len(self)\n",
    "    \n",
    "    def __add__(self,other):\n",
    "        if not self.validate_type_and_dimension(other):\n",
    "            return NotImplemented\n",
    "        components = (x +y  for x,y in zip(self.components,other.components))\n",
    "        return Vector(*components)\n",
    "        \n",
    "    def __sub__(self,other):\n",
    "        if not self.validate_type_and_dimension(other):\n",
    "            return NotImplemented\n",
    "        components = (x - y  for x,y in zip(self.components,other.components))\n",
    "        return Vector(*components)"
   ]
  },
  {
   "cell_type": "code",
   "execution_count": 63,
   "metadata": {},
   "outputs": [],
   "source": [
    "v1 = Vector(1,2)\n",
    "v2 = Vector(10,20)\n",
    "v3= Vector(1,2,3,4)"
   ]
  },
  {
   "cell_type": "code",
   "execution_count": 64,
   "metadata": {},
   "outputs": [
    {
     "data": {
      "text/plain": [
       "Vector((1, 2))"
      ]
     },
     "execution_count": 64,
     "metadata": {},
     "output_type": "execute_result"
    }
   ],
   "source": [
    "v1"
   ]
  },
  {
   "cell_type": "code",
   "execution_count": 65,
   "metadata": {},
   "outputs": [
    {
     "data": {
      "text/plain": [
       "Vector((11, 22))"
      ]
     },
     "execution_count": 65,
     "metadata": {},
     "output_type": "execute_result"
    }
   ],
   "source": [
    "v1+v2"
   ]
  },
  {
   "cell_type": "code",
   "execution_count": 66,
   "metadata": {},
   "outputs": [
    {
     "data": {
      "text/plain": [
       "Vector((11, 22))"
      ]
     },
     "execution_count": 66,
     "metadata": {},
     "output_type": "execute_result"
    }
   ],
   "source": [
    "v2+v1"
   ]
  },
  {
   "cell_type": "code",
   "execution_count": 67,
   "metadata": {},
   "outputs": [
    {
     "name": "stdout",
     "output_type": "stream",
     "text": [
      "unsupported operand type(s) for +: 'Vector' and 'Vector'\n"
     ]
    }
   ],
   "source": [
    "try:\n",
    "    v1 +v3\n",
    "except TypeError as ex:\n",
    "    print(ex)"
   ]
  },
  {
   "cell_type": "code",
   "execution_count": 68,
   "metadata": {},
   "outputs": [
    {
     "ename": "TypeError",
     "evalue": "unsupported operand type(s) for +: 'Vector' and 'int'",
     "output_type": "error",
     "traceback": [
      "\u001b[0;31m---------------------------------------------------------------------------\u001b[0m",
      "\u001b[0;31mTypeError\u001b[0m                                 Traceback (most recent call last)",
      "\u001b[0;32m<ipython-input-68-0502de084b90>\u001b[0m in \u001b[0;36m<module>\u001b[0;34m\u001b[0m\n\u001b[0;32m----> 1\u001b[0;31m \u001b[0mv1\u001b[0m\u001b[0;34m+\u001b[0m\u001b[0;36m100\u001b[0m\u001b[0;34m\u001b[0m\u001b[0m\n\u001b[0m",
      "\u001b[0;31mTypeError\u001b[0m: unsupported operand type(s) for +: 'Vector' and 'int'"
     ]
    }
   ],
   "source": [
    "v1+100"
   ]
  },
  {
   "cell_type": "code",
   "execution_count": 69,
   "metadata": {},
   "outputs": [],
   "source": [
    "class VectorDimensionMismatch(TypeError):\n",
    "    pass\n",
    "        \n",
    "class Vector:\n",
    "    def __init__(self,*components):\n",
    "        if len(components)<1:\n",
    "            raise ValueError('cant create an empty vector')\n",
    "        for component in components:\n",
    "            if not isinstance(component,Real):\n",
    "                raise ValueError(f'vector components must all be real number.{component} is invalid')\n",
    "            self._components = tuple(components)\n",
    "    \n",
    "    def __len__(self):\n",
    "        return len(self._components)\n",
    "\n",
    "    @property\n",
    "    def components(self):\n",
    "        return self._components\n",
    "    \n",
    "    def __repr__(self):\n",
    "        return f'Vector({self.components})'\n",
    "    \n",
    "    def validate_type_and_dimension(self,v):\n",
    "        return isinstance(v,Vector)and len(v) == len(self)\n",
    "    \n",
    "    def __add__(self,other):\n",
    "        if not self.validate_type_and_dimension(other):\n",
    "            return NotImplemented\n",
    "        components = (x +y  for x,y in zip(self.components,other.components))\n",
    "        return Vector(*components)\n",
    "        \n",
    "    def __sub__(self,other):\n",
    "        if not self.validate_type_and_dimension(other):\n",
    "            return NotImplemented\n",
    "        components = (x - y  for x,y in zip(self.components,other.components))\n",
    "        return Vector(*components)\n",
    "    \n",
    "    def __mul__(self,other):\n",
    "        print('__mul__ called ...')\n",
    "        if not isinstance(other,Real):\n",
    "            return NotImplemented\n",
    "        components = (other * x for x in self.components)\n",
    "        return Vector(*components)"
   ]
  },
  {
   "cell_type": "code",
   "execution_count": 70,
   "metadata": {},
   "outputs": [],
   "source": [
    "v1 = Vector(1,2)"
   ]
  },
  {
   "cell_type": "code",
   "execution_count": 71,
   "metadata": {},
   "outputs": [
    {
     "name": "stdout",
     "output_type": "stream",
     "text": [
      "__mul__ called ...\n"
     ]
    },
    {
     "data": {
      "text/plain": [
       "Vector((10, 20))"
      ]
     },
     "execution_count": 71,
     "metadata": {},
     "output_type": "execute_result"
    }
   ],
   "source": [
    "v1*10"
   ]
  },
  {
   "cell_type": "code",
   "execution_count": 72,
   "metadata": {},
   "outputs": [
    {
     "name": "stdout",
     "output_type": "stream",
     "text": [
      "__mul__ called ...\n"
     ]
    },
    {
     "data": {
      "text/plain": [
       "Vector((10, 20))"
      ]
     },
     "execution_count": 72,
     "metadata": {},
     "output_type": "execute_result"
    }
   ],
   "source": [
    "v1.__mul__(10)"
   ]
  },
  {
   "cell_type": "code",
   "execution_count": 73,
   "metadata": {},
   "outputs": [
    {
     "ename": "TypeError",
     "evalue": "unsupported operand type(s) for *: 'int' and 'Vector'",
     "output_type": "error",
     "traceback": [
      "\u001b[0;31m---------------------------------------------------------------------------\u001b[0m",
      "\u001b[0;31mTypeError\u001b[0m                                 Traceback (most recent call last)",
      "\u001b[0;32m<ipython-input-73-2d7478d110b8>\u001b[0m in \u001b[0;36m<module>\u001b[0;34m\u001b[0m\n\u001b[0;32m----> 1\u001b[0;31m \u001b[0;36m10\u001b[0m\u001b[0;34m*\u001b[0m\u001b[0mv1\u001b[0m\u001b[0;34m\u001b[0m\u001b[0m\n\u001b[0m",
      "\u001b[0;31mTypeError\u001b[0m: unsupported operand type(s) for *: 'int' and 'Vector'"
     ]
    }
   ],
   "source": [
    "10*v1"
   ]
  },
  {
   "cell_type": "code",
   "execution_count": 75,
   "metadata": {},
   "outputs": [
    {
     "ename": "AttributeError",
     "evalue": "'Vector' object has no attribute '__rmul__'",
     "output_type": "error",
     "traceback": [
      "\u001b[0;31m---------------------------------------------------------------------------\u001b[0m",
      "\u001b[0;31mAttributeError\u001b[0m                            Traceback (most recent call last)",
      "\u001b[0;32m<ipython-input-75-fefe90c0110a>\u001b[0m in \u001b[0;36m<module>\u001b[0;34m\u001b[0m\n\u001b[0;32m----> 1\u001b[0;31m \u001b[0mv1\u001b[0m\u001b[0;34m.\u001b[0m\u001b[0m__rmul__\u001b[0m\u001b[0;34m(\u001b[0m\u001b[0;36m10\u001b[0m\u001b[0;34m)\u001b[0m\u001b[0;34m\u001b[0m\u001b[0m\n\u001b[0m",
      "\u001b[0;31mAttributeError\u001b[0m: 'Vector' object has no attribute '__rmul__'"
     ]
    }
   ],
   "source": [
    "v1.__rmul__(10)"
   ]
  },
  {
   "cell_type": "code",
   "execution_count": 79,
   "metadata": {},
   "outputs": [],
   "source": [
    "class VectorDimensionMismatch(TypeError):\n",
    "    pass\n",
    "        \n",
    "class Vector:\n",
    "    def __init__(self,*components):\n",
    "        if len(components)<1:\n",
    "            raise ValueError('cant create an empty vector')\n",
    "        for component in components:\n",
    "            if not isinstance(component,Real):\n",
    "                raise ValueError(f'vector components must all be real number.{component} is invalid')\n",
    "            self._components = tuple(components)\n",
    "    \n",
    "    def __len__(self):\n",
    "        return len(self._components)\n",
    "\n",
    "    @property\n",
    "    def components(self):\n",
    "        return self._components\n",
    "    \n",
    "    def __repr__(self):\n",
    "        return f'Vector({self.components})'\n",
    "    \n",
    "    def validate_type_and_dimension(self,v):\n",
    "        return isinstance(v,Vector)and len(v) == len(self)\n",
    "    \n",
    "    def __add__(self,other):\n",
    "        if not self.validate_type_and_dimension(other):\n",
    "            return NotImplemented\n",
    "        components = (x +y  for x,y in zip(self.components,other.components))\n",
    "        return Vector(*components)\n",
    "        \n",
    "    def __sub__(self,other):\n",
    "        if not self.validate_type_and_dimension(other):\n",
    "            return NotImplemented\n",
    "        components = (x - y  for x,y in zip(self.components,other.components))\n",
    "        return Vector(*components)\n",
    "    \n",
    "    def __mul__(self,other):\n",
    "        print('__mul__ called ...')\n",
    "        if not isinstance(other,Real):\n",
    "            return NotImplemented\n",
    "        components = (other * x for x in self.components)\n",
    "        return Vector(*components)\n",
    "    \n",
    "    def __rmul__(self,other):\n",
    "        print('__rmul__ called..')\n",
    "        return self* other"
   ]
  },
  {
   "cell_type": "code",
   "execution_count": 80,
   "metadata": {},
   "outputs": [],
   "source": [
    "v1 = Vector(1,2)"
   ]
  },
  {
   "cell_type": "code",
   "execution_count": 81,
   "metadata": {},
   "outputs": [
    {
     "name": "stdout",
     "output_type": "stream",
     "text": [
      "__mul__ called ...\n"
     ]
    },
    {
     "data": {
      "text/plain": [
       "Vector((10, 20))"
      ]
     },
     "execution_count": 81,
     "metadata": {},
     "output_type": "execute_result"
    }
   ],
   "source": [
    "v1 *10"
   ]
  },
  {
   "cell_type": "code",
   "execution_count": 82,
   "metadata": {},
   "outputs": [
    {
     "name": "stdout",
     "output_type": "stream",
     "text": [
      "__rmul__ called..\n",
      "__mul__ called ...\n"
     ]
    },
    {
     "data": {
      "text/plain": [
       "Vector((10, 20))"
      ]
     },
     "execution_count": 82,
     "metadata": {},
     "output_type": "execute_result"
    }
   ],
   "source": [
    "10 *v1"
   ]
  },
  {
   "cell_type": "code",
   "execution_count": 83,
   "metadata": {},
   "outputs": [],
   "source": [
    "class VectorDimensionMismatch(TypeError):\n",
    "    pass\n",
    "        \n",
    "class Vector:\n",
    "    def __init__(self,*components):\n",
    "        if len(components)<1:\n",
    "            raise ValueError('cant create an empty vector')\n",
    "        for component in components:\n",
    "            if not isinstance(component,Real):\n",
    "                raise ValueError(f'vector components must all be real number.{component} is invalid')\n",
    "            self._components = tuple(components)\n",
    "    \n",
    "    def __len__(self):\n",
    "        return len(self._components)\n",
    "\n",
    "    @property\n",
    "    def components(self):\n",
    "        return self._components\n",
    "    \n",
    "    def __repr__(self):\n",
    "        return f'Vector({self.components})'\n",
    "    \n",
    "    def validate_type_and_dimension(self,v):\n",
    "        return isinstance(v,Vector)and len(v) == len(self)\n",
    "    \n",
    "    def __add__(self,other):\n",
    "        if not self.validate_type_and_dimension(other):\n",
    "            return NotImplemented\n",
    "        components = (x +y  for x,y in zip(self.components,other.components))\n",
    "        return Vector(*components)\n",
    "        \n",
    "    def __sub__(self,other):\n",
    "        if not self.validate_type_and_dimension(other):\n",
    "            return NotImplemented\n",
    "        components = (x - y  for x,y in zip(self.components,other.components))\n",
    "        return Vector(*components)\n",
    "    \n",
    "    def __mul__(self,other):\n",
    "        print('__mul__ called ...')\n",
    "        if isinstance(other,Real):\n",
    "            components = (other * x for x in self.components)\n",
    "            return Vector(*components)\n",
    "        if self.validate_type_and_dimension(other):\n",
    "            components = (x * y for x,y in zip(self.components,other.components))\n",
    "            return sum(components)\n",
    "        return NotImplemented\n",
    "    \n",
    "    def __rmul__(self,other):\n",
    "        print('__rmul__ called..')\n",
    "        return self* other"
   ]
  },
  {
   "cell_type": "code",
   "execution_count": 84,
   "metadata": {},
   "outputs": [],
   "source": [
    "v1 = Vector(1,2)\n",
    "v2= Vector(3,4)\n"
   ]
  },
  {
   "cell_type": "code",
   "execution_count": 85,
   "metadata": {},
   "outputs": [
    {
     "name": "stdout",
     "output_type": "stream",
     "text": [
      "__mul__ called ...\n"
     ]
    },
    {
     "data": {
      "text/plain": [
       "11"
      ]
     },
     "execution_count": 85,
     "metadata": {},
     "output_type": "execute_result"
    }
   ],
   "source": [
    "v1*v2"
   ]
  },
  {
   "cell_type": "code",
   "execution_count": 86,
   "metadata": {},
   "outputs": [],
   "source": [
    "class VectorDimensionMismatch(TypeError):\n",
    "    pass\n",
    "        \n",
    "class Vector:\n",
    "    def __init__(self,*components):\n",
    "        if len(components)<1:\n",
    "            raise ValueError('cant create an empty vector')\n",
    "        for component in components:\n",
    "            if not isinstance(component,Real):\n",
    "                raise ValueError(f'vector components must all be real number.{component} is invalid')\n",
    "            self._components = tuple(components)\n",
    "    \n",
    "    def __len__(self):\n",
    "        return len(self._components)\n",
    "\n",
    "    @property\n",
    "    def components(self):\n",
    "        return self._components\n",
    "    \n",
    "    def __repr__(self):\n",
    "        return f'Vector({self.components})'\n",
    "    \n",
    "    def validate_type_and_dimension(self,v):\n",
    "        return isinstance(v,Vector)and len(v) == len(self)\n",
    "    \n",
    "    def __add__(self,other):\n",
    "        if not self.validate_type_and_dimension(other):\n",
    "            return NotImplemented\n",
    "        components = (x +y  for x,y in zip(self.components,other.components))\n",
    "        return Vector(*components)\n",
    "        \n",
    "    def __sub__(self,other):\n",
    "        if not self.validate_type_and_dimension(other):\n",
    "            return NotImplemented\n",
    "        components = (x - y  for x,y in zip(self.components,other.components))\n",
    "        return Vector(*components)\n",
    "    \n",
    "    def __mul__(self,other):\n",
    "        print('__mul__ called ...')\n",
    "        if isinstance(other,Real):\n",
    "            components = (other * x for x in self.components)\n",
    "            return Vector(*components)\n",
    "        if self.validate_type_and_dimension(other):\n",
    "            components = (x * y for x,y in zip(self.components,other.components))\n",
    "            return sum(components)\n",
    "        return NotImplemented\n",
    "    \n",
    "    def __rmul__(self,other):\n",
    "        print('__rmul__ called..')\n",
    "        return self* other\n",
    "    \n",
    "    def __matmul__(self,other):\n",
    "        print('__matmul__ called ...')"
   ]
  },
  {
   "cell_type": "code",
   "execution_count": 87,
   "metadata": {},
   "outputs": [],
   "source": [
    "v1 = Vector(1,2)\n",
    "v2 = Vector(3,4)"
   ]
  },
  {
   "cell_type": "code",
   "execution_count": 89,
   "metadata": {},
   "outputs": [
    {
     "name": "stdout",
     "output_type": "stream",
     "text": [
      "__matmul__ called ...\n"
     ]
    }
   ],
   "source": [
    "v1 @ v2"
   ]
  },
  {
   "cell_type": "code",
   "execution_count": 90,
   "metadata": {},
   "outputs": [],
   "source": [
    "l = [1,2]"
   ]
  },
  {
   "cell_type": "code",
   "execution_count": 91,
   "metadata": {},
   "outputs": [
    {
     "data": {
      "text/plain": [
       "4598039560"
      ]
     },
     "execution_count": 91,
     "metadata": {},
     "output_type": "execute_result"
    }
   ],
   "source": [
    "id(l)"
   ]
  },
  {
   "cell_type": "code",
   "execution_count": 92,
   "metadata": {},
   "outputs": [],
   "source": [
    "l+=[3,4]"
   ]
  },
  {
   "cell_type": "code",
   "execution_count": 93,
   "metadata": {},
   "outputs": [
    {
     "data": {
      "text/plain": [
       "(4598039560, [1, 2, 3, 4])"
      ]
     },
     "execution_count": 93,
     "metadata": {},
     "output_type": "execute_result"
    }
   ],
   "source": [
    "id(l),l"
   ]
  },
  {
   "cell_type": "code",
   "execution_count": 94,
   "metadata": {},
   "outputs": [
    {
     "name": "stdout",
     "output_type": "stream",
     "text": [
      "4598041352\n",
      "4598051784 [1, 2, 3, 4]\n"
     ]
    }
   ],
   "source": [
    "l =[1,2]\n",
    "print(id(l))\n",
    "l = l+[3,4]\n",
    "print(id(l),l)"
   ]
  },
  {
   "cell_type": "code",
   "execution_count": 95,
   "metadata": {},
   "outputs": [
    {
     "name": "stdout",
     "output_type": "stream",
     "text": [
      "4576015048\n",
      "4595808040 (1, 2, 3, 4)\n"
     ]
    }
   ],
   "source": [
    "t = (1,2)\n",
    "print(id(t))\n",
    "t+=(3,4)\n",
    "print(id(t),t)"
   ]
  },
  {
   "cell_type": "code",
   "execution_count": 96,
   "metadata": {},
   "outputs": [],
   "source": [
    "class VectorDimensionMismatch(TypeError):\n",
    "    pass\n",
    "        \n",
    "class Vector:\n",
    "    def __init__(self,*components):\n",
    "        if len(components)<1:\n",
    "            raise ValueError('cant create an empty vector')\n",
    "        for component in components:\n",
    "            if not isinstance(component,Real):\n",
    "                raise ValueError(f'vector components must all be real number.{component} is invalid')\n",
    "            self._components = tuple(components)\n",
    "    \n",
    "    def __len__(self):\n",
    "        return len(self._components)\n",
    "\n",
    "    @property\n",
    "    def components(self):\n",
    "        return self._components\n",
    "    \n",
    "    def __repr__(self):\n",
    "        return f'Vector({self.components})'\n",
    "    \n",
    "    def validate_type_and_dimension(self,v):\n",
    "        return isinstance(v,Vector)and len(v) == len(self)\n",
    "    \n",
    "    def __add__(self,other):\n",
    "        if not self.validate_type_and_dimension(other):\n",
    "            return NotImplemented\n",
    "        components = (x +y  for x,y in zip(self.components,other.components))\n",
    "        return Vector(*components)\n",
    "        \n",
    "    def __sub__(self,other):\n",
    "        if not self.validate_type_and_dimension(other):\n",
    "            return NotImplemented\n",
    "        components = (x - y  for x,y in zip(self.components,other.components))\n",
    "        return Vector(*components)\n",
    "    \n",
    "    def __mul__(self,other):\n",
    "        print('__mul__ called ...')\n",
    "        if isinstance(other,Real):\n",
    "            components = (other * x for x in self.components)\n",
    "            return Vector(*components)\n",
    "        if self.validate_type_and_dimension(other):\n",
    "            components = (x * y for x,y in zip(self.components,other.components))\n",
    "            return sum(components)\n",
    "        return NotImplemented\n",
    "    \n",
    "    def __rmul__(self,other):\n",
    "        print('__rmul__ called..')\n",
    "        return self* other\n",
    "    \n",
    "    def __matmul__(self,other):\n",
    "        print('__matmul__ called ...')\n",
    "        \n",
    "    def __iadd__(self,other):\n",
    "        print('__radd__ called ...')\n",
    "        return self + other"
   ]
  },
  {
   "cell_type": "code",
   "execution_count": 97,
   "metadata": {},
   "outputs": [
    {
     "name": "stdout",
     "output_type": "stream",
     "text": [
      "4595797856\n",
      "__radd__ called ...\n",
      "4595797800 Vector((11, 12))\n"
     ]
    }
   ],
   "source": [
    "v1 = Vector(1,2)\n",
    "v2 = Vector(10,10)\n",
    "print(id(v1))\n",
    "v1+=v2\n",
    "print(id(v1),v1)"
   ]
  },
  {
   "cell_type": "code",
   "execution_count": 100,
   "metadata": {},
   "outputs": [],
   "source": [
    "class VectorDimensionMismatch(TypeError):\n",
    "    pass\n",
    "        \n",
    "class Vector:\n",
    "    def __init__(self,*components):\n",
    "        if len(components)<1:\n",
    "            raise ValueError('cant create an empty vector')\n",
    "        for component in components:\n",
    "            if not isinstance(component,Real):\n",
    "                raise ValueError(f'vector components must all be real number.{component} is invalid')\n",
    "            self._components = tuple(components)\n",
    "    \n",
    "    def __len__(self):\n",
    "        return len(self._components)\n",
    "\n",
    "    @property\n",
    "    def components(self):\n",
    "        return self._components\n",
    "    \n",
    "    def __repr__(self):\n",
    "        return f'Vector({self.components})'\n",
    "    \n",
    "    def validate_type_and_dimension(self,v):\n",
    "        return isinstance(v,Vector)and len(v) == len(self)\n",
    "    \n",
    "    def __add__(self,other):\n",
    "        if not self.validate_type_and_dimension(other):\n",
    "            return NotImplemented\n",
    "        components = (x +y  for x,y in zip(self.components,other.components))\n",
    "        return Vector(*components)\n",
    "        \n",
    "    def __sub__(self,other):\n",
    "        if not self.validate_type_and_dimension(other):\n",
    "            return NotImplemented\n",
    "        components = (x - y  for x,y in zip(self.components,other.components))\n",
    "        return Vector(*components)\n",
    "    \n",
    "    def __mul__(self,other):\n",
    "        print('__mul__ called ...')\n",
    "        if isinstance(other,Real):\n",
    "            components = (other * x for x in self.components)\n",
    "            return Vector(*components)\n",
    "        if self.validate_type_and_dimension(other):\n",
    "            components = (x * y for x,y in zip(self.components,other.components))\n",
    "            return sum(components)\n",
    "        return NotImplemented\n",
    "    \n",
    "    def __rmul__(self,other):\n",
    "        print('__rmul__ called..')\n",
    "        return self* other\n",
    "    \n",
    "    def __matmul__(self,other):\n",
    "        print('__matmul__ called ...')\n",
    "        \n",
    "    def __iadd__(self,other):\n",
    "        print('__radd__ called ...')\n",
    "        if self.validate_type_and_dimension(other):\n",
    "            components = (x + y for x,y in zip(self.components,other.components))\n",
    "            self._components = tuple(components)\n",
    "            return self\n",
    "        return NotImplemented\n",
    "    \n",
    "    "
   ]
  },
  {
   "cell_type": "code",
   "execution_count": 101,
   "metadata": {},
   "outputs": [
    {
     "name": "stdout",
     "output_type": "stream",
     "text": [
      "4598083368\n",
      "__radd__ called ...\n",
      "4598083368 Vector((11, 12))\n"
     ]
    }
   ],
   "source": [
    "v1 = Vector(1,2)\n",
    "v2 = Vector(10,10)\n",
    "print(id(v1))\n",
    "v1+=v2\n",
    "print(id(v1),v1)"
   ]
  },
  {
   "cell_type": "code",
   "execution_count": 106,
   "metadata": {},
   "outputs": [],
   "source": [
    "class VectorDimensionMismatch(TypeError):\n",
    "    pass\n",
    "        \n",
    "class Vector:\n",
    "    def __init__(self,*components):\n",
    "        if len(components)<1:\n",
    "            raise ValueError('cant create an empty vector')\n",
    "        for component in components:\n",
    "            if not isinstance(component,Real):\n",
    "                raise ValueError(f'vector components must all be real number.{component} is invalid')\n",
    "            self._components = tuple(components)\n",
    "    \n",
    "    def __len__(self):\n",
    "        return len(self._components)\n",
    "\n",
    "    @property\n",
    "    def components(self):\n",
    "        return self._components\n",
    "    \n",
    "    def __repr__(self):\n",
    "        return f'Vector({self.components})'\n",
    "    \n",
    "    def validate_type_and_dimension(self,v):\n",
    "        return isinstance(v,Vector)and len(v) == len(self)\n",
    "    \n",
    "    def __add__(self,other):\n",
    "        if not self.validate_type_and_dimension(other):\n",
    "            return NotImplemented\n",
    "        components = (x +y  for x,y in zip(self.components,other.components))\n",
    "        return Vector(*components)\n",
    "        \n",
    "    def __sub__(self,other):\n",
    "        if not self.validate_type_and_dimension(other):\n",
    "            return NotImplemented\n",
    "        components = (x - y  for x,y in zip(self.components,other.components))\n",
    "        return Vector(*components)\n",
    "    \n",
    "    def __mul__(self,other):\n",
    "        print('__mul__ called ...')\n",
    "        if isinstance(other,Real):\n",
    "            components = (other * x for x in self.components)\n",
    "            return Vector(*components)\n",
    "        if self.validate_type_and_dimension(other):\n",
    "            components = (x * y for x,y in zip(self.components,other.components))\n",
    "            return sum(components)\n",
    "        return NotImplemented\n",
    "    \n",
    "    def __rmul__(self,other):\n",
    "        print('__rmul__ called..')\n",
    "        return self* other\n",
    "    \n",
    "    def __matmul__(self,other):\n",
    "        print('__matmul__ called ...')\n",
    "        \n",
    "    def __iadd__(self,other):\n",
    "        print('__radd__ called ...')\n",
    "        if self.validate_type_and_dimension(other):\n",
    "            components = (x + y for x,y in zip(self.components,other.components))\n",
    "            self._components = tuple(components)\n",
    "            return self\n",
    "        return NotImplemented\n",
    "    \n",
    "    def __neg__(self):\n",
    "        print('__neg__ called...')\n",
    "        components = (-x for x in self.components)\n",
    "        return Vector(*components)"
   ]
  },
  {
   "cell_type": "code",
   "execution_count": 107,
   "metadata": {},
   "outputs": [
    {
     "data": {
      "text/plain": [
       "4598081576"
      ]
     },
     "execution_count": 107,
     "metadata": {},
     "output_type": "execute_result"
    }
   ],
   "source": [
    "v1 =Vector(1,2)\n",
    "id(v1)"
   ]
  },
  {
   "cell_type": "code",
   "execution_count": 108,
   "metadata": {},
   "outputs": [
    {
     "name": "stdout",
     "output_type": "stream",
     "text": [
      "__neg__ called...\n"
     ]
    }
   ],
   "source": [
    "v2 =-v1"
   ]
  },
  {
   "cell_type": "code",
   "execution_count": 109,
   "metadata": {},
   "outputs": [
    {
     "name": "stdout",
     "output_type": "stream",
     "text": [
      "__neg__ called...\n"
     ]
    },
    {
     "data": {
      "text/plain": [
       "Vector((2, 4))"
      ]
     },
     "execution_count": 109,
     "metadata": {},
     "output_type": "execute_result"
    }
   ],
   "source": [
    "v1+ -v2"
   ]
  },
  {
   "cell_type": "code",
   "execution_count": 110,
   "metadata": {},
   "outputs": [
    {
     "ename": "TypeError",
     "evalue": "bad operand type for abs(): 'Vector'",
     "output_type": "error",
     "traceback": [
      "\u001b[0;31m---------------------------------------------------------------------------\u001b[0m",
      "\u001b[0;31mTypeError\u001b[0m                                 Traceback (most recent call last)",
      "\u001b[0;32m<ipython-input-110-a3a1805f6423>\u001b[0m in \u001b[0;36m<module>\u001b[0;34m\u001b[0m\n\u001b[0;32m----> 1\u001b[0;31m \u001b[0mabs\u001b[0m\u001b[0;34m(\u001b[0m\u001b[0mv1\u001b[0m\u001b[0;34m)\u001b[0m\u001b[0;34m\u001b[0m\u001b[0m\n\u001b[0m",
      "\u001b[0;31mTypeError\u001b[0m: bad operand type for abs(): 'Vector'"
     ]
    }
   ],
   "source": [
    "abs(v1)"
   ]
  },
  {
   "cell_type": "code",
   "execution_count": 111,
   "metadata": {},
   "outputs": [],
   "source": [
    "from math import sqrt\n",
    "        \n",
    "class Vector:\n",
    "    def __init__(self,*components):\n",
    "        if len(components)<1:\n",
    "            raise ValueError('cant create an empty vector')\n",
    "        for component in components:\n",
    "            if not isinstance(component,Real):\n",
    "                raise ValueError(f'vector components must all be real number.{component} is invalid')\n",
    "            self._components = tuple(components)\n",
    "    \n",
    "    def __len__(self):\n",
    "        return len(self._components)\n",
    "\n",
    "    @property\n",
    "    def components(self):\n",
    "        return self._components\n",
    "    \n",
    "    def __repr__(self):\n",
    "        return f'Vector({self.components})'\n",
    "    \n",
    "    def validate_type_and_dimension(self,v):\n",
    "        return isinstance(v,Vector)and len(v) == len(self)\n",
    "    \n",
    "    def __add__(self,other):\n",
    "        if not self.validate_type_and_dimension(other):\n",
    "            return NotImplemented\n",
    "        components = (x +y  for x,y in zip(self.components,other.components))\n",
    "        return Vector(*components)\n",
    "        \n",
    "    def __sub__(self,other):\n",
    "        if not self.validate_type_and_dimension(other):\n",
    "            return NotImplemented\n",
    "        components = (x - y  for x,y in zip(self.components,other.components))\n",
    "        return Vector(*components)\n",
    "    \n",
    "    def __mul__(self,other):\n",
    "        print('__mul__ called ...')\n",
    "        if isinstance(other,Real):\n",
    "            components = (other * x for x in self.components)\n",
    "            return Vector(*components)\n",
    "        if self.validate_type_and_dimension(other):\n",
    "            components = (x * y for x,y in zip(self.components,other.components))\n",
    "            return sum(components)\n",
    "        return NotImplemented\n",
    "    \n",
    "    def __rmul__(self,other):\n",
    "        print('__rmul__ called..')\n",
    "        return self* other\n",
    "    \n",
    "    def __matmul__(self,other):\n",
    "        print('__matmul__ called ...')\n",
    "        \n",
    "    def __iadd__(self,other):\n",
    "        print('__radd__ called ...')\n",
    "        if self.validate_type_and_dimension(other):\n",
    "            components = (x + y for x,y in zip(self.components,other.components))\n",
    "            self._components = tuple(components)\n",
    "            return self\n",
    "        return NotImplemented\n",
    "    \n",
    "    def __neg__(self):\n",
    "        print('__neg__ called...')\n",
    "        components = (-x for x in self.components)\n",
    "        return Vector(*components)\n",
    "    \n",
    "    def __abs__(self):\n",
    "        print('__abs__called...')\n",
    "        return sqrt(sum(x**2 for x in self.components))"
   ]
  },
  {
   "cell_type": "code",
   "execution_count": 112,
   "metadata": {},
   "outputs": [
    {
     "name": "stdout",
     "output_type": "stream",
     "text": [
      "__abs__called...\n"
     ]
    },
    {
     "data": {
      "text/plain": [
       "1.4142135623730951"
      ]
     },
     "execution_count": 112,
     "metadata": {},
     "output_type": "execute_result"
    }
   ],
   "source": [
    "v1 = Vector(1,1)\n",
    "abs(v1)"
   ]
  },
  {
   "cell_type": "code",
   "execution_count": 113,
   "metadata": {},
   "outputs": [
    {
     "data": {
      "text/plain": [
       "[1, 2, 1, 2, 1, 2, 1, 2]"
      ]
     },
     "execution_count": 113,
     "metadata": {},
     "output_type": "execute_result"
    }
   ],
   "source": [
    "[1,2]*4"
   ]
  },
  {
   "cell_type": "code",
   "execution_count": 114,
   "metadata": {},
   "outputs": [],
   "source": [
    "class Person:\n",
    "    def __init__(self,name):\n",
    "        self.name = name\n",
    "    \n",
    "    def __repr__(self):\n",
    "        return f\"Person('{self.name}')\""
   ]
  },
  {
   "cell_type": "code",
   "execution_count": 115,
   "metadata": {},
   "outputs": [
    {
     "data": {
      "text/plain": [
       "Person('Sam')"
      ]
     },
     "execution_count": 115,
     "metadata": {},
     "output_type": "execute_result"
    }
   ],
   "source": [
    "p1 = Person('Sam')\n",
    "p1"
   ]
  },
  {
   "cell_type": "code",
   "execution_count": 116,
   "metadata": {},
   "outputs": [],
   "source": [
    "class Family:\n",
    "    def __init__(self,mother,father):\n",
    "        self.mother = mother\n",
    "        self.father = father\n",
    "        self.children =[]\n",
    "        \n",
    "    def __iadd__(self,other):\n",
    "        self.children.append(other)\n",
    "        return self\n",
    "    "
   ]
  },
  {
   "cell_type": "code",
   "execution_count": 117,
   "metadata": {},
   "outputs": [],
   "source": [
    "f = Family(Person('Mary'),Person('Eric'))"
   ]
  },
  {
   "cell_type": "code",
   "execution_count": 118,
   "metadata": {},
   "outputs": [
    {
     "data": {
      "text/plain": [
       "(Person('Mary'), Person('Eric'), [])"
      ]
     },
     "execution_count": 118,
     "metadata": {},
     "output_type": "execute_result"
    }
   ],
   "source": [
    "f.mother,f.father,f.children"
   ]
  },
  {
   "cell_type": "code",
   "execution_count": 119,
   "metadata": {},
   "outputs": [],
   "source": [
    "f += Person('Eric')"
   ]
  },
  {
   "cell_type": "code",
   "execution_count": 120,
   "metadata": {},
   "outputs": [
    {
     "data": {
      "text/plain": [
       "[Person('Eric')]"
      ]
     },
     "execution_count": 120,
     "metadata": {},
     "output_type": "execute_result"
    }
   ],
   "source": [
    "f.children"
   ]
  },
  {
   "cell_type": "code",
   "execution_count": null,
   "metadata": {},
   "outputs": [],
   "source": []
  }
 ],
 "metadata": {
  "kernelspec": {
   "display_name": "Python 3",
   "language": "python",
   "name": "python3"
  },
  "language_info": {
   "codemirror_mode": {
    "name": "ipython",
    "version": 3
   },
   "file_extension": ".py",
   "mimetype": "text/x-python",
   "name": "python",
   "nbconvert_exporter": "python",
   "pygments_lexer": "ipython3",
   "version": "3.6.0"
  }
 },
 "nbformat": 4,
 "nbformat_minor": 4
}
