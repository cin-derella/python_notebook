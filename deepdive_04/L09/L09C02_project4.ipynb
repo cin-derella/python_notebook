{
 "cells": [
  {
   "cell_type": "code",
   "execution_count": 1,
   "metadata": {},
   "outputs": [],
   "source": [
    "import numbers"
   ]
  },
  {
   "cell_type": "code",
   "execution_count": 7,
   "metadata": {},
   "outputs": [],
   "source": [
    "class IntegerFields:\n",
    "    def __init__(self,min_,max_):\n",
    "        self._min = min_\n",
    "        self._max = max_\n",
    "        \n",
    "    def __set_name__(self,owner_class,prop_name):\n",
    "        self.prop_name = prop_name\n",
    "        \n",
    "    def __set__(self,instance,value):\n",
    "        if not isinstance(value,numbers.Integral):\n",
    "            raise ValueError(f'{self.prop_name} must be an integer')\n",
    "        if value < self._min:\n",
    "            raise ValueError(f'{self.prop_name} must be >={self._min}')\n",
    "        if value > self._max:\n",
    "            raise ValueError(f'{self.prop_name} must be <= {self._max}')\n",
    "    \n",
    "        instance.__dict__[self.prop_name] = value\n",
    "        \n",
    "    def __get__(self,instance,owner_class):\n",
    "        if instance is None:\n",
    "            return self\n",
    "        return instance.__dict__.get(self.prop_name,None)"
   ]
  },
  {
   "cell_type": "code",
   "execution_count": 8,
   "metadata": {},
   "outputs": [],
   "source": [
    "class Person:\n",
    "    age = IntegerFields(0,100)"
   ]
  },
  {
   "cell_type": "code",
   "execution_count": 9,
   "metadata": {},
   "outputs": [],
   "source": [
    "p = Person()"
   ]
  },
  {
   "cell_type": "code",
   "execution_count": 10,
   "metadata": {},
   "outputs": [],
   "source": [
    "p.age = 5"
   ]
  },
  {
   "cell_type": "code",
   "execution_count": 11,
   "metadata": {},
   "outputs": [
    {
     "data": {
      "text/plain": [
       "5"
      ]
     },
     "execution_count": 11,
     "metadata": {},
     "output_type": "execute_result"
    }
   ],
   "source": [
    "p.age"
   ]
  },
  {
   "cell_type": "code",
   "execution_count": 12,
   "metadata": {},
   "outputs": [
    {
     "name": "stdout",
     "output_type": "stream",
     "text": [
      "age must be <= 100\n"
     ]
    }
   ],
   "source": [
    "try:\n",
    "    p.age = 200\n",
    "except ValueError as ex:\n",
    "    print(ex)"
   ]
  },
  {
   "cell_type": "code",
   "execution_count": 14,
   "metadata": {},
   "outputs": [],
   "source": [
    "import unittest"
   ]
  },
  {
   "cell_type": "code",
   "execution_count": 21,
   "metadata": {},
   "outputs": [],
   "source": [
    "def run_tests(test_class):\n",
    "    suite = unittest.TestLoader().loadTestsFromTestCase(test_class)\n",
    "    runner = unittest.TextTestRunner(verbosity = 2)\n",
    "    result = runner.run(suite)"
   ]
  },
  {
   "cell_type": "code",
   "execution_count": 22,
   "metadata": {},
   "outputs": [],
   "source": [
    "class TestIntegerField(unittest.TestCase):\n",
    "    class Person:\n",
    "        age = IntegerFields(0,10)\n",
    "    \n",
    "    def test_set_age_ok(self):\n",
    "        p = self.Person()\n",
    "        p.age = 0\n",
    "        self.assertEqual(0,p.age)"
   ]
  },
  {
   "cell_type": "code",
   "execution_count": 23,
   "metadata": {},
   "outputs": [
    {
     "name": "stderr",
     "output_type": "stream",
     "text": [
      "test_set_age_ok (__main__.TestIntegerField) ... ok\n",
      "\n",
      "----------------------------------------------------------------------\n",
      "Ran 1 test in 0.002s\n",
      "\n",
      "OK\n"
     ]
    }
   ],
   "source": [
    "run_tests(TestIntegerField)"
   ]
  },
  {
   "cell_type": "code",
   "execution_count": 34,
   "metadata": {},
   "outputs": [],
   "source": [
    "class TestIntegerField(unittest.TestCase):\n",
    "    class Person:\n",
    "        age = IntegerFields(0,10)\n",
    "        \n",
    "    def test_set_age_ok(self):\n",
    "        min_ =5\n",
    "        max_ = 10\n",
    "        self.Person.age = IntegerFields(5,10)\n",
    "        \n",
    "        p = self.Person()\n",
    "        p.age = 5\n",
    "        self.assertEqual(5,p.age)"
   ]
  },
  {
   "cell_type": "code",
   "execution_count": 35,
   "metadata": {},
   "outputs": [
    {
     "name": "stderr",
     "output_type": "stream",
     "text": [
      "test_set_age_ok (__main__.TestIntegerField) ... ERROR\n",
      "\n",
      "======================================================================\n",
      "ERROR: test_set_age_ok (__main__.TestIntegerField)\n",
      "----------------------------------------------------------------------\n",
      "Traceback (most recent call last):\n",
      "  File \"<ipython-input-34-ce42a2ac4e09>\", line 11, in test_set_age_ok\n",
      "    p.age = 5\n",
      "  File \"<ipython-input-7-af8260a7e332>\", line 17, in __set__\n",
      "    instance.__dict__[self.prop_name] = value\n",
      "AttributeError: 'IntegerFields' object has no attribute 'prop_name'\n",
      "\n",
      "----------------------------------------------------------------------\n",
      "Ran 1 test in 0.002s\n",
      "\n",
      "FAILED (errors=1)\n"
     ]
    }
   ],
   "source": [
    "run_tests(TestIntegerField)"
   ]
  },
  {
   "cell_type": "code",
   "execution_count": 37,
   "metadata": {},
   "outputs": [],
   "source": [
    "class TestIntegerField(unittest.TestCase):\n",
    "    class Person:\n",
    "        age = IntegerFields(0,10)\n",
    "        \n",
    "    def create_person(self,min_,max_):\n",
    "        self.Person.age = IntegerFields(min_,max_)\n",
    "        self.Person.age.__set_name__(Person,'age')\n",
    "        return self.Person()\n",
    "        \n",
    "    def test_set_age_ok(self):\n",
    "        min_ = 5\n",
    "        max_ = 10\n",
    "        p = self.create_person(min_,max_)\n",
    "        \n",
    "        \n",
    "        p.age = 5\n",
    "        self.assertEqual(5,p.age)"
   ]
  },
  {
   "cell_type": "code",
   "execution_count": 39,
   "metadata": {},
   "outputs": [
    {
     "name": "stderr",
     "output_type": "stream",
     "text": [
      "test_set_age_ok (__main__.TestIntegerField) ... ok\n",
      "\n",
      "----------------------------------------------------------------------\n",
      "Ran 1 test in 0.001s\n",
      "\n",
      "OK\n"
     ]
    }
   ],
   "source": [
    "run_tests(TestIntegerField)"
   ]
  },
  {
   "cell_type": "code",
   "execution_count": 40,
   "metadata": {},
   "outputs": [],
   "source": [
    "class Person:\n",
    "    a =10"
   ]
  },
  {
   "cell_type": "code",
   "execution_count": 41,
   "metadata": {},
   "outputs": [
    {
     "data": {
      "text/plain": [
       "type"
      ]
     },
     "execution_count": 41,
     "metadata": {},
     "output_type": "execute_result"
    }
   ],
   "source": [
    "type(Person)"
   ]
  },
  {
   "cell_type": "code",
   "execution_count": 43,
   "metadata": {},
   "outputs": [
    {
     "data": {
      "text/plain": [
       "__main__.Person"
      ]
     },
     "execution_count": 43,
     "metadata": {},
     "output_type": "execute_result"
    }
   ],
   "source": [
    "type('Person', (),{'a':10})"
   ]
  },
  {
   "cell_type": "code",
   "execution_count": 44,
   "metadata": {},
   "outputs": [
    {
     "data": {
      "text/plain": [
       "type"
      ]
     },
     "execution_count": 44,
     "metadata": {},
     "output_type": "execute_result"
    }
   ],
   "source": [
    "type(Person)"
   ]
  },
  {
   "cell_type": "code",
   "execution_count": 45,
   "metadata": {},
   "outputs": [
    {
     "data": {
      "text/plain": [
       "mappingproxy({'__module__': '__main__',\n",
       "              'a': 10,\n",
       "              '__dict__': <attribute '__dict__' of 'Person' objects>,\n",
       "              '__weakref__': <attribute '__weakref__' of 'Person' objects>,\n",
       "              '__doc__': None})"
      ]
     },
     "execution_count": 45,
     "metadata": {},
     "output_type": "execute_result"
    }
   ],
   "source": [
    "Person.__dict__"
   ]
  },
  {
   "cell_type": "code",
   "execution_count": 46,
   "metadata": {},
   "outputs": [
    {
     "data": {
      "text/plain": [
       "10"
      ]
     },
     "execution_count": 46,
     "metadata": {},
     "output_type": "execute_result"
    }
   ],
   "source": [
    "Person.a"
   ]
  },
  {
   "cell_type": "code",
   "execution_count": 47,
   "metadata": {},
   "outputs": [],
   "source": [
    "Person.a =100"
   ]
  },
  {
   "cell_type": "code",
   "execution_count": 48,
   "metadata": {},
   "outputs": [
    {
     "data": {
      "text/plain": [
       "mappingproxy({'__module__': '__main__',\n",
       "              'a': 100,\n",
       "              '__dict__': <attribute '__dict__' of 'Person' objects>,\n",
       "              '__weakref__': <attribute '__weakref__' of 'Person' objects>,\n",
       "              '__doc__': None})"
      ]
     },
     "execution_count": 48,
     "metadata": {},
     "output_type": "execute_result"
    }
   ],
   "source": [
    "Person.__dict__"
   ]
  },
  {
   "cell_type": "code",
   "execution_count": 49,
   "metadata": {},
   "outputs": [],
   "source": [
    "p = Person()"
   ]
  },
  {
   "cell_type": "code",
   "execution_count": 50,
   "metadata": {},
   "outputs": [
    {
     "data": {
      "text/plain": [
       "100"
      ]
     },
     "execution_count": 50,
     "metadata": {},
     "output_type": "execute_result"
    }
   ],
   "source": [
    "p.a"
   ]
  },
  {
   "cell_type": "code",
   "execution_count": 51,
   "metadata": {},
   "outputs": [],
   "source": [
    "p.a = 1"
   ]
  },
  {
   "cell_type": "code",
   "execution_count": 52,
   "metadata": {},
   "outputs": [
    {
     "data": {
      "text/plain": [
       "1"
      ]
     },
     "execution_count": 52,
     "metadata": {},
     "output_type": "execute_result"
    }
   ],
   "source": [
    "p.a"
   ]
  },
  {
   "cell_type": "code",
   "execution_count": 53,
   "metadata": {},
   "outputs": [
    {
     "data": {
      "text/plain": [
       "{'a': 1}"
      ]
     },
     "execution_count": 53,
     "metadata": {},
     "output_type": "execute_result"
    }
   ],
   "source": [
    "p.__dict__"
   ]
  },
  {
   "cell_type": "code",
   "execution_count": 61,
   "metadata": {},
   "outputs": [],
   "source": [
    "class TestIntegerField(unittest.TestCase):\n",
    "    @staticmethod\n",
    "    def create_test_class(min_,max_):\n",
    "        obj = type('TestCase',(),{'age':IntegerFields(min_,max_)})\n",
    "        return obj()\n",
    "    \n",
    "    def test_set_age_ok(self):\n",
    "        min_ = 5\n",
    "        max_ = 10\n",
    "        p = self.create_test_class(min_,max_)\n",
    "        \n",
    "        \n",
    "        p.age = 5\n",
    "        self.assertEqual(5,p.age)"
   ]
  },
  {
   "cell_type": "code",
   "execution_count": 62,
   "metadata": {},
   "outputs": [
    {
     "name": "stderr",
     "output_type": "stream",
     "text": [
      "test_set_age_ok (__main__.TestIntegerField) ... ok\n",
      "\n",
      "----------------------------------------------------------------------\n",
      "Ran 1 test in 0.001s\n",
      "\n",
      "OK\n"
     ]
    }
   ],
   "source": [
    "run_tests(TestIntegerField)"
   ]
  },
  {
   "cell_type": "code",
   "execution_count": 71,
   "metadata": {},
   "outputs": [
    {
     "name": "stderr",
     "output_type": "stream",
     "text": [
      "test_class_get (__main__.TestIntegerField) ... ok\n",
      "test_set_age_invalid (__main__.TestIntegerField) ... ok\n",
      "test_set_age_ok (__main__.TestIntegerField) ... ok\n",
      "\n",
      "----------------------------------------------------------------------\n",
      "Ran 3 tests in 0.003s\n",
      "\n",
      "OK\n"
     ]
    }
   ],
   "source": [
    "   run_tests(TestIntegerField)"
   ]
  },
  {
   "cell_type": "code",
   "execution_count": 76,
   "metadata": {},
   "outputs": [],
   "source": [
    "class TestIntegerField(unittest.TestCase):\n",
    "    @staticmethod\n",
    "    def create_test_class(min_,max_):\n",
    "        obj = type('TestCase',(),{'age':IntegerFields(min_,max_)})\n",
    "        return obj()\n",
    "    \n",
    "    def test_set_age_ok(self):\n",
    "        min_ = 5\n",
    "        max_ = 10\n",
    "        obj = self.create_test_class(min_,max_)\n",
    "        valid_values = range(min_,max_ +1)\n",
    "        \n",
    "        for i,value in enumerate(valid_values):\n",
    "            with self.subTest(test_number = i):\n",
    "                obj.age = value\n",
    "                self.assertEqual(value,obj.age)\n",
    "    \n",
    "    def test_set_age_invalid(self):\n",
    "        min_ = -10\n",
    "        max_ = 10\n",
    "        obj = self.create_test_class(min_,max_)\n",
    "        \n",
    "        bad_values = list(range(min_ -5 ,min_))\n",
    "        bad_values += list(range(max_ +1,max_ +5))\n",
    "        bad_values += [(10.5,1+0j,'abc',(1,2))]\n",
    "        \n",
    "        for i,value in enumerate(bad_values):\n",
    "            with self.subTest(test_number = i):\n",
    "                with self.assertRaises(ValueError):\n",
    "                    obj.age = value\n",
    "                    \n",
    "    def test_class_get(self):\n",
    "        obj = self.create_test_class(0,0)\n",
    "        obj_class = type(obj)\n",
    "        self.assertIsInstance(obj_class.age,IntegerFields)\n",
    "        \n",
    "        \n",
    "    def test_set_age_min_only(self):\n",
    "        min_ = 0\n",
    "        max_ = None\n",
    "        obj = self.create_test_class(min_,max_)\n",
    "        values = range(min_,min_ +100, 10)\n",
    "        for i,value in enumerate(values):\n",
    "            with self.subTest(test_number = i):\n",
    "                obj.age = value\n",
    "                self.assertEqual(value,obj.age)\n",
    "                \n",
    "    def test_set_age_max_only(self):\n",
    "        min_ =None\n",
    "        max_= 10\n",
    "        obj = self.create_test_class(min_,max_)\n",
    "        values = range(max_ -100, max_, 10)\n",
    "        for i,value in enumerate(values):\n",
    "            with self.subTest(test_number = i):\n",
    "                obj.age = value\n",
    "                self.assertEqual(value,obj,age)"
   ]
  },
  {
   "cell_type": "code",
   "execution_count": 80,
   "metadata": {},
   "outputs": [],
   "source": [
    "class IntegerFields:\n",
    "    def __init__(self,min_ = None,max_ = None):\n",
    "        self._min = min_\n",
    "        self._max = max_\n",
    "        \n",
    "    def __set_name__(self,owner_class,prop_name):\n",
    "        self.prop_name = prop_name\n",
    "        \n",
    "    def __set__(self,instance,value):\n",
    "        if not isinstance(value,numbers.Integral):\n",
    "            raise ValueError(f'{self.prop_name} must be an integer')\n",
    "        if self._min is not None and value < self._min:\n",
    "            raise ValueError(f'{self.prop_name} must be >={self._min}')\n",
    "        if self._max is not None and value > self._max:\n",
    "            raise ValueError(f'{self.prop_name} must be <= {self._max}')\n",
    "    \n",
    "        instance.__dict__[self.prop_name] = value\n",
    "        \n",
    "    def __get__(self,instance,owner_class):\n",
    "        if instance is None:\n",
    "            return self\n",
    "        return instance.__dict__.get(self.prop_name,None)"
   ]
  },
  {
   "cell_type": "code",
   "execution_count": 81,
   "metadata": {},
   "outputs": [],
   "source": [
    "class TestIntegerField(unittest.TestCase):\n",
    "    @staticmethod\n",
    "    def create_test_class(min_,max_):\n",
    "        obj = type('TestCase',(),{'age':IntegerFields(min_,max_)})\n",
    "        return obj()\n",
    "    \n",
    "    def test_set_age_ok(self):\n",
    "        min_ = 5\n",
    "        max_ = 10\n",
    "        obj = self.create_test_class(min_,max_)\n",
    "        valid_values = range(min_,max_ +1)\n",
    "        \n",
    "        for i,value in enumerate(valid_values):\n",
    "            with self.subTest(test_number = i):\n",
    "                obj.age = value\n",
    "                self.assertEqual(value,obj.age)\n",
    "    \n",
    "    def test_set_age_invalid(self):\n",
    "        min_ = -10\n",
    "        max_ = 10\n",
    "        obj = self.create_test_class(min_,max_)\n",
    "        \n",
    "        bad_values = list(range(min_ -5 ,min_))\n",
    "        bad_values += list(range(max_ +1,max_ +5))\n",
    "        bad_values += [(10.5,1+0j,'abc',(1,2))]\n",
    "        \n",
    "        for i,value in enumerate(bad_values):\n",
    "            with self.subTest(test_number = i):\n",
    "                with self.assertRaises(ValueError):\n",
    "                    obj.age = value\n",
    "                    \n",
    "    def test_class_get(self):\n",
    "        obj = self.create_test_class(0,0)\n",
    "        obj_class = type(obj)\n",
    "        self.assertIsInstance(obj_class.age,IntegerFields)"
   ]
  },
  {
   "cell_type": "code",
   "execution_count": 82,
   "metadata": {},
   "outputs": [
    {
     "name": "stderr",
     "output_type": "stream",
     "text": [
      "test_class_get (__main__.TestIntegerField) ... ok\n",
      "test_set_age_invalid (__main__.TestIntegerField) ... ok\n",
      "test_set_age_ok (__main__.TestIntegerField) ... ok\n",
      "\n",
      "----------------------------------------------------------------------\n",
      "Ran 3 tests in 0.003s\n",
      "\n",
      "OK\n"
     ]
    }
   ],
   "source": [
    "run_tests(TestIntegerField)"
   ]
  },
  {
   "cell_type": "code",
   "execution_count": 83,
   "metadata": {},
   "outputs": [],
   "source": [
    "class CharFields:\n",
    "    def __init__(self,min_ = None,max_ = None):\n",
    "        min_ = min_ or 0\n",
    "        min_ = max(0,min_)\n",
    "        self._min = min_\n",
    "        self._max = max_\n",
    "        \n",
    "    def __set_name__(self,owner_class,prop_name):\n",
    "        self.prop_name = prop_name\n",
    "        \n",
    "    def __set__(self,instance,value):\n",
    "        if not isinstance(value,str):\n",
    "            raise ValueError(f'{self.prop_name} must be an string')\n",
    "        if self._min is not None and len(value) < self._min:\n",
    "            raise ValueError(f'{self.prop_name} must be >={self._min} chars')\n",
    "        if self._max is not None and len(value) > self._max:\n",
    "            raise ValueError(f'{self.prop_name} must be <= {self._max} chars')\n",
    "    \n",
    "        instance.__dict__[self.prop_name] = value\n",
    "        \n",
    "    def __get__(self,instance,owner_class):\n",
    "        if instance is None:\n",
    "            return self\n",
    "        return instance.__dict__.get(self.prop_name,None)"
   ]
  },
  {
   "cell_type": "code",
   "execution_count": 84,
   "metadata": {},
   "outputs": [],
   "source": [
    "class Person:\n",
    "    name = CharFields(1,10)\n",
    "    "
   ]
  },
  {
   "cell_type": "code",
   "execution_count": 86,
   "metadata": {},
   "outputs": [
    {
     "name": "stdout",
     "output_type": "stream",
     "text": [
      "name must be <= 10 chars\n"
     ]
    }
   ],
   "source": [
    "p = Person()\n",
    "try:\n",
    "    p.name = 'Python Rocks'\n",
    "except ValueError as ex:\n",
    "    print(ex)"
   ]
  },
  {
   "cell_type": "code",
   "execution_count": 87,
   "metadata": {},
   "outputs": [],
   "source": [
    "p.name = 'John'"
   ]
  },
  {
   "cell_type": "code",
   "execution_count": 88,
   "metadata": {},
   "outputs": [
    {
     "data": {
      "text/plain": [
       "'John'"
      ]
     },
     "execution_count": 88,
     "metadata": {},
     "output_type": "execute_result"
    }
   ],
   "source": [
    "p.name "
   ]
  },
  {
   "cell_type": "code",
   "execution_count": 90,
   "metadata": {},
   "outputs": [],
   "source": [
    "class Person:\n",
    "    name = CharFields(1)"
   ]
  },
  {
   "cell_type": "code",
   "execution_count": 91,
   "metadata": {},
   "outputs": [
    {
     "ename": "ValueError",
     "evalue": "name must be <= 10 chars",
     "output_type": "error",
     "traceback": [
      "\u001b[0;31m---------------------------------------------------------------------------\u001b[0m",
      "\u001b[0;31mValueError\u001b[0m                                Traceback (most recent call last)",
      "\u001b[0;32m<ipython-input-91-288f5692f20b>\u001b[0m in \u001b[0;36m<module>\u001b[0;34m\u001b[0m\n\u001b[0;32m----> 1\u001b[0;31m \u001b[0mp\u001b[0m\u001b[0;34m.\u001b[0m\u001b[0mname\u001b[0m \u001b[0;34m=\u001b[0m \u001b[0;34m\"I'm a lumberjack and I'm ok\"\u001b[0m\u001b[0;34m\u001b[0m\u001b[0m\n\u001b[0m",
      "\u001b[0;32m<ipython-input-83-1739cc996120>\u001b[0m in \u001b[0;36m__set__\u001b[0;34m(self, instance, value)\u001b[0m\n\u001b[1;32m     15\u001b[0m             \u001b[0;32mraise\u001b[0m \u001b[0mValueError\u001b[0m\u001b[0;34m(\u001b[0m\u001b[0;34mf'{self.prop_name} must be >={self._min} chars'\u001b[0m\u001b[0;34m)\u001b[0m\u001b[0;34m\u001b[0m\u001b[0m\n\u001b[1;32m     16\u001b[0m         \u001b[0;32mif\u001b[0m \u001b[0mself\u001b[0m\u001b[0;34m.\u001b[0m\u001b[0m_max\u001b[0m \u001b[0;32mis\u001b[0m \u001b[0;32mnot\u001b[0m \u001b[0;32mNone\u001b[0m \u001b[0;32mand\u001b[0m \u001b[0mlen\u001b[0m\u001b[0;34m(\u001b[0m\u001b[0mvalue\u001b[0m\u001b[0;34m)\u001b[0m \u001b[0;34m>\u001b[0m \u001b[0mself\u001b[0m\u001b[0;34m.\u001b[0m\u001b[0m_max\u001b[0m\u001b[0;34m:\u001b[0m\u001b[0;34m\u001b[0m\u001b[0m\n\u001b[0;32m---> 17\u001b[0;31m             \u001b[0;32mraise\u001b[0m \u001b[0mValueError\u001b[0m\u001b[0;34m(\u001b[0m\u001b[0;34mf'{self.prop_name} must be <= {self._max} chars'\u001b[0m\u001b[0;34m)\u001b[0m\u001b[0;34m\u001b[0m\u001b[0m\n\u001b[0m\u001b[1;32m     18\u001b[0m \u001b[0;34m\u001b[0m\u001b[0m\n\u001b[1;32m     19\u001b[0m         \u001b[0minstance\u001b[0m\u001b[0;34m.\u001b[0m\u001b[0m__dict__\u001b[0m\u001b[0;34m[\u001b[0m\u001b[0mself\u001b[0m\u001b[0;34m.\u001b[0m\u001b[0mprop_name\u001b[0m\u001b[0;34m]\u001b[0m \u001b[0;34m=\u001b[0m \u001b[0mvalue\u001b[0m\u001b[0;34m\u001b[0m\u001b[0m\n",
      "\u001b[0;31mValueError\u001b[0m: name must be <= 10 chars"
     ]
    }
   ],
   "source": [
    "p.name = \"I'm a lumberjack and I'm ok\""
   ]
  },
  {
   "cell_type": "code",
   "execution_count": 92,
   "metadata": {},
   "outputs": [
    {
     "ename": "ValueError",
     "evalue": "name must be <= 10 chars",
     "output_type": "error",
     "traceback": [
      "\u001b[0;31m---------------------------------------------------------------------------\u001b[0m",
      "\u001b[0;31mValueError\u001b[0m                                Traceback (most recent call last)",
      "\u001b[0;32m<ipython-input-92-ee619a4b0b7f>\u001b[0m in \u001b[0;36m<module>\u001b[0;34m\u001b[0m\n\u001b[0;32m----> 1\u001b[0;31m \u001b[0mp\u001b[0m\u001b[0;34m.\u001b[0m\u001b[0mname\u001b[0m \u001b[0;34m=\u001b[0m \u001b[0;34m'a'\u001b[0m \u001b[0;34m*\u001b[0m\u001b[0;36m1000\u001b[0m\u001b[0;34m\u001b[0m\u001b[0m\n\u001b[0m",
      "\u001b[0;32m<ipython-input-83-1739cc996120>\u001b[0m in \u001b[0;36m__set__\u001b[0;34m(self, instance, value)\u001b[0m\n\u001b[1;32m     15\u001b[0m             \u001b[0;32mraise\u001b[0m \u001b[0mValueError\u001b[0m\u001b[0;34m(\u001b[0m\u001b[0;34mf'{self.prop_name} must be >={self._min} chars'\u001b[0m\u001b[0;34m)\u001b[0m\u001b[0;34m\u001b[0m\u001b[0m\n\u001b[1;32m     16\u001b[0m         \u001b[0;32mif\u001b[0m \u001b[0mself\u001b[0m\u001b[0;34m.\u001b[0m\u001b[0m_max\u001b[0m \u001b[0;32mis\u001b[0m \u001b[0;32mnot\u001b[0m \u001b[0;32mNone\u001b[0m \u001b[0;32mand\u001b[0m \u001b[0mlen\u001b[0m\u001b[0;34m(\u001b[0m\u001b[0mvalue\u001b[0m\u001b[0;34m)\u001b[0m \u001b[0;34m>\u001b[0m \u001b[0mself\u001b[0m\u001b[0;34m.\u001b[0m\u001b[0m_max\u001b[0m\u001b[0;34m:\u001b[0m\u001b[0;34m\u001b[0m\u001b[0m\n\u001b[0;32m---> 17\u001b[0;31m             \u001b[0;32mraise\u001b[0m \u001b[0mValueError\u001b[0m\u001b[0;34m(\u001b[0m\u001b[0;34mf'{self.prop_name} must be <= {self._max} chars'\u001b[0m\u001b[0;34m)\u001b[0m\u001b[0;34m\u001b[0m\u001b[0m\n\u001b[0m\u001b[1;32m     18\u001b[0m \u001b[0;34m\u001b[0m\u001b[0m\n\u001b[1;32m     19\u001b[0m         \u001b[0minstance\u001b[0m\u001b[0;34m.\u001b[0m\u001b[0m__dict__\u001b[0m\u001b[0;34m[\u001b[0m\u001b[0mself\u001b[0m\u001b[0;34m.\u001b[0m\u001b[0mprop_name\u001b[0m\u001b[0;34m]\u001b[0m \u001b[0;34m=\u001b[0m \u001b[0mvalue\u001b[0m\u001b[0;34m\u001b[0m\u001b[0m\n",
      "\u001b[0;31mValueError\u001b[0m: name must be <= 10 chars"
     ]
    }
   ],
   "source": [
    "p.name = 'a' *1000"
   ]
  },
  {
   "cell_type": "code",
   "execution_count": 97,
   "metadata": {},
   "outputs": [],
   "source": [
    "class TestCharField(unittest.TestCase):\n",
    "    @staticmethod\n",
    "    def create_test_class(min_,max_):\n",
    "        obj = type('TestCase',(),{'age':CharFields(min_,max_)})\n",
    "        return obj()\n",
    "    \n",
    "    def test_set_name_ok(self):\n",
    "        min_ = 1\n",
    "        max_ = 10\n",
    "        obj = self.create_test_class(min_,max_+1)\n",
    "        valid_lengths = range(0,100,10)\n",
    "        for i,length in enumerate(valid_lengths):\n",
    "            value = 'a' *length\n",
    "            with self.subTest(test_number = i):\n",
    "                obj.name = value\n",
    "                self.assertEqual(value,obj.name)\n",
    "            "
   ]
  },
  {
   "cell_type": "code",
   "execution_count": 98,
   "metadata": {},
   "outputs": [
    {
     "name": "stderr",
     "output_type": "stream",
     "text": [
      "test_set_name_ok (__main__.TestCharField) ... ok\n",
      "\n",
      "----------------------------------------------------------------------\n",
      "Ran 1 test in 0.002s\n",
      "\n",
      "OK\n"
     ]
    }
   ],
   "source": [
    "run_tests(TestCharField)"
   ]
  },
  {
   "cell_type": "code",
   "execution_count": 100,
   "metadata": {},
   "outputs": [],
   "source": [
    "class BaseValidator:\n",
    "    def __init__(self,min_ = None,max_ = None):\n",
    "        self._min = min_\n",
    "        self._max = max_\n",
    "        \n",
    "    def __set_name__(self,owner_class,prop_name):\n",
    "        self.prop_name = prop_name\n",
    "\n",
    "    def __get__(self,instance,owner_class):\n",
    "        if instance is None:\n",
    "            return self\n",
    "        else:\n",
    "            return instance.__dict__.get(self.prop_name,None)\n",
    "        \n",
    "        \n",
    "    def validate(self,value):\n",
    "        pass\n",
    "        \n",
    "    \n",
    "    def __set__(self,instance,value):\n",
    "        self.validate(value)\n",
    "        instance.__dict__[self.prop_name] = value\n",
    "        \n",
    "        \n",
    "    \n"
   ]
  },
  {
   "cell_type": "code",
   "execution_count": 101,
   "metadata": {},
   "outputs": [],
   "source": [
    "class Person:\n",
    "    name = BaseValidator()"
   ]
  },
  {
   "cell_type": "code",
   "execution_count": 102,
   "metadata": {},
   "outputs": [],
   "source": [
    "p = Person()\n",
    "p.name = 'Sam'\n",
    "p.name = ['a','b']"
   ]
  },
  {
   "cell_type": "code",
   "execution_count": 103,
   "metadata": {},
   "outputs": [
    {
     "data": {
      "text/plain": [
       "['a', 'b']"
      ]
     },
     "execution_count": 103,
     "metadata": {},
     "output_type": "execute_result"
    }
   ],
   "source": [
    "p.name"
   ]
  },
  {
   "cell_type": "code",
   "execution_count": 104,
   "metadata": {},
   "outputs": [],
   "source": [
    "class IntegerValidator(BaseValidator):\n",
    "    def validate(self,value):\n",
    "        if not isinstance(value,numbers.Integral):\n",
    "            raise ValueError(f'{self.prop_name} must be an integer')\n",
    "        if self._min is not None and value < self._min:\n",
    "            raise ValueError(f'{self.prop_name} must be >={self._min}')\n",
    "        if self._max is not None and value > self._max:\n",
    "            raise ValueError(f'{self.prop_name} must be <= {self._max}')\n",
    "        "
   ]
  },
  {
   "cell_type": "code",
   "execution_count": 105,
   "metadata": {},
   "outputs": [],
   "source": [
    "class CharField(BaseValidator):\n",
    "    def __init__(self,min_,max_):\n",
    "        min_=max(min_ or 0, 0)\n",
    "        super().__init__(min_,max_)\n",
    "        \n",
    "    def validate(self,value):\n",
    "        if not isinstance(value,str):\n",
    "            raise ValueError(f'{self.prop_name} must be an string')\n",
    "        if self._min is not None and len(value) < self._min:\n",
    "            raise ValueError(f'{self.prop_name} must be >={self._min} chars')\n",
    "        if self._max is not None and len(value) > self._max:\n",
    "            raise ValueError(f'{self.prop_name} must be <= {self._max} chars')"
   ]
  },
  {
   "cell_type": "code",
   "execution_count": 107,
   "metadata": {},
   "outputs": [
    {
     "name": "stderr",
     "output_type": "stream",
     "text": [
      "test_class_get (__main__.TestIntegerField) ... ok\n",
      "test_set_age_invalid (__main__.TestIntegerField) ... ok\n",
      "test_set_age_ok (__main__.TestIntegerField) ... ok\n",
      "\n",
      "----------------------------------------------------------------------\n",
      "Ran 3 tests in 0.004s\n",
      "\n",
      "OK\n"
     ]
    }
   ],
   "source": [
    "run_tests(TestIntegerField)"
   ]
  },
  {
   "cell_type": "code",
   "execution_count": null,
   "metadata": {},
   "outputs": [],
   "source": []
  }
 ],
 "metadata": {
  "kernelspec": {
   "display_name": "Python 3",
   "language": "python",
   "name": "python3"
  },
  "language_info": {
   "codemirror_mode": {
    "name": "ipython",
    "version": 3
   },
   "file_extension": ".py",
   "mimetype": "text/x-python",
   "name": "python",
   "nbconvert_exporter": "python",
   "pygments_lexer": "ipython3",
   "version": "3.6.0"
  }
 },
 "nbformat": 4,
 "nbformat_minor": 4
}
