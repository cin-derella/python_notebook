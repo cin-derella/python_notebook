{
 "cells": [
  {
   "cell_type": "code",
   "execution_count": 1,
   "metadata": {},
   "outputs": [],
   "source": [
    "import itertools\n",
    "import numbers\n",
    "from datetime import timedelta\n",
    "\n",
    "class TimeZone:\n",
    "    def __init__(self, name, offset_hours, offset_minutes):\n",
    "        if name is None or len(str(name).strip()) == 0:\n",
    "            raise ValueError('Timezone name cannot be empty.')\n",
    "            \n",
    "        self._name = str(name).strip()\n",
    "        # technicaally we should check that offset is a\n",
    "        if not isinstance(offset_hours, numbers.Integral):\n",
    "            raise ValueError('Hour offset must be an integer.')\n",
    "        \n",
    "        if not isinstance(offset_minutes, numbers.Integral):\n",
    "            raise ValueError('Minutes offset must be an integer.')\n",
    "            \n",
    "        if offset_minutes < -59 or offset_minutes > 59:\n",
    "            raise ValueError('Minutes offset must between -59 and 59 (inclusive).')\n",
    "            \n",
    "        # for time delta sign of minutes will be set to sign of hours\n",
    "        offset = timedelta(hours=offset_hours, minutes=offset_minutes)\n",
    "\n",
    "        # offsets are technically bounded between -12:00 and 14:00\n",
    "        # see: https://en.wikipedia.org/wiki/List_of_UTC_time_offsets\n",
    "        if offset < timedelta(hours=-12, minutes=0) or offset > timedelta(hours=14, minutes=0):\n",
    "            raise ValueError('Offset must be between -12:00 and +14:00.')\n",
    "            \n",
    "        self._offset_hours = offset_hours\n",
    "        self._offset_minutes = offset_minutes\n",
    "        self._offset = offset\n",
    "        \n",
    "    @property\n",
    "    def offset(self):\n",
    "        return self._offset\n",
    "    \n",
    "    @property\n",
    "    def name(self):\n",
    "        return self._name\n",
    "    \n",
    "    def __eq__(self, other):\n",
    "        return (isinstance(other, Timezone) and \n",
    "                self.name == other.name and \n",
    "                self._offset_hours == other._offset_hours and\n",
    "                self._offset_minutes == other._offset_minutes)\n",
    "    def __repr__(self):\n",
    "        return (f\"TimeZone(name='{self.name}', \"\n",
    "                f\"offset_hours={self._offset_hours}, \"\n",
    "                f\"offset_minutes={self._offset_minutes})\")\n",
    "    \n",
    "class Account:\n",
    "    transaction_counter = itertools.count(100)"
   ]
  },
  {
   "cell_type": "code",
   "execution_count": 11,
   "metadata": {},
   "outputs": [],
   "source": [
    "class Account:\n",
    "    transaction_counter = itertools.count(100)\n",
    "    interest_rate = 0.5\n",
    "    \n",
    "    def __init__(self,account_number,first_name,last_name,timezone=None,initial_balance=0):\n",
    "        self._account_number = account_number\n",
    "        self.first_name = first_name\n",
    "        self.last_name = last_name\n",
    "        \n",
    "        if timezone is None:\n",
    "            timezone = TimeZone('UTC',0,0)\n",
    "        self.timezone = timezone\n",
    "        \n",
    "        \n",
    "        self._balance = float(initial_balance)\n",
    "        \n",
    "    @property\n",
    "    def account_number(self):\n",
    "        return self._account_number\n",
    "    \n",
    "    @property\n",
    "    def first_name(self):\n",
    "        return self._first_name\n",
    "        \n",
    "    @first_name.setter\n",
    "    def first_name(self,value):\n",
    "        self.validate_and_set_name('_first_name',value,'First Name')\n",
    "        \n",
    "    @property\n",
    "    def last_name(self):\n",
    "        return self._last_name\n",
    "    \n",
    "    @last_name.setter\n",
    "    def last_name(self,value):\n",
    "        self.validate_and_set_name('_last_name',value,'Last Name')\n",
    "    \n",
    "    @property\n",
    "    def full_name(self):\n",
    "        return f'{self.first_name} {self.last_name}'\n",
    "    \n",
    "    @property\n",
    "    def balance(self):\n",
    "        return self._balance\n",
    "    \n",
    "    @property\n",
    "    def timezone(self):\n",
    "        return self._timezone\n",
    "    \n",
    "    @timezone.setter\n",
    "    def timezone(self,value):\n",
    "        if not isinstance(value,TimeZone):\n",
    "            raise ValueError('Time Zone must be a valid TimeZone object')\n",
    "        self._timezone = value\n",
    "        \n",
    "    \n",
    "    \n",
    "    def validate_and_set_name(self,attr_name,value,field_title):\n",
    "        if value is None or len(str(value).strip()) ==0:\n",
    "            raise ValueError(f'{field_title} cannot be empty.')\n",
    "        setattr(self,attr_name,value)"
   ]
  },
  {
   "cell_type": "code",
   "execution_count": 12,
   "metadata": {},
   "outputs": [],
   "source": [
    "a = Account('1234','Sam','Winchest',initial_balance = -100)"
   ]
  },
  {
   "cell_type": "code",
   "execution_count": 13,
   "metadata": {},
   "outputs": [
    {
     "data": {
      "text/plain": [
       "-100.0"
      ]
     },
     "execution_count": 13,
     "metadata": {},
     "output_type": "execute_result"
    }
   ],
   "source": [
    "a.balance"
   ]
  },
  {
   "cell_type": "code",
   "execution_count": 14,
   "metadata": {},
   "outputs": [
    {
     "name": "stdout",
     "output_type": "stream",
     "text": [
      "can't set attribute\n"
     ]
    }
   ],
   "source": [
    "try:\n",
    "    a.balance = 200\n",
    "except AttributeError as ex:\n",
    "    print(ex)"
   ]
  },
  {
   "cell_type": "code",
   "execution_count": 15,
   "metadata": {},
   "outputs": [],
   "source": [
    "a1 = Account('1234','Dean','Winchester')\n",
    "a2 = Account('2345','Sam','Winchester')"
   ]
  },
  {
   "cell_type": "code",
   "execution_count": 16,
   "metadata": {},
   "outputs": [
    {
     "data": {
      "text/plain": [
       "(0.5, 0.5)"
      ]
     },
     "execution_count": 16,
     "metadata": {},
     "output_type": "execute_result"
    }
   ],
   "source": [
    "a1.interest_rate,a2.interest_rate"
   ]
  },
  {
   "cell_type": "code",
   "execution_count": 17,
   "metadata": {},
   "outputs": [
    {
     "data": {
      "text/plain": [
       "0.5"
      ]
     },
     "execution_count": 17,
     "metadata": {},
     "output_type": "execute_result"
    }
   ],
   "source": [
    "Account.interest_rate"
   ]
  },
  {
   "cell_type": "code",
   "execution_count": 18,
   "metadata": {},
   "outputs": [],
   "source": [
    "Account.interest_rate =10"
   ]
  },
  {
   "cell_type": "code",
   "execution_count": 19,
   "metadata": {},
   "outputs": [
    {
     "data": {
      "text/plain": [
       "(10, 10)"
      ]
     },
     "execution_count": 19,
     "metadata": {},
     "output_type": "execute_result"
    }
   ],
   "source": [
    "a1.interest_rate,a2.interest_rate"
   ]
  },
  {
   "cell_type": "code",
   "execution_count": 20,
   "metadata": {},
   "outputs": [
    {
     "data": {
      "text/plain": [
       "(10, 10)"
      ]
     },
     "execution_count": 20,
     "metadata": {},
     "output_type": "execute_result"
    }
   ],
   "source": [
    "a1.interest_rate,a2.interest_rate"
   ]
  },
  {
   "cell_type": "code",
   "execution_count": 21,
   "metadata": {},
   "outputs": [
    {
     "data": {
      "text/plain": [
       "{'_account_number': '1234',\n",
       " '_first_name': 'Dean',\n",
       " '_last_name': 'Winchester',\n",
       " '_timezone': TimeZone(name='UTC', offset_hours=0, offset_minutes=0),\n",
       " '_balance': 0.0}"
      ]
     },
     "execution_count": 21,
     "metadata": {},
     "output_type": "execute_result"
    }
   ],
   "source": [
    "a1.__dict__"
   ]
  },
  {
   "cell_type": "code",
   "execution_count": 39,
   "metadata": {},
   "outputs": [],
   "source": [
    "class Account:\n",
    "    transaction_counter = itertools.count(100)\n",
    "    _interest_rate = 0.5\n",
    "    \n",
    "    _transaction_codes = {\n",
    "        'deposit' : 'D',\n",
    "        'withdraw':'W',\n",
    "        'interest':'I',\n",
    "        'rejected':'X'\n",
    "    }\n",
    "    \n",
    "    def __init__(self,account_number,first_name,last_name,timezone=None,initial_balance=0):\n",
    "        self._account_number = account_number\n",
    "        self.first_name = first_name\n",
    "        self.last_name = last_name\n",
    "        \n",
    "        if timezone is None:\n",
    "            timezone = TimeZone('UTC',0,0)\n",
    "        self.timezone = timezone\n",
    "        \n",
    "        \n",
    "        self._balance = float(initial_balance)\n",
    "        \n",
    "    @property\n",
    "    def account_number(self):\n",
    "        return self._account_number\n",
    "    \n",
    "    @property\n",
    "    def first_name(self):\n",
    "        return self._first_name\n",
    "        \n",
    "    @first_name.setter\n",
    "    def first_name(self,value):\n",
    "        self.validate_and_set_name('_first_name',value,'First Name')\n",
    "        \n",
    "    @property\n",
    "    def last_name(self):\n",
    "        return self._last_name\n",
    "    \n",
    "    @last_name.setter\n",
    "    def last_name(self,value):\n",
    "        self.validate_and_set_name('_last_name',value,'Last Name')\n",
    "    \n",
    "    @property\n",
    "    def full_name(self):\n",
    "        return f'{self.first_name} {self.last_name}'\n",
    "    \n",
    "    @property\n",
    "    def balance(self):\n",
    "        return self._balance\n",
    "    \n",
    "    @property\n",
    "    def timezone(self):\n",
    "        return self._timezone\n",
    "    \n",
    "    @timezone.setter\n",
    "    def timezone(self,value):\n",
    "        if not isinstance(value,TimeZone):\n",
    "            raise ValueError('Time Zone must be a valid TimeZone object')\n",
    "        self._timezone = value\n",
    "        \n",
    "    @classmethod\n",
    "    def get_interest_rate(cls):\n",
    "        return cls._interest_rate\n",
    "    \n",
    "    @classmethod\n",
    "    def set_interest_rate(cls,value):\n",
    "        if not isinstance(value,numbers.Real):\n",
    "            raise ValueError('Interest rate must be a real number')\n",
    "            \n",
    "        if value<0:\n",
    "            raise ValueError('Interest rate cannt be negative')\n",
    "        cls._interest_rate = value\n",
    "        \n",
    "    \n",
    "    def validate_and_set_name(self,attr_name,value,field_title):\n",
    "        if value is None or len(str(value).strip()) ==0:\n",
    "            raise ValueError(f'{field_title} cannot be empty.')\n",
    "        setattr(self,property_name,value)"
   ]
  },
  {
   "cell_type": "code",
   "execution_count": 40,
   "metadata": {},
   "outputs": [
    {
     "data": {
      "text/plain": [
       "0.5"
      ]
     },
     "execution_count": 40,
     "metadata": {},
     "output_type": "execute_result"
    }
   ],
   "source": [
    "Account.get_interest_rate()"
   ]
  },
  {
   "cell_type": "code",
   "execution_count": 41,
   "metadata": {},
   "outputs": [],
   "source": [
    "Account.set_interest_rate(20)"
   ]
  },
  {
   "cell_type": "code",
   "execution_count": 42,
   "metadata": {},
   "outputs": [
    {
     "data": {
      "text/plain": [
       "20"
      ]
     },
     "execution_count": 42,
     "metadata": {},
     "output_type": "execute_result"
    }
   ],
   "source": [
    "Account.get_interest_rate()"
   ]
  },
  {
   "cell_type": "code",
   "execution_count": 46,
   "metadata": {},
   "outputs": [
    {
     "name": "stdout",
     "output_type": "stream",
     "text": [
      "Interest rate cannt be negative\n"
     ]
    }
   ],
   "source": [
    "try:\n",
    "    Account.set_interest_rate(-10)\n",
    "except ValueError as ex:\n",
    "    print(ex)"
   ]
  },
  {
   "cell_type": "code",
   "execution_count": 47,
   "metadata": {},
   "outputs": [],
   "source": [
    "from datetime import datetime\n"
   ]
  },
  {
   "cell_type": "code",
   "execution_count": 50,
   "metadata": {},
   "outputs": [],
   "source": [
    "def generate_confirmation_code(account_number,transaction_id,transaction_code):\n",
    "    dt_str = datetime.utcnow().strftime('%Y%m%d%H%M%S')\n",
    "    return f'{transaction_code}-{account_number}-{dt_str}-{transaction_id}'"
   ]
  },
  {
   "cell_type": "code",
   "execution_count": 51,
   "metadata": {},
   "outputs": [
    {
     "data": {
      "text/plain": [
       "'X-123-20200321082034-1000'"
      ]
     },
     "execution_count": 51,
     "metadata": {},
     "output_type": "execute_result"
    }
   ],
   "source": [
    "generate_confirmation_code(123,1000,'X')"
   ]
  },
  {
   "cell_type": "code",
   "execution_count": 83,
   "metadata": {},
   "outputs": [],
   "source": [
    "class Account:\n",
    "    transaction_counter = itertools.count(100)\n",
    "    _interest_rate = 0.5\n",
    "    \n",
    "    _transaction_codes = {\n",
    "        'deposit' : 'D',\n",
    "        'withdraw':'W',\n",
    "        'interest':'I',\n",
    "        'rejected':'X'\n",
    "    }\n",
    "    \n",
    "    def __init__(self,account_number,first_name,last_name,timezone=None,initial_balance=0):\n",
    "        self._account_number = account_number\n",
    "        self.first_name = first_name\n",
    "        self.last_name = last_name\n",
    "        \n",
    "        if timezone is None:\n",
    "            timezone = TimeZone('UTC',0,0)\n",
    "        self.timezone = timezone\n",
    "        \n",
    "        \n",
    "        self._balance = float(initial_balance)\n",
    "        \n",
    "    @property\n",
    "    def account_number(self):\n",
    "        return self._account_number\n",
    "    \n",
    "    @property\n",
    "    def first_name(self):\n",
    "        return self._first_name\n",
    "        \n",
    "    @first_name.setter\n",
    "    def first_name(self,value):\n",
    "        self.validate_and_set_name('_first_name',value,'First Name')\n",
    "        \n",
    "    @property\n",
    "    def last_name(self):\n",
    "        return self._last_name\n",
    "    \n",
    "    @last_name.setter\n",
    "    def last_name(self,value):\n",
    "        self.validate_and_set_name('_last_name',value,'Last Name')\n",
    "    \n",
    "    @property\n",
    "    def full_name(self):\n",
    "        return f'{self.first_name} {self.last_name}'\n",
    "    \n",
    "    @property\n",
    "    def balance(self):\n",
    "        return self._balance\n",
    "    \n",
    "    @property\n",
    "    def timezone(self):\n",
    "        return self._timezone\n",
    "    \n",
    "    @timezone.setter\n",
    "    def timezone(self,value):\n",
    "        if not isinstance(value,TimeZone):\n",
    "            raise ValueError('Time Zone must be a valid TimeZone object')\n",
    "        self._timezone = value\n",
    "        \n",
    "    @classmethod\n",
    "    def get_interest_rate(cls):\n",
    "        return cls._interest_rate\n",
    "    \n",
    "    @classmethod\n",
    "    def set_interest_rate(cls,value):\n",
    "        if not isinstance(value,numbers.Real):\n",
    "            raise ValueError('Interest rate must be a real number')\n",
    "            \n",
    "        if value<0:\n",
    "            raise ValueError('Interest rate cannt be negative')\n",
    "        cls._interest_rate = value\n",
    "     \n",
    "    def generate_confirmation_code(self,transaction_code):\n",
    "        dt_str = datetime.utcnow().strftime('%Y%m%d%H%M%S')\n",
    "        return f'{transaction_code}-{self.account_number}-{dt_str}-{next(Account.transaction_counter)}'\n",
    "\n",
    "    \n",
    "    def validate_and_set_name(self,property_name,value,field_title):\n",
    "        if value is None or len(str(value).strip()) ==0:\n",
    "            raise ValueError(f'{field_title} cannot be empty.')\n",
    "        setattr(self,property_name,value)\n",
    "        \n",
    "    def make_transaction(self):\n",
    "        return self.generate_confirmation_code('dummy')"
   ]
  },
  {
   "cell_type": "code",
   "execution_count": 84,
   "metadata": {},
   "outputs": [],
   "source": [
    "a = Account('A100','Sam','Winchester')"
   ]
  },
  {
   "cell_type": "code",
   "execution_count": 85,
   "metadata": {},
   "outputs": [
    {
     "data": {
      "text/plain": [
       "'dummy-A100-20200321085201-100'"
      ]
     },
     "execution_count": 85,
     "metadata": {},
     "output_type": "execute_result"
    }
   ],
   "source": [
    "a.make_transaction()"
   ]
  },
  {
   "cell_type": "code",
   "execution_count": 86,
   "metadata": {},
   "outputs": [
    {
     "data": {
      "text/plain": [
       "'dummy-A100-20200321085201-101'"
      ]
     },
     "execution_count": 86,
     "metadata": {},
     "output_type": "execute_result"
    }
   ],
   "source": [
    "a.make_transaction()"
   ]
  },
  {
   "cell_type": "code",
   "execution_count": 87,
   "metadata": {},
   "outputs": [],
   "source": [
    "a2 = Account('A200','Dean','Winchest')"
   ]
  },
  {
   "cell_type": "code",
   "execution_count": 88,
   "metadata": {},
   "outputs": [
    {
     "data": {
      "text/plain": [
       "'dummy-A200-20200321085201-102'"
      ]
     },
     "execution_count": 88,
     "metadata": {},
     "output_type": "execute_result"
    }
   ],
   "source": [
    "a2.make_transaction()"
   ]
  },
  {
   "cell_type": "code",
   "execution_count": 89,
   "metadata": {},
   "outputs": [],
   "source": [
    "from collections import namedtuple"
   ]
  },
  {
   "cell_type": "code",
   "execution_count": 90,
   "metadata": {},
   "outputs": [],
   "source": [
    "Confirmation  = namedtuple('Confirmation','account_number transaction_code transaction_id time_utc time')"
   ]
  },
  {
   "cell_type": "code",
   "execution_count": 102,
   "metadata": {},
   "outputs": [],
   "source": [
    "class Account:\n",
    "    transaction_counter = itertools.count(100)\n",
    "    _interest_rate = 0.5\n",
    "    \n",
    "    _transaction_codes = {\n",
    "        'deposit' : 'D',\n",
    "        'withdraw':'W',\n",
    "        'interest':'I',\n",
    "        'rejected':'X'\n",
    "    }\n",
    "    \n",
    "    def __init__(self,account_number,first_name,last_name,timezone=None,initial_balance=0):\n",
    "        self._account_number = account_number\n",
    "        self.first_name = first_name\n",
    "        self.last_name = last_name\n",
    "        \n",
    "        if timezone is None:\n",
    "            timezone = TimeZone('UTC',0,0)\n",
    "        self.timezone = timezone\n",
    "        \n",
    "        \n",
    "        self._balance = float(initial_balance)\n",
    "        \n",
    "    @property\n",
    "    def account_number(self):\n",
    "        return self._account_number\n",
    "    \n",
    "    @property\n",
    "    def first_name(self):\n",
    "        return self._first_name\n",
    "        \n",
    "    @first_name.setter\n",
    "    def first_name(self,value):\n",
    "        self.validate_and_set_name('_first_name',value,'First Name')\n",
    "        \n",
    "    @property\n",
    "    def last_name(self):\n",
    "        return self._last_name\n",
    "    \n",
    "    @last_name.setter\n",
    "    def last_name(self,value):\n",
    "        self.validate_and_set_name('_last_name',value,'Last Name')\n",
    "    \n",
    "    @property\n",
    "    def full_name(self):\n",
    "        return f'{self.first_name} {self.last_name}'\n",
    "    \n",
    "    @property\n",
    "    def balance(self):\n",
    "        return self._balance\n",
    "    \n",
    "    @property\n",
    "    def timezone(self):\n",
    "        return self._timezone\n",
    "    \n",
    "    @timezone.setter\n",
    "    def timezone(self,value):\n",
    "        if not isinstance(value,TimeZone):\n",
    "            raise ValueError('Time Zone must be a valid TimeZone object')\n",
    "        self._timezone = value\n",
    "        \n",
    "    @classmethod\n",
    "    def get_interest_rate(cls):\n",
    "        return cls._interest_rate\n",
    "    \n",
    "    @classmethod\n",
    "    def set_interest_rate(cls,value):\n",
    "        if not isinstance(value,numbers.Real):\n",
    "            raise ValueError('Interest rate must be a real number')\n",
    "            \n",
    "        if value<0:\n",
    "            raise ValueError('Interest rate cannt be negative')\n",
    "        cls._interest_rate = value\n",
    "     \n",
    "    def generate_confirmation_code(self,transaction_code):\n",
    "        dt_str = datetime.utcnow().strftime('%Y%m%d%H%M%S')\n",
    "        return f'{transaction_code}-{self.account_number}-{dt_str}-{next(Account.transaction_counter)}'\n",
    "\n",
    "    \n",
    "    def validate_and_set_name(self,property_name,value,field_title):\n",
    "        if value is None or len(str(value).strip()) ==0:\n",
    "            raise ValueError(f'{field_title} cannot be empty.')\n",
    "        setattr(self,property_name,value)\n",
    "        \n",
    "    def make_transaction(self):\n",
    "        return self.generate_confirmation_code('dummy')\n",
    "    \n",
    "    @staticmethod\n",
    "    def parse_confirmation_code(confirmation_code,preferred_time_zone = None):\n",
    "        parts = confirmation_code.split('-')\n",
    "        if len(parts)!=4:\n",
    "            raise ValueError('Invalid confirmation code')\n",
    "            \n",
    "        transaction_code,account_number,raw_dt_utc,transaction_id = parts\n",
    "        try:\n",
    "            dt_utc = datetime.strptime(raw_dt_utc,'%Y%m%d%H%M%S')\n",
    "        except ValueError as ex:\n",
    "            raise ValueError('Invalid transaction datetime.') from ex\n",
    "            \n",
    "        if preferred_time_zone is None:\n",
    "            preferred_time_zone = TimeZone('UTC',0,0)\n",
    "        \n",
    "        \n",
    "        if not isinstance(preferred_time_zone,TimeZone):\n",
    "            raise ValueError('invalid TimeZone specified')\n",
    "            \n",
    "        dt_preferred = dt_utc + preferred_time_zone.offset\n",
    "        \n",
    "        dt_preferred_str = f\"{dt_preferred.strftime('%Y-%m-%d %H:%M:%S')} ({preferred_time_zone.name})\"\n",
    "        \n",
    "        return Confirmation(account_number,transaction_code,transaction_id,dt_utc.isoformat(),dt_preferred_str)\n",
    "        \n",
    "            \n",
    "    "
   ]
  },
  {
   "cell_type": "code",
   "execution_count": 103,
   "metadata": {},
   "outputs": [
    {
     "name": "stdout",
     "output_type": "stream",
     "text": [
      "dummy-A100-20200321085455-100\n"
     ]
    }
   ],
   "source": [
    "a = Account('A100','Sam','Winchester')\n",
    "conf_code = a.make_transaction()\n",
    "print(conf_code)"
   ]
  },
  {
   "cell_type": "code",
   "execution_count": 104,
   "metadata": {},
   "outputs": [
    {
     "data": {
      "text/plain": [
       "Confirmation(account_number='A100', transaction_code='dummy', transaction_id='100', time_utc='2020-03-21T08:54:55', time='2020-03-21 07:54:55 (XYZ)')"
      ]
     },
     "execution_count": 104,
     "metadata": {},
     "output_type": "execute_result"
    }
   ],
   "source": [
    "Account.parse_confirmation_code(conf_code,preferred_time_zone = TimeZone('XYZ',-1,0))\n",
    "                               "
   ]
  },
  {
   "cell_type": "code",
   "execution_count": 111,
   "metadata": {},
   "outputs": [],
   "source": [
    "try:\n",
    "    Account.parse_confirmation_code('dummy-A100-20200321085455-100')\n",
    "except ValueError as ex:\n",
    "    print(ex)"
   ]
  },
  {
   "cell_type": "code",
   "execution_count": 114,
   "metadata": {},
   "outputs": [
    {
     "name": "stdout",
     "output_type": "stream",
     "text": [
      "Invalid confirmation code\n",
      "None\n"
     ]
    }
   ],
   "source": [
    "try:\n",
    "    Account.parse_confirmation_code('dummy-A100-20200321085455-100-sdfszfds')\n",
    "except ValueError as ex:\n",
    "    print(ex)\n",
    "    print(ex.__cause__)"
   ]
  },
  {
   "cell_type": "code",
   "execution_count": null,
   "metadata": {},
   "outputs": [],
   "source": [
    "try:\n",
    "    Account.parse_confirmation_code('dummy-A100-20200321085455-100-sdfszfds')\n",
    "except ValueError as ex:\n",
    "    print(ex)"
   ]
  }
 ],
 "metadata": {
  "kernelspec": {
   "display_name": "Python 3",
   "language": "python",
   "name": "python3"
  },
  "language_info": {
   "codemirror_mode": {
    "name": "ipython",
    "version": 3
   },
   "file_extension": ".py",
   "mimetype": "text/x-python",
   "name": "python",
   "nbconvert_exporter": "python",
   "pygments_lexer": "ipython3",
   "version": "3.6.0"
  }
 },
 "nbformat": 4,
 "nbformat_minor": 4
}
