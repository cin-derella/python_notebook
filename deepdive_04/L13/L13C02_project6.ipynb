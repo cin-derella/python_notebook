{
 "cells": [
  {
   "cell_type": "code",
   "execution_count": 1,
   "metadata": {},
   "outputs": [],
   "source": [
    "from datetime import datetime\n"
   ]
  },
  {
   "cell_type": "code",
   "execution_count": 18,
   "metadata": {},
   "outputs": [],
   "source": [
    "class WidgetException(Exception):\n",
    "    message = 'Generic Widget Exception'\n",
    "    \n",
    "    def __init__(self,*args,custom_message = None):\n",
    "        super().__init__(args)\n",
    "        if args:\n",
    "            self.message = args[0]\n",
    "        self.custom_message = custom_message if custom_message is not None else self.message\n",
    "    \n",
    "    def log_exception(self):\n",
    "        exception={\n",
    "            \"type\":type(self).__name__,\n",
    "            \"message\":self.message,\n",
    "            \"args\": self.args[1:]\n",
    "        }\n",
    "        print(f'EXCEPTION:{datetime.utcnow().isoformat()}: {exception}')"
   ]
  },
  {
   "cell_type": "code",
   "execution_count": 19,
   "metadata": {},
   "outputs": [],
   "source": [
    "ex1 = WidgetException('some custom message',10,100)\n",
    "ex2 = WidgetException(custom_message = 'A custom user message')"
   ]
  },
  {
   "cell_type": "code",
   "execution_count": 20,
   "metadata": {},
   "outputs": [
    {
     "name": "stdout",
     "output_type": "stream",
     "text": [
      "EXCEPTION:2020-03-28T10:36:41.273978: {'type': 'WidgetException', 'message': 'some custom message', 'args': ()}\n"
     ]
    }
   ],
   "source": [
    "ex1.log_exception()"
   ]
  },
  {
   "cell_type": "code",
   "execution_count": 21,
   "metadata": {},
   "outputs": [
    {
     "name": "stdout",
     "output_type": "stream",
     "text": [
      "EXCEPTION:2020-03-28T10:36:41.907259: {'type': 'WidgetException', 'message': 'Generic Widget Exception', 'args': ()}\n"
     ]
    }
   ],
   "source": [
    "ex2.log_exception()"
   ]
  },
  {
   "cell_type": "code",
   "execution_count": 26,
   "metadata": {},
   "outputs": [],
   "source": [
    "class SupplierException(WidgetException):\n",
    "    message = 'Supplier excetpion'\n",
    "    \n",
    "class NotManufacturedException(SupplierException):\n",
    "    message = 'Widget is no longer manufactured by supplier'\n",
    "\n",
    "class ProductionDelayedException(SupplierException):\n",
    "    message = 'Widget production has been delayed by manufacturer'\n",
    "    \n",
    "class ShippingDelayedException(SupplierException):\n",
    "    message = 'Widget shipping has been delayed by supplier'\n",
    "    \n",
    "class CheckoutException(WidgetException):\n",
    "    message = 'Checkout exception'\n",
    "    \n",
    "class InventoryException(CheckoutException):\n",
    "    message = 'Checkout inventory exception'\n",
    "\n",
    "class OutOfStockExcetion(InventoryException):\n",
    "    message = 'Inventory out of stock'\n",
    "    \n",
    "class PricingException(CheckoutException):\n",
    "    message = 'Checkout pricing exception'\n",
    "    \n",
    "class InvalidCouponCodeException(PricingException):\n",
    "    messge = 'Invalid checkout coupon code'\n",
    "    \n",
    "class CannotStackCouponException(PricingException):\n",
    "    message = 'Cannot stack checkout coupon code'"
   ]
  },
  {
   "cell_type": "code",
   "execution_count": 27,
   "metadata": {},
   "outputs": [
    {
     "name": "stdout",
     "output_type": "stream",
     "text": [
      "EXCEPTION:2020-03-28T10:46:56.678672: {'type': 'CannotStackCouponException', 'message': 'Cannot stack checkout coupon code', 'args': ()}\n"
     ]
    },
    {
     "ename": "CannotStackCouponException",
     "evalue": "()",
     "output_type": "error",
     "traceback": [
      "\u001b[0;31m---------------------------------------------------------------------------\u001b[0m",
      "\u001b[0;31mCannotStackCouponException\u001b[0m                Traceback (most recent call last)",
      "\u001b[0;32m<ipython-input-27-f6092e45e60f>\u001b[0m in \u001b[0;36m<module>\u001b[0;34m\u001b[0m\n\u001b[1;32m      1\u001b[0m \u001b[0;32mtry\u001b[0m\u001b[0;34m:\u001b[0m\u001b[0;34m\u001b[0m\u001b[0m\n\u001b[0;32m----> 2\u001b[0;31m     \u001b[0;32mraise\u001b[0m \u001b[0mCannotStackCouponException\u001b[0m\u001b[0;34m(\u001b[0m\u001b[0;34m)\u001b[0m\u001b[0;34m\u001b[0m\u001b[0m\n\u001b[0m\u001b[1;32m      3\u001b[0m \u001b[0;32mexcept\u001b[0m \u001b[0mCannotStackCouponException\u001b[0m \u001b[0;32mas\u001b[0m \u001b[0mex\u001b[0m\u001b[0;34m:\u001b[0m\u001b[0;34m\u001b[0m\u001b[0m\n\u001b[1;32m      4\u001b[0m     \u001b[0mex\u001b[0m\u001b[0;34m.\u001b[0m\u001b[0mlog_exception\u001b[0m\u001b[0;34m(\u001b[0m\u001b[0;34m)\u001b[0m\u001b[0;34m\u001b[0m\u001b[0m\n\u001b[1;32m      5\u001b[0m     \u001b[0;32mraise\u001b[0m\u001b[0;34m\u001b[0m\u001b[0m\n",
      "\u001b[0;31mCannotStackCouponException\u001b[0m: ()"
     ]
    }
   ],
   "source": [
    "try:\n",
    "    raise CannotStackCouponException()\n",
    "except CannotStackCouponException as ex:\n",
    "    ex.log_exception()\n",
    "    raise"
   ]
  },
  {
   "cell_type": "code",
   "execution_count": 35,
   "metadata": {},
   "outputs": [],
   "source": [
    "from http import HTTPStatus\n",
    "import json"
   ]
  },
  {
   "cell_type": "code",
   "execution_count": 36,
   "metadata": {},
   "outputs": [],
   "source": [
    "class WidgetException(Exception):\n",
    "    message = 'Generic Widget Exception'\n",
    "    http_status = HTTPStatus.INTERNAL_SERVER_ERROR\n",
    "    \n",
    "    def __init__(self,*args,custom_message = None):\n",
    "        super().__init__(args)\n",
    "        if args:\n",
    "            self.message = args[0]\n",
    "        self.custom_message = custom_message if custom_message is not None else self.message\n",
    "    \n",
    "    def log_exception(self):\n",
    "        exception={\n",
    "            \"type\":type(self).__name__,\n",
    "            \"message\":self.message,\n",
    "            \"args\": self.args[1:]\n",
    "        }\n",
    "        print(f'EXCEPTION:{datetime.utcnow().isoformat()}: {exception}')\n",
    "    \n",
    "    def to_json(self):\n",
    "        response = {\n",
    "            'code' : self.http_status.value,\n",
    "            'message':'{}:{}'.format(self.http_status.phrase,self.custom_message),\n",
    "            'category':type(self).__name__,\n",
    "            'time_utc':datetime.utcnow().isoformat()\n",
    "        }\n",
    "        return json.dumps(response)"
   ]
  },
  {
   "cell_type": "code",
   "execution_count": 37,
   "metadata": {},
   "outputs": [],
   "source": [
    "e = WidgetException('same custom message for log and user')"
   ]
  },
  {
   "cell_type": "code",
   "execution_count": 38,
   "metadata": {},
   "outputs": [
    {
     "name": "stdout",
     "output_type": "stream",
     "text": [
      "EXCEPTION:2020-03-28T10:52:17.799460: {'type': 'WidgetException', 'message': 'same custom message for log and user', 'args': ()}\n"
     ]
    }
   ],
   "source": [
    "e.log_exception()"
   ]
  },
  {
   "cell_type": "code",
   "execution_count": 39,
   "metadata": {},
   "outputs": [
    {
     "data": {
      "text/plain": [
       "{'code': 500,\n",
       " 'message': 'Internal Server Error:same custom message for log and user',\n",
       " 'category': 'WidgetException',\n",
       " 'time_utc': '2020-03-28T10:52:18.263759'}"
      ]
     },
     "execution_count": 39,
     "metadata": {},
     "output_type": "execute_result"
    }
   ],
   "source": [
    "json.loads(e.to_json())"
   ]
  },
  {
   "cell_type": "code",
   "execution_count": 40,
   "metadata": {},
   "outputs": [
    {
     "name": "stdout",
     "output_type": "stream",
     "text": [
      "EXCEPTION:2020-03-28T10:53:07.104740: {'type': 'WidgetException', 'message': 'custom internal message', 'args': ()}\n"
     ]
    }
   ],
   "source": [
    "e = WidgetException('custom internal message',custom_message = 'custom user message')\n",
    "e.log_exception()"
   ]
  },
  {
   "cell_type": "code",
   "execution_count": 41,
   "metadata": {},
   "outputs": [
    {
     "data": {
      "text/plain": [
       "'{\"code\": 500, \"message\": \"Internal Server Error:custom user message\", \"category\": \"WidgetException\", \"time_utc\": \"2020-03-28T10:53:14.529622\"}'"
      ]
     },
     "execution_count": 41,
     "metadata": {},
     "output_type": "execute_result"
    }
   ],
   "source": [
    "e.to_json()"
   ]
  },
  {
   "cell_type": "code",
   "execution_count": 42,
   "metadata": {},
   "outputs": [
    {
     "name": "stdout",
     "output_type": "stream",
     "text": [
      "<traceback object at 0x110f5b188>\n"
     ]
    }
   ],
   "source": [
    "try:\n",
    "    raise WidgetException('custom error message')\n",
    "except WidgetException as ex:\n",
    "    print(repr(ex.__traceback__))"
   ]
  },
  {
   "cell_type": "code",
   "execution_count": 43,
   "metadata": {},
   "outputs": [],
   "source": [
    "import traceback"
   ]
  },
  {
   "cell_type": "code",
   "execution_count": 46,
   "metadata": {},
   "outputs": [
    {
     "name": "stdout",
     "output_type": "stream",
     "text": [
      "['Traceback (most recent call last):\\n', '  File \"<ipython-input-46-4f5d3f96385f>\", line 2, in <module>\\n    raise ValueError\\n', 'ValueError\\n', '\\nDuring handling of the above exception, another exception occurred:\\n\\n', 'Traceback (most recent call last):\\n', '  File \"<ipython-input-46-4f5d3f96385f>\", line 5, in <module>\\n    raise WidgetException(\\'custom message\\')\\n', \"WidgetException: ('custom message',)\\n\"]\n"
     ]
    }
   ],
   "source": [
    "try:\n",
    "    raise ValueError\n",
    "except ValueError:\n",
    "    try:\n",
    "        raise WidgetException('custom message')\n",
    "    except WidgetException as ex:\n",
    "        tb = traceback.TracebackException.from_exception(ex)\n",
    "        print(list(tb.format()))"
   ]
  },
  {
   "cell_type": "code",
   "execution_count": 47,
   "metadata": {},
   "outputs": [
    {
     "name": "stdout",
     "output_type": "stream",
     "text": [
      "Traceback (most recent call last):\n",
      "  File \"<ipython-input-47-d1860de49ad0>\", line 2, in <module>\n",
      "    raise ValueError\n",
      "ValueError\n",
      "\n",
      "During handling of the above exception, another exception occurred:\n",
      "\n",
      "Traceback (most recent call last):\n",
      "  File \"<ipython-input-47-d1860de49ad0>\", line 5, in <module>\n",
      "    raise WidgetException('custom message')\n",
      "WidgetException: ('custom message',)\n",
      "\n"
     ]
    }
   ],
   "source": [
    "try:\n",
    "    raise ValueError\n",
    "except ValueError:\n",
    "    try:\n",
    "        raise WidgetException('custom message')\n",
    "    except WidgetException as ex:\n",
    "        tb = traceback.TracebackException.from_exception(ex)\n",
    "        tb = ''.join(tb.format())\n",
    "        print(tb)"
   ]
  },
  {
   "cell_type": "code",
   "execution_count": 48,
   "metadata": {},
   "outputs": [
    {
     "ename": "WidgetException",
     "evalue": "('custom message',)",
     "output_type": "error",
     "traceback": [
      "\u001b[0;31m---------------------------------------------------------------------------\u001b[0m",
      "\u001b[0;31mValueError\u001b[0m                                Traceback (most recent call last)",
      "\u001b[0;32m<ipython-input-48-3ef5d80ab6e4>\u001b[0m in \u001b[0;36m<module>\u001b[0;34m\u001b[0m\n\u001b[1;32m      1\u001b[0m \u001b[0;32mtry\u001b[0m\u001b[0;34m:\u001b[0m\u001b[0;34m\u001b[0m\u001b[0m\n\u001b[0;32m----> 2\u001b[0;31m     \u001b[0;32mraise\u001b[0m \u001b[0mValueError\u001b[0m\u001b[0;34m\u001b[0m\u001b[0m\n\u001b[0m\u001b[1;32m      3\u001b[0m \u001b[0;32mexcept\u001b[0m \u001b[0mValueError\u001b[0m\u001b[0;34m:\u001b[0m\u001b[0;34m\u001b[0m\u001b[0m\n",
      "\u001b[0;31mValueError\u001b[0m: ",
      "\nDuring handling of the above exception, another exception occurred:\n",
      "\u001b[0;31mWidgetException\u001b[0m                           Traceback (most recent call last)",
      "\u001b[0;32m<ipython-input-48-3ef5d80ab6e4>\u001b[0m in \u001b[0;36m<module>\u001b[0;34m\u001b[0m\n\u001b[1;32m      2\u001b[0m     \u001b[0;32mraise\u001b[0m \u001b[0mValueError\u001b[0m\u001b[0;34m\u001b[0m\u001b[0m\n\u001b[1;32m      3\u001b[0m \u001b[0;32mexcept\u001b[0m \u001b[0mValueError\u001b[0m\u001b[0;34m:\u001b[0m\u001b[0;34m\u001b[0m\u001b[0m\n\u001b[0;32m----> 4\u001b[0;31m     \u001b[0;32mraise\u001b[0m \u001b[0mWidgetException\u001b[0m\u001b[0;34m(\u001b[0m\u001b[0;34m'custom message'\u001b[0m\u001b[0;34m)\u001b[0m\u001b[0;34m\u001b[0m\u001b[0m\n\u001b[0m",
      "\u001b[0;31mWidgetException\u001b[0m: ('custom message',)"
     ]
    }
   ],
   "source": [
    "try:\n",
    "    raise ValueError\n",
    "except ValueError:\n",
    "    raise WidgetException('custom message')"
   ]
  },
  {
   "cell_type": "code",
   "execution_count": 57,
   "metadata": {},
   "outputs": [],
   "source": [
    "class WidgetException(Exception):\n",
    "    message = 'Generic Widget Exception'\n",
    "    http_status = HTTPStatus.INTERNAL_SERVER_ERROR\n",
    "    \n",
    "    def __init__(self,*args,custom_message = None):\n",
    "        super().__init__(args)\n",
    "        if args:\n",
    "            self.message = args[0]\n",
    "            self.custom_message = custom_message if custom_message is not None else self.message\n",
    "    \n",
    "    @property\n",
    "    def traceback(self):\n",
    "        return traceback.TracebackException.from_exception(self).format()\n",
    "    \n",
    "    def log_exception(self):\n",
    "        exception={\n",
    "            \"type\":type(self).__name__,\n",
    "            \"message\":self.message,\n",
    "            \"args\": self.args[1:],\n",
    "            \"traceback\":list(self.traceback)\n",
    "        }\n",
    "        print(f'EXCEPTION:{datetime.utcnow().isoformat()}: {exception}')\n",
    "    \n",
    "    def to_json(self):\n",
    "        response = {\n",
    "            'code' : self.http_status.value,\n",
    "            'message':'{}:{}'.format(self.http_status.phrase,self.custom_message),\n",
    "            'category':type(self).__name__,\n",
    "            'time_utc':datetime.utcnow().isoformat()\n",
    "        }\n",
    "        return json.dumps(response)"
   ]
  },
  {
   "cell_type": "code",
   "execution_count": 56,
   "metadata": {},
   "outputs": [
    {
     "name": "stdout",
     "output_type": "stream",
     "text": [
      "EXCEPTION:2020-03-28T11:07:05.258664: {'type': 'WidgetException', 'message': 'Generic Widget Exception', 'args': (), 'traceback': ['Traceback (most recent call last):\\n', '  File \"<ipython-input-56-9bb26bb9376b>\", line 2, in <module>\\n    raise WidgetException()\\n', 'WidgetException: ()\\n']}\n",
      "-----------\n"
     ]
    },
    {
     "ename": "AttributeError",
     "evalue": "'WidgetException' object has no attribute 'custom_message'",
     "output_type": "error",
     "traceback": [
      "\u001b[0;31m---------------------------------------------------------------------------\u001b[0m",
      "\u001b[0;31mWidgetException\u001b[0m                           Traceback (most recent call last)",
      "\u001b[0;32m<ipython-input-56-9bb26bb9376b>\u001b[0m in \u001b[0;36m<module>\u001b[0;34m\u001b[0m\n\u001b[1;32m      1\u001b[0m \u001b[0;32mtry\u001b[0m\u001b[0;34m:\u001b[0m\u001b[0;34m\u001b[0m\u001b[0m\n\u001b[0;32m----> 2\u001b[0;31m     \u001b[0;32mraise\u001b[0m \u001b[0mWidgetException\u001b[0m\u001b[0;34m(\u001b[0m\u001b[0;34m)\u001b[0m\u001b[0;34m\u001b[0m\u001b[0m\n\u001b[0m\u001b[1;32m      3\u001b[0m \u001b[0;32mexcept\u001b[0m \u001b[0mWidgetException\u001b[0m \u001b[0;32mas\u001b[0m \u001b[0mex\u001b[0m\u001b[0;34m:\u001b[0m\u001b[0;34m\u001b[0m\u001b[0m\n",
      "\u001b[0;31mWidgetException\u001b[0m: ()",
      "\nDuring handling of the above exception, another exception occurred:\n",
      "\u001b[0;31mAttributeError\u001b[0m                            Traceback (most recent call last)",
      "\u001b[0;32m<ipython-input-56-9bb26bb9376b>\u001b[0m in \u001b[0;36m<module>\u001b[0;34m\u001b[0m\n\u001b[1;32m      4\u001b[0m     \u001b[0mex\u001b[0m\u001b[0;34m.\u001b[0m\u001b[0mlog_exception\u001b[0m\u001b[0;34m(\u001b[0m\u001b[0;34m)\u001b[0m\u001b[0;34m\u001b[0m\u001b[0m\n\u001b[1;32m      5\u001b[0m     \u001b[0mprint\u001b[0m\u001b[0;34m(\u001b[0m\u001b[0;34m'-----------'\u001b[0m\u001b[0;34m)\u001b[0m\u001b[0;34m\u001b[0m\u001b[0m\n\u001b[0;32m----> 6\u001b[0;31m     \u001b[0mprint\u001b[0m\u001b[0;34m(\u001b[0m\u001b[0mex\u001b[0m\u001b[0;34m.\u001b[0m\u001b[0mto_json\u001b[0m\u001b[0;34m(\u001b[0m\u001b[0;34m)\u001b[0m\u001b[0;34m)\u001b[0m\u001b[0;34m\u001b[0m\u001b[0m\n\u001b[0m",
      "\u001b[0;32m<ipython-input-55-acf1ca5e16cb>\u001b[0m in \u001b[0;36mto_json\u001b[0;34m(self)\u001b[0m\n\u001b[1;32m     25\u001b[0m         response = {\n\u001b[1;32m     26\u001b[0m             \u001b[0;34m'code'\u001b[0m \u001b[0;34m:\u001b[0m \u001b[0mself\u001b[0m\u001b[0;34m.\u001b[0m\u001b[0mhttp_status\u001b[0m\u001b[0;34m.\u001b[0m\u001b[0mvalue\u001b[0m\u001b[0;34m,\u001b[0m\u001b[0;34m\u001b[0m\u001b[0m\n\u001b[0;32m---> 27\u001b[0;31m             \u001b[0;34m'message'\u001b[0m\u001b[0;34m:\u001b[0m\u001b[0;34m'{}:{}'\u001b[0m\u001b[0;34m.\u001b[0m\u001b[0mformat\u001b[0m\u001b[0;34m(\u001b[0m\u001b[0mself\u001b[0m\u001b[0;34m.\u001b[0m\u001b[0mhttp_status\u001b[0m\u001b[0;34m.\u001b[0m\u001b[0mphrase\u001b[0m\u001b[0;34m,\u001b[0m\u001b[0mself\u001b[0m\u001b[0;34m.\u001b[0m\u001b[0mcustom_message\u001b[0m\u001b[0;34m)\u001b[0m\u001b[0;34m,\u001b[0m\u001b[0;34m\u001b[0m\u001b[0m\n\u001b[0m\u001b[1;32m     28\u001b[0m             \u001b[0;34m'category'\u001b[0m\u001b[0;34m:\u001b[0m\u001b[0mtype\u001b[0m\u001b[0;34m(\u001b[0m\u001b[0mself\u001b[0m\u001b[0;34m)\u001b[0m\u001b[0;34m.\u001b[0m\u001b[0m__name__\u001b[0m\u001b[0;34m,\u001b[0m\u001b[0;34m\u001b[0m\u001b[0m\n\u001b[1;32m     29\u001b[0m             \u001b[0;34m'time_utc'\u001b[0m\u001b[0;34m:\u001b[0m\u001b[0mdatetime\u001b[0m\u001b[0;34m.\u001b[0m\u001b[0mutcnow\u001b[0m\u001b[0;34m(\u001b[0m\u001b[0;34m)\u001b[0m\u001b[0;34m.\u001b[0m\u001b[0misoformat\u001b[0m\u001b[0;34m(\u001b[0m\u001b[0;34m)\u001b[0m\u001b[0;34m\u001b[0m\u001b[0m\n",
      "\u001b[0;31mAttributeError\u001b[0m: 'WidgetException' object has no attribute 'custom_message'"
     ]
    }
   ],
   "source": [
    "try:\n",
    "    raise WidgetException()\n",
    "except WidgetException as ex:\n",
    "    ex.log_exception()\n",
    "    print('-----------')\n",
    "    print(ex.to_json())"
   ]
  },
  {
   "cell_type": "code",
   "execution_count": 60,
   "metadata": {},
   "outputs": [
    {
     "name": "stdout",
     "output_type": "stream",
     "text": [
      "Traceback (most recent call last):\n",
      "  File \"<ipython-input-60-7f2699ae1512>\", line 2, in <module>\n",
      "    a = 1/0\n",
      "ZeroDivisionError: division by zero\n",
      "\n",
      "During handling of the above exception, another exception occurred:\n",
      "\n",
      "Traceback (most recent call last):\n",
      "  File \"<ipython-input-60-7f2699ae1512>\", line 5, in <module>\n",
      "    raise WidgetException()\n",
      "WidgetException: ()\n",
      "\n"
     ]
    }
   ],
   "source": [
    "try:\n",
    "    a = 1/0\n",
    "except ZeroDivisionError:\n",
    "    try:\n",
    "        raise WidgetException()\n",
    "    except WidgetException as ex:\n",
    "            print(''.join(ex.traceback))"
   ]
  },
  {
   "cell_type": "code",
   "execution_count": 61,
   "metadata": {},
   "outputs": [],
   "source": [
    "class SupplierException(WidgetException):\n",
    "    message = 'Supplier excetpion'\n",
    "    \n",
    "class NotManufacturedException(SupplierException):\n",
    "    message = 'Widget is no longer manufactured by supplier'\n",
    "\n",
    "class ProductionDelayedException(SupplierException):\n",
    "    message = 'Widget production has been delayed by manufacturer'\n",
    "    \n",
    "class ShippingDelayedException(SupplierException):\n",
    "    message = 'Widget shipping has been delayed by supplier'\n",
    "    \n",
    "class CheckoutException(WidgetException):\n",
    "    message = 'Checkout exception'\n",
    "    \n",
    "class InventoryException(CheckoutException):\n",
    "    message = 'Checkout inventory exception'\n",
    "\n",
    "class OutOfStockExcetion(InventoryException):\n",
    "    message = 'Inventory out of stock'\n",
    "    \n",
    "class PricingException(CheckoutException):\n",
    "    message = 'Checkout pricing exception'\n",
    "    \n",
    "class InvalidCouponCodeException(PricingException):\n",
    "    messge = 'Invalid checkout coupon code'\n",
    "    \n",
    "class CannotStackCouponException(PricingException):\n",
    "    message = 'Cannot stack checkout coupon code'"
   ]
  },
  {
   "cell_type": "code",
   "execution_count": 64,
   "metadata": {},
   "outputs": [],
   "source": [
    "e = InvalidCouponCodeException(\n",
    "    'User tried to pull a fast one on us',custom_message = 'Sorry,this coupon is not valid'\n",
    ")"
   ]
  },
  {
   "cell_type": "code",
   "execution_count": 65,
   "metadata": {},
   "outputs": [
    {
     "name": "stdout",
     "output_type": "stream",
     "text": [
      "EXCEPTION:2020-03-28T11:11:44.343019: {'type': 'InvalidCouponCodeException', 'message': 'User tried to pull a fast one on us', 'args': (), 'traceback': [\"InvalidCouponCodeException: ('User tried to pull a fast one on us',)\\n\"]}\n"
     ]
    }
   ],
   "source": [
    "e.log_exception()"
   ]
  },
  {
   "cell_type": "code",
   "execution_count": 66,
   "metadata": {},
   "outputs": [
    {
     "data": {
      "text/plain": [
       "'{\"code\": 500, \"message\": \"Internal Server Error:Sorry,this coupon is not valid\", \"category\": \"InvalidCouponCodeException\", \"time_utc\": \"2020-03-28T11:11:50.118210\"}'"
      ]
     },
     "execution_count": 66,
     "metadata": {},
     "output_type": "execute_result"
    }
   ],
   "source": [
    "e.to_json()"
   ]
  },
  {
   "cell_type": "code",
   "execution_count": 68,
   "metadata": {},
   "outputs": [
    {
     "name": "stdout",
     "output_type": "stream",
     "text": [
      "EXCEPTION:2020-03-28T11:13:21.321867: {'type': 'InvalidCouponCodeException', 'message': 'User tried to pull a fast one on us', 'args': (), 'traceback': ['Traceback (most recent call last):\\n', '  File \"<ipython-input-68-23d9f2239167>\", line 2, in <module>\\n    raise ValueError\\n', 'ValueError\\n', '\\nDuring handling of the above exception, another exception occurred:\\n\\n', 'Traceback (most recent call last):\\n', '  File \"<ipython-input-68-23d9f2239167>\", line 6, in <module>\\n    \\'User tried to pull a fast one on us\\',custom_message = \\'Sorry,this coupon is not valid\\'\\n', \"InvalidCouponCodeException: ('User tried to pull a fast one on us',)\\n\"]}\n",
      "------\n",
      "<bound method WidgetException.to_json of InvalidCouponCodeException(('User tried to pull a fast one on us',),)>\n",
      "------\n",
      "Traceback (most recent call last):\n",
      "  File \"<ipython-input-68-23d9f2239167>\", line 2, in <module>\n",
      "    raise ValueError\n",
      "ValueError\n",
      "\n",
      "During handling of the above exception, another exception occurred:\n",
      "\n",
      "Traceback (most recent call last):\n",
      "  File \"<ipython-input-68-23d9f2239167>\", line 6, in <module>\n",
      "    'User tried to pull a fast one on us',custom_message = 'Sorry,this coupon is not valid'\n",
      "InvalidCouponCodeException: ('User tried to pull a fast one on us',)\n",
      "\n"
     ]
    }
   ],
   "source": [
    "try:\n",
    "    raise ValueError\n",
    "except ValueError:\n",
    "    try:\n",
    "        raise InvalidCouponCodeException(\n",
    "    'User tried to pull a fast one on us',custom_message = 'Sorry,this coupon is not valid'\n",
    ")\n",
    "    except InvalidCouponCodeException as ex:\n",
    "        ex.log_exception()\n",
    "        print('------')\n",
    "        print(ex.to_json)\n",
    "        print('------')\n",
    "        print(''.join(ex.traceback))"
   ]
  },
  {
   "cell_type": "code",
   "execution_count": null,
   "metadata": {},
   "outputs": [],
   "source": []
  }
 ],
 "metadata": {
  "kernelspec": {
   "display_name": "Python 3",
   "language": "python",
   "name": "python3"
  },
  "language_info": {
   "codemirror_mode": {
    "name": "ipython",
    "version": 3
   },
   "file_extension": ".py",
   "mimetype": "text/x-python",
   "name": "python",
   "nbconvert_exporter": "python",
   "pygments_lexer": "ipython3",
   "version": "3.6.0"
  }
 },
 "nbformat": 4,
 "nbformat_minor": 4
}
