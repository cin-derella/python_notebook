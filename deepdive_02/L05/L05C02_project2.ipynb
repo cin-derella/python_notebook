{
 "cells": [
  {
   "cell_type": "code",
   "execution_count": 1,
   "metadata": {},
   "outputs": [],
   "source": [
    "import math"
   ]
  },
  {
   "cell_type": "code",
   "execution_count": 8,
   "metadata": {},
   "outputs": [],
   "source": [
    "class Polygon:\n",
    "    def __init__(self,n,R):\n",
    "        if n<3:\n",
    "            raise ValueError('Polygon must have at least 3 vertices.')\n",
    "        self._n = n\n",
    "        self._R = R\n",
    "        \n",
    "        self._interior_angle = None\n",
    "        self._side_length = None\n",
    "        self._apothem = None\n",
    "        self._area = None\n",
    "        self._perimeter = None\n",
    "\n",
    "        \n",
    "        \n",
    "    def __repr__(self):\n",
    "        return f'Polygon(n={self._n},R = {self._R})'\n",
    "    \n",
    "    @property\n",
    "    def count_vertices(self):\n",
    "        return self._n\n",
    "    \n",
    "    @property\n",
    "    def count_edges(self):\n",
    "        return self._n\n",
    "    \n",
    "    @property\n",
    "    def circumradius(self):\n",
    "        return self.R\n",
    "    \n",
    "    \n",
    "    @property\n",
    "    def interior_angle(self):\n",
    "        if self._interior_angle is None:\n",
    "            self._interior_angele = (self._n - 2) * 100 / self._n\n",
    "        return self._interior_angle\n",
    "    \n",
    "    \n",
    "    @property\n",
    "    def side_length(self):\n",
    "        if self._side_length is None:\n",
    "            self._side_length =  2 * self._R * math.sin(math.pi / self._n)\n",
    "        return self._side_length\n",
    "    \n",
    "    \n",
    "    @property\n",
    "    def apothem(self):\n",
    "        if self._apothem is None:\n",
    "            self._apothem = self._R * math.cos(math.pi / self._n)\n",
    "        return self._apothem\n",
    "    \n",
    "    \n",
    "    @property\n",
    "    def area(self):\n",
    "        if self._area is None:\n",
    "            self._area = self._n /2 *self.side_length * self.apothem\n",
    "        return self._area\n",
    "    \n",
    "    \n",
    "    @property\n",
    "    def perimeter(self):\n",
    "        if self._perimeter is None:\n",
    "            self._perimeter = self._n * self.side_length\n",
    "        return self._perimeter\n",
    "    \n",
    "    \n",
    "    def __eq__(self,other):\n",
    "        if isinstance(other,self.__class__):\n",
    "            return (self.count_edges == other.count_edges\n",
    "                   and self.circumradius == other.circumradius)\n",
    "        else:\n",
    "            return NotImplemented\n",
    "    \n",
    "    def __gt__(self,other):\n",
    "        if isinstance(other,self.__class):\n",
    "            return self.count_vertices >other.count_vertices\n",
    "        else:\n",
    "            return NotImplemented\n",
    "            \n",
    "    "
   ]
  },
  {
   "cell_type": "code",
   "execution_count": 9,
   "metadata": {},
   "outputs": [
    {
     "ename": "SyntaxError",
     "evalue": "invalid syntax (<ipython-input-9-a7e7e3d9f52a>, line 10)",
     "output_type": "error",
     "traceback": [
      "\u001b[0;36m  File \u001b[0;32m\"<ipython-input-9-a7e7e3d9f52a>\"\u001b[0;36m, line \u001b[0;32m10\u001b[0m\n\u001b[0;31m    exception ValueError:\u001b[0m\n\u001b[0m            ^\u001b[0m\n\u001b[0;31mSyntaxError\u001b[0m\u001b[0;31m:\u001b[0m invalid syntax\n"
     ]
    }
   ],
   "source": [
    "def test_polyon():\n",
    "    abs_tol = 0.001\n",
    "    rel_tol =0.001\n",
    "    \n",
    "    try:\n",
    "        p=Polygon(2,10)\n",
    "        assert False,('Creating a Polygon with 2 sides: '\n",
    "                     ' Exception expected,not received')\n",
    "        \n",
    "    exception ValueError:\n",
    "        pass\n",
    "    \n",
    "    n = 3\n",
    "    R = 1\n",
    "    p = Polygon(n,R)\n",
    "    assert str(p)=='Polygon(n=3,R=1)',f'actual:{str(p)}'\n",
    "    assert p.count_vertices == n, (f'actual:{p.count_vertices},'\n",
    "                                  f' excepted:{n}')\n",
    "    assert p.count_edges == n,(f'actual:{p.count_edges},'\n",
    "                                  f' excepted:{n}')\n",
    "    assert p.circumradius == n,(f'actual:{p.circumradius},'\n",
    "                                  f' excepted:{n}')\n",
    "    assert p.interior_angle == n,(f'actual:{p.interior_angle},'\n",
    "                                  f' excepted:{n}')"
   ]
  },
  {
   "cell_type": "code",
   "execution_count": 17,
   "metadata": {},
   "outputs": [],
   "source": [
    "class PolygonIterator:\n",
    "    def __init__(self,m,R):\n",
    "        if m<3:\n",
    "            raise ValueError('m must be greater than 3')\n",
    "        self._m = m\n",
    "        self._R = R\n",
    "        self._i = 0\n",
    "        \n",
    "    def __iter__(self):\n",
    "        return self\n",
    "    \n",
    "    def __next__(self):\n",
    "        if self._i>self._m:\n",
    "            raise StopIteration\n",
    "        else:\n",
    "            result = Polygons(self._m,self._R)\n",
    "            self._i+=1\n",
    "            return result"
   ]
  },
  {
   "cell_type": "code",
   "execution_count": 18,
   "metadata": {},
   "outputs": [],
   "source": [
    "class Polygons:\n",
    "    def __init__(self,m,R):\n",
    "        if m<3:\n",
    "            raise ValueError('m must be greater than 3')\n",
    "        self._m = m\n",
    "        self._R = R\n",
    "        \n",
    "    def __len__(self):\n",
    "        return self.m -2 \n",
    "    \n",
    "    def __repr__(self):\n",
    "        return f'Polygons(m={self._m},R = {self._R})'\n",
    "\n",
    "    \n",
    "    def __iter__(self):\n",
    "        return PolygonIterator(self._m,self._R)\n",
    "    \n",
    "        \n",
    "    @property\n",
    "    def max_efficiency_polygon(self):\n",
    "        sorted_polygons = sorted(PolygonIterator(self._m,self._R),\n",
    "                                key = lambda p : p.area/p.perimeter,\n",
    "                                reverse = True)\n",
    "        return sorted_polygons[0]\n",
    "        \n",
    "        \n",
    "        \n",
    "    "
   ]
  },
  {
   "cell_type": "code",
   "execution_count": 19,
   "metadata": {},
   "outputs": [
    {
     "name": "stdout",
     "output_type": "stream",
     "text": [
      "Polygons(m=5,R = 3)\n",
      "Polygons(m=5,R = 3)\n",
      "Polygons(m=5,R = 3)\n",
      "Polygons(m=5,R = 3)\n",
      "Polygons(m=5,R = 3)\n",
      "Polygons(m=5,R = 3)\n"
     ]
    }
   ],
   "source": [
    "polygons = Polygons(5,3)\n",
    "for p in polygons:\n",
    "    print(p)"
   ]
  },
  {
   "cell_type": "code",
   "execution_count": 20,
   "metadata": {},
   "outputs": [
    {
     "name": "stdout",
     "output_type": "stream",
     "text": [
      "Polygons(m=5,R = 3)\n",
      "Polygons(m=5,R = 3)\n",
      "Polygons(m=5,R = 3)\n",
      "Polygons(m=5,R = 3)\n",
      "Polygons(m=5,R = 3)\n",
      "Polygons(m=5,R = 3)\n"
     ]
    }
   ],
   "source": [
    "p_iter=PolygonIterator(5,3)\n",
    "for p in p_iter:\n",
    "    print(p)"
   ]
  }
 ],
 "metadata": {
  "kernelspec": {
   "display_name": "Python 3",
   "language": "python",
   "name": "python3"
  },
  "language_info": {
   "codemirror_mode": {
    "name": "ipython",
    "version": 3
   },
   "file_extension": ".py",
   "mimetype": "text/x-python",
   "name": "python",
   "nbconvert_exporter": "python",
   "pygments_lexer": "ipython3",
   "version": "3.6.0"
  }
 },
 "nbformat": 4,
 "nbformat_minor": 4
}
