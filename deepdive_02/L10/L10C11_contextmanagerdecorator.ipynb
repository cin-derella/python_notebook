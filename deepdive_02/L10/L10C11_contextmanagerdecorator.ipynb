{
 "cells": [
  {
   "cell_type": "code",
   "execution_count": 1,
   "metadata": {},
   "outputs": [],
   "source": [
    "def open_file(fname,mode = 'r'):\n",
    "    print('opening file...')\n",
    "    f = open(fname,mode)\n",
    "    try:\n",
    "        yield f\n",
    "    finally:\n",
    "        print('closing file...')\n",
    "        f.close()"
   ]
  },
  {
   "cell_type": "code",
   "execution_count": 2,
   "metadata": {},
   "outputs": [],
   "source": [
    "class GenContextManager:\n",
    "    def __init__(self,gen):\n",
    "        self.gen = gen\n",
    "        \n",
    "    def __enter__(self):\n",
    "        print('calling next to get the yielded value from generator')\n",
    "        return next(self.gen)\n",
    "    \n",
    "    def __exit__(self,exc_type,exc_value,exc_tb):\n",
    "        print('calling next to perform cleanup in generator')\n",
    "        try:\n",
    "            next(self.gen)\n",
    "        except StopIteration:\n",
    "            pass\n",
    "        return False\n",
    "    \n",
    "    "
   ]
  },
  {
   "cell_type": "code",
   "execution_count": 3,
   "metadata": {},
   "outputs": [
    {
     "name": "stdout",
     "output_type": "stream",
     "text": [
      "calling next to get the yielded value from generator\n",
      "opening file...\n",
      "calling next to perform cleanup in generator\n",
      "closing file...\n"
     ]
    }
   ],
   "source": [
    "file_gen = open_file('test.txt','w')\n",
    "with GenContextManager(file_gen) as f:\n",
    "    f.writelines('How are you?')"
   ]
  },
  {
   "cell_type": "code",
   "execution_count": 4,
   "metadata": {},
   "outputs": [],
   "source": [
    "def context_manager_dec(gen_fn):\n",
    "    def helper(*args,**kwargs):\n",
    "        gen = gen_fn(*args,**kwargs)\n",
    "        ctx = GenContextManager(gen)\n",
    "        return ctx\n",
    "\n",
    "    return helper\n",
    "    \n",
    "    \n",
    "    \n",
    "    "
   ]
  },
  {
   "cell_type": "code",
   "execution_count": 6,
   "metadata": {},
   "outputs": [],
   "source": [
    "@context_manager_dec\n",
    "def open_file(fname,mode = 'r'):\n",
    "    print('opening file...')\n",
    "    f = open(fname,mode)\n",
    "    try:\n",
    "        yield f\n",
    "    finally:\n",
    "        print('closing file...')\n",
    "        f.close()\n",
    "    \n",
    "#open_file = context_manager_dec(open_file)   = @context_manager_doc"
   ]
  },
  {
   "cell_type": "code",
   "execution_count": 7,
   "metadata": {},
   "outputs": [
    {
     "name": "stdout",
     "output_type": "stream",
     "text": [
      "calling next to get the yielded value from generator\n",
      "opening file...\n",
      "['How are you?']\n",
      "calling next to perform cleanup in generator\n",
      "closing file...\n"
     ]
    }
   ],
   "source": [
    "with open_file('test.txt') as f:\n",
    "    print(f.readlines())"
   ]
  },
  {
   "cell_type": "code",
   "execution_count": 8,
   "metadata": {},
   "outputs": [],
   "source": [
    "from contextlib import contextmanager"
   ]
  },
  {
   "cell_type": "code",
   "execution_count": 9,
   "metadata": {},
   "outputs": [],
   "source": [
    "@contextmanager\n",
    "def open_file(fname,mode = 'r'):\n",
    "    print('opening file...')\n",
    "    f = open(fname,mode)\n",
    "    try:\n",
    "        yield f\n",
    "    finally:\n",
    "        print('closing file...')\n",
    "        f.close()"
   ]
  },
  {
   "cell_type": "code",
   "execution_count": 10,
   "metadata": {},
   "outputs": [
    {
     "name": "stdout",
     "output_type": "stream",
     "text": [
      "opening file...\n",
      "['How are you?']\n",
      "closing file...\n"
     ]
    }
   ],
   "source": [
    "with open_file('test.txt','r') as f:\n",
    "    print(f.readlines())"
   ]
  },
  {
   "cell_type": "code",
   "execution_count": 11,
   "metadata": {},
   "outputs": [],
   "source": [
    "from time import perf_counter,sleep"
   ]
  },
  {
   "cell_type": "code",
   "execution_count": 18,
   "metadata": {},
   "outputs": [],
   "source": [
    "@contextmanager\n",
    "def timer():\n",
    "    stats = dict()\n",
    "    start = perf_counter()\n",
    "    stats['start'] = start\n",
    "    try:\n",
    "        yield stats\n",
    "    finally:\n",
    "        end = perf_counter()\n",
    "        stats['end'] = end\n",
    "        stats['elapsed'] = end- start"
   ]
  },
  {
   "cell_type": "code",
   "execution_count": 19,
   "metadata": {},
   "outputs": [
    {
     "name": "stdout",
     "output_type": "stream",
     "text": [
      "{'start': 638264.824078224, 'end': 638266.824516893, 'elapsed': 2.0004386689979583}\n"
     ]
    }
   ],
   "source": [
    "with timer() as stats:\n",
    "    sleep(2)\n",
    "print(stats)"
   ]
  },
  {
   "cell_type": "code",
   "execution_count": 20,
   "metadata": {},
   "outputs": [],
   "source": [
    "import sys"
   ]
  },
  {
   "cell_type": "code",
   "execution_count": 21,
   "metadata": {},
   "outputs": [],
   "source": [
    "@contextmanager\n",
    "def out_to_file(fname):\n",
    "    current_stdout = sys.stdout\n",
    "    file = open(fname,'w')\n",
    "    sys.stdout = file\n",
    "    try:\n",
    "        yield None\n",
    "    finally:\n",
    "        file.close()\n",
    "        sys.stdout = current_stdout"
   ]
  },
  {
   "cell_type": "code",
   "execution_count": 22,
   "metadata": {},
   "outputs": [],
   "source": [
    "with out_to_file('test.txt'):\n",
    "    print('line 1')\n",
    "    print('line 2')"
   ]
  },
  {
   "cell_type": "code",
   "execution_count": 23,
   "metadata": {},
   "outputs": [
    {
     "name": "stdout",
     "output_type": "stream",
     "text": [
      "hello\n"
     ]
    }
   ],
   "source": [
    "print('hello')"
   ]
  },
  {
   "cell_type": "code",
   "execution_count": 24,
   "metadata": {},
   "outputs": [
    {
     "name": "stdout",
     "output_type": "stream",
     "text": [
      "['line 1\\n', 'line 2\\n']\n"
     ]
    }
   ],
   "source": [
    "with open('test.txt','r') as f:\n",
    "    print(f.readlines())"
   ]
  },
  {
   "cell_type": "code",
   "execution_count": 25,
   "metadata": {},
   "outputs": [],
   "source": [
    "from contextlib import redirect_stdout"
   ]
  },
  {
   "cell_type": "code",
   "execution_count": 27,
   "metadata": {},
   "outputs": [],
   "source": [
    "with open('test.txt','w') as f:\n",
    "    with redirect_stdout(f):\n",
    "        print('look on the bright side of life')\n"
   ]
  },
  {
   "cell_type": "code",
   "execution_count": 29,
   "metadata": {},
   "outputs": [
    {
     "name": "stdout",
     "output_type": "stream",
     "text": [
      "['look on the bright side of life\\n']\n"
     ]
    }
   ],
   "source": [
    "with open('test.txt','r') as f:\n",
    "    print(f.readlines())"
   ]
  },
  {
   "cell_type": "code",
   "execution_count": null,
   "metadata": {},
   "outputs": [],
   "source": []
  }
 ],
 "metadata": {
  "kernelspec": {
   "display_name": "Python 3",
   "language": "python",
   "name": "python3"
  },
  "language_info": {
   "codemirror_mode": {
    "name": "ipython",
    "version": 3
   },
   "file_extension": ".py",
   "mimetype": "text/x-python",
   "name": "python",
   "nbconvert_exporter": "python",
   "pygments_lexer": "ipython3",
   "version": "3.6.0"
  }
 },
 "nbformat": 4,
 "nbformat_minor": 4
}
