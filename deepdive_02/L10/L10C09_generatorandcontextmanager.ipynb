{
 "cells": [
  {
   "cell_type": "code",
   "execution_count": 1,
   "metadata": {},
   "outputs": [],
   "source": [
    "def my_gen():\n",
    "    try:\n",
    "        print('creating context and yielding object')\n",
    "        yield[1,2,3,4]\n",
    "    finally:\n",
    "        print('exiting context and cleaning up')"
   ]
  },
  {
   "cell_type": "code",
   "execution_count": 2,
   "metadata": {},
   "outputs": [],
   "source": [
    "gen  = my_gen()"
   ]
  },
  {
   "cell_type": "code",
   "execution_count": 3,
   "metadata": {},
   "outputs": [
    {
     "name": "stdout",
     "output_type": "stream",
     "text": [
      "creating context and yielding object\n"
     ]
    }
   ],
   "source": [
    "list = next(gen)"
   ]
  },
  {
   "cell_type": "code",
   "execution_count": 4,
   "metadata": {},
   "outputs": [
    {
     "data": {
      "text/plain": [
       "[1, 2, 3, 4]"
      ]
     },
     "execution_count": 4,
     "metadata": {},
     "output_type": "execute_result"
    }
   ],
   "source": [
    "list"
   ]
  },
  {
   "cell_type": "code",
   "execution_count": 5,
   "metadata": {},
   "outputs": [
    {
     "name": "stdout",
     "output_type": "stream",
     "text": [
      "exiting context and cleaning up\n"
     ]
    },
    {
     "ename": "StopIteration",
     "evalue": "",
     "output_type": "error",
     "traceback": [
      "\u001b[0;31m---------------------------------------------------------------------------\u001b[0m",
      "\u001b[0;31mStopIteration\u001b[0m                             Traceback (most recent call last)",
      "\u001b[0;32m<ipython-input-5-6e72e47198db>\u001b[0m in \u001b[0;36m<module>\u001b[0;34m\u001b[0m\n\u001b[0;32m----> 1\u001b[0;31m \u001b[0mnext\u001b[0m\u001b[0;34m(\u001b[0m\u001b[0mgen\u001b[0m\u001b[0;34m)\u001b[0m\u001b[0;34m\u001b[0m\u001b[0m\n\u001b[0m",
      "\u001b[0;31mStopIteration\u001b[0m: "
     ]
    }
   ],
   "source": [
    "next(gen)"
   ]
  },
  {
   "cell_type": "code",
   "execution_count": 6,
   "metadata": {},
   "outputs": [
    {
     "name": "stdout",
     "output_type": "stream",
     "text": [
      "creating context and yielding object\n",
      "[1, 2, 3, 4]\n",
      "exiting context and cleaning up\n"
     ]
    }
   ],
   "source": [
    "gen = my_gen()\n",
    "lst = next(gen)\n",
    "print(lst)\n",
    "try:\n",
    "    next(gen)\n",
    "except StopIteration:\n",
    "    pass"
   ]
  },
  {
   "cell_type": "code",
   "execution_count": 13,
   "metadata": {},
   "outputs": [],
   "source": [
    "class GenCtxManager:\n",
    "    def __init__(self,gen_func):\n",
    "        self._gen = gen_func()\n",
    "    \n",
    "    def __enter__(self):\n",
    "        return next(self._gen)\n",
    "    \n",
    "    def __exit__(self,exc_type,exc_value,exc_tb):\n",
    "        try:\n",
    "            next(self._gen)\n",
    "        except StopIteration:\n",
    "            pass\n",
    "        return False"
   ]
  },
  {
   "cell_type": "code",
   "execution_count": 14,
   "metadata": {},
   "outputs": [],
   "source": [
    "def my_gen():\n",
    "    try:\n",
    "        print('creating context and yielding object')\n",
    "        yield[1,2,3,4]\n",
    "    finally:\n",
    "        print('exiting context and cleaning up')"
   ]
  },
  {
   "cell_type": "code",
   "execution_count": 15,
   "metadata": {},
   "outputs": [
    {
     "name": "stdout",
     "output_type": "stream",
     "text": [
      "creating context and yielding object\n",
      "[1, 2, 3, 4]\n",
      "exiting context and cleaning up\n"
     ]
    }
   ],
   "source": [
    "with GenCtxManager(my_gen) as obj:\n",
    "    print(obj)"
   ]
  },
  {
   "cell_type": "code",
   "execution_count": 22,
   "metadata": {},
   "outputs": [],
   "source": [
    "class GenCtxManager:\n",
    "    def __init__(self,gen_func,*args,**kwargs):\n",
    "        self._gen = gen_func(*args,**kwargs)\n",
    "    \n",
    "    def __enter__(self):\n",
    "        return next(self._gen)\n",
    "    \n",
    "    def __exit__(self,exc_type,exc_value,exc_tb):\n",
    "        try:\n",
    "            next(self._gen)\n",
    "        except StopIteration:\n",
    "            pass\n",
    "        return False"
   ]
  },
  {
   "cell_type": "code",
   "execution_count": 23,
   "metadata": {},
   "outputs": [],
   "source": [
    "def open_file(fname,mode):\n",
    "    f = open(fname,mode)\n",
    "    try:\n",
    "        print('opening file')\n",
    "        yield f\n",
    "    finally:\n",
    "        print('closing file')\n",
    "        f.close()"
   ]
  },
  {
   "cell_type": "code",
   "execution_count": 24,
   "metadata": {},
   "outputs": [
    {
     "name": "stdout",
     "output_type": "stream",
     "text": [
      "opening file\n",
      "closing file\n"
     ]
    }
   ],
   "source": [
    "with GenCtxManager(open_file,'text.txt','w') as f :\n",
    "    f.writelines('testing')"
   ]
  },
  {
   "cell_type": "code",
   "execution_count": 25,
   "metadata": {},
   "outputs": [
    {
     "name": "stdout",
     "output_type": "stream",
     "text": [
      "opening file\n",
      "['testing']\n",
      "closing file\n"
     ]
    }
   ],
   "source": [
    "with GenCtxManager(open_file,'text.txt','r') as f :\n",
    "    print(f.readlines())"
   ]
  },
  {
   "cell_type": "code",
   "execution_count": null,
   "metadata": {},
   "outputs": [],
   "source": []
  }
 ],
 "metadata": {
  "kernelspec": {
   "display_name": "Python 3",
   "language": "python",
   "name": "python3"
  },
  "language_info": {
   "codemirror_mode": {
    "name": "ipython",
    "version": 3
   },
   "file_extension": ".py",
   "mimetype": "text/x-python",
   "name": "python",
   "nbconvert_exporter": "python",
   "pygments_lexer": "ipython3",
   "version": "3.6.0"
  }
 },
 "nbformat": 4,
 "nbformat_minor": 4
}
