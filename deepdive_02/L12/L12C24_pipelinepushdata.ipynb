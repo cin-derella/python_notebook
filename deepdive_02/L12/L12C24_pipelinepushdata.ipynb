{
 "cells": [
  {
   "cell_type": "code",
   "execution_count": 1,
   "metadata": {},
   "outputs": [],
   "source": [
    "def coroutine(coro):\n",
    "    def inner(*arg,**kwargs):\n",
    "        gen = coro(*arg,**kwargs)\n",
    "        next(gen)\n",
    "        return gen\n",
    "    return inner"
   ]
  },
  {
   "cell_type": "code",
   "execution_count": 6,
   "metadata": {},
   "outputs": [],
   "source": [
    "@coroutine\n",
    "def handle_data():\n",
    "    while True:\n",
    "        received = yield\n",
    "        print(received)"
   ]
  },
  {
   "cell_type": "code",
   "execution_count": 7,
   "metadata": {},
   "outputs": [],
   "source": [
    "import math\n",
    "\n",
    "@coroutine\n",
    "def power_up(n,next_gen):\n",
    "    while True:\n",
    "        received = yield\n",
    "        output = math.pow(received,n)\n",
    "        next_gen.send(output)"
   ]
  },
  {
   "cell_type": "code",
   "execution_count": 8,
   "metadata": {},
   "outputs": [
    {
     "name": "stdout",
     "output_type": "stream",
     "text": [
      "1.0\n",
      "4.0\n",
      "9.0\n",
      "16.0\n",
      "25.0\n"
     ]
    }
   ],
   "source": [
    "print_data = handle_data()\n",
    "gen = power_up(2,print_data)\n",
    "for i in range(1,6):\n",
    "    gen.send(i)"
   ]
  },
  {
   "cell_type": "code",
   "execution_count": 9,
   "metadata": {},
   "outputs": [
    {
     "name": "stdout",
     "output_type": "stream",
     "text": [
      "1.0\n",
      "4.0\n",
      "9.0\n",
      "16.0\n",
      "25.0\n"
     ]
    }
   ],
   "source": [
    "print_data = handle_data()\n",
    "gen = power_up(2,print_data)\n",
    "for i in range(1,6):\n",
    "    gen.send(i)"
   ]
  },
  {
   "cell_type": "code",
   "execution_count": 10,
   "metadata": {},
   "outputs": [
    {
     "name": "stdout",
     "output_type": "stream",
     "text": [
      "1.0\n",
      "64.0\n",
      "729.0\n",
      "4096.0\n",
      "15625.0\n"
     ]
    }
   ],
   "source": [
    "gen2 = power_up(3,print_data)\n",
    "gen1 = power_up(2,gen2)\n",
    "for i in range(1,6):\n",
    "    gen1.send(i)"
   ]
  },
  {
   "cell_type": "code",
   "execution_count": 11,
   "metadata": {},
   "outputs": [],
   "source": [
    "@coroutine\n",
    "\n",
    "def filter_even(next_gen):\n",
    "    while True:\n",
    "        received = yield\n",
    "        if received%2 ==0:\n",
    "            next_gen.send(received)\n",
    "            "
   ]
  },
  {
   "cell_type": "code",
   "execution_count": 12,
   "metadata": {},
   "outputs": [
    {
     "name": "stdout",
     "output_type": "stream",
     "text": [
      "64.0\n",
      "4096.0\n"
     ]
    }
   ],
   "source": [
    "filtered = filter_even(print_data)\n",
    "gen2 = power_up(3,filtered)\n",
    "gen1 = power_up(2,gen2)\n",
    "for i in range(1,6):\n",
    "    gen1.send(i)"
   ]
  },
  {
   "cell_type": "code",
   "execution_count": null,
   "metadata": {},
   "outputs": [],
   "source": []
  }
 ],
 "metadata": {
  "kernelspec": {
   "display_name": "Python 3",
   "language": "python",
   "name": "python3"
  },
  "language_info": {
   "codemirror_mode": {
    "name": "ipython",
    "version": 3
   },
   "file_extension": ".py",
   "mimetype": "text/x-python",
   "name": "python",
   "nbconvert_exporter": "python",
   "pygments_lexer": "ipython3",
   "version": "3.6.0"
  }
 },
 "nbformat": 4,
 "nbformat_minor": 4
}
