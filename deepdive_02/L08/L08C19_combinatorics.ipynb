{
 "cells": [
  {
   "cell_type": "code",
   "execution_count": 1,
   "metadata": {},
   "outputs": [],
   "source": [
    "import itertools"
   ]
  },
  {
   "cell_type": "code",
   "execution_count": 2,
   "metadata": {},
   "outputs": [],
   "source": [
    "def matrix(n):\n",
    "    for i in range(1,n+1):\n",
    "        for j in range(1,n+1):\n",
    "            yield f'{i} X {j} = {i*j}'"
   ]
  },
  {
   "cell_type": "code",
   "execution_count": 5,
   "metadata": {},
   "outputs": [
    {
     "data": {
      "text/plain": [
       "['2 X 1 = 2',\n",
       " '2 X 2 = 4',\n",
       " '2 X 3 = 6',\n",
       " '2 X 4 = 8',\n",
       " '2 X 5 = 10',\n",
       " '2 X 6 = 12',\n",
       " '2 X 7 = 14',\n",
       " '2 X 8 = 16',\n",
       " '2 X 9 = 18',\n",
       " '2 X 10 = 20']"
      ]
     },
     "execution_count": 5,
     "metadata": {},
     "output_type": "execute_result"
    }
   ],
   "source": [
    "list(itertools.islice(matrix(10),10,20))"
   ]
  },
  {
   "cell_type": "code",
   "execution_count": 8,
   "metadata": {},
   "outputs": [
    {
     "name": "stdout",
     "output_type": "stream",
     "text": [
      "('x1', 'y1') ('x1', 'y2') ('x1', 'y3') ('x2', 'y1') ('x2', 'y2') ('x2', 'y3') ('x3', 'y1') ('x3', 'y2') ('x3', 'y3') ('x4', 'y1') ('x4', 'y2') ('x4', 'y3') "
     ]
    }
   ],
   "source": [
    "l1=['x1','x2','x3','x4']\n",
    "l2 = ['y1','y2','y3']\n",
    "for x in l1:\n",
    "    for y in l2:\n",
    "        print((x,y),end = ' ')"
   ]
  },
  {
   "cell_type": "code",
   "execution_count": 16,
   "metadata": {},
   "outputs": [
    {
     "data": {
      "text/plain": [
       "[('x1', 'y1'),\n",
       " ('x1', 'y2'),\n",
       " ('x1', 'y3'),\n",
       " ('x2', 'y1'),\n",
       " ('x2', 'y2'),\n",
       " ('x2', 'y3'),\n",
       " ('x3', 'y1'),\n",
       " ('x3', 'y2'),\n",
       " ('x3', 'y3'),\n",
       " ('x4', 'y1'),\n",
       " ('x4', 'y2'),\n",
       " ('x4', 'y3')]"
      ]
     },
     "execution_count": 16,
     "metadata": {},
     "output_type": "execute_result"
    }
   ],
   "source": [
    "list(itertools.product(l1,l2))"
   ]
  },
  {
   "cell_type": "code",
   "execution_count": 17,
   "metadata": {},
   "outputs": [],
   "source": [
    "def matrix(n):\n",
    "    for i in range(1,n+1):\n",
    "        for j in range(1,n+1):\n",
    "            yield (i,j,i*j)"
   ]
  },
  {
   "cell_type": "code",
   "execution_count": 20,
   "metadata": {},
   "outputs": [
    {
     "data": {
      "text/plain": [
       "[(1, 1),\n",
       " (1, 2),\n",
       " (1, 3),\n",
       " (1, 4),\n",
       " (2, 1),\n",
       " (2, 2),\n",
       " (2, 3),\n",
       " (2, 4),\n",
       " (3, 1),\n",
       " (3, 2),\n",
       " (3, 3),\n",
       " (3, 4),\n",
       " (4, 1),\n",
       " (4, 2),\n",
       " (4, 3),\n",
       " (4, 4)]"
      ]
     },
     "execution_count": 20,
     "metadata": {},
     "output_type": "execute_result"
    }
   ],
   "source": [
    "def matrix(n):\n",
    "    yield from itertools.product(range(1,n+1),range(1,n+1))\n",
    "\n",
    "\n",
    "list(matrix(4))"
   ]
  },
  {
   "cell_type": "code",
   "execution_count": 22,
   "metadata": {},
   "outputs": [
    {
     "data": {
      "text/plain": [
       "[(1, 1, 1),\n",
       " (1, 2, 2),\n",
       " (1, 3, 3),\n",
       " (1, 4, 4),\n",
       " (2, 1, 2),\n",
       " (2, 2, 4),\n",
       " (2, 3, 6),\n",
       " (2, 4, 8),\n",
       " (3, 1, 3),\n",
       " (3, 2, 6),\n",
       " (3, 3, 9),\n",
       " (3, 4, 12),\n",
       " (4, 1, 4),\n",
       " (4, 2, 8),\n",
       " (4, 3, 12),\n",
       " (4, 4, 16)]"
      ]
     },
     "execution_count": 22,
     "metadata": {},
     "output_type": "execute_result"
    }
   ],
   "source": [
    "def matrix(n):\n",
    "    for i, j in itertools.product(range(1,n+1),range(1,n+1)):\n",
    "        yield (i,j,i*j)\n",
    "\n",
    "\n",
    "list(matrix(4))"
   ]
  },
  {
   "cell_type": "code",
   "execution_count": 24,
   "metadata": {},
   "outputs": [
    {
     "data": {
      "text/plain": [
       "[(1, 1, 1),\n",
       " (1, 2, 2),\n",
       " (1, 3, 3),\n",
       " (1, 4, 4),\n",
       " (2, 1, 2),\n",
       " (2, 2, 4),\n",
       " (2, 3, 6),\n",
       " (2, 4, 8),\n",
       " (3, 1, 3),\n",
       " (3, 2, 6),\n",
       " (3, 3, 9),\n",
       " (3, 4, 12),\n",
       " (4, 1, 4),\n",
       " (4, 2, 8),\n",
       " (4, 3, 12),\n",
       " (4, 4, 16)]"
      ]
     },
     "execution_count": 24,
     "metadata": {},
     "output_type": "execute_result"
    }
   ],
   "source": [
    "def matrix(n):\n",
    "    return ((i,j,i*j)\n",
    "           for i,j in itertools.product(range(1,n+1),range(1,n+1)))\n",
    "\n",
    "list(matrix(4))"
   ]
  },
  {
   "cell_type": "code",
   "execution_count": 25,
   "metadata": {},
   "outputs": [],
   "source": [
    "from itertools import tee"
   ]
  },
  {
   "cell_type": "code",
   "execution_count": 29,
   "metadata": {},
   "outputs": [
    {
     "data": {
      "text/plain": [
       "<generator object matrix.<locals>.<genexpr> at 0x110e19b48>"
      ]
     },
     "execution_count": 29,
     "metadata": {},
     "output_type": "execute_result"
    }
   ],
   "source": [
    "def matrix(n):\n",
    "    return ((i,j,i*j)\n",
    "           for i,j in itertools.product(*tee(range(1,n+1),2))) \n",
    "\n",
    "matrix(4)"
   ]
  },
  {
   "cell_type": "code",
   "execution_count": 30,
   "metadata": {},
   "outputs": [
    {
     "data": {
      "text/plain": [
       "[(1, 1, 1),\n",
       " (1, 2, 2),\n",
       " (1, 3, 3),\n",
       " (1, 4, 4),\n",
       " (2, 1, 2),\n",
       " (2, 2, 4),\n",
       " (2, 3, 6),\n",
       " (2, 4, 8),\n",
       " (3, 1, 3),\n",
       " (3, 2, 6),\n",
       " (3, 3, 9),\n",
       " (3, 4, 12),\n",
       " (4, 1, 4),\n",
       " (4, 2, 8),\n",
       " (4, 3, 12),\n",
       " (4, 4, 16)]"
      ]
     },
     "execution_count": 30,
     "metadata": {},
     "output_type": "execute_result"
    }
   ],
   "source": [
    "list(matrix(4))"
   ]
  },
  {
   "cell_type": "code",
   "execution_count": 34,
   "metadata": {},
   "outputs": [],
   "source": [
    "def grid(min_val,max_val,step,*,num_dimensions = 2):\n",
    "    axis = itertools.takewhile(lambda x : x <= max_val,\n",
    "                       itertools.count(min_val,step))\n",
    "    axes = itertools.tee(axis,num_dimensions)\n",
    "    return itertools.product(*axes)"
   ]
  },
  {
   "cell_type": "code",
   "execution_count": 36,
   "metadata": {},
   "outputs": [
    {
     "data": {
      "text/plain": [
       "[(-1, -1),\n",
       " (-1, -0.5),\n",
       " (-1, 0.0),\n",
       " (-1, 0.5),\n",
       " (-1, 1.0),\n",
       " (-0.5, -1),\n",
       " (-0.5, -0.5),\n",
       " (-0.5, 0.0),\n",
       " (-0.5, 0.5),\n",
       " (-0.5, 1.0),\n",
       " (0.0, -1),\n",
       " (0.0, -0.5),\n",
       " (0.0, 0.0),\n",
       " (0.0, 0.5),\n",
       " (0.0, 1.0),\n",
       " (0.5, -1),\n",
       " (0.5, -0.5),\n",
       " (0.5, 0.0),\n",
       " (0.5, 0.5),\n",
       " (0.5, 1.0),\n",
       " (1.0, -1),\n",
       " (1.0, -0.5),\n",
       " (1.0, 0.0),\n",
       " (1.0, 0.5),\n",
       " (1.0, 1.0)]"
      ]
     },
     "execution_count": 36,
     "metadata": {},
     "output_type": "execute_result"
    }
   ],
   "source": [
    "list(grid(-1,1,0.5))"
   ]
  },
  {
   "cell_type": "code",
   "execution_count": 38,
   "metadata": {},
   "outputs": [
    {
     "data": {
      "text/plain": [
       "[(-1, -1, -1),\n",
       " (-1, -1, -0.5),\n",
       " (-1, -1, 0.0),\n",
       " (-1, -1, 0.5),\n",
       " (-1, -1, 1.0),\n",
       " (-1, -0.5, -1),\n",
       " (-1, -0.5, -0.5),\n",
       " (-1, -0.5, 0.0),\n",
       " (-1, -0.5, 0.5),\n",
       " (-1, -0.5, 1.0),\n",
       " (-1, 0.0, -1),\n",
       " (-1, 0.0, -0.5),\n",
       " (-1, 0.0, 0.0),\n",
       " (-1, 0.0, 0.5),\n",
       " (-1, 0.0, 1.0),\n",
       " (-1, 0.5, -1),\n",
       " (-1, 0.5, -0.5),\n",
       " (-1, 0.5, 0.0),\n",
       " (-1, 0.5, 0.5),\n",
       " (-1, 0.5, 1.0),\n",
       " (-1, 1.0, -1),\n",
       " (-1, 1.0, -0.5),\n",
       " (-1, 1.0, 0.0),\n",
       " (-1, 1.0, 0.5),\n",
       " (-1, 1.0, 1.0),\n",
       " (-0.5, -1, -1),\n",
       " (-0.5, -1, -0.5),\n",
       " (-0.5, -1, 0.0),\n",
       " (-0.5, -1, 0.5),\n",
       " (-0.5, -1, 1.0),\n",
       " (-0.5, -0.5, -1),\n",
       " (-0.5, -0.5, -0.5),\n",
       " (-0.5, -0.5, 0.0),\n",
       " (-0.5, -0.5, 0.5),\n",
       " (-0.5, -0.5, 1.0),\n",
       " (-0.5, 0.0, -1),\n",
       " (-0.5, 0.0, -0.5),\n",
       " (-0.5, 0.0, 0.0),\n",
       " (-0.5, 0.0, 0.5),\n",
       " (-0.5, 0.0, 1.0),\n",
       " (-0.5, 0.5, -1),\n",
       " (-0.5, 0.5, -0.5),\n",
       " (-0.5, 0.5, 0.0),\n",
       " (-0.5, 0.5, 0.5),\n",
       " (-0.5, 0.5, 1.0),\n",
       " (-0.5, 1.0, -1),\n",
       " (-0.5, 1.0, -0.5),\n",
       " (-0.5, 1.0, 0.0),\n",
       " (-0.5, 1.0, 0.5),\n",
       " (-0.5, 1.0, 1.0),\n",
       " (0.0, -1, -1),\n",
       " (0.0, -1, -0.5),\n",
       " (0.0, -1, 0.0),\n",
       " (0.0, -1, 0.5),\n",
       " (0.0, -1, 1.0),\n",
       " (0.0, -0.5, -1),\n",
       " (0.0, -0.5, -0.5),\n",
       " (0.0, -0.5, 0.0),\n",
       " (0.0, -0.5, 0.5),\n",
       " (0.0, -0.5, 1.0),\n",
       " (0.0, 0.0, -1),\n",
       " (0.0, 0.0, -0.5),\n",
       " (0.0, 0.0, 0.0),\n",
       " (0.0, 0.0, 0.5),\n",
       " (0.0, 0.0, 1.0),\n",
       " (0.0, 0.5, -1),\n",
       " (0.0, 0.5, -0.5),\n",
       " (0.0, 0.5, 0.0),\n",
       " (0.0, 0.5, 0.5),\n",
       " (0.0, 0.5, 1.0),\n",
       " (0.0, 1.0, -1),\n",
       " (0.0, 1.0, -0.5),\n",
       " (0.0, 1.0, 0.0),\n",
       " (0.0, 1.0, 0.5),\n",
       " (0.0, 1.0, 1.0),\n",
       " (0.5, -1, -1),\n",
       " (0.5, -1, -0.5),\n",
       " (0.5, -1, 0.0),\n",
       " (0.5, -1, 0.5),\n",
       " (0.5, -1, 1.0),\n",
       " (0.5, -0.5, -1),\n",
       " (0.5, -0.5, -0.5),\n",
       " (0.5, -0.5, 0.0),\n",
       " (0.5, -0.5, 0.5),\n",
       " (0.5, -0.5, 1.0),\n",
       " (0.5, 0.0, -1),\n",
       " (0.5, 0.0, -0.5),\n",
       " (0.5, 0.0, 0.0),\n",
       " (0.5, 0.0, 0.5),\n",
       " (0.5, 0.0, 1.0),\n",
       " (0.5, 0.5, -1),\n",
       " (0.5, 0.5, -0.5),\n",
       " (0.5, 0.5, 0.0),\n",
       " (0.5, 0.5, 0.5),\n",
       " (0.5, 0.5, 1.0),\n",
       " (0.5, 1.0, -1),\n",
       " (0.5, 1.0, -0.5),\n",
       " (0.5, 1.0, 0.0),\n",
       " (0.5, 1.0, 0.5),\n",
       " (0.5, 1.0, 1.0),\n",
       " (1.0, -1, -1),\n",
       " (1.0, -1, -0.5),\n",
       " (1.0, -1, 0.0),\n",
       " (1.0, -1, 0.5),\n",
       " (1.0, -1, 1.0),\n",
       " (1.0, -0.5, -1),\n",
       " (1.0, -0.5, -0.5),\n",
       " (1.0, -0.5, 0.0),\n",
       " (1.0, -0.5, 0.5),\n",
       " (1.0, -0.5, 1.0),\n",
       " (1.0, 0.0, -1),\n",
       " (1.0, 0.0, -0.5),\n",
       " (1.0, 0.0, 0.0),\n",
       " (1.0, 0.0, 0.5),\n",
       " (1.0, 0.0, 1.0),\n",
       " (1.0, 0.5, -1),\n",
       " (1.0, 0.5, -0.5),\n",
       " (1.0, 0.5, 0.0),\n",
       " (1.0, 0.5, 0.5),\n",
       " (1.0, 0.5, 1.0),\n",
       " (1.0, 1.0, -1),\n",
       " (1.0, 1.0, -0.5),\n",
       " (1.0, 1.0, 0.0),\n",
       " (1.0, 1.0, 0.5),\n",
       " (1.0, 1.0, 1.0)]"
      ]
     },
     "execution_count": 38,
     "metadata": {},
     "output_type": "execute_result"
    }
   ],
   "source": [
    "list(grid(-1,1,0.5,num_dimensions = 3))"
   ]
  },
  {
   "cell_type": "code",
   "execution_count": 40,
   "metadata": {},
   "outputs": [
    {
     "name": "stdout",
     "output_type": "stream",
     "text": [
      "[(1, 1), (1, 2), (1, 3), (1, 4), (1, 5), (1, 6), (2, 1), (2, 2), (2, 3), (2, 4), (2, 5), (2, 6), (3, 1), (3, 2), (3, 3), (3, 4), (3, 5), (3, 6), (4, 1), (4, 2), (4, 3), (4, 4), (4, 5), (4, 6), (5, 1), (5, 2), (5, 3), (5, 4), (5, 5), (5, 6), (6, 1), (6, 2), (6, 3), (6, 4), (6, 5), (6, 6)]\n"
     ]
    }
   ],
   "source": [
    "sample_space = list(itertools.product(range(1,7),range(1,7)))\n",
    "print(sample_space)"
   ]
  },
  {
   "cell_type": "code",
   "execution_count": 44,
   "metadata": {},
   "outputs": [
    {
     "data": {
      "text/plain": [
       "[(2, 6), (3, 5), (4, 4), (5, 3), (6, 2)]"
      ]
     },
     "execution_count": 44,
     "metadata": {},
     "output_type": "execute_result"
    }
   ],
   "source": [
    "outcomes = list(filter(lambda x : x[0] + x[1] ==8,sample_space))\n",
    "outcomes"
   ]
  },
  {
   "cell_type": "code",
   "execution_count": 46,
   "metadata": {},
   "outputs": [
    {
     "data": {
      "text/plain": [
       "5"
      ]
     },
     "execution_count": 46,
     "metadata": {},
     "output_type": "execute_result"
    }
   ],
   "source": [
    "len(outcomes)"
   ]
  },
  {
   "cell_type": "code",
   "execution_count": 47,
   "metadata": {},
   "outputs": [
    {
     "data": {
      "text/plain": [
       "0.1388888888888889"
      ]
     },
     "execution_count": 47,
     "metadata": {},
     "output_type": "execute_result"
    }
   ],
   "source": [
    "len(outcomes)/len(sample_space)"
   ]
  },
  {
   "cell_type": "code",
   "execution_count": 49,
   "metadata": {},
   "outputs": [],
   "source": [
    "from fractions import Fraction"
   ]
  },
  {
   "cell_type": "code",
   "execution_count": 50,
   "metadata": {},
   "outputs": [],
   "source": [
    "odds = Fraction(len(outcomes),len(sample_space))"
   ]
  },
  {
   "cell_type": "code",
   "execution_count": 51,
   "metadata": {},
   "outputs": [
    {
     "data": {
      "text/plain": [
       "Fraction(5, 36)"
      ]
     },
     "execution_count": 51,
     "metadata": {},
     "output_type": "execute_result"
    }
   ],
   "source": [
    "odds"
   ]
  },
  {
   "cell_type": "code",
   "execution_count": 52,
   "metadata": {},
   "outputs": [
    {
     "data": {
      "text/plain": [
       "[('a', 'b', 'c'),\n",
       " ('a', 'c', 'b'),\n",
       " ('b', 'a', 'c'),\n",
       " ('b', 'c', 'a'),\n",
       " ('c', 'a', 'b'),\n",
       " ('c', 'b', 'a')]"
      ]
     },
     "execution_count": 52,
     "metadata": {},
     "output_type": "execute_result"
    }
   ],
   "source": [
    "l1 = 'abc'\n",
    "list(itertools.permutations(l1))"
   ]
  },
  {
   "cell_type": "code",
   "execution_count": 54,
   "metadata": {},
   "outputs": [
    {
     "data": {
      "text/plain": [
       "[('a', 'b'), ('a', 'c'), ('b', 'a'), ('b', 'c'), ('c', 'a'), ('c', 'b')]"
      ]
     },
     "execution_count": 54,
     "metadata": {},
     "output_type": "execute_result"
    }
   ],
   "source": [
    "list(itertools.permutations(l1,2))"
   ]
  },
  {
   "cell_type": "code",
   "execution_count": 56,
   "metadata": {},
   "outputs": [
    {
     "data": {
      "text/plain": [
       "[('a', 'b', 'c', 'a'),\n",
       " ('a', 'b', 'a', 'c'),\n",
       " ('a', 'c', 'b', 'a'),\n",
       " ('a', 'c', 'a', 'b'),\n",
       " ('a', 'a', 'b', 'c'),\n",
       " ('a', 'a', 'c', 'b'),\n",
       " ('b', 'a', 'c', 'a'),\n",
       " ('b', 'a', 'a', 'c'),\n",
       " ('b', 'c', 'a', 'a'),\n",
       " ('b', 'c', 'a', 'a'),\n",
       " ('b', 'a', 'a', 'c'),\n",
       " ('b', 'a', 'c', 'a'),\n",
       " ('c', 'a', 'b', 'a'),\n",
       " ('c', 'a', 'a', 'b'),\n",
       " ('c', 'b', 'a', 'a'),\n",
       " ('c', 'b', 'a', 'a'),\n",
       " ('c', 'a', 'a', 'b'),\n",
       " ('c', 'a', 'b', 'a'),\n",
       " ('a', 'a', 'b', 'c'),\n",
       " ('a', 'a', 'c', 'b'),\n",
       " ('a', 'b', 'a', 'c'),\n",
       " ('a', 'b', 'c', 'a'),\n",
       " ('a', 'c', 'a', 'b'),\n",
       " ('a', 'c', 'b', 'a')]"
      ]
     },
     "execution_count": 56,
     "metadata": {},
     "output_type": "execute_result"
    }
   ],
   "source": [
    "l1='abca'\n",
    "list(itertools.permutations(l1))"
   ]
  },
  {
   "cell_type": "code",
   "execution_count": 58,
   "metadata": {},
   "outputs": [
    {
     "data": {
      "text/plain": [
       "[(1, 2), (1, 3), (1, 4), (2, 3), (2, 4), (3, 4)]"
      ]
     },
     "execution_count": 58,
     "metadata": {},
     "output_type": "execute_result"
    }
   ],
   "source": [
    "list(itertools.combinations([1,2,3,4],2)) # order doesnt matter in combinations"
   ]
  },
  {
   "cell_type": "code",
   "execution_count": 60,
   "metadata": {},
   "outputs": [
    {
     "data": {
      "text/plain": [
       "[(4, 3), (4, 2), (4, 1), (3, 2), (3, 1), (2, 1)]"
      ]
     },
     "execution_count": 60,
     "metadata": {},
     "output_type": "execute_result"
    }
   ],
   "source": [
    "list(itertools.combinations([4,3,2,1],2))"
   ]
  },
  {
   "cell_type": "code",
   "execution_count": 64,
   "metadata": {},
   "outputs": [
    {
     "data": {
      "text/plain": [
       "[(1, 1),\n",
       " (1, 2),\n",
       " (1, 3),\n",
       " (1, 4),\n",
       " (2, 2),\n",
       " (2, 3),\n",
       " (2, 4),\n",
       " (3, 3),\n",
       " (3, 4),\n",
       " (4, 4)]"
      ]
     },
     "execution_count": 64,
     "metadata": {},
     "output_type": "execute_result"
    }
   ],
   "source": [
    "list(itertools.combinations_with_replacement([1,2,3,4],2))  # allow same number"
   ]
  },
  {
   "cell_type": "code",
   "execution_count": 65,
   "metadata": {},
   "outputs": [],
   "source": [
    "SUITS = 'SHDC'\n",
    "RANKS = tuple(map(str,range(2,11)))+tuple('JQKA')"
   ]
  },
  {
   "cell_type": "code",
   "execution_count": 66,
   "metadata": {},
   "outputs": [
    {
     "data": {
      "text/plain": [
       "('2', '3', '4', '5', '6', '7', '8', '9', '10', 'J', 'Q', 'K', 'A')"
      ]
     },
     "execution_count": 66,
     "metadata": {},
     "output_type": "execute_result"
    }
   ],
   "source": [
    "RANKS"
   ]
  },
  {
   "cell_type": "code",
   "execution_count": 68,
   "metadata": {},
   "outputs": [
    {
     "data": {
      "text/plain": [
       "'SHDC'"
      ]
     },
     "execution_count": 68,
     "metadata": {},
     "output_type": "execute_result"
    }
   ],
   "source": [
    "SUITS"
   ]
  },
  {
   "cell_type": "code",
   "execution_count": 69,
   "metadata": {},
   "outputs": [],
   "source": [
    "dec = [rank + suit for suit in SUITS for rank in RANKS]"
   ]
  },
  {
   "cell_type": "code",
   "execution_count": 72,
   "metadata": {},
   "outputs": [
    {
     "data": {
      "text/plain": [
       "['2S', '3S', '4S', '5S', '6S']"
      ]
     },
     "execution_count": 72,
     "metadata": {},
     "output_type": "execute_result"
    }
   ],
   "source": [
    "dec[0:5]"
   ]
  },
  {
   "cell_type": "code",
   "execution_count": 73,
   "metadata": {},
   "outputs": [
    {
     "data": {
      "text/plain": [
       "[('S', '2'),\n",
       " ('S', '3'),\n",
       " ('S', '4'),\n",
       " ('S', '5'),\n",
       " ('S', '6'),\n",
       " ('S', '7'),\n",
       " ('S', '8'),\n",
       " ('S', '9'),\n",
       " ('S', '10'),\n",
       " ('S', 'J'),\n",
       " ('S', 'Q'),\n",
       " ('S', 'K'),\n",
       " ('S', 'A'),\n",
       " ('H', '2'),\n",
       " ('H', '3'),\n",
       " ('H', '4'),\n",
       " ('H', '5'),\n",
       " ('H', '6'),\n",
       " ('H', '7'),\n",
       " ('H', '8'),\n",
       " ('H', '9'),\n",
       " ('H', '10'),\n",
       " ('H', 'J'),\n",
       " ('H', 'Q'),\n",
       " ('H', 'K'),\n",
       " ('H', 'A'),\n",
       " ('D', '2'),\n",
       " ('D', '3'),\n",
       " ('D', '4'),\n",
       " ('D', '5'),\n",
       " ('D', '6'),\n",
       " ('D', '7'),\n",
       " ('D', '8'),\n",
       " ('D', '9'),\n",
       " ('D', '10'),\n",
       " ('D', 'J'),\n",
       " ('D', 'Q'),\n",
       " ('D', 'K'),\n",
       " ('D', 'A'),\n",
       " ('C', '2'),\n",
       " ('C', '3'),\n",
       " ('C', '4'),\n",
       " ('C', '5'),\n",
       " ('C', '6'),\n",
       " ('C', '7'),\n",
       " ('C', '8'),\n",
       " ('C', '9'),\n",
       " ('C', '10'),\n",
       " ('C', 'J'),\n",
       " ('C', 'Q'),\n",
       " ('C', 'K'),\n",
       " ('C', 'A')]"
      ]
     },
     "execution_count": 73,
     "metadata": {},
     "output_type": "execute_result"
    }
   ],
   "source": [
    "list(itertools.product(SUITS,RANKS))"
   ]
  },
  {
   "cell_type": "code",
   "execution_count": 74,
   "metadata": {},
   "outputs": [],
   "source": [
    "deck = [rank + suit for suit,rank in itertools.product(SUITS,RANKS)]"
   ]
  },
  {
   "cell_type": "code",
   "execution_count": 76,
   "metadata": {},
   "outputs": [
    {
     "data": {
      "text/plain": [
       "['2S', '3S', '4S', '5S', '6S']"
      ]
     },
     "execution_count": 76,
     "metadata": {},
     "output_type": "execute_result"
    }
   ],
   "source": [
    "deck[0:5]"
   ]
  },
  {
   "cell_type": "code",
   "execution_count": 77,
   "metadata": {},
   "outputs": [],
   "source": [
    "from collections import namedtuple\n",
    "Card = namedtuple('Card','rank suit')"
   ]
  },
  {
   "cell_type": "code",
   "execution_count": 78,
   "metadata": {},
   "outputs": [],
   "source": [
    "deck = [Card(rank,suit)\n",
    "       for suit,rank in itertools.product(SUITS,RANKS)]"
   ]
  },
  {
   "cell_type": "code",
   "execution_count": 80,
   "metadata": {},
   "outputs": [
    {
     "data": {
      "text/plain": [
       "[Card(rank='2', suit='S'),\n",
       " Card(rank='3', suit='S'),\n",
       " Card(rank='4', suit='S'),\n",
       " Card(rank='5', suit='S'),\n",
       " Card(rank='6', suit='S')]"
      ]
     },
     "execution_count": 80,
     "metadata": {},
     "output_type": "execute_result"
    }
   ],
   "source": [
    "deck[0:5]"
   ]
  },
  {
   "cell_type": "code",
   "execution_count": 81,
   "metadata": {},
   "outputs": [],
   "source": [
    "deck = [Card(rank,suit)\n",
    "       for suit,rank in itertools.product(SUITS,RANKS)]"
   ]
  },
  {
   "cell_type": "code",
   "execution_count": 82,
   "metadata": {},
   "outputs": [],
   "source": [
    "sample_space  = itertools.combinations(deck,4)"
   ]
  },
  {
   "cell_type": "code",
   "execution_count": 86,
   "metadata": {},
   "outputs": [
    {
     "name": "stdout",
     "output_type": "stream",
     "text": [
      "total = 270725,acceptable = 1\n",
      "odds = 1/270725\n",
      "odds = 0.0000036938\n"
     ]
    }
   ],
   "source": [
    "deck = [Card(rank,suit)\n",
    "       for suit,rank in itertools.product(SUITS,RANKS)]\n",
    "\n",
    "sample_space = itertools.combinations(deck,4)\n",
    "total = 0\n",
    "acceptable = 0\n",
    "for outcome in sample_space:\n",
    "    total+=1\n",
    "    for card in outcome:\n",
    "        if card.rank != 'A':\n",
    "            break\n",
    "    else: # nobreak:\n",
    "        acceptable += 1\n",
    "        \n",
    "print(f'total = {total},acceptable = {acceptable}')\n",
    "print('odds = {}'.format(Fraction(acceptable,total)))\n",
    "print('odds = {:.10f}'.format(acceptable/total))"
   ]
  },
  {
   "cell_type": "code",
   "execution_count": 87,
   "metadata": {},
   "outputs": [
    {
     "name": "stdout",
     "output_type": "stream",
     "text": [
      "total = 270725,acceptable = 1\n",
      "odds = 1/270725\n",
      "odds = 0.0000036938\n"
     ]
    }
   ],
   "source": [
    "deck = [Card(rank,suit)\n",
    "       for suit,rank in itertools.product(SUITS,RANKS)]\n",
    "\n",
    "sample_space = itertools.combinations(deck,4)\n",
    "total = 0\n",
    "acceptable = 0\n",
    "for outcome in sample_space:\n",
    "    total+=1\n",
    "    if all(map(lambda x :x.rank =='A',outcome)):\n",
    "        acceptable += 1\n",
    "        \n",
    "print(f'total = {total},acceptable = {acceptable}')\n",
    "print('odds = {}'.format(Fraction(acceptable,total)))\n",
    "print('odds = {:.10f}'.format(acceptable/total))"
   ]
  }
 ],
 "metadata": {
  "kernelspec": {
   "display_name": "Python 3",
   "language": "python",
   "name": "python3"
  },
  "language_info": {
   "codemirror_mode": {
    "name": "ipython",
    "version": 3
   },
   "file_extension": ".py",
   "mimetype": "text/x-python",
   "name": "python",
   "nbconvert_exporter": "python",
   "pygments_lexer": "ipython3",
   "version": "3.6.0"
  }
 },
 "nbformat": 4,
 "nbformat_minor": 4
}
