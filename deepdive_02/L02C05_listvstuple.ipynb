{
 "cells": [
  {
   "cell_type": "code",
   "execution_count": 1,
   "metadata": {},
   "outputs": [],
   "source": [
    "from timeit import timeit"
   ]
  },
  {
   "cell_type": "code",
   "execution_count": 2,
   "metadata": {},
   "outputs": [
    {
     "data": {
      "text/plain": [
       "0.18530479702167213"
      ]
     },
     "execution_count": 2,
     "metadata": {},
     "output_type": "execute_result"
    }
   ],
   "source": [
    "timeit(\"(1,2,3,4,5,6,7,8,9)\",number = 10_000_000)"
   ]
  },
  {
   "cell_type": "code",
   "execution_count": 4,
   "metadata": {},
   "outputs": [
    {
     "data": {
      "text/plain": [
       "0.9474481020006351"
      ]
     },
     "execution_count": 4,
     "metadata": {},
     "output_type": "execute_result"
    }
   ],
   "source": [
    "timeit(\"[1,2,3,4,5,6,7,8,9]\",number = 10_000_000)"
   ]
  },
  {
   "cell_type": "code",
   "execution_count": 9,
   "metadata": {},
   "outputs": [],
   "source": [
    "def fn1():\n",
    "    pass"
   ]
  },
  {
   "cell_type": "code",
   "execution_count": 12,
   "metadata": {},
   "outputs": [
    {
     "name": "stdout",
     "output_type": "stream",
     "text": [
      "  1           0 LOAD_NAME                0 (fn1)\n",
      "              2 LOAD_CONST               0 (10)\n",
      "              4 LOAD_CONST               1 (20)\n",
      "              6 BUILD_TUPLE              3\n",
      "              8 RETURN_VALUE\n"
     ]
    }
   ],
   "source": [
    "from dis import dis\n",
    "dis(compile('(fn1,10,20)','string','eval'))"
   ]
  },
  {
   "cell_type": "code",
   "execution_count": 14,
   "metadata": {},
   "outputs": [
    {
     "name": "stdout",
     "output_type": "stream",
     "text": [
      "  1           0 LOAD_CONST               0 (1)\n",
      "              2 LOAD_CONST               1 (2)\n",
      "              4 LOAD_CONST               2 (3)\n",
      "              6 LOAD_CONST               3 (10)\n",
      "              8 LOAD_CONST               4 (20)\n",
      "             10 BUILD_LIST               2\n",
      "             12 BUILD_TUPLE              4\n",
      "             14 RETURN_VALUE\n"
     ]
    }
   ],
   "source": [
    "dis(compile('(1,2,3,[10,20])','string','eval'))"
   ]
  },
  {
   "cell_type": "code",
   "execution_count": 16,
   "metadata": {
    "scrolled": true
   },
   "outputs": [
    {
     "data": {
      "text/plain": [
       "0.09266219503479078"
      ]
     },
     "execution_count": 16,
     "metadata": {},
     "output_type": "execute_result"
    }
   ],
   "source": [
    "timeit(\"([1,2],10,20)\",number=1_000_000)"
   ]
  },
  {
   "cell_type": "code",
   "execution_count": 18,
   "metadata": {},
   "outputs": [
    {
     "data": {
      "text/plain": [
       "0.11372099700383842"
      ]
     },
     "execution_count": 18,
     "metadata": {},
     "output_type": "execute_result"
    }
   ],
   "source": [
    "timeit(\"[[1,2],10,20]\",number=1_000_000)"
   ]
  },
  {
   "cell_type": "code",
   "execution_count": 19,
   "metadata": {},
   "outputs": [],
   "source": [
    "l1 = [1,2,3,4,5,6,7,8,9]\n",
    "t1 = (1,2,3,4,5,6,7,8,9)\n"
   ]
  },
  {
   "cell_type": "code",
   "execution_count": 23,
   "metadata": {},
   "outputs": [
    {
     "data": {
      "text/plain": [
       "(4578294024, 4574366408)"
      ]
     },
     "execution_count": 23,
     "metadata": {},
     "output_type": "execute_result"
    }
   ],
   "source": [
    "id(l1),id(t1)"
   ]
  },
  {
   "cell_type": "code",
   "execution_count": 25,
   "metadata": {},
   "outputs": [
    {
     "data": {
      "text/plain": [
       "(4578294024, 4578124104)"
      ]
     },
     "execution_count": 25,
     "metadata": {},
     "output_type": "execute_result"
    }
   ],
   "source": [
    "l2 = list(l1)\n",
    "id(l1),id(l2)"
   ]
  },
  {
   "cell_type": "code",
   "execution_count": 27,
   "metadata": {},
   "outputs": [
    {
     "data": {
      "text/plain": [
       "(4574366408, 4574366408)"
      ]
     },
     "execution_count": 27,
     "metadata": {},
     "output_type": "execute_result"
    }
   ],
   "source": [
    "t2=tuple(t1)\n",
    "id(t1),id(t2)"
   ]
  },
  {
   "cell_type": "code",
   "execution_count": 30,
   "metadata": {},
   "outputs": [
    {
     "data": {
      "text/plain": [
       "0.6632773149758577"
      ]
     },
     "execution_count": 30,
     "metadata": {},
     "output_type": "execute_result"
    }
   ],
   "source": [
    "timeit('tuple((1,2,3,4,5))',number = 5_000_000)"
   ]
  },
  {
   "cell_type": "code",
   "execution_count": 32,
   "metadata": {},
   "outputs": [
    {
     "data": {
      "text/plain": [
       "1.0940138289588504"
      ]
     },
     "execution_count": 32,
     "metadata": {},
     "output_type": "execute_result"
    }
   ],
   "source": [
    "timeit('list((1,2,3,4,5))',number = 5_000_000)"
   ]
  },
  {
   "cell_type": "code",
   "execution_count": 37,
   "metadata": {},
   "outputs": [
    {
     "name": "stdout",
     "output_type": "stream",
     "text": [
      "1 items:56,delta = 8\n",
      "2 items:64,delta = 8\n",
      "3 items:72,delta = 8\n",
      "4 items:80,delta = 8\n",
      "5 items:88,delta = 8\n",
      "6 items:96,delta = 8\n",
      "7 items:104,delta = 8\n",
      "8 items:112,delta = 8\n",
      "9 items:120,delta = 8\n",
      "10 items:128,delta = 8\n"
     ]
    }
   ],
   "source": [
    "import sys\n",
    "t = tuple()\n",
    "prev = sys.getsizeof(t)\n",
    "for i in range(10):\n",
    "    c = tuple(range(i+1))\n",
    "    size_c = sys.getsizeof(c)\n",
    "    delta,prev = size_c - prev,size_c\n",
    "    print(f'{i+1} items:{size_c},delta = {delta}')"
   ]
  },
  {
   "cell_type": "code",
   "execution_count": 39,
   "metadata": {},
   "outputs": [
    {
     "name": "stdout",
     "output_type": "stream",
     "text": [
      "1 items:96,delta = 32\n",
      "2 items:104,delta = 8\n",
      "3 items:112,delta = 8\n",
      "4 items:120,delta = 8\n",
      "5 items:128,delta = 8\n",
      "6 items:136,delta = 8\n",
      "7 items:144,delta = 8\n",
      "8 items:160,delta = 16\n",
      "9 items:192,delta = 32\n",
      "10 items:200,delta = 8\n"
     ]
    }
   ],
   "source": [
    "l = list()\n",
    "prev = sys.getsizeof(l)\n",
    "for i in range(10):\n",
    "    c = list(range(i+1))\n",
    "    size_c = sys.getsizeof(c)\n",
    "    delta,prev = size_c - prev,size_c\n",
    "    print(f'{i+1} items:{size_c},delta = {delta}')"
   ]
  },
  {
   "cell_type": "code",
   "execution_count": 43,
   "metadata": {},
   "outputs": [
    {
     "name": "stdout",
     "output_type": "stream",
     "text": [
      "0 items : 64\n",
      "1 items:200,delta = 136\n",
      "2 items:200,delta = 0\n",
      "3 items:200,delta = 0\n",
      "4 items:200,delta = 0\n",
      "5 items:200,delta = 0\n",
      "6 items:200,delta = 0\n",
      "7 items:200,delta = 0\n",
      "8 items:200,delta = 0\n",
      "9 items:200,delta = 0\n",
      "10 items:200,delta = 0\n",
      "11 items:200,delta = 0\n",
      "12 items:200,delta = 0\n",
      "13 items:200,delta = 0\n",
      "14 items:200,delta = 0\n",
      "15 items:200,delta = 0\n",
      "16 items:200,delta = 0\n",
      "17 items:200,delta = 0\n",
      "18 items:200,delta = 0\n",
      "19 items:200,delta = 0\n",
      "20 items:200,delta = 0\n",
      "21 items:200,delta = 0\n",
      "22 items:200,delta = 0\n",
      "23 items:200,delta = 0\n",
      "24 items:200,delta = 0\n",
      "25 items:200,delta = 0\n",
      "26 items:200,delta = 0\n",
      "27 items:200,delta = 0\n",
      "28 items:200,delta = 0\n",
      "29 items:200,delta = 0\n",
      "30 items:200,delta = 0\n",
      "31 items:200,delta = 0\n",
      "32 items:200,delta = 0\n",
      "33 items:200,delta = 0\n",
      "34 items:200,delta = 0\n",
      "35 items:200,delta = 0\n",
      "36 items:200,delta = 0\n",
      "37 items:200,delta = 0\n",
      "38 items:200,delta = 0\n",
      "39 items:200,delta = 0\n",
      "40 items:200,delta = 0\n",
      "41 items:200,delta = 0\n",
      "42 items:200,delta = 0\n",
      "43 items:200,delta = 0\n",
      "44 items:200,delta = 0\n",
      "45 items:200,delta = 0\n",
      "46 items:200,delta = 0\n",
      "47 items:200,delta = 0\n",
      "48 items:200,delta = 0\n",
      "49 items:200,delta = 0\n",
      "50 items:200,delta = 0\n",
      "51 items:200,delta = 0\n",
      "52 items:200,delta = 0\n",
      "53 items:200,delta = 0\n",
      "54 items:200,delta = 0\n",
      "55 items:200,delta = 0\n",
      "56 items:200,delta = 0\n",
      "57 items:200,delta = 0\n",
      "58 items:200,delta = 0\n",
      "59 items:200,delta = 0\n",
      "60 items:200,delta = 0\n",
      "61 items:200,delta = 0\n",
      "62 items:200,delta = 0\n",
      "63 items:200,delta = 0\n",
      "64 items:200,delta = 0\n",
      "65 items:200,delta = 0\n",
      "66 items:200,delta = 0\n",
      "67 items:200,delta = 0\n",
      "68 items:200,delta = 0\n",
      "69 items:200,delta = 0\n",
      "70 items:200,delta = 0\n",
      "71 items:200,delta = 0\n",
      "72 items:200,delta = 0\n",
      "73 items:200,delta = 0\n",
      "74 items:200,delta = 0\n",
      "75 items:200,delta = 0\n",
      "76 items:200,delta = 0\n",
      "77 items:200,delta = 0\n",
      "78 items:200,delta = 0\n",
      "79 items:200,delta = 0\n",
      "80 items:200,delta = 0\n",
      "81 items:200,delta = 0\n",
      "82 items:200,delta = 0\n",
      "83 items:200,delta = 0\n",
      "84 items:200,delta = 0\n",
      "85 items:200,delta = 0\n",
      "86 items:200,delta = 0\n",
      "87 items:200,delta = 0\n",
      "88 items:200,delta = 0\n",
      "89 items:200,delta = 0\n",
      "90 items:200,delta = 0\n",
      "91 items:200,delta = 0\n",
      "92 items:200,delta = 0\n",
      "93 items:200,delta = 0\n",
      "94 items:200,delta = 0\n",
      "95 items:200,delta = 0\n",
      "96 items:200,delta = 0\n",
      "97 items:200,delta = 0\n",
      "98 items:200,delta = 0\n",
      "99 items:200,delta = 0\n",
      "100 items:200,delta = 0\n",
      "101 items:200,delta = 0\n",
      "102 items:200,delta = 0\n",
      "103 items:200,delta = 0\n",
      "104 items:200,delta = 0\n",
      "105 items:200,delta = 0\n",
      "106 items:200,delta = 0\n",
      "107 items:200,delta = 0\n",
      "108 items:200,delta = 0\n",
      "109 items:200,delta = 0\n",
      "110 items:200,delta = 0\n",
      "111 items:200,delta = 0\n",
      "112 items:200,delta = 0\n",
      "113 items:200,delta = 0\n",
      "114 items:200,delta = 0\n",
      "115 items:200,delta = 0\n",
      "116 items:200,delta = 0\n",
      "117 items:200,delta = 0\n",
      "118 items:200,delta = 0\n",
      "119 items:200,delta = 0\n",
      "120 items:200,delta = 0\n",
      "121 items:200,delta = 0\n",
      "122 items:200,delta = 0\n",
      "123 items:200,delta = 0\n",
      "124 items:200,delta = 0\n",
      "125 items:200,delta = 0\n",
      "126 items:200,delta = 0\n",
      "127 items:200,delta = 0\n",
      "128 items:200,delta = 0\n",
      "129 items:200,delta = 0\n",
      "130 items:200,delta = 0\n",
      "131 items:200,delta = 0\n",
      "132 items:200,delta = 0\n",
      "133 items:200,delta = 0\n",
      "134 items:200,delta = 0\n",
      "135 items:200,delta = 0\n",
      "136 items:200,delta = 0\n",
      "137 items:200,delta = 0\n",
      "138 items:200,delta = 0\n",
      "139 items:200,delta = 0\n",
      "140 items:200,delta = 0\n",
      "141 items:200,delta = 0\n",
      "142 items:200,delta = 0\n",
      "143 items:200,delta = 0\n",
      "144 items:200,delta = 0\n",
      "145 items:200,delta = 0\n",
      "146 items:200,delta = 0\n",
      "147 items:200,delta = 0\n",
      "148 items:200,delta = 0\n",
      "149 items:200,delta = 0\n",
      "150 items:200,delta = 0\n",
      "151 items:200,delta = 0\n",
      "152 items:200,delta = 0\n",
      "153 items:200,delta = 0\n",
      "154 items:200,delta = 0\n",
      "155 items:200,delta = 0\n",
      "156 items:200,delta = 0\n",
      "157 items:200,delta = 0\n",
      "158 items:200,delta = 0\n",
      "159 items:200,delta = 0\n",
      "160 items:200,delta = 0\n",
      "161 items:200,delta = 0\n",
      "162 items:200,delta = 0\n",
      "163 items:200,delta = 0\n",
      "164 items:200,delta = 0\n",
      "165 items:200,delta = 0\n",
      "166 items:200,delta = 0\n",
      "167 items:200,delta = 0\n",
      "168 items:200,delta = 0\n",
      "169 items:200,delta = 0\n",
      "170 items:200,delta = 0\n",
      "171 items:200,delta = 0\n",
      "172 items:200,delta = 0\n",
      "173 items:200,delta = 0\n",
      "174 items:200,delta = 0\n",
      "175 items:200,delta = 0\n",
      "176 items:200,delta = 0\n",
      "177 items:200,delta = 0\n",
      "178 items:200,delta = 0\n",
      "179 items:200,delta = 0\n",
      "180 items:200,delta = 0\n",
      "181 items:200,delta = 0\n",
      "182 items:200,delta = 0\n",
      "183 items:200,delta = 0\n",
      "184 items:200,delta = 0\n",
      "185 items:200,delta = 0\n",
      "186 items:200,delta = 0\n",
      "187 items:200,delta = 0\n",
      "188 items:200,delta = 0\n",
      "189 items:200,delta = 0\n",
      "190 items:200,delta = 0\n",
      "191 items:200,delta = 0\n",
      "192 items:200,delta = 0\n",
      "193 items:200,delta = 0\n",
      "194 items:200,delta = 0\n",
      "195 items:200,delta = 0\n",
      "196 items:200,delta = 0\n",
      "197 items:200,delta = 0\n",
      "198 items:200,delta = 0\n",
      "199 items:200,delta = 0\n",
      "200 items:200,delta = 0\n",
      "201 items:200,delta = 0\n",
      "202 items:200,delta = 0\n",
      "203 items:200,delta = 0\n",
      "204 items:200,delta = 0\n",
      "205 items:200,delta = 0\n",
      "206 items:200,delta = 0\n",
      "207 items:200,delta = 0\n",
      "208 items:200,delta = 0\n",
      "209 items:200,delta = 0\n",
      "210 items:200,delta = 0\n",
      "211 items:200,delta = 0\n",
      "212 items:200,delta = 0\n",
      "213 items:200,delta = 0\n",
      "214 items:200,delta = 0\n",
      "215 items:200,delta = 0\n",
      "216 items:200,delta = 0\n",
      "217 items:200,delta = 0\n",
      "218 items:200,delta = 0\n",
      "219 items:200,delta = 0\n",
      "220 items:200,delta = 0\n",
      "221 items:200,delta = 0\n",
      "222 items:200,delta = 0\n",
      "223 items:200,delta = 0\n",
      "224 items:200,delta = 0\n",
      "225 items:200,delta = 0\n",
      "226 items:200,delta = 0\n",
      "227 items:200,delta = 0\n",
      "228 items:200,delta = 0\n",
      "229 items:200,delta = 0\n",
      "230 items:200,delta = 0\n",
      "231 items:200,delta = 0\n",
      "232 items:200,delta = 0\n",
      "233 items:200,delta = 0\n",
      "234 items:200,delta = 0\n",
      "235 items:200,delta = 0\n",
      "236 items:200,delta = 0\n",
      "237 items:200,delta = 0\n",
      "238 items:200,delta = 0\n",
      "239 items:200,delta = 0\n",
      "240 items:200,delta = 0\n",
      "241 items:200,delta = 0\n",
      "242 items:200,delta = 0\n",
      "243 items:200,delta = 0\n",
      "244 items:200,delta = 0\n",
      "245 items:200,delta = 0\n",
      "246 items:200,delta = 0\n",
      "247 items:200,delta = 0\n",
      "248 items:200,delta = 0\n",
      "249 items:200,delta = 0\n",
      "250 items:200,delta = 0\n",
      "251 items:200,delta = 0\n",
      "252 items:200,delta = 0\n",
      "253 items:200,delta = 0\n",
      "254 items:200,delta = 0\n",
      "255 items:200,delta = 0\n"
     ]
    }
   ],
   "source": [
    "l = list()\n",
    "prev = sys.getsizeof(l)\n",
    "print(f'0 items : {prev}')\n",
    "for i in range(255):\n",
    "    l.append(i)\n",
    "    size_c = sys.getsizeof(c)\n",
    "    delta,prev = size_c - prev,size_c\n",
    "    print(f'{i+1} items:{size_c},delta = {delta}')"
   ]
  },
  {
   "cell_type": "code",
   "execution_count": 45,
   "metadata": {},
   "outputs": [],
   "source": [
    "t = tuple(range(100_000))\n",
    "l = list(t)"
   ]
  },
  {
   "cell_type": "code",
   "execution_count": 47,
   "metadata": {
    "scrolled": true
   },
   "outputs": [
    {
     "data": {
      "text/plain": [
       "0.46464962599566206"
      ]
     },
     "execution_count": 47,
     "metadata": {},
     "output_type": "execute_result"
    }
   ],
   "source": [
    "timeit('t[99_999]',globals = globals(),number=10_000_000)\n"
   ]
  },
  {
   "cell_type": "code",
   "execution_count": 48,
   "metadata": {},
   "outputs": [
    {
     "data": {
      "text/plain": [
       "0.49244424799690023"
      ]
     },
     "execution_count": 48,
     "metadata": {},
     "output_type": "execute_result"
    }
   ],
   "source": [
    "timeit('l[99_999]',globals = globals(),number=10_000_000)"
   ]
  }
 ],
 "metadata": {
  "kernelspec": {
   "display_name": "Python 3",
   "language": "python",
   "name": "python3"
  },
  "language_info": {
   "codemirror_mode": {
    "name": "ipython",
    "version": 3
   },
   "file_extension": ".py",
   "mimetype": "text/x-python",
   "name": "python",
   "nbconvert_exporter": "python",
   "pygments_lexer": "ipython3",
   "version": "3.6.0"
  }
 },
 "nbformat": 4,
 "nbformat_minor": 4
}
