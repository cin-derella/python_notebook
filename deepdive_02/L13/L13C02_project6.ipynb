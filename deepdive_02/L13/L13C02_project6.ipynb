{
 "cells": [
  {
   "cell_type": "code",
   "execution_count": 1,
   "metadata": {},
   "outputs": [],
   "source": [
    "import csv\n",
    "\n",
    "def parse_data(f_name):\n",
    "    f = open(f_name)\n",
    "    try:\n",
    "        dialect = csv.Sniffer().sniff(f.read(2000))\n",
    "        f.seek(0)\n",
    "        next(f)\n",
    "        yield from csv.reader(f,dialect = dialect)\n",
    "    finally:\n",
    "        f.close()"
   ]
  },
  {
   "cell_type": "code",
   "execution_count": 2,
   "metadata": {},
   "outputs": [],
   "source": [
    "def coroutine(fn):\n",
    "    def inner(*arg,**kwargs):\n",
    "        g = fn(*arg,**kwargs)\n",
    "        next(g)\n",
    "        return g\n",
    "    return inner\n"
   ]
  },
  {
   "cell_type": "code",
   "execution_count": 3,
   "metadata": {},
   "outputs": [],
   "source": [
    "@coroutine\n",
    "def save_csv(f_name):\n",
    "    with open(f_name,'w',newline='') as f:\n",
    "        writer = csv.writer(f)\n",
    "        while True:\n",
    "            row = yield\n",
    "            writer.writerow(row)"
   ]
  },
  {
   "cell_type": "code",
   "execution_count": 4,
   "metadata": {},
   "outputs": [],
   "source": [
    "@coroutine\n",
    "def filter_data(filter_pred,target):\n",
    "    while True:\n",
    "        row = yield\n",
    "        if filter_pred(row):\n",
    "            target.send(row)\n",
    "            "
   ]
  },
  {
   "cell_type": "code",
   "execution_count": 5,
   "metadata": {},
   "outputs": [],
   "source": [
    "@coroutine\n",
    "def pipeline_coro(out_file,name_filters):\n",
    "    save = save_csv(out_file)\n",
    "    \n",
    "    \n",
    "    target = save\n",
    "    for name_filter in name_filters:\n",
    "        target = filter_data(lambda d ,v =name_filter:v in d[0],target)\n",
    "        \n",
    "    while True:\n",
    "        received = yield\n",
    "        target.send(received)\n",
    "        "
   ]
  },
  {
   "cell_type": "code",
   "execution_count": 6,
   "metadata": {},
   "outputs": [],
   "source": [
    "from contextlib import contextmanager"
   ]
  },
  {
   "cell_type": "code",
   "execution_count": 7,
   "metadata": {},
   "outputs": [],
   "source": [
    "@contextmanager\n",
    "def pipeline(out_file,name_filters):\n",
    "    p = pipeline_coro(out_file,name_filters)\n",
    "    try:\n",
    "        yield p\n",
    "    finally:\n",
    "        p.close()"
   ]
  },
  {
   "cell_type": "code",
   "execution_count": 8,
   "metadata": {},
   "outputs": [],
   "source": [
    "with pipeline('out.csv',('Chevrolet','Carlo','Landau'))as p:\n",
    "    for row in parse_data('cars.csv'):\n",
    "        p.send(row)"
   ]
  },
  {
   "cell_type": "code",
   "execution_count": 9,
   "metadata": {},
   "outputs": [
    {
     "name": "stdout",
     "output_type": "stream",
     "text": [
      "Chevrolet Monte Carlo Landau,15.5,8,350.0,170.0,4165.,11.4,77,US\n",
      "\n",
      "Chevrolet Monte Carlo Landau,19.2,8,305.0,145.0,3425.,13.2,78,US\n",
      "\n"
     ]
    }
   ],
   "source": [
    "with open('out.csv')as f:\n",
    "    for row in f:\n",
    "        print(row)"
   ]
  },
  {
   "cell_type": "code",
   "execution_count": null,
   "metadata": {},
   "outputs": [],
   "source": []
  }
 ],
 "metadata": {
  "kernelspec": {
   "display_name": "Python 3",
   "language": "python",
   "name": "python3"
  },
  "language_info": {
   "codemirror_mode": {
    "name": "ipython",
    "version": 3
   },
   "file_extension": ".py",
   "mimetype": "text/x-python",
   "name": "python",
   "nbconvert_exporter": "python",
   "pygments_lexer": "ipython3",
   "version": "3.6.0"
  }
 },
 "nbformat": 4,
 "nbformat_minor": 4
}
