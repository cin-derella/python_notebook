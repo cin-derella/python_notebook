{
 "cells": [
  {
   "cell_type": "code",
   "execution_count": 2,
   "metadata": {},
   "outputs": [],
   "source": [
    "from collections import namedtuple\n",
    "from datetime import datetime\n",
    "from functools import partial\n",
    "\n",
    "file_name = 'nyc_parking_tickets_extract.csv'\n",
    "\n",
    "with open(file_name) as f:\n",
    "    column_headers = next(f).strip('\\n').split(',')\n",
    "    \n",
    "column_names = [header.replace(' ','_').lower()\n",
    "                for header in column_headers]\n",
    "\n",
    "Ticket = namedtuple('Ticket',column_names)\n",
    "\n",
    "def read_data():\n",
    "    with open(file_name) as f:\n",
    "        next(f)\n",
    "        yield from f\n",
    "        \n",
    "\n",
    "def parse_int(value,*,default = None):\n",
    "    try:\n",
    "        return int(value)\n",
    "    except ValueError:\n",
    "        return default\n",
    "\n",
    "    \n",
    "def parse_date(value,*,default = None):\n",
    "    date_format = '%m/%d/%Y'\n",
    "    try:\n",
    "        return datetime.strptime(value,date_format).date()\n",
    "    except ValueError:\n",
    "        return default\n",
    "    \n",
    "\n",
    "def parse_string(value,*,default=None):\n",
    "    try:\n",
    "        cleaned = value.strip()\n",
    "        if not cleaned:\n",
    "            return default\n",
    "        else:\n",
    "            return cleaned\n",
    "        \n",
    "    except ValueError:\n",
    "        return default\n",
    "    \n",
    "    \n",
    "column_parsers = (parse_int,\n",
    "                 parse_string,\n",
    "                 lambda x : parse_string(x,default=''),\n",
    "                 partial(parse_string,default =''),\n",
    "                 parse_date,\n",
    "                 parse_int,\n",
    "                 partial(parse_string,default=''),\n",
    "                 parse_string,\n",
    "                 lambda x :parse_string(x,default='')\n",
    "                 )\n",
    "\n",
    "def parse_row(row,*,default= None):\n",
    "    fields = row.strip('\\n').split(',')\n",
    "    parsed_data = [func(field) for func, field in zip(column_parsers,fields)]\n",
    "    if all(item is not None for item in parsed_data):\n",
    "        return Ticket(*parsed_data)\n",
    "    else:\n",
    "        return default\n",
    "    \n",
    "    \n",
    "def parsed_data():\n",
    "    for row in read_data():\n",
    "        parsed = parse_row(row)\n",
    "        if parsed:\n",
    "            yield parsed"
   ]
  },
  {
   "cell_type": "code",
   "execution_count": 8,
   "metadata": {},
   "outputs": [
    {
     "name": "stdout",
     "output_type": "stream",
     "text": [
      "TOYOT 112\n",
      "HONDA 106\n",
      "FORD 104\n",
      "CHEVR 76\n",
      "NISSA 70\n",
      "DODGE 45\n",
      "FRUEH 44\n",
      "ME/BE 38\n",
      "GMC 35\n",
      "HYUND 35\n",
      "BMW 34\n",
      "LEXUS 26\n",
      "INTER 25\n",
      "JEEP 22\n",
      "NS/OT 18\n",
      "SUBAR 18\n",
      "INFIN 13\n",
      "LINCO 12\n",
      "CHRYS 12\n",
      "ACURA 12\n",
      "AUDI 12\n",
      "VOLVO 12\n",
      "MITSU 11\n",
      "ISUZU 10\n",
      "CADIL 9\n",
      "KIA 8\n",
      "VOLKS 8\n",
      "HIN 6\n",
      "KENWO 5\n",
      "ROVER 5\n",
      "BUICK 5\n",
      "MAZDA 5\n",
      "MERCU 4\n",
      "JAGUA 3\n",
      "SMART 3\n",
      "PORSC 3\n",
      "WORKH 2\n",
      "SATUR 2\n",
      "SCION 2\n",
      "SAAB 2\n",
      "HINO 2\n",
      "FIR 1\n",
      "OLDSM 1\n",
      "PETER 1\n",
      "CITRO 1\n",
      "GEO 1\n",
      "YAMAH 1\n",
      "BSA 1\n",
      "MINI 1\n",
      "PONTI 1\n",
      "SPRI 1\n",
      "PLYMO 1\n",
      "UPS 1\n",
      "FIAT 1\n",
      "UD 1\n",
      "UTILI 1\n",
      "GMCQ 1\n",
      "STAR 1\n",
      "AM/T 1\n",
      "MI/F 1\n"
     ]
    }
   ],
   "source": [
    "makes_counts = {}\n",
    "for data in parsed_data():\n",
    "    if data.vehicle_make in makes_counts:\n",
    "        makes_counts[data.vehicle_make] +=1\n",
    "    else:\n",
    "        makes_counts[data.vehicle_make] =1\n",
    "\n",
    "for make,cnt in sorted(makes_counts.items(),\n",
    "      key = lambda t:t[1],\n",
    "      reverse = True):\n",
    "    print(make,cnt)\n",
    "\n",
    "        "
   ]
  },
  {
   "cell_type": "code",
   "execution_count": 9,
   "metadata": {},
   "outputs": [],
   "source": [
    "from collections import defaultdict"
   ]
  },
  {
   "cell_type": "code",
   "execution_count": 10,
   "metadata": {},
   "outputs": [],
   "source": [
    "d = defaultdict(str)"
   ]
  },
  {
   "cell_type": "code",
   "execution_count": 11,
   "metadata": {},
   "outputs": [],
   "source": [
    "d['a'] =1"
   ]
  },
  {
   "cell_type": "code",
   "execution_count": 14,
   "metadata": {},
   "outputs": [
    {
     "data": {
      "text/plain": [
       "1"
      ]
     },
     "execution_count": 14,
     "metadata": {},
     "output_type": "execute_result"
    }
   ],
   "source": [
    "d['a']"
   ]
  },
  {
   "cell_type": "code",
   "execution_count": 15,
   "metadata": {},
   "outputs": [
    {
     "data": {
      "text/plain": [
       "''"
      ]
     },
     "execution_count": 15,
     "metadata": {},
     "output_type": "execute_result"
    }
   ],
   "source": [
    "d['b']"
   ]
  },
  {
   "cell_type": "code",
   "execution_count": 17,
   "metadata": {},
   "outputs": [
    {
     "data": {
      "text/plain": [
       "0"
      ]
     },
     "execution_count": 17,
     "metadata": {},
     "output_type": "execute_result"
    }
   ],
   "source": [
    "d = defaultdict(int)\n",
    "d['a'] ='hello'\n",
    "d['b']"
   ]
  },
  {
   "cell_type": "code",
   "execution_count": 19,
   "metadata": {},
   "outputs": [],
   "source": [
    "d['BMW']+=1"
   ]
  },
  {
   "cell_type": "code",
   "execution_count": 20,
   "metadata": {},
   "outputs": [
    {
     "data": {
      "text/plain": [
       "1"
      ]
     },
     "execution_count": 20,
     "metadata": {},
     "output_type": "execute_result"
    }
   ],
   "source": [
    "d['BMW']\n"
   ]
  },
  {
   "cell_type": "code",
   "execution_count": 22,
   "metadata": {},
   "outputs": [
    {
     "name": "stdout",
     "output_type": "stream",
     "text": [
      "TOYOT 112\n",
      "HONDA 106\n",
      "FORD 104\n",
      "CHEVR 76\n",
      "NISSA 70\n",
      "DODGE 45\n",
      "FRUEH 44\n",
      "ME/BE 38\n",
      "GMC 35\n",
      "HYUND 35\n",
      "BMW 34\n",
      "LEXUS 26\n",
      "INTER 25\n",
      "JEEP 22\n",
      "NS/OT 18\n",
      "SUBAR 18\n",
      "INFIN 13\n",
      "LINCO 12\n",
      "CHRYS 12\n",
      "ACURA 12\n",
      "AUDI 12\n",
      "VOLVO 12\n",
      "MITSU 11\n",
      "ISUZU 10\n",
      "CADIL 9\n",
      "KIA 8\n",
      "VOLKS 8\n",
      "HIN 6\n",
      "KENWO 5\n",
      "ROVER 5\n",
      "BUICK 5\n",
      "MAZDA 5\n",
      "MERCU 4\n",
      "JAGUA 3\n",
      "SMART 3\n",
      "PORSC 3\n",
      "WORKH 2\n",
      "SATUR 2\n",
      "SCION 2\n",
      "SAAB 2\n",
      "HINO 2\n",
      "FIR 1\n",
      "OLDSM 1\n",
      "PETER 1\n",
      "CITRO 1\n",
      "GEO 1\n",
      "YAMAH 1\n",
      "BSA 1\n",
      "MINI 1\n",
      "PONTI 1\n",
      "SPRI 1\n",
      "PLYMO 1\n",
      "UPS 1\n",
      "FIAT 1\n",
      "UD 1\n",
      "UTILI 1\n",
      "GMCQ 1\n",
      "STAR 1\n",
      "AM/T 1\n",
      "MI/F 1\n"
     ]
    }
   ],
   "source": [
    "makes_counts = defaultdict(int)\n",
    "\n",
    "for data in parsed_data():\n",
    "\n",
    "        makes_counts[data.vehicle_make] +=1\n",
    "\n",
    "\n",
    "for make,cnt in sorted(makes_counts.items(),\n",
    "      key = lambda t:t[1],\n",
    "      reverse = True):\n",
    "    print(make,cnt)"
   ]
  },
  {
   "cell_type": "code",
   "execution_count": 27,
   "metadata": {},
   "outputs": [],
   "source": [
    "def violation_count_by_make():\n",
    "    makes_counts = defaultdict(int)\n",
    "\n",
    "    for data in parsed_data():\n",
    "\n",
    "        makes_counts[data.vehicle_make] +=1\n",
    "\n",
    "    return {make:cnt\n",
    "            for make, cnt in sorted(makes_counts.items(),\n",
    "      key = lambda t:t[1],\n",
    "      reverse = True)}\n",
    "    "
   ]
  },
  {
   "cell_type": "code",
   "execution_count": 29,
   "metadata": {},
   "outputs": [
    {
     "name": "stdout",
     "output_type": "stream",
     "text": [
      "{'TOYOT': 112, 'HONDA': 106, 'FORD': 104, 'CHEVR': 76, 'NISSA': 70, 'DODGE': 45, 'FRUEH': 44, 'ME/BE': 38, 'GMC': 35, 'HYUND': 35, 'BMW': 34, 'LEXUS': 26, 'INTER': 25, 'JEEP': 22, 'NS/OT': 18, 'SUBAR': 18, 'INFIN': 13, 'LINCO': 12, 'CHRYS': 12, 'ACURA': 12, 'AUDI': 12, 'VOLVO': 12, 'MITSU': 11, 'ISUZU': 10, 'CADIL': 9, 'KIA': 8, 'VOLKS': 8, 'HIN': 6, 'KENWO': 5, 'ROVER': 5, 'BUICK': 5, 'MAZDA': 5, 'MERCU': 4, 'JAGUA': 3, 'SMART': 3, 'PORSC': 3, 'WORKH': 2, 'SATUR': 2, 'SCION': 2, 'SAAB': 2, 'HINO': 2, 'FIR': 1, 'OLDSM': 1, 'PETER': 1, 'CITRO': 1, 'GEO': 1, 'YAMAH': 1, 'BSA': 1, 'MINI': 1, 'PONTI': 1, 'SPRI': 1, 'PLYMO': 1, 'UPS': 1, 'FIAT': 1, 'UD': 1, 'UTILI': 1, 'GMCQ': 1, 'STAR': 1, 'AM/T': 1, 'MI/F': 1}\n"
     ]
    }
   ],
   "source": [
    "print(violation_count_by_make())"
   ]
  }
 ],
 "metadata": {
  "kernelspec": {
   "display_name": "Python 3",
   "language": "python",
   "name": "python3"
  },
  "language_info": {
   "codemirror_mode": {
    "name": "ipython",
    "version": 3
   },
   "file_extension": ".py",
   "mimetype": "text/x-python",
   "name": "python",
   "nbconvert_exporter": "python",
   "pygments_lexer": "ipython3",
   "version": "3.6.0"
  }
 },
 "nbformat": 4,
 "nbformat_minor": 4
}
