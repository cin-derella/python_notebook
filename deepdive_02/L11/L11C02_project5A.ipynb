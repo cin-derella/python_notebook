{
 "cells": [
  {
   "cell_type": "code",
   "execution_count": 5,
   "metadata": {},
   "outputs": [],
   "source": [
    "f_names = 'cars.csv','personal_info.csv'\n"
   ]
  },
  {
   "cell_type": "code",
   "execution_count": 6,
   "metadata": {
    "scrolled": true
   },
   "outputs": [
    {
     "name": "stdout",
     "output_type": "stream",
     "text": [
      "Car;MPG;Cylinders;Displacement;Horsepower;Weight;Acceleration;Model;Origin\n",
      "Chevrolet Chevelle Malibu;18.0;8;307.0;130.0;3504.;12.0;70;US\n",
      "\n",
      "----------------\n",
      "ssn,first_name,last_name,gender,language\n",
      "100-53-9824,Sebastiano,Tester,Male,Icelandic\n",
      "\n",
      "----------------\n"
     ]
    }
   ],
   "source": [
    "for f_name in f_names:\n",
    "    with open(f_name) as f:\n",
    "        print(next(f),end = '')\n",
    "        print(next(f),end = '')\n",
    "    print('\\n----------------')"
   ]
  },
  {
   "cell_type": "code",
   "execution_count": 7,
   "metadata": {},
   "outputs": [],
   "source": [
    "import csv\n",
    "from itertools import islice"
   ]
  },
  {
   "cell_type": "code",
   "execution_count": 10,
   "metadata": {},
   "outputs": [
    {
     "name": "stdout",
     "output_type": "stream",
     "text": [
      "{'__module__': 'csv', '_name': 'sniffed', 'lineterminator': '\\r\\n', 'quoting': 0, '__doc__': None, 'doublequote': False, 'delimiter': ';', 'quotechar': '\"', 'skipinitialspace': False}\n"
     ]
    }
   ],
   "source": [
    "with open(f_names[0])as f:\n",
    "    dialect = csv.Sniffer().sniff(f.read(1000))\n",
    "print(vars(dialect))"
   ]
  },
  {
   "cell_type": "code",
   "execution_count": 12,
   "metadata": {},
   "outputs": [
    {
     "name": "stdout",
     "output_type": "stream",
     "text": [
      "{'__module__': 'csv', '_name': 'sniffed', 'lineterminator': '\\r\\n', 'quoting': 0, '__doc__': None, 'doublequote': False, 'delimiter': ',', 'quotechar': '\"', 'skipinitialspace': False}\n"
     ]
    }
   ],
   "source": [
    "with open(f_names[1])as f:\n",
    "    dialect = csv.Sniffer().sniff(f.read(1000))\n",
    "print(vars(dialect))"
   ]
  },
  {
   "cell_type": "code",
   "execution_count": 13,
   "metadata": {},
   "outputs": [],
   "source": [
    "def get_dialect(f_name):\n",
    "    with open(f_name) as f:\n",
    "        return csv.Sniffer().sniff(f.read(1000))"
   ]
  },
  {
   "cell_type": "code",
   "execution_count": 14,
   "metadata": {},
   "outputs": [],
   "source": [
    "from collections import namedtuple"
   ]
  },
  {
   "cell_type": "code",
   "execution_count": 17,
   "metadata": {},
   "outputs": [],
   "source": [
    "class FileParser:\n",
    "    def __init__(self,f_name):\n",
    "        self.f_name = f_name\n",
    "        \n",
    "    def __enter__(self):\n",
    "        self._f = open(self.f_name,'r')\n",
    "        self._reader = csv.reader(self._f,get_dialect(self.f_name))\n",
    "        headers = map(lambda s :s.lower() ,next(self._reader))\n",
    "        self._nt = namedtuple('Data',headers)\n",
    "        return self   # it is a iterator\n",
    "    \n",
    "    \n",
    "    def __exit__(self,exc_type,exc_value,exc_tb):\n",
    "        self._f.close()\n",
    "        return False\n",
    "        \n",
    "    def __iter__(self):\n",
    "        return self\n",
    "    \n",
    "    \n",
    "    def __next__(self):\n",
    "        if self._f.closed:\n",
    "            raise StopIteration\n",
    "        else:\n",
    "            return self._nt(*next(self._reader))  #next(self._reader) is a list, and self._nt doestnt expect a list , so unpack it with *"
   ]
  },
  {
   "cell_type": "code",
   "execution_count": 18,
   "metadata": {},
   "outputs": [
    {
     "name": "stdout",
     "output_type": "stream",
     "text": [
      "Data(car='Chevrolet Chevelle Malibu', mpg='18.0', cylinders='8', displacement='307.0', horsepower='130.0', weight='3504.', acceleration='12.0', model='70', origin='US')\n",
      "Data(car='Buick Skylark 320', mpg='15.0', cylinders='8', displacement='350.0', horsepower='165.0', weight='3693.', acceleration='11.5', model='70', origin='US')\n",
      "Data(car='Plymouth Satellite', mpg='18.0', cylinders='8', displacement='318.0', horsepower='150.0', weight='3436.', acceleration='11.0', model='70', origin='US')\n",
      "Data(car='AMC Rebel SST', mpg='16.0', cylinders='8', displacement='304.0', horsepower='150.0', weight='3433.', acceleration='12.0', model='70', origin='US')\n",
      "Data(car='Ford Torino', mpg='17.0', cylinders='8', displacement='302.0', horsepower='140.0', weight='3449.', acceleration='10.5', model='70', origin='US')\n",
      "Data(car='Ford Galaxie 500', mpg='15.0', cylinders='8', displacement='429.0', horsepower='198.0', weight='4341.', acceleration='10.0', model='70', origin='US')\n",
      "Data(car='Chevrolet Impala', mpg='14.0', cylinders='8', displacement='454.0', horsepower='220.0', weight='4354.', acceleration='9.0', model='70', origin='US')\n",
      "Data(car='Plymouth Fury iii', mpg='14.0', cylinders='8', displacement='440.0', horsepower='215.0', weight='4312.', acceleration='8.5', model='70', origin='US')\n",
      "Data(car='Pontiac Catalina', mpg='14.0', cylinders='8', displacement='455.0', horsepower='225.0', weight='4425.', acceleration='10.0', model='70', origin='US')\n",
      "Data(car='AMC Ambassador DPL', mpg='15.0', cylinders='8', displacement='390.0', horsepower='190.0', weight='3850.', acceleration='8.5', model='70', origin='US')\n"
     ]
    }
   ],
   "source": [
    "with FileParser('cars.csv') as data:\n",
    "    for row in islice(data,10):\n",
    "        print(row)"
   ]
  },
  {
   "cell_type": "code",
   "execution_count": 19,
   "metadata": {},
   "outputs": [
    {
     "name": "stdout",
     "output_type": "stream",
     "text": [
      "Data(ssn='100-53-9824', first_name='Sebastiano', last_name='Tester', gender='Male', language='Icelandic')\n",
      "Data(ssn='101-71-4702', first_name='Cayla', last_name='MacDonagh', gender='Female', language='Lao')\n",
      "Data(ssn='101-84-0356', first_name='Nomi', last_name='Lipprose', gender='Female', language='Yiddish')\n",
      "Data(ssn='104-22-0928', first_name='Justinian', last_name='Kunzelmann', gender='Male', language='Dhivehi')\n",
      "Data(ssn='104-84-7144', first_name='Claudianus', last_name='Brixey', gender='Male', language='Afrikaans')\n",
      "Data(ssn='105-27-5541', first_name='Federico', last_name='Aggett', gender='Male', language='Chinese')\n",
      "Data(ssn='105-85-7486', first_name='Angelina', last_name='McAvey', gender='Female', language='Punjabi')\n",
      "Data(ssn='105-91-5022', first_name='Moselle', last_name='Apfel', gender='Female', language='Latvian')\n",
      "Data(ssn='105-91-7777', first_name='Audi', last_name='Roach', gender='Female', language='Estonian')\n",
      "Data(ssn='106-35-1938', first_name='Mackenzie', last_name='Nussey', gender='Male', language='Swedish')\n"
     ]
    }
   ],
   "source": [
    "with FileParser('personal_info.csv') as data:\n",
    "    for row in islice(data,10):\n",
    "        print(row)"
   ]
  },
  {
   "cell_type": "code",
   "execution_count": null,
   "metadata": {},
   "outputs": [],
   "source": []
  }
 ],
 "metadata": {
  "kernelspec": {
   "display_name": "Python 3",
   "language": "python",
   "name": "python3"
  },
  "language_info": {
   "codemirror_mode": {
    "name": "ipython",
    "version": 3
   },
   "file_extension": ".py",
   "mimetype": "text/x-python",
   "name": "python",
   "nbconvert_exporter": "python",
   "pygments_lexer": "ipython3",
   "version": "3.6.0"
  }
 },
 "nbformat": 4,
 "nbformat_minor": 4
}
