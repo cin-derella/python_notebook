{
 "cells": [
  {
   "cell_type": "code",
   "execution_count": 1,
   "metadata": {},
   "outputs": [],
   "source": [
    "from collections import namedtuple\n",
    "import csv\n",
    "from itertools import islice"
   ]
  },
  {
   "cell_type": "code",
   "execution_count": 2,
   "metadata": {},
   "outputs": [],
   "source": [
    "f_names = 'cars.csv','personal_info.csv'"
   ]
  },
  {
   "cell_type": "code",
   "execution_count": 3,
   "metadata": {},
   "outputs": [],
   "source": [
    "def get_dialect(f_name):\n",
    "    with open(f_name) as f:\n",
    "        return csv.Sniffer().sniff(f.read(1000))\n",
    "    \n",
    "class FileParser:\n",
    "    def __init__(self,f_name):\n",
    "        self.f_name = f_name\n",
    "        \n",
    "    def __enter__(self):\n",
    "        self._f = open(self.f_name,'r')\n",
    "        self._reader = csv.reader(self._f,get_dialect(self.f_name))\n",
    "        headers = map(lambda s :s.lower() ,next(self._reader))\n",
    "        self._nt = namedtuple('Data',headers)\n",
    "        return self   # it is a iterator\n",
    "    \n",
    "    \n",
    "    def __exit__(self,exc_type,exc_value,exc_tb):\n",
    "        self._f.close()\n",
    "        return False\n",
    "        \n",
    "    def __iter__(self):\n",
    "        return self\n",
    "    \n",
    "    \n",
    "    def __next__(self):\n",
    "        if self._f.closed:\n",
    "            raise StopIteration\n",
    "        else:\n",
    "            return self._nt(*next(self._reader))  #next(self._reader) is a list, and self._nt doestnt expect a list , so unpack it with *"
   ]
  },
  {
   "cell_type": "code",
   "execution_count": 4,
   "metadata": {},
   "outputs": [],
   "source": [
    "def parsed_data_iter(data_iter,nt):\n",
    "    for row in data_iter:\n",
    "        yield nt(*row)\n",
    "        "
   ]
  },
  {
   "cell_type": "code",
   "execution_count": 5,
   "metadata": {},
   "outputs": [],
   "source": [
    "from contextlib import contextmanager"
   ]
  },
  {
   "cell_type": "code",
   "execution_count": 6,
   "metadata": {},
   "outputs": [],
   "source": [
    "@contextmanager\n",
    "def parsed_data(f_name):\n",
    "    f = open(f_name,'r')\n",
    "    try:\n",
    "        reader = csv.reader(f,get_dialect(f_name))\n",
    "        headers = map(lambda s : s.lower(),next(reader))\n",
    "        nt = namedtuple('Data',headers)\n",
    "        yield parsed_data_iter(reader,nt)\n",
    "    finally:\n",
    "        f.close()\n",
    "        "
   ]
  },
  {
   "cell_type": "code",
   "execution_count": 10,
   "metadata": {},
   "outputs": [
    {
     "name": "stdout",
     "output_type": "stream",
     "text": [
      "Data(ssn='100-53-9824', first_name='Sebastiano', last_name='Tester', gender='Male', language='Icelandic')\n",
      "Data(ssn='101-71-4702', first_name='Cayla', last_name='MacDonagh', gender='Female', language='Lao')\n",
      "Data(ssn='101-84-0356', first_name='Nomi', last_name='Lipprose', gender='Female', language='Yiddish')\n",
      "Data(ssn='104-22-0928', first_name='Justinian', last_name='Kunzelmann', gender='Male', language='Dhivehi')\n",
      "Data(ssn='104-84-7144', first_name='Claudianus', last_name='Brixey', gender='Male', language='Afrikaans')\n"
     ]
    }
   ],
   "source": [
    "with parsed_data('personal_info.csv')as data:\n",
    "    for row in islice(data,5):\n",
    "        print(row)"
   ]
  },
  {
   "cell_type": "code",
   "execution_count": 23,
   "metadata": {},
   "outputs": [],
   "source": [
    "@contextmanager\n",
    "def parsed_data(f_name):\n",
    "        \n",
    "    f = open(f_name,'r')\n",
    "    try:\n",
    "        dialect = csv.Sniffer().sniff(f.read(1000))\n",
    "        f.seek(0)\n",
    "        reader = csv.reader(f,dialect())\n",
    "        headers = map(lambda s : s.lower(),next(reader))\n",
    "        nt = namedtuple('Data',headers)\n",
    "        yield (nt(*row) for row in reader)\n",
    "    finally:\n",
    "        f.close()\n",
    "        "
   ]
  },
  {
   "cell_type": "code",
   "execution_count": 24,
   "metadata": {},
   "outputs": [
    {
     "name": "stdout",
     "output_type": "stream",
     "text": [
      "Data(ssn='100-53-9824', first_name='Sebastiano', last_name='Tester', gender='Male', language='Icelandic')\n",
      "Data(ssn='101-71-4702', first_name='Cayla', last_name='MacDonagh', gender='Female', language='Lao')\n",
      "Data(ssn='101-84-0356', first_name='Nomi', last_name='Lipprose', gender='Female', language='Yiddish')\n",
      "Data(ssn='104-22-0928', first_name='Justinian', last_name='Kunzelmann', gender='Male', language='Dhivehi')\n",
      "Data(ssn='104-84-7144', first_name='Claudianus', last_name='Brixey', gender='Male', language='Afrikaans')\n"
     ]
    }
   ],
   "source": [
    "with parsed_data('personal_info.csv')as data:\n",
    "    for row in islice(data,5):\n",
    "        print(row)"
   ]
  },
  {
   "cell_type": "code",
   "execution_count": 25,
   "metadata": {},
   "outputs": [
    {
     "name": "stdout",
     "output_type": "stream",
     "text": [
      "Data(car='Chevrolet Chevelle Malibu', mpg='18.0', cylinders='8', displacement='307.0', horsepower='130.0', weight='3504.', acceleration='12.0', model='70', origin='US')\n",
      "Data(car='Buick Skylark 320', mpg='15.0', cylinders='8', displacement='350.0', horsepower='165.0', weight='3693.', acceleration='11.5', model='70', origin='US')\n",
      "Data(car='Plymouth Satellite', mpg='18.0', cylinders='8', displacement='318.0', horsepower='150.0', weight='3436.', acceleration='11.0', model='70', origin='US')\n",
      "Data(car='AMC Rebel SST', mpg='16.0', cylinders='8', displacement='304.0', horsepower='150.0', weight='3433.', acceleration='12.0', model='70', origin='US')\n",
      "Data(car='Ford Torino', mpg='17.0', cylinders='8', displacement='302.0', horsepower='140.0', weight='3449.', acceleration='10.5', model='70', origin='US')\n"
     ]
    }
   ],
   "source": [
    "with parsed_data('cars.csv')as data:\n",
    "    for row in islice(data,5):\n",
    "        print(row)"
   ]
  },
  {
   "cell_type": "code",
   "execution_count": null,
   "metadata": {},
   "outputs": [],
   "source": []
  }
 ],
 "metadata": {
  "kernelspec": {
   "display_name": "Python 3",
   "language": "python",
   "name": "python3"
  },
  "language_info": {
   "codemirror_mode": {
    "name": "ipython",
    "version": 3
   },
   "file_extension": ".py",
   "mimetype": "text/x-python",
   "name": "python",
   "nbconvert_exporter": "python",
   "pygments_lexer": "ipython3",
   "version": "3.6.0"
  }
 },
 "nbformat": 4,
 "nbformat_minor": 4
}
