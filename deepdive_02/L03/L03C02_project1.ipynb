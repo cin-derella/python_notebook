{
 "cells": [
  {
   "cell_type": "code",
   "execution_count": 30,
   "metadata": {},
   "outputs": [],
   "source": [
    "import math\n",
    "\n",
    "class Polygon:\n",
    "    def __init__(self,n,R):\n",
    "        self._n = n\n",
    "        self._R = R\n",
    "    \n",
    "    def __repr__(self):\n",
    "        return f'Polygon(n={self._n},R={self._R})'\n",
    "    \n",
    "    @property\n",
    "    def count_vertices(self):\n",
    "        return self._n\n",
    "    \n",
    "    @property\n",
    "    def count_edges(self):\n",
    "        return self._n\n",
    "    \n",
    "    @property\n",
    "    def circumradius(self):\n",
    "        return self._R\n",
    "    \n",
    "    @property\n",
    "    def interior_angle(self):\n",
    "        return(self._n - 2)*180/self._n\n",
    "    \n",
    "    @property\n",
    "    def side_length(self):\n",
    "        return 2*self._R *math.sin(math.pi/self._n)\n",
    "    \n",
    "    @property\n",
    "    def apothem(self):\n",
    "        return self._R *math.cos(math.pi/self._n)\n",
    "    \n",
    "    @property\n",
    "    def area(self):\n",
    "        return self._n /2 * self.side_length * self.apothem\n",
    "    \n",
    "    @property\n",
    "    def perimeter(self):\n",
    "        return self._n * self.side_length\n",
    "    \n",
    "    "
   ]
  },
  {
   "cell_type": "code",
   "execution_count": 7,
   "metadata": {},
   "outputs": [],
   "source": [
    "assert 1 == 1"
   ]
  },
  {
   "cell_type": "code",
   "execution_count": 9,
   "metadata": {},
   "outputs": [
    {
     "ename": "AssertionError",
     "evalue": "",
     "output_type": "error",
     "traceback": [
      "\u001b[0;31m---------------------------------------------------------------------------\u001b[0m",
      "\u001b[0;31mAssertionError\u001b[0m                            Traceback (most recent call last)",
      "\u001b[0;32m<ipython-input-9-58a3098c5890>\u001b[0m in \u001b[0;36m<module>\u001b[0;34m\u001b[0m\n\u001b[0;32m----> 1\u001b[0;31m \u001b[0;32massert\u001b[0m \u001b[0;36m1\u001b[0m\u001b[0;34m>\u001b[0m\u001b[0;36m10\u001b[0m\u001b[0;34m\u001b[0m\u001b[0m\n\u001b[0m",
      "\u001b[0;31mAssertionError\u001b[0m: "
     ]
    }
   ],
   "source": [
    "assert 1>10"
   ]
  },
  {
   "cell_type": "code",
   "execution_count": 12,
   "metadata": {},
   "outputs": [
    {
     "ename": "AssertionError",
     "evalue": "1 is not greater than 10.",
     "output_type": "error",
     "traceback": [
      "\u001b[0;31m---------------------------------------------------------------------------\u001b[0m",
      "\u001b[0;31mAssertionError\u001b[0m                            Traceback (most recent call last)",
      "\u001b[0;32m<ipython-input-12-5f02622f9f33>\u001b[0m in \u001b[0;36m<module>\u001b[0;34m\u001b[0m\n\u001b[0;32m----> 1\u001b[0;31m \u001b[0;32massert\u001b[0m \u001b[0;36m1\u001b[0m \u001b[0;34m>\u001b[0m \u001b[0;36m10\u001b[0m\u001b[0;34m,\u001b[0m\u001b[0;34m'1 is not greater than 10.'\u001b[0m\u001b[0;34m\u001b[0m\u001b[0m\n\u001b[0m",
      "\u001b[0;31mAssertionError\u001b[0m: 1 is not greater than 10."
     ]
    }
   ],
   "source": [
    "assert 1 > 10,'1 is not greater than 10.'"
   ]
  },
  {
   "cell_type": "code",
   "execution_count": 32,
   "metadata": {},
   "outputs": [],
   "source": [
    "def test_polygon():\n",
    "    n = 3\n",
    "    R = 1\n",
    "    p = Polygon(n,R)\n",
    "    assert str(p) == f'Polygon(n=3,R=1)',f'actual:{str(p)}'\n",
    "    assert p.count_vertices == n,(f'actual:{p.count_vertices}, '\n",
    "                                  f' expected:{n}')\n",
    "    assert p.count_edges ==n\n",
    "    assert p.circumradius ==R\n",
    "    assert p.interior_angle == 60\n",
    "    \n",
    "    \n",
    "    n=4\n",
    "    R=1\n",
    "    p=Polygon(n,R)\n",
    "    assert p.interior_angle ==90\n",
    "    assert p.area ==2.0,(f'actual: {p.area},' f' expected:{2.0}')"
   ]
  },
  {
   "cell_type": "code",
   "execution_count": 34,
   "metadata": {},
   "outputs": [],
   "source": [
    "test_polygon()"
   ]
  },
  {
   "cell_type": "code",
   "execution_count": 49,
   "metadata": {},
   "outputs": [],
   "source": [
    "def test_polygon():\n",
    "    rel_tol = 0.001\n",
    "    abs_tol = 0.001\n",
    "    \n",
    "    \n",
    "    n = 3\n",
    "    R = 1\n",
    "    p = Polygon(n,R)\n",
    "    assert str(p) == f'Polygon(n=3,R=1)',f'actual:{str(p)}'\n",
    "    assert p.count_vertices == n,(f'actual:{p.count_vertices}, '\n",
    "                                  f' expected:{n}')\n",
    "    assert p.count_edges ==n\n",
    "    assert p.circumradius ==R\n",
    "    assert p.interior_angle == 60\n",
    "    \n",
    "    \n",
    "    n=4\n",
    "    R=1\n",
    "    p=Polygon(n,R)\n",
    "    assert math.isclose(p.interior_angle,90)\n",
    "    assert math.isclose(p.area, 2.0,\n",
    "                        rel_tol = rel_tol,\n",
    "                        abs_tol = abs_tol),(f'actual: {p.area},' f' expected:{2.0}')\n",
    "    \n",
    "    assert math.isclose(p.side_length,math.sqrt(2),\n",
    "                       rel_tol = rel_tol,\n",
    "                       abs_tol = abs_tol)\n",
    "    \n",
    "    assert math.isclose(p.perimeter,4*math.sqrt(2),\n",
    "                       rel_tol = rel_tol,\n",
    "                       abs_tol = abs_tol)\n",
    "    \n",
    "    assert math.isclose(p.apothem,0.707,\n",
    "                       rel_tol = rel_tol,\n",
    "                       abs_tol = abs_tol)"
   ]
  },
  {
   "cell_type": "code",
   "execution_count": 51,
   "metadata": {},
   "outputs": [],
   "source": [
    "test_polygon()"
   ]
  },
  {
   "cell_type": "code",
   "execution_count": 56,
   "metadata": {},
   "outputs": [],
   "source": [
    "def test_polygon():\n",
    "    rel_tol = 0.001\n",
    "    abs_tol = 0.001\n",
    "    \n",
    "    \n",
    "    n = 3\n",
    "    R = 1\n",
    "    p = Polygon(n,R)\n",
    "    assert str(p) == f'Polygon(n=3,R=1)',f'actual:{str(p)}'\n",
    "    assert p.count_vertices == n,(f'actual:{p.count_vertices}, '\n",
    "                                  f' expected:{n}')\n",
    "    assert p.count_edges ==n\n",
    "    assert p.circumradius ==R\n",
    "    assert p.interior_angle == 60\n",
    "    \n",
    "    \n",
    "    n=4\n",
    "    R=1\n",
    "    p=Polygon(n,R)\n",
    "    assert math.isclose(p.interior_angle,90)\n",
    "    assert math.isclose(p.area, 2.0,\n",
    "                        rel_tol = rel_tol,\n",
    "                        abs_tol = abs_tol),(f'actual: {p.area},' f' expected:{2.0}')\n",
    "    \n",
    "    assert math.isclose(p.side_length,math.sqrt(2),\n",
    "                       rel_tol = rel_tol,\n",
    "                       abs_tol = abs_tol)\n",
    "    \n",
    "    assert math.isclose(p.perimeter,4*math.sqrt(2),\n",
    "                       rel_tol = rel_tol,\n",
    "                       abs_tol = abs_tol)\n",
    "    \n",
    "    assert math.isclose(p.apothem,0.707,\n",
    "                       rel_tol = rel_tol,\n",
    "                       abs_tol = abs_tol)\n",
    "    \n",
    "\n",
    "    n=6\n",
    "    R=2\n",
    "    p=Polygon(n,R)\n",
    "    assert math.isclose(p.interior_angle,120)\n",
    "    assert math.isclose(p.area, 10.3923,\n",
    "                        rel_tol = rel_tol,\n",
    "                        abs_tol = abs_tol),(f'actual: {p.area},' f' expected:{2.0}')\n",
    "    \n",
    "    assert math.isclose(p.side_length,2,\n",
    "                       rel_tol = rel_tol,\n",
    "                       abs_tol = abs_tol)\n",
    "    \n",
    "    assert math.isclose(p.perimeter,12,\n",
    "                       rel_tol = rel_tol,\n",
    "                       abs_tol = abs_tol)\n",
    "    \n",
    "    assert math.isclose(p.apothem,1.73205,\n",
    "                       rel_tol = rel_tol,\n",
    "                       abs_tol = abs_tol)\n",
    "    \n",
    "    \n",
    "    \n",
    "    n=12\n",
    "    R=3\n",
    "    p=Polygon(n,R)\n",
    "    assert math.isclose(p.interior_angle,150)\n",
    "    assert math.isclose(p.area, 27,\n",
    "                        rel_tol = rel_tol,\n",
    "                        abs_tol = abs_tol),(f'actual: {p.area},' f' expected:{2.0}')\n",
    "    \n",
    "    assert math.isclose(p.side_length,1.55291,\n",
    "                       rel_tol = rel_tol,\n",
    "                       abs_tol = abs_tol)\n",
    "    \n",
    "    assert math.isclose(p.perimeter,18.635,\n",
    "                       rel_tol = rel_tol,\n",
    "                       abs_tol = abs_tol)\n",
    "    \n",
    "    assert math.isclose(p.apothem,2.89778,\n",
    "                       rel_tol = rel_tol,\n",
    "                       abs_tol = abs_tol)"
   ]
  },
  {
   "cell_type": "code",
   "execution_count": 58,
   "metadata": {},
   "outputs": [],
   "source": [
    "test_polygon()"
   ]
  },
  {
   "cell_type": "code",
   "execution_count": 59,
   "metadata": {},
   "outputs": [],
   "source": [
    "import math\n",
    "\n",
    "class Polygon:\n",
    "    def __init__(self,n,R):\n",
    "        self._n = n\n",
    "        self._R = R\n",
    "    \n",
    "    def __repr__(self):\n",
    "        return f'Polygon(n={self._n},R={self._R})'\n",
    "    \n",
    "    @property\n",
    "    def count_vertices(self):\n",
    "        return self._n\n",
    "    \n",
    "    @property\n",
    "    def count_edges(self):\n",
    "        return self._n\n",
    "    \n",
    "    @property\n",
    "    def circumradius(self):\n",
    "        return self._R\n",
    "    \n",
    "    @property\n",
    "    def interior_angle(self):\n",
    "        return(self._n - 2)*180/self._n\n",
    "    \n",
    "    @property\n",
    "    def side_length(self):\n",
    "        return 2*self._R *math.sin(math.pi/self._n)\n",
    "    \n",
    "    @property\n",
    "    def apothem(self):\n",
    "        return self._R *math.cos(math.pi/self._n)\n",
    "    \n",
    "    @property\n",
    "    def area(self):\n",
    "        return self._n /2 * self.side_length * self.apothem\n",
    "    \n",
    "    @property\n",
    "    def perimeter(self):\n",
    "        return self._n * self.side_length\n",
    "    \n",
    "    def __eq__(self,other):\n",
    "        if isinstance(other,self.__class__):\n",
    "            return (self.count_edges == other.count_edges \n",
    "                    and self.circumradius == other.circumradius)\n",
    "        else:\n",
    "            return NotImplemented\n",
    "    def __gt__(self,other):\n",
    "        if isinstance(other,Polygon):\n",
    "            return self.count_vertices > other.count_vertices\n",
    "        else:\n",
    "            return NotImplemented\n",
    "        "
   ]
  },
  {
   "cell_type": "code",
   "execution_count": 61,
   "metadata": {},
   "outputs": [],
   "source": [
    "def test_polygon():\n",
    "    rel_tol = 0.001\n",
    "    abs_tol = 0.001\n",
    "    \n",
    "    \n",
    "    n = 3\n",
    "    R = 1\n",
    "    p = Polygon(n,R)\n",
    "    assert str(p) == f'Polygon(n=3,R=1)',f'actual:{str(p)}'\n",
    "    assert p.count_vertices == n,(f'actual:{p.count_vertices}, '\n",
    "                                  f' expected:{n}')\n",
    "    assert p.count_edges ==n\n",
    "    assert p.circumradius ==R\n",
    "    assert p.interior_angle == 60\n",
    "    \n",
    "    \n",
    "    n=4\n",
    "    R=1\n",
    "    p=Polygon(n,R)\n",
    "    assert math.isclose(p.interior_angle,90)\n",
    "    assert math.isclose(p.area, 2.0,\n",
    "                        rel_tol = rel_tol,\n",
    "                        abs_tol = abs_tol),(f'actual: {p.area},' f' expected:{2.0}')\n",
    "    \n",
    "    assert math.isclose(p.side_length,math.sqrt(2),\n",
    "                       rel_tol = rel_tol,\n",
    "                       abs_tol = abs_tol)\n",
    "    \n",
    "    assert math.isclose(p.perimeter,4*math.sqrt(2),\n",
    "                       rel_tol = rel_tol,\n",
    "                       abs_tol = abs_tol)\n",
    "    \n",
    "    assert math.isclose(p.apothem,0.707,\n",
    "                       rel_tol = rel_tol,\n",
    "                       abs_tol = abs_tol)\n",
    "    \n",
    "\n",
    "    n=6\n",
    "    R=2\n",
    "    p=Polygon(n,R)\n",
    "    assert math.isclose(p.interior_angle,120)\n",
    "    assert math.isclose(p.area, 10.3923,\n",
    "                        rel_tol = rel_tol,\n",
    "                        abs_tol = abs_tol),(f'actual: {p.area},' f' expected:{2.0}')\n",
    "    \n",
    "    assert math.isclose(p.side_length,2,\n",
    "                       rel_tol = rel_tol,\n",
    "                       abs_tol = abs_tol)\n",
    "    \n",
    "    assert math.isclose(p.perimeter,12,\n",
    "                       rel_tol = rel_tol,\n",
    "                       abs_tol = abs_tol)\n",
    "    \n",
    "    assert math.isclose(p.apothem,1.73205,\n",
    "                       rel_tol = rel_tol,\n",
    "                       abs_tol = abs_tol)\n",
    "    \n",
    "    \n",
    "    \n",
    "    n=12\n",
    "    R=3\n",
    "    p=Polygon(n,R)\n",
    "    assert math.isclose(p.interior_angle,150)\n",
    "    assert math.isclose(p.area, 27,\n",
    "                        rel_tol = rel_tol,\n",
    "                        abs_tol = abs_tol),(f'actual: {p.area},' f' expected:{2.0}')\n",
    "    \n",
    "    assert math.isclose(p.side_length,1.55291,\n",
    "                       rel_tol = rel_tol,\n",
    "                       abs_tol = abs_tol)\n",
    "    \n",
    "    assert math.isclose(p.perimeter,18.635,\n",
    "                       rel_tol = rel_tol,\n",
    "                       abs_tol = abs_tol)\n",
    "    \n",
    "    assert math.isclose(p.apothem,2.89778,\n",
    "                       rel_tol = rel_tol,\n",
    "                       abs_tol = abs_tol)\n",
    "    \n",
    "    \n",
    "    p1=Polygon(3,10)\n",
    "    p2=Polygon(10,10)\n",
    "    p3=Polygon(15,10)\n",
    "    p4=Polygon(15,100)\n",
    "    p5=Polygon(15,100)\n",
    "    \n",
    "    assert p2>p1\n",
    "    assert p2<p3\n",
    "    assert p3 != p4\n",
    "    assert p1 != p4\n",
    "    assert p4 ==p5"
   ]
  },
  {
   "cell_type": "code",
   "execution_count": 64,
   "metadata": {},
   "outputs": [],
   "source": [
    "test_polygon()"
   ]
  },
  {
   "cell_type": "code",
   "execution_count": 66,
   "metadata": {},
   "outputs": [],
   "source": [
    "p=Polygon(1,10)"
   ]
  },
  {
   "cell_type": "code",
   "execution_count": 69,
   "metadata": {},
   "outputs": [],
   "source": [
    "import math\n",
    "\n",
    "class Polygon:\n",
    "    def __init__(self,n,R):\n",
    "        if n<3:\n",
    "            raise ValueError('Polygon must have at lease three sides.')\n",
    "        self._n = n\n",
    "        self._R = R\n",
    "    \n",
    "    def __repr__(self):\n",
    "        return f'Polygon(n={self._n},R={self._R})'\n",
    "    \n",
    "    @property\n",
    "    def count_vertices(self):\n",
    "        return self._n\n",
    "    \n",
    "    @property\n",
    "    def count_edges(self):\n",
    "        return self._n\n",
    "    \n",
    "    @property\n",
    "    def circumradius(self):\n",
    "        return self._R\n",
    "    \n",
    "    @property\n",
    "    def interior_angle(self):\n",
    "        return(self._n - 2)*180/self._n\n",
    "    \n",
    "    @property\n",
    "    def side_length(self):\n",
    "        return 2*self._R *math.sin(math.pi/self._n)\n",
    "    \n",
    "    @property\n",
    "    def apothem(self):\n",
    "        return self._R *math.cos(math.pi/self._n)\n",
    "    \n",
    "    @property\n",
    "    def area(self):\n",
    "        return self._n /2 * self.side_length * self.apothem\n",
    "    \n",
    "    @property\n",
    "    def perimeter(self):\n",
    "        return self._n * self.side_length\n",
    "    \n",
    "    def __eq__(self,other):\n",
    "        if isinstance(other,self.__class__):\n",
    "            return (self.count_edges == other.count_edges \n",
    "                    and self.circumradius == other.circumradius)\n",
    "        else:\n",
    "            return NotImplemented\n",
    "    def __gt__(self,other):\n",
    "        if isinstance(other,Polygon):\n",
    "            return self.count_vertices > other.count_vertices\n",
    "        else:\n",
    "            return NotImplemented\n",
    "        "
   ]
  },
  {
   "cell_type": "code",
   "execution_count": 73,
   "metadata": {},
   "outputs": [],
   "source": [
    "def test_polygon():\n",
    "    rel_tol = 0.001\n",
    "    abs_tol = 0.001\n",
    "    \n",
    "    try:\n",
    "        p = Polygon(2,10)\n",
    "        assert False,('Create a Polygon with 2 sides: '\n",
    "                     'Exception expected, not received.')\n",
    "    except ValueError:\n",
    "        pass\n",
    "    \n",
    "    \n",
    "    n = 3\n",
    "    R = 1\n",
    "    p = Polygon(n,R)\n",
    "    assert str(p) == f'Polygon(n=3,R=1)',f'actual:{str(p)}'\n",
    "    assert p.count_vertices == n,(f'actual:{p.count_vertices}, '\n",
    "                                  f' expected:{n}')\n",
    "    assert p.count_edges ==n\n",
    "    assert p.circumradius ==R\n",
    "    assert p.interior_angle == 60\n",
    "    \n",
    "    \n",
    "    n=4\n",
    "    R=1\n",
    "    p=Polygon(n,R)\n",
    "    assert math.isclose(p.interior_angle,90)\n",
    "    assert math.isclose(p.area, 2.0,\n",
    "                        rel_tol = rel_tol,\n",
    "                        abs_tol = abs_tol),(f'actual: {p.area},' f' expected:{2.0}')\n",
    "    \n",
    "    assert math.isclose(p.side_length,math.sqrt(2),\n",
    "                       rel_tol = rel_tol,\n",
    "                       abs_tol = abs_tol)\n",
    "    \n",
    "    assert math.isclose(p.perimeter,4*math.sqrt(2),\n",
    "                       rel_tol = rel_tol,\n",
    "                       abs_tol = abs_tol)\n",
    "    \n",
    "    assert math.isclose(p.apothem,0.707,\n",
    "                       rel_tol = rel_tol,\n",
    "                       abs_tol = abs_tol)\n",
    "    \n",
    "\n",
    "    n=6\n",
    "    R=2\n",
    "    p=Polygon(n,R)\n",
    "    assert math.isclose(p.interior_angle,120)\n",
    "    assert math.isclose(p.area, 10.3923,\n",
    "                        rel_tol = rel_tol,\n",
    "                        abs_tol = abs_tol),(f'actual: {p.area},' f' expected:{2.0}')\n",
    "    \n",
    "    assert math.isclose(p.side_length,2,\n",
    "                       rel_tol = rel_tol,\n",
    "                       abs_tol = abs_tol)\n",
    "    \n",
    "    assert math.isclose(p.perimeter,12,\n",
    "                       rel_tol = rel_tol,\n",
    "                       abs_tol = abs_tol)\n",
    "    \n",
    "    assert math.isclose(p.apothem,1.73205,\n",
    "                       rel_tol = rel_tol,\n",
    "                       abs_tol = abs_tol)\n",
    "    \n",
    "    \n",
    "    \n",
    "    n=12\n",
    "    R=3\n",
    "    p=Polygon(n,R)\n",
    "    assert math.isclose(p.interior_angle,150)\n",
    "    assert math.isclose(p.area, 27,\n",
    "                        rel_tol = rel_tol,\n",
    "                        abs_tol = abs_tol),(f'actual: {p.area},' f' expected:{2.0}')\n",
    "    \n",
    "    assert math.isclose(p.side_length,1.55291,\n",
    "                       rel_tol = rel_tol,\n",
    "                       abs_tol = abs_tol)\n",
    "    \n",
    "    assert math.isclose(p.perimeter,18.635,\n",
    "                       rel_tol = rel_tol,\n",
    "                       abs_tol = abs_tol)\n",
    "    \n",
    "    assert math.isclose(p.apothem,2.89778,\n",
    "                       rel_tol = rel_tol,\n",
    "                       abs_tol = abs_tol)\n",
    "    \n",
    "    \n",
    "    p1=Polygon(3,10)\n",
    "    p2=Polygon(10,10)\n",
    "    p3=Polygon(15,10)\n",
    "    p4=Polygon(15,100)\n",
    "    p5=Polygon(15,100)\n",
    "    \n",
    "    assert p2>p1\n",
    "    assert p2<p3\n",
    "    assert p3 != p4\n",
    "    assert p1 != p4\n",
    "    assert p4 ==p5\n",
    "    \n",
    "    "
   ]
  },
  {
   "cell_type": "code",
   "execution_count": 76,
   "metadata": {},
   "outputs": [],
   "source": [
    "test_polygon()"
   ]
  },
  {
   "cell_type": "code",
   "execution_count": null,
   "metadata": {},
   "outputs": [],
   "source": []
  },
  {
   "cell_type": "code",
   "execution_count": 78,
   "metadata": {},
   "outputs": [],
   "source": [
    "class Polygons():\n",
    "    def __init__(self,m,R):\n",
    "        if m<3:\n",
    "            raise ValueError('m must be greater than 3')\n",
    "        self._m = m\n",
    "        self._R = R\n",
    "        \n",
    "    def __len__(self):\n",
    "        return self._m -2\n",
    "    \n",
    "    \n",
    "    def __repr__(self):\n",
    "        return f'Polygons(m={self._m},R={self._R})'\n",
    "    "
   ]
  },
  {
   "cell_type": "code",
   "execution_count": 80,
   "metadata": {},
   "outputs": [
    {
     "ename": "ValueError",
     "evalue": "m must be greater than 3",
     "output_type": "error",
     "traceback": [
      "\u001b[0;31m---------------------------------------------------------------------------\u001b[0m",
      "\u001b[0;31mValueError\u001b[0m                                Traceback (most recent call last)",
      "\u001b[0;32m<ipython-input-80-d4347384634f>\u001b[0m in \u001b[0;36m<module>\u001b[0;34m\u001b[0m\n\u001b[0;32m----> 1\u001b[0;31m \u001b[0mpolygons\u001b[0m \u001b[0;34m=\u001b[0m \u001b[0mPolygons\u001b[0m\u001b[0;34m(\u001b[0m\u001b[0;36m2\u001b[0m\u001b[0;34m,\u001b[0m\u001b[0;36m10\u001b[0m\u001b[0;34m)\u001b[0m\u001b[0;34m\u001b[0m\u001b[0m\n\u001b[0m",
      "\u001b[0;32m<ipython-input-78-af7ad4112d25>\u001b[0m in \u001b[0;36m__init__\u001b[0;34m(self, m, R)\u001b[0m\n\u001b[1;32m      2\u001b[0m     \u001b[0;32mdef\u001b[0m \u001b[0m__init__\u001b[0m\u001b[0;34m(\u001b[0m\u001b[0mself\u001b[0m\u001b[0;34m,\u001b[0m\u001b[0mm\u001b[0m\u001b[0;34m,\u001b[0m\u001b[0mR\u001b[0m\u001b[0;34m)\u001b[0m\u001b[0;34m:\u001b[0m\u001b[0;34m\u001b[0m\u001b[0m\n\u001b[1;32m      3\u001b[0m         \u001b[0;32mif\u001b[0m \u001b[0mm\u001b[0m\u001b[0;34m<\u001b[0m\u001b[0;36m3\u001b[0m\u001b[0;34m:\u001b[0m\u001b[0;34m\u001b[0m\u001b[0m\n\u001b[0;32m----> 4\u001b[0;31m             \u001b[0;32mraise\u001b[0m \u001b[0mValueError\u001b[0m\u001b[0;34m(\u001b[0m\u001b[0;34m'm must be greater than 3'\u001b[0m\u001b[0;34m)\u001b[0m\u001b[0;34m\u001b[0m\u001b[0m\n\u001b[0m\u001b[1;32m      5\u001b[0m         \u001b[0mself\u001b[0m\u001b[0;34m.\u001b[0m\u001b[0m_m\u001b[0m \u001b[0;34m=\u001b[0m \u001b[0mm\u001b[0m\u001b[0;34m\u001b[0m\u001b[0m\n\u001b[1;32m      6\u001b[0m         \u001b[0mself\u001b[0m\u001b[0;34m.\u001b[0m\u001b[0m_R\u001b[0m \u001b[0;34m=\u001b[0m \u001b[0mR\u001b[0m\u001b[0;34m\u001b[0m\u001b[0m\n",
      "\u001b[0;31mValueError\u001b[0m: m must be greater than 3"
     ]
    }
   ],
   "source": [
    "polygons = Polygons(2,10)"
   ]
  },
  {
   "cell_type": "code",
   "execution_count": 84,
   "metadata": {},
   "outputs": [],
   "source": [
    "polygons = Polygons(3,1)"
   ]
  },
  {
   "cell_type": "code",
   "execution_count": 86,
   "metadata": {},
   "outputs": [
    {
     "data": {
      "text/plain": [
       "1"
      ]
     },
     "execution_count": 86,
     "metadata": {},
     "output_type": "execute_result"
    }
   ],
   "source": [
    "len(polygons)"
   ]
  },
  {
   "cell_type": "code",
   "execution_count": 89,
   "metadata": {},
   "outputs": [
    {
     "data": {
      "text/plain": [
       "4"
      ]
     },
     "execution_count": 89,
     "metadata": {},
     "output_type": "execute_result"
    }
   ],
   "source": [
    "polygons = Polygons(6,1)\n",
    "len(polygons)"
   ]
  },
  {
   "cell_type": "code",
   "execution_count": 91,
   "metadata": {},
   "outputs": [
    {
     "data": {
      "text/plain": [
       "Polygons(m=6,R=1)"
      ]
     },
     "execution_count": 91,
     "metadata": {},
     "output_type": "execute_result"
    }
   ],
   "source": [
    "polygons"
   ]
  },
  {
   "cell_type": "code",
   "execution_count": 98,
   "metadata": {},
   "outputs": [],
   "source": [
    "class Polygons():\n",
    "    def __init__(self,m,R):\n",
    "        if m<3:\n",
    "            raise ValueError('m must be greater than 3')\n",
    "        self._m = m\n",
    "        self._R = R\n",
    "        self._polygons = [Polygon(i,R) for i in range(3,m+1)]\n",
    "        \n",
    "    def __len__(self):\n",
    "        return self._m -2\n",
    "    \n",
    "    \n",
    "    def __repr__(self):\n",
    "        return f'Polygons(m={self._m},R={self._R})'\n",
    "    "
   ]
  },
  {
   "cell_type": "code",
   "execution_count": 100,
   "metadata": {},
   "outputs": [],
   "source": [
    "p = Polygons(4,2)"
   ]
  },
  {
   "cell_type": "code",
   "execution_count": 102,
   "metadata": {},
   "outputs": [
    {
     "data": {
      "text/plain": [
       "[Polygon(n=3,R=2), Polygon(n=4,R=2)]"
      ]
     },
     "execution_count": 102,
     "metadata": {},
     "output_type": "execute_result"
    }
   ],
   "source": [
    "p._polygons"
   ]
  },
  {
   "cell_type": "code",
   "execution_count": 106,
   "metadata": {},
   "outputs": [],
   "source": [
    "class Polygons():\n",
    "    def __init__(self,m,R):\n",
    "        if m<3:\n",
    "            raise ValueError('m must be greater than 3')\n",
    "        self._m = m\n",
    "        self._R = R\n",
    "        self._polygons = [Polygon(i,R) for i in range(3,m+1)]\n",
    "        \n",
    "    def __len__(self):\n",
    "        return self._m -2\n",
    "    \n",
    "    \n",
    "    def __repr__(self):\n",
    "        return f'Polygons(m={self._m},R={self._R})'\n",
    "    \n",
    "    def __getitem__(self,s):\n",
    "        return self._polygons[s]\n",
    "        "
   ]
  },
  {
   "cell_type": "code",
   "execution_count": 107,
   "metadata": {},
   "outputs": [],
   "source": [
    "polygons = Polygons(8,1)\n"
   ]
  },
  {
   "cell_type": "code",
   "execution_count": 109,
   "metadata": {},
   "outputs": [
    {
     "name": "stdout",
     "output_type": "stream",
     "text": [
      "Polygon(n=3,R=1)\n",
      "Polygon(n=4,R=1)\n",
      "Polygon(n=5,R=1)\n",
      "Polygon(n=6,R=1)\n",
      "Polygon(n=7,R=1)\n",
      "Polygon(n=8,R=1)\n"
     ]
    }
   ],
   "source": [
    "for p in polygons:\n",
    "    print(p)"
   ]
  },
  {
   "cell_type": "code",
   "execution_count": 112,
   "metadata": {},
   "outputs": [
    {
     "name": "stdout",
     "output_type": "stream",
     "text": [
      "Polygon(n=5,R=1)\n",
      "Polygon(n=6,R=1)\n",
      "Polygon(n=7,R=1)\n"
     ]
    }
   ],
   "source": [
    "for p in polygons[2:5]:\n",
    "    print(p)"
   ]
  },
  {
   "cell_type": "code",
   "execution_count": 115,
   "metadata": {},
   "outputs": [
    {
     "name": "stdout",
     "output_type": "stream",
     "text": [
      "Polygon(n=8,R=1)\n",
      "Polygon(n=7,R=1)\n",
      "Polygon(n=6,R=1)\n",
      "Polygon(n=5,R=1)\n",
      "Polygon(n=4,R=1)\n",
      "Polygon(n=3,R=1)\n"
     ]
    }
   ],
   "source": [
    "for p in polygons[::-1]:\n",
    "    print(p)"
   ]
  },
  {
   "cell_type": "code",
   "execution_count": 134,
   "metadata": {},
   "outputs": [],
   "source": [
    "class Polygons():\n",
    "    def __init__(self,m,R):\n",
    "        if m<3:\n",
    "            raise ValueError('m must be greater than 3')\n",
    "        self._m = m\n",
    "        self._R = R\n",
    "        self._polygons = [Polygon(i,R) for i in range(3,m+1)]\n",
    "        \n",
    "    def __len__(self):\n",
    "        return self._m -2\n",
    "    \n",
    "    \n",
    "    def __repr__(self):\n",
    "        return f'Polygons(m={self._m},R={self._R})'\n",
    "    \n",
    "    def __getitem__(self,s):\n",
    "        return self._polygons[s]\n",
    "    \n",
    "    @property\n",
    "    def max_efficiency_polygon(self):\n",
    "        sorted_polygons = sorted(self._polygons,key = lambda p: p.area/p.perimeter,\n",
    "                                reverse = True)\n",
    "        return sorted_polygons[0]"
   ]
  },
  {
   "cell_type": "code",
   "execution_count": 135,
   "metadata": {},
   "outputs": [],
   "source": [
    "polygons = Polygons(10,1)\n"
   ]
  },
  {
   "cell_type": "code",
   "execution_count": 136,
   "metadata": {},
   "outputs": [
    {
     "data": {
      "text/plain": [
       "Polygon(n=10,R=1)"
      ]
     },
     "execution_count": 136,
     "metadata": {},
     "output_type": "execute_result"
    }
   ],
   "source": [
    "polygons.max_efficiency_polygon"
   ]
  },
  {
   "cell_type": "code",
   "execution_count": 137,
   "metadata": {},
   "outputs": [
    {
     "data": {
      "text/plain": [
       "[(Polygon(n=3,R=1), 0.25000000000000006),\n",
       " (Polygon(n=4,R=1), 0.3535533905932738),\n",
       " (Polygon(n=5,R=1), 0.4045084971874737),\n",
       " (Polygon(n=6,R=1), 0.4330127018922193),\n",
       " (Polygon(n=7,R=1), 0.4504844339512096),\n",
       " (Polygon(n=8,R=1), 0.4619397662556434),\n",
       " (Polygon(n=9,R=1), 0.46984631039295427),\n",
       " (Polygon(n=10,R=1), 0.47552825814757677)]"
      ]
     },
     "execution_count": 137,
     "metadata": {},
     "output_type": "execute_result"
    }
   ],
   "source": [
    "[(p,p.area/p.perimeter) for p in polygons]"
   ]
  },
  {
   "cell_type": "code",
   "execution_count": 138,
   "metadata": {},
   "outputs": [
    {
     "data": {
      "text/plain": [
       "Polygon(n=500,R=1)"
      ]
     },
     "execution_count": 138,
     "metadata": {},
     "output_type": "execute_result"
    }
   ],
   "source": [
    "polygons = Polygons(500,1)\n",
    "polygons.max_efficiency_polygon"
   ]
  }
 ],
 "metadata": {
  "kernelspec": {
   "display_name": "Python 3",
   "language": "python",
   "name": "python3"
  },
  "language_info": {
   "codemirror_mode": {
    "name": "ipython",
    "version": 3
   },
   "file_extension": ".py",
   "mimetype": "text/x-python",
   "name": "python",
   "nbconvert_exporter": "python",
   "pygments_lexer": "ipython3",
   "version": "3.6.0"
  }
 },
 "nbformat": 4,
 "nbformat_minor": 4
}
