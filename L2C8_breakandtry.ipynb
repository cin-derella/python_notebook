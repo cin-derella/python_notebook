{
 "cells": [
  {
   "cell_type": "code",
   "execution_count": 2,
   "metadata": {},
   "outputs": [
    {
     "name": "stdout",
     "output_type": "stream",
     "text": [
      "this always executes\n"
     ]
    }
   ],
   "source": [
    "a=10\n",
    "b=2\n",
    "\n",
    "try:\n",
    "    a/b\n",
    "except ZeroDivisionError:\n",
    "    print('division by 0')\n",
    "finally:\n",
    "    print('this always executes')"
   ]
  },
  {
   "cell_type": "code",
   "execution_count": 6,
   "metadata": {},
   "outputs": [
    {
     "name": "stdout",
     "output_type": "stream",
     "text": [
      "--------------\n",
      "1,1---always executes\n",
      "1,1----main loop\n",
      "--------------\n",
      "2,0-----division by 0\n",
      "2,0---always executes\n",
      "--------------\n",
      "3,-1---always executes\n",
      "3,-1----main loop\n",
      "--------------\n",
      "4,-2---always executes\n",
      "4,-2----main loop\n"
     ]
    }
   ],
   "source": [
    "a=0\n",
    "b=2\n",
    "\n",
    "while a<4:\n",
    "    a+=1\n",
    "    b-=1\n",
    "    print('--------------')\n",
    "    \n",
    "    try:\n",
    "        a/b\n",
    "    except ZeroDivisionError:\n",
    "        print(\"{0},{1}-----division by 0\".format(a,b))\n",
    "        continue\n",
    "    finally:\n",
    "        print(\"{0},{1}---always executes\".format(a,b))\n",
    "    print(\"{0},{1}----main loop\".format(a,b))"
   ]
  },
  {
   "cell_type": "code",
   "execution_count": 11,
   "metadata": {},
   "outputs": [
    {
     "name": "stdout",
     "output_type": "stream",
     "text": [
      "--------------\n",
      "1,9---always executes\n",
      "--------------\n",
      "2,8---always executes\n",
      "--------------\n",
      "3,7---always executes\n",
      "--------------\n",
      "4,6---always executes\n",
      "Code executed without a zero division error\n"
     ]
    }
   ],
   "source": [
    "a=0\n",
    "b=10\n",
    "\n",
    "while a<4:\n",
    "    a+=1\n",
    "    b-=1\n",
    "    print('--------------')\n",
    "    \n",
    "    try:\n",
    "        a/b\n",
    "    except ZeroDivisionError:\n",
    "        print(\"{0},{1}-----division by 0\".format(a,b))\n",
    "        #break\n",
    "    finally:\n",
    "        print(\"{0},{1}---always executes\".format(a,b))\n",
    "    # print(\"{0},{1}----main loop\".format(a,b))\n",
    "else:\n",
    "    print(\"Code executed without a zero division error\")"
   ]
  }
 ],
 "metadata": {
  "kernelspec": {
   "display_name": "Python 3",
   "language": "python",
   "name": "python3"
  },
  "language_info": {
   "codemirror_mode": {
    "name": "ipython",
    "version": 3
   },
   "file_extension": ".py",
   "mimetype": "text/x-python",
   "name": "python",
   "nbconvert_exporter": "python",
   "pygments_lexer": "ipython3",
   "version": "3.6.0"
  }
 },
 "nbformat": 4,
 "nbformat_minor": 4
}
