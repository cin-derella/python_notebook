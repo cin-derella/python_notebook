{
 "cells": [
  {
   "cell_type": "code",
   "execution_count": 3,
   "metadata": {},
   "outputs": [],
   "source": [
    "def fib(n):\n",
    "    print('calculating fib({0})'.format(n))\n",
    "    return 1 if n<3 else fib(n-1)+fib(n-2)"
   ]
  },
  {
   "cell_type": "code",
   "execution_count": 5,
   "metadata": {},
   "outputs": [
    {
     "name": "stdout",
     "output_type": "stream",
     "text": [
      "calculating fib(10)\n",
      "calculating fib(9)\n",
      "calculating fib(8)\n",
      "calculating fib(7)\n",
      "calculating fib(6)\n",
      "calculating fib(5)\n",
      "calculating fib(4)\n",
      "calculating fib(3)\n",
      "calculating fib(2)\n",
      "calculating fib(1)\n",
      "calculating fib(2)\n",
      "calculating fib(3)\n",
      "calculating fib(2)\n",
      "calculating fib(1)\n",
      "calculating fib(4)\n",
      "calculating fib(3)\n",
      "calculating fib(2)\n",
      "calculating fib(1)\n",
      "calculating fib(2)\n",
      "calculating fib(5)\n",
      "calculating fib(4)\n",
      "calculating fib(3)\n",
      "calculating fib(2)\n",
      "calculating fib(1)\n",
      "calculating fib(2)\n",
      "calculating fib(3)\n",
      "calculating fib(2)\n",
      "calculating fib(1)\n",
      "calculating fib(6)\n",
      "calculating fib(5)\n",
      "calculating fib(4)\n",
      "calculating fib(3)\n",
      "calculating fib(2)\n",
      "calculating fib(1)\n",
      "calculating fib(2)\n",
      "calculating fib(3)\n",
      "calculating fib(2)\n",
      "calculating fib(1)\n",
      "calculating fib(4)\n",
      "calculating fib(3)\n",
      "calculating fib(2)\n",
      "calculating fib(1)\n",
      "calculating fib(2)\n",
      "calculating fib(7)\n",
      "calculating fib(6)\n",
      "calculating fib(5)\n",
      "calculating fib(4)\n",
      "calculating fib(3)\n",
      "calculating fib(2)\n",
      "calculating fib(1)\n",
      "calculating fib(2)\n",
      "calculating fib(3)\n",
      "calculating fib(2)\n",
      "calculating fib(1)\n",
      "calculating fib(4)\n",
      "calculating fib(3)\n",
      "calculating fib(2)\n",
      "calculating fib(1)\n",
      "calculating fib(2)\n",
      "calculating fib(5)\n",
      "calculating fib(4)\n",
      "calculating fib(3)\n",
      "calculating fib(2)\n",
      "calculating fib(1)\n",
      "calculating fib(2)\n",
      "calculating fib(3)\n",
      "calculating fib(2)\n",
      "calculating fib(1)\n",
      "calculating fib(8)\n",
      "calculating fib(7)\n",
      "calculating fib(6)\n",
      "calculating fib(5)\n",
      "calculating fib(4)\n",
      "calculating fib(3)\n",
      "calculating fib(2)\n",
      "calculating fib(1)\n",
      "calculating fib(2)\n",
      "calculating fib(3)\n",
      "calculating fib(2)\n",
      "calculating fib(1)\n",
      "calculating fib(4)\n",
      "calculating fib(3)\n",
      "calculating fib(2)\n",
      "calculating fib(1)\n",
      "calculating fib(2)\n",
      "calculating fib(5)\n",
      "calculating fib(4)\n",
      "calculating fib(3)\n",
      "calculating fib(2)\n",
      "calculating fib(1)\n",
      "calculating fib(2)\n",
      "calculating fib(3)\n",
      "calculating fib(2)\n",
      "calculating fib(1)\n",
      "calculating fib(6)\n",
      "calculating fib(5)\n",
      "calculating fib(4)\n",
      "calculating fib(3)\n",
      "calculating fib(2)\n",
      "calculating fib(1)\n",
      "calculating fib(2)\n",
      "calculating fib(3)\n",
      "calculating fib(2)\n",
      "calculating fib(1)\n",
      "calculating fib(4)\n",
      "calculating fib(3)\n",
      "calculating fib(2)\n",
      "calculating fib(1)\n",
      "calculating fib(2)\n"
     ]
    },
    {
     "data": {
      "text/plain": [
       "55"
      ]
     },
     "execution_count": 5,
     "metadata": {},
     "output_type": "execute_result"
    }
   ],
   "source": [
    "fib(10)"
   ]
  },
  {
   "cell_type": "code",
   "execution_count": 14,
   "metadata": {},
   "outputs": [],
   "source": [
    "class Fib:\n",
    "    def __init__(self):\n",
    "        self.cache = {1:1,2:1}\n",
    "    \n",
    "    def fib(self,n):\n",
    "        if n not in self.cache:\n",
    "            \n",
    "            print('calculaing fib ({0})'.format(n))\n",
    "            self.cache[n] = self.fib(n-1)+self.fib(n-2)\n",
    "        return self.cache[n]"
   ]
  },
  {
   "cell_type": "code",
   "execution_count": 15,
   "metadata": {},
   "outputs": [],
   "source": [
    "f = Fib()"
   ]
  },
  {
   "cell_type": "code",
   "execution_count": 16,
   "metadata": {},
   "outputs": [
    {
     "name": "stdout",
     "output_type": "stream",
     "text": [
      "calculaing fib (10)\n",
      "calculaing fib (9)\n",
      "calculaing fib (8)\n",
      "calculaing fib (7)\n",
      "calculaing fib (6)\n",
      "calculaing fib (5)\n",
      "calculaing fib (4)\n",
      "calculaing fib (3)\n"
     ]
    },
    {
     "data": {
      "text/plain": [
       "55"
      ]
     },
     "execution_count": 16,
     "metadata": {},
     "output_type": "execute_result"
    }
   ],
   "source": [
    "f.fib(10)"
   ]
  },
  {
   "cell_type": "code",
   "execution_count": 27,
   "metadata": {},
   "outputs": [],
   "source": [
    "def fib():\n",
    "    cache = {1:1,2:1}\n",
    "    def calc_fib(n):\n",
    "        if n not in cache:\n",
    "            print('calculaing fib ({0})'.format(n))\n",
    "            cache[n] = calc_fib(n-1)+calc_fib(n-2)\n",
    "        return cache[n]\n",
    "    return calc_fib"
   ]
  },
  {
   "cell_type": "code",
   "execution_count": 28,
   "metadata": {},
   "outputs": [],
   "source": [
    "f = fib()"
   ]
  },
  {
   "cell_type": "code",
   "execution_count": 30,
   "metadata": {},
   "outputs": [
    {
     "data": {
      "text/plain": [
       "55"
      ]
     },
     "execution_count": 30,
     "metadata": {},
     "output_type": "execute_result"
    }
   ],
   "source": [
    "f(10)"
   ]
  },
  {
   "cell_type": "code",
   "execution_count": 31,
   "metadata": {},
   "outputs": [],
   "source": [
    "g= Fib()"
   ]
  },
  {
   "cell_type": "code",
   "execution_count": 33,
   "metadata": {},
   "outputs": [
    {
     "data": {
      "text/plain": [
       "55"
      ]
     },
     "execution_count": 33,
     "metadata": {},
     "output_type": "execute_result"
    }
   ],
   "source": [
    "g.fib(10)"
   ]
  },
  {
   "cell_type": "code",
   "execution_count": 36,
   "metadata": {},
   "outputs": [
    {
     "name": "stdout",
     "output_type": "stream",
     "text": [
      "calculaing fib (10)\n",
      "calculaing fib (9)\n",
      "calculaing fib (8)\n",
      "calculaing fib (7)\n",
      "calculaing fib (6)\n",
      "calculaing fib (5)\n",
      "calculaing fib (4)\n",
      "calculaing fib (3)\n"
     ]
    },
    {
     "data": {
      "text/plain": [
       "55"
      ]
     },
     "execution_count": 36,
     "metadata": {},
     "output_type": "execute_result"
    }
   ],
   "source": [
    "g= fib()\n",
    "g(10)"
   ]
  },
  {
   "cell_type": "code",
   "execution_count": 43,
   "metadata": {},
   "outputs": [],
   "source": [
    "def memoize_fib(fib):\n",
    "    cache = {1:1,2:1}\n",
    "    \n",
    "    def inner(n):\n",
    "        if n not in cache:\n",
    "            cache[n] = fib(n)\n",
    "        return cache[n]\n",
    "    return inner"
   ]
  },
  {
   "cell_type": "code",
   "execution_count": 44,
   "metadata": {},
   "outputs": [],
   "source": [
    "@memoize_fib\n",
    "def fib(n):\n",
    "    print('calculating fib({0})'.format(n))\n",
    "    return 1 if n<3 else fib(n-1)+fib(n-2)"
   ]
  },
  {
   "cell_type": "code",
   "execution_count": 46,
   "metadata": {},
   "outputs": [
    {
     "data": {
      "text/plain": [
       "55"
      ]
     },
     "execution_count": 46,
     "metadata": {},
     "output_type": "execute_result"
    }
   ],
   "source": [
    "fib(10)"
   ]
  },
  {
   "cell_type": "code",
   "execution_count": 47,
   "metadata": {},
   "outputs": [],
   "source": [
    "def memoize(fn):\n",
    "    cache = dict()\n",
    "    \n",
    "    \n",
    "    def inner(n):\n",
    "        if n not in cache:\n",
    "            cache[n] = fn(n)\n",
    "        return cache[n]\n",
    "    return inner"
   ]
  },
  {
   "cell_type": "code",
   "execution_count": 48,
   "metadata": {},
   "outputs": [],
   "source": [
    "@memoize\n",
    "def fib(n):\n",
    "    print('calculating fib({0})'.format(n))\n",
    "    return 1 if n<3 else fib(n-1)+fib(n-2)"
   ]
  },
  {
   "cell_type": "code",
   "execution_count": 50,
   "metadata": {},
   "outputs": [
    {
     "data": {
      "text/plain": [
       "55"
      ]
     },
     "execution_count": 50,
     "metadata": {},
     "output_type": "execute_result"
    }
   ],
   "source": [
    "fib(10)"
   ]
  },
  {
   "cell_type": "code",
   "execution_count": 51,
   "metadata": {},
   "outputs": [
    {
     "name": "stdout",
     "output_type": "stream",
     "text": [
      "calculating fib(11)\n"
     ]
    },
    {
     "data": {
      "text/plain": [
       "89"
      ]
     },
     "execution_count": 51,
     "metadata": {},
     "output_type": "execute_result"
    }
   ],
   "source": [
    "fib(11)"
   ]
  },
  {
   "cell_type": "code",
   "execution_count": 56,
   "metadata": {},
   "outputs": [],
   "source": [
    "@memoize\n",
    "def fact(n):\n",
    "    print('calculating {0}!'.format(n))\n",
    "    return 1 if n<2 else n*fact(n-1)"
   ]
  },
  {
   "cell_type": "code",
   "execution_count": 58,
   "metadata": {},
   "outputs": [
    {
     "data": {
      "text/plain": [
       "720"
      ]
     },
     "execution_count": 58,
     "metadata": {},
     "output_type": "execute_result"
    }
   ],
   "source": [
    "fact(6)"
   ]
  },
  {
   "cell_type": "code",
   "execution_count": 60,
   "metadata": {},
   "outputs": [
    {
     "data": {
      "text/plain": [
       "720"
      ]
     },
     "execution_count": 60,
     "metadata": {},
     "output_type": "execute_result"
    }
   ],
   "source": [
    "fact(6)"
   ]
  },
  {
   "cell_type": "code",
   "execution_count": 65,
   "metadata": {},
   "outputs": [],
   "source": [
    "@memoize\n",
    "def fib(n):\n",
    "    return 1 if n<3 else fib(n-1)+fib(n-2)"
   ]
  },
  {
   "cell_type": "code",
   "execution_count": 66,
   "metadata": {},
   "outputs": [
    {
     "name": "stdout",
     "output_type": "stream",
     "text": [
      "280571172992510140037611932413038677189525\n",
      "5.960796261206269e-05\n"
     ]
    }
   ],
   "source": [
    "from time import perf_counter\n",
    "print(fib(200))\n",
    "start = perf_counter()\n",
    "fib(35)\n",
    "end = perf_counter()\n",
    "print(end-start)"
   ]
  },
  {
   "cell_type": "code",
   "execution_count": 67,
   "metadata": {},
   "outputs": [],
   "source": [
    "from functools import lru_cache"
   ]
  },
  {
   "cell_type": "code",
   "execution_count": 76,
   "metadata": {},
   "outputs": [],
   "source": [
    "@lru_cache()\n",
    "def fib(n):\n",
    "    print('calculating fib({0})'.format(n))\n",
    "    return 1 if n<3 else fib(n-1)+fib(n-2)"
   ]
  },
  {
   "cell_type": "code",
   "execution_count": 77,
   "metadata": {},
   "outputs": [
    {
     "name": "stdout",
     "output_type": "stream",
     "text": [
      "calculating fib(10)\n",
      "calculating fib(9)\n",
      "calculating fib(8)\n",
      "calculating fib(7)\n",
      "calculating fib(6)\n",
      "calculating fib(5)\n",
      "calculating fib(4)\n",
      "calculating fib(3)\n",
      "calculating fib(2)\n",
      "calculating fib(1)\n"
     ]
    },
    {
     "data": {
      "text/plain": [
       "55"
      ]
     },
     "execution_count": 77,
     "metadata": {},
     "output_type": "execute_result"
    }
   ],
   "source": [
    "fib(10)"
   ]
  },
  {
   "cell_type": "code",
   "execution_count": 78,
   "metadata": {},
   "outputs": [
    {
     "name": "stdout",
     "output_type": "stream",
     "text": [
      "calculating fib(11)\n"
     ]
    },
    {
     "data": {
      "text/plain": [
       "89"
      ]
     },
     "execution_count": 78,
     "metadata": {},
     "output_type": "execute_result"
    }
   ],
   "source": [
    "fib(11)"
   ]
  },
  {
   "cell_type": "code",
   "execution_count": 80,
   "metadata": {},
   "outputs": [
    {
     "data": {
      "text/plain": [
       "144"
      ]
     },
     "execution_count": 80,
     "metadata": {},
     "output_type": "execute_result"
    }
   ],
   "source": [
    "fib(12)"
   ]
  },
  {
   "cell_type": "code",
   "execution_count": 96,
   "metadata": {},
   "outputs": [],
   "source": [
    "@lru_cache(maxsize=8)\n",
    "def fib(n):\n",
    "    print('calculating fib({0})'.format(n))\n",
    "    return 1 if n<3 else fib(n-1)+fib(n-2)"
   ]
  },
  {
   "cell_type": "code",
   "execution_count": 97,
   "metadata": {},
   "outputs": [
    {
     "name": "stdout",
     "output_type": "stream",
     "text": [
      "calculating fib(8)\n",
      "calculating fib(7)\n",
      "calculating fib(6)\n",
      "calculating fib(5)\n",
      "calculating fib(4)\n",
      "calculating fib(3)\n",
      "calculating fib(2)\n",
      "calculating fib(1)\n"
     ]
    },
    {
     "data": {
      "text/plain": [
       "21"
      ]
     },
     "execution_count": 97,
     "metadata": {},
     "output_type": "execute_result"
    }
   ],
   "source": [
    "fib(8)"
   ]
  },
  {
   "cell_type": "code",
   "execution_count": 99,
   "metadata": {},
   "outputs": [
    {
     "data": {
      "text/plain": [
       "21"
      ]
     },
     "execution_count": 99,
     "metadata": {},
     "output_type": "execute_result"
    }
   ],
   "source": [
    "fib(8)"
   ]
  },
  {
   "cell_type": "code",
   "execution_count": 101,
   "metadata": {},
   "outputs": [
    {
     "data": {
      "text/plain": [
       "987"
      ]
     },
     "execution_count": 101,
     "metadata": {},
     "output_type": "execute_result"
    }
   ],
   "source": [
    "fib(16)"
   ]
  },
  {
   "cell_type": "code",
   "execution_count": 103,
   "metadata": {},
   "outputs": [
    {
     "data": {
      "text/plain": [
       "21"
      ]
     },
     "execution_count": 103,
     "metadata": {},
     "output_type": "execute_result"
    }
   ],
   "source": [
    "fib(8)"
   ]
  },
  {
   "cell_type": "code",
   "execution_count": 104,
   "metadata": {},
   "outputs": [
    {
     "name": "stdout",
     "output_type": "stream",
     "text": [
      "calculating fib(9)\n"
     ]
    },
    {
     "data": {
      "text/plain": [
       "34"
      ]
     },
     "execution_count": 104,
     "metadata": {},
     "output_type": "execute_result"
    }
   ],
   "source": [
    "fib(9)"
   ]
  }
 ],
 "metadata": {
  "kernelspec": {
   "display_name": "Python 3",
   "language": "python",
   "name": "python3"
  },
  "language_info": {
   "codemirror_mode": {
    "name": "ipython",
    "version": 3
   },
   "file_extension": ".py",
   "mimetype": "text/x-python",
   "name": "python",
   "nbconvert_exporter": "python",
   "pygments_lexer": "ipython3",
   "version": "3.6.0"
  }
 },
 "nbformat": 4,
 "nbformat_minor": 4
}
