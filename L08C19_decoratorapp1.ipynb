{
 "cells": [
  {
   "cell_type": "code",
   "execution_count": 1,
   "metadata": {},
   "outputs": [],
   "source": [
    "from html import escape"
   ]
  },
  {
   "cell_type": "code",
   "execution_count": 5,
   "metadata": {},
   "outputs": [],
   "source": [
    "def html_escape(args):\n",
    "    return escape(str(args))\n",
    "\n",
    "def html_int(a):\n",
    "    return '{0}(<i>{1}</i>)'.format(a,str(hex(a)))\n",
    "\n",
    "def html_real(a):\n",
    "    return '{0:.2f}'.format(round(a,2))\n",
    "\n",
    "def html_str(s):\n",
    "    return html_escape(s).replace('\\n','<br/>\\n')\n",
    "\n",
    "def html_list(l):\n",
    "    items = ('<li>{0}</li>'.format(html_escape(item))\n",
    "            for item in l\n",
    "            )\n",
    "    return '<ul>\\n'+'\\n'.join(items) + '\\n</ul>'\n",
    "\n",
    "def html_dict(d):\n",
    "    items = ('<li>{0}={1}</li>'.format(k,v)\n",
    "            for k,v in d.items())\n",
    "    return '<ul>\\n'+'\\n'.join(items)+'\\n</ul>'"
   ]
  },
  {
   "cell_type": "code",
   "execution_count": 7,
   "metadata": {},
   "outputs": [
    {
     "name": "stdout",
     "output_type": "stream",
     "text": [
      "this is <br/>\n",
      "a multi line string<br/>\n",
      "with special characters:10&lt;100\n"
     ]
    }
   ],
   "source": [
    "print(html_str(\"\"\"this is \n",
    "a multi line string\n",
    "with special characters:10<100\"\"\"))"
   ]
  },
  {
   "cell_type": "code",
   "execution_count": 9,
   "metadata": {},
   "outputs": [
    {
     "name": "stdout",
     "output_type": "stream",
     "text": [
      "(3+10j)\n"
     ]
    }
   ],
   "source": [
    "print(html_escape(3+10j))"
   ]
  },
  {
   "cell_type": "code",
   "execution_count": 10,
   "metadata": {},
   "outputs": [],
   "source": [
    "from decimal import Decimal"
   ]
  },
  {
   "cell_type": "code",
   "execution_count": 14,
   "metadata": {},
   "outputs": [],
   "source": [
    "def htmlize(arg):\n",
    "    if isinstance(arg,int):\n",
    "        return html_int(arg)\n",
    "    elif isinstance(arg,float) or isinstance(arg,Decimal):\n",
    "        return html_real(arg)\n",
    "    elif isinstance(arg,str):\n",
    "        return html_str(arg)\n",
    "    elif isinstance(arg,list) or isinstance(arg,tuple):\n",
    "        return html_list(arg)\n",
    "    elif isinstance(arg,dict):\n",
    "        return html_dict(arg)\n",
    "    else:\n",
    "        return html_escape(arg)\n",
    "    "
   ]
  },
  {
   "cell_type": "code",
   "execution_count": 15,
   "metadata": {},
   "outputs": [
    {
     "data": {
      "text/plain": [
       "'100(<i>0x64</i>)'"
      ]
     },
     "execution_count": 15,
     "metadata": {},
     "output_type": "execute_result"
    }
   ],
   "source": [
    "htmlize(100)"
   ]
  },
  {
   "cell_type": "code",
   "execution_count": 17,
   "metadata": {},
   "outputs": [
    {
     "data": {
      "text/plain": [
       "'Python rocks<br/>\\n'"
      ]
     },
     "execution_count": 17,
     "metadata": {},
     "output_type": "execute_result"
    }
   ],
   "source": [
    "htmlize(\"\"\"Python rocks\n",
    "\"\"\")"
   ]
  },
  {
   "cell_type": "code",
   "execution_count": 20,
   "metadata": {},
   "outputs": [
    {
     "data": {
      "text/plain": [
       "'<ul>\\n<li>1</li>\\n<li>2</li>\\n<li>3</li>\\n</ul>'"
      ]
     },
     "execution_count": 20,
     "metadata": {},
     "output_type": "execute_result"
    }
   ],
   "source": [
    "htmlize([1,2,3])"
   ]
  },
  {
   "cell_type": "code",
   "execution_count": 28,
   "metadata": {},
   "outputs": [
    {
     "name": "stdout",
     "output_type": "stream",
     "text": [
      "<ul>\n",
      "<li>Python rocks!\n",
      "</li>\n",
      "<li>(10, 20, 30)</li>\n",
      "<li>100</li>\n",
      "</ul>\n"
     ]
    }
   ],
   "source": [
    "print(htmlize([\"\"\"Python rocks!\n",
    "\"\"\",(10,20,30),100]))"
   ]
  },
  {
   "cell_type": "code",
   "execution_count": 3,
   "metadata": {},
   "outputs": [],
   "source": [
    "from decimal import Decimal\n",
    "from html import escape"
   ]
  },
  {
   "cell_type": "code",
   "execution_count": 27,
   "metadata": {},
   "outputs": [],
   "source": [
    "def htmlize(arg):\n",
    "    if isinstance(arg,int):\n",
    "        return html_int(arg)\n",
    "    elif isinstance(arg,float) or isinstance(arg,Decimal):\n",
    "        return html_real(arg)\n",
    "    elif isinstance(arg,str):\n",
    "        return html_str(arg)\n",
    "    elif isinstance(arg,list) or isinstance(arg,tuple):\n",
    "        return html_list(arg)\n",
    "    elif isinstance(arg,dict):\n",
    "        return html_dict(arg)\n",
    "    elif isinstance(arg,set):\n",
    "        return html_set(arg)\n",
    "    else:\n",
    "        return html_escape(arg)"
   ]
  },
  {
   "cell_type": "code",
   "execution_count": 28,
   "metadata": {},
   "outputs": [],
   "source": [
    "def html_escape(args):\n",
    "    return escape(str(args))\n",
    "\n",
    "def html_int(a):\n",
    "    return '{0}(<i>{1}</i>)'.format(a,str(hex(a)))\n",
    "\n",
    "def html_real(a):\n",
    "    return '{0:.2f}'.format(round(a,2))\n",
    "\n",
    "def html_str(s):\n",
    "    return html_escape(s).replace('\\n','<br/>\\n')\n",
    "\n",
    "def html_list(l):\n",
    "    items = ('<li>{0}</li>'.format(htmlize(item))\n",
    "            for item in l\n",
    "            )\n",
    "    return '<ul>\\n'+'\\n'.join(items) + '\\n</ul>'\n",
    "\n",
    "def html_dict(d):\n",
    "    items = ('<li>{0}={1}</li>'.format(html_escape(k),htmlize(v))\n",
    "            for k,v in d.items())\n",
    "    return '<ul>\\n'+'\\n'.join(items) + '\\n</ul>'\n",
    "             \n",
    "def html_set(arg):\n",
    "    return html_list(arg)"
   ]
  },
  {
   "cell_type": "code",
   "execution_count": 17,
   "metadata": {},
   "outputs": [
    {
     "name": "stdout",
     "output_type": "stream",
     "text": [
      "<ul>\n",
      "<li>Python rocks!\n",
      "</li>\n",
      "<li>(10, 20, 30)</li>\n",
      "<li>100</li>\n",
      "</ul>\n"
     ]
    }
   ],
   "source": [
    "print(htmlize([\"\"\"Python rocks!\n",
    "\"\"\",(10,20,30),100]))"
   ]
  },
  {
   "cell_type": "code",
   "execution_count": 29,
   "metadata": {},
   "outputs": [
    {
     "data": {
      "text/plain": [
       "'<ul>\\n<li>1(<i>0x1</i>)</li>\\n<li>2(<i>0x2</i>)</li>\\n<li>3(<i>0x3</i>)</li>\\n</ul>'"
      ]
     },
     "execution_count": 29,
     "metadata": {},
     "output_type": "execute_result"
    }
   ],
   "source": [
    "htmlize({1,2,3})"
   ]
  },
  {
   "cell_type": "code",
   "execution_count": 34,
   "metadata": {},
   "outputs": [],
   "source": [
    "def htmlize(arg):\n",
    "    registry = {\n",
    "        object : html_escape,\n",
    "        int: html_int,\n",
    "        float: html_real,\n",
    "        Decimal: html_str,\n",
    "        str:html_str,\n",
    "        list:html_list,\n",
    "        tuple:html_list,\n",
    "        set:html_set,\n",
    "        dict:html_dict\n",
    "    }\n",
    "    \n",
    "    fn = registry.get(type(arg),registry[object])\n",
    "    return fn(arg)"
   ]
  },
  {
   "cell_type": "code",
   "execution_count": 36,
   "metadata": {},
   "outputs": [
    {
     "data": {
      "text/plain": [
       "'100(<i>0x64</i>)'"
      ]
     },
     "execution_count": 36,
     "metadata": {},
     "output_type": "execute_result"
    }
   ],
   "source": [
    "htmlize(100)"
   ]
  },
  {
   "cell_type": "code",
   "execution_count": 39,
   "metadata": {},
   "outputs": [
    {
     "name": "stdout",
     "output_type": "stream",
     "text": [
      "<ul>\n",
      "<li>2(<i>0x2</i>)</li>\n",
      "<li>3(<i>0x3</i>)</li>\n",
      "<li>4(<i>0x4</i>)</li>\n",
      "</ul>\n"
     ]
    }
   ],
   "source": [
    "print(htmlize([2,3,4]))"
   ]
  },
  {
   "cell_type": "code",
   "execution_count": 40,
   "metadata": {},
   "outputs": [],
   "source": [
    "def htmlize(arg):\n",
    "    registry = {\n",
    "        object : html_escape,\n",
    "        int: html_int,\n",
    "        float: html_real,\n",
    "        Decimal: html_str,\n",
    "        str:html_str,\n",
    "        list:html_list,\n",
    "        tuple:html_list,\n",
    "        set:html_set,\n",
    "        dict:html_dict\n",
    "    }\n",
    "    \n",
    "    fn = registry.get(type(arg),registry[object])\n",
    "    \n",
    "    return fn(arg)"
   ]
  },
  {
   "cell_type": "code",
   "execution_count": 41,
   "metadata": {},
   "outputs": [],
   "source": [
    "def singledispatch(fn):\n",
    "    registry = {}\n",
    "    \n",
    "    registry[object] = fn\n",
    "    \n",
    "    def inner(arg):\n",
    "        return registry[object](arg)\n",
    "        \n",
    "    \n",
    "    return inner"
   ]
  },
  {
   "cell_type": "code",
   "execution_count": 43,
   "metadata": {},
   "outputs": [],
   "source": [
    "@singledispatch\n",
    "def htmlize(a):\n",
    "    return escape(str(a))"
   ]
  },
  {
   "cell_type": "code",
   "execution_count": 45,
   "metadata": {},
   "outputs": [
    {
     "data": {
      "text/plain": [
       "'1&lt;100'"
      ]
     },
     "execution_count": 45,
     "metadata": {},
     "output_type": "execute_result"
    }
   ],
   "source": [
    "htmlize('1<100')"
   ]
  },
  {
   "cell_type": "code",
   "execution_count": 50,
   "metadata": {},
   "outputs": [],
   "source": [
    "def singledispatch(fn):\n",
    "    registry = {}\n",
    "    \n",
    "    registry[object] = fn\n",
    "    registry[int] = lambda a: '{0}(<i>{1}</i>)'.format(a,str(hex(a)))\n",
    "    registry[str] = lambda s:html_escape(s).replace('\\n','<br/>\\n')\n",
    "    \n",
    "    \n",
    "    def inner(arg):\n",
    "        return registry.get(type(arg),registry[object])(arg)\n",
    "    \n",
    "        \n",
    "    \n",
    "    return inner"
   ]
  },
  {
   "cell_type": "code",
   "execution_count": 53,
   "metadata": {},
   "outputs": [],
   "source": [
    "@singledispatch\n",
    "def htmlize(a):\n",
    "    return escape(str(a))"
   ]
  },
  {
   "cell_type": "code",
   "execution_count": 55,
   "metadata": {},
   "outputs": [
    {
     "data": {
      "text/plain": [
       "'1&lt;100'"
      ]
     },
     "execution_count": 55,
     "metadata": {},
     "output_type": "execute_result"
    }
   ],
   "source": [
    "htmlize('1<100')"
   ]
  },
  {
   "cell_type": "code",
   "execution_count": 58,
   "metadata": {},
   "outputs": [
    {
     "data": {
      "text/plain": [
       "'100(<i>0x64</i>)'"
      ]
     },
     "execution_count": 58,
     "metadata": {},
     "output_type": "execute_result"
    }
   ],
   "source": [
    "htmlize(100)"
   ]
  },
  {
   "cell_type": "code",
   "execution_count": 134,
   "metadata": {},
   "outputs": [],
   "source": [
    "def singledispatch(fn):\n",
    "    registry = {}\n",
    "    \n",
    "    registry[object] = fn\n",
    "\n",
    "    \n",
    "    def decorated(arg):\n",
    "        return registry.get(type(arg),registry[object])(arg)\n",
    "    \n",
    "        \n",
    "    def register(type_):\n",
    "        def inner(fn):\n",
    "            registry[type_] = fn\n",
    "            return fn\n",
    "        return inner\n",
    "    \n",
    "    def dispatch(type_):\n",
    "        return registry.get(type_,registry[object])\n",
    "    \n",
    "    decorated.register = register\n",
    "    #decorated.registry = registry\n",
    "    decorated.dispatch = dispatch\n",
    "    \n",
    "    return decorated"
   ]
  },
  {
   "cell_type": "code",
   "execution_count": 135,
   "metadata": {},
   "outputs": [],
   "source": [
    "@singledispatch\n",
    "def htmlize(a):\n",
    "    return escape(str(a))"
   ]
  },
  {
   "cell_type": "code",
   "execution_count": 136,
   "metadata": {},
   "outputs": [
    {
     "data": {
      "text/plain": [
       "<function __main__.singledispatch.<locals>.decorated(arg)>"
      ]
     },
     "execution_count": 136,
     "metadata": {},
     "output_type": "execute_result"
    }
   ],
   "source": [
    "htmlize"
   ]
  },
  {
   "cell_type": "code",
   "execution_count": 137,
   "metadata": {},
   "outputs": [
    {
     "data": {
      "text/plain": [
       "'1&lt;100'"
      ]
     },
     "execution_count": 137,
     "metadata": {},
     "output_type": "execute_result"
    }
   ],
   "source": [
    "htmlize('1<100')"
   ]
  },
  {
   "cell_type": "code",
   "execution_count": 138,
   "metadata": {},
   "outputs": [
    {
     "data": {
      "text/plain": [
       "'100'"
      ]
     },
     "execution_count": 138,
     "metadata": {},
     "output_type": "execute_result"
    }
   ],
   "source": [
    "htmlize(100)"
   ]
  },
  {
   "cell_type": "code",
   "execution_count": 139,
   "metadata": {},
   "outputs": [
    {
     "data": {
      "text/plain": [
       "'1&lt;100'"
      ]
     },
     "execution_count": 139,
     "metadata": {},
     "output_type": "execute_result"
    }
   ],
   "source": [
    "htmlize('1<100')"
   ]
  },
  {
   "cell_type": "code",
   "execution_count": 140,
   "metadata": {},
   "outputs": [],
   "source": [
    "@htmlize.register(int)\n",
    "def html_int(a):\n",
    "    return '{0}(<i>{1}</i>)'.format(a,str(hex(a)))"
   ]
  },
  {
   "cell_type": "code",
   "execution_count": 141,
   "metadata": {},
   "outputs": [
    {
     "data": {
      "text/plain": [
       "'100(<i>0x64</i>)'"
      ]
     },
     "execution_count": 141,
     "metadata": {},
     "output_type": "execute_result"
    }
   ],
   "source": [
    "htmlize(100)"
   ]
  },
  {
   "cell_type": "code",
   "execution_count": 147,
   "metadata": {},
   "outputs": [
    {
     "data": {
      "text/plain": [
       "<function __main__.html_int(a)>"
      ]
     },
     "execution_count": 147,
     "metadata": {},
     "output_type": "execute_result"
    }
   ],
   "source": [
    "htmlize.dispatch(int)"
   ]
  },
  {
   "cell_type": "code",
   "execution_count": 148,
   "metadata": {},
   "outputs": [],
   "source": [
    "@htmlize.register(tuple)\n",
    "@htmlize.register(list)\n",
    "def html_sequence(l):\n",
    "        items = ('<li>{0}</li>'.format(htmlize(item))\n",
    "                for item in l\n",
    "                )\n",
    "        return '<ul>\\n'+'\\n'.join(items) + '\\n</ul>'\n"
   ]
  },
  {
   "cell_type": "code",
   "execution_count": 149,
   "metadata": {},
   "outputs": [],
   "source": [
    "html_list = htmlize.register(list)(html_list)"
   ]
  },
  {
   "cell_type": "code",
   "execution_count": 150,
   "metadata": {},
   "outputs": [
    {
     "data": {
      "text/plain": [
       "'<ul>\\n<li>1(<i>0x1</i>)</li>\\n<li>2(<i>0x2</i>)</li>\\n<li>3(<i>0x3</i>)</li>\\n</ul>'"
      ]
     },
     "execution_count": 150,
     "metadata": {},
     "output_type": "execute_result"
    }
   ],
   "source": [
    "htmlize([1,2,3])"
   ]
  },
  {
   "cell_type": "code",
   "execution_count": 154,
   "metadata": {},
   "outputs": [
    {
     "data": {
      "text/plain": [
       "'100(<i>0x64</i>)'"
      ]
     },
     "execution_count": 154,
     "metadata": {},
     "output_type": "execute_result"
    }
   ],
   "source": [
    "htmlize(100)"
   ]
  },
  {
   "cell_type": "code",
   "execution_count": 156,
   "metadata": {},
   "outputs": [
    {
     "data": {
      "text/plain": [
       "'True'"
      ]
     },
     "execution_count": 156,
     "metadata": {},
     "output_type": "execute_result"
    }
   ],
   "source": [
    "htmlize(True)"
   ]
  },
  {
   "cell_type": "code",
   "execution_count": 157,
   "metadata": {},
   "outputs": [],
   "source": [
    "from numbers import Integral"
   ]
  },
  {
   "cell_type": "code",
   "execution_count": 158,
   "metadata": {},
   "outputs": [],
   "source": [
    "class Person:\n",
    "    pass\n"
   ]
  },
  {
   "cell_type": "code",
   "execution_count": 159,
   "metadata": {},
   "outputs": [],
   "source": [
    "class Student(Person):\n",
    "    pass"
   ]
  },
  {
   "cell_type": "code",
   "execution_count": 161,
   "metadata": {},
   "outputs": [],
   "source": [
    "p = Student()"
   ]
  },
  {
   "cell_type": "code",
   "execution_count": 162,
   "metadata": {},
   "outputs": [
    {
     "data": {
      "text/plain": [
       "__main__.Student"
      ]
     },
     "execution_count": 162,
     "metadata": {},
     "output_type": "execute_result"
    }
   ],
   "source": [
    "type(p)"
   ]
  },
  {
   "cell_type": "code",
   "execution_count": 163,
   "metadata": {},
   "outputs": [
    {
     "data": {
      "text/plain": [
       "True"
      ]
     },
     "execution_count": 163,
     "metadata": {},
     "output_type": "execute_result"
    }
   ],
   "source": [
    "isinstance(p,Student)"
   ]
  },
  {
   "cell_type": "code",
   "execution_count": 165,
   "metadata": {},
   "outputs": [
    {
     "data": {
      "text/plain": [
       "True"
      ]
     },
     "execution_count": 165,
     "metadata": {},
     "output_type": "execute_result"
    }
   ],
   "source": [
    "isinstance(p,Person)"
   ]
  },
  {
   "cell_type": "code",
   "execution_count": 166,
   "metadata": {},
   "outputs": [],
   "source": [
    "@singledispatch\n",
    "def htmlize(a):\n",
    "    return escape(str(a))"
   ]
  },
  {
   "cell_type": "code",
   "execution_count": 168,
   "metadata": {},
   "outputs": [],
   "source": [
    "@htmlize.register(Integral)\n",
    "def html_integral_number(a):\n",
    "    return '{0}(<i>{1}</i>)'.format(a,str(hex(a)))"
   ]
  },
  {
   "cell_type": "code",
   "execution_count": 170,
   "metadata": {},
   "outputs": [
    {
     "data": {
      "text/plain": [
       "'10'"
      ]
     },
     "execution_count": 170,
     "metadata": {},
     "output_type": "execute_result"
    }
   ],
   "source": [
    "htmlize(10)"
   ]
  },
  {
   "cell_type": "code",
   "execution_count": 171,
   "metadata": {},
   "outputs": [],
   "source": [
    "@htmlize.register(int)\n",
    "@htmlize.register(bool)\n",
    "def html_integral_number(a):\n",
    "    return '{0}(<i>{1}</i>)'.format(a,str(hex(a)))\n"
   ]
  },
  {
   "cell_type": "code",
   "execution_count": 173,
   "metadata": {},
   "outputs": [
    {
     "data": {
      "text/plain": [
       "'10(<i>0xa</i>)'"
      ]
     },
     "execution_count": 173,
     "metadata": {},
     "output_type": "execute_result"
    }
   ],
   "source": [
    "htmlize(10)"
   ]
  },
  {
   "cell_type": "code",
   "execution_count": 175,
   "metadata": {},
   "outputs": [
    {
     "data": {
      "text/plain": [
       "'True(<i>0x1</i>)'"
      ]
     },
     "execution_count": 175,
     "metadata": {},
     "output_type": "execute_result"
    }
   ],
   "source": [
    "htmlize(True)"
   ]
  },
  {
   "cell_type": "code",
   "execution_count": 176,
   "metadata": {},
   "outputs": [],
   "source": [
    "from collections.abc import Sequence"
   ]
  },
  {
   "cell_type": "code",
   "execution_count": 178,
   "metadata": {},
   "outputs": [
    {
     "data": {
      "text/plain": [
       "True"
      ]
     },
     "execution_count": 178,
     "metadata": {},
     "output_type": "execute_result"
    }
   ],
   "source": [
    "isinstance([1,2,3],Sequence)"
   ]
  },
  {
   "cell_type": "code",
   "execution_count": 179,
   "metadata": {},
   "outputs": [],
   "source": [
    "@htmlize.register(Sequence)\n",
    "def html_sequence(l):\n",
    "    items = ('<li>{0}</li>'.format(htmlize(item))\n",
    "            for item in l\n",
    "            )\n",
    "    return '<ul>\\n'+'\\n'.join(items) + '\\n</ul>'\n",
    "    "
   ]
  },
  {
   "cell_type": "code",
   "execution_count": 180,
   "metadata": {},
   "outputs": [
    {
     "data": {
      "text/plain": [
       "False"
      ]
     },
     "execution_count": 180,
     "metadata": {},
     "output_type": "execute_result"
    }
   ],
   "source": [
    "type([1,2,3]) is Sequence"
   ]
  }
 ],
 "metadata": {
  "kernelspec": {
   "display_name": "Python 3",
   "language": "python",
   "name": "python3"
  },
  "language_info": {
   "codemirror_mode": {
    "name": "ipython",
    "version": 3
   },
   "file_extension": ".py",
   "mimetype": "text/x-python",
   "name": "python",
   "nbconvert_exporter": "python",
   "pygments_lexer": "ipython3",
   "version": "3.6.0"
  }
 },
 "nbformat": 4,
 "nbformat_minor": 4
}
